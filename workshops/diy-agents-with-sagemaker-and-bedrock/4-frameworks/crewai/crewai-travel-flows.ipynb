{
 "cells": [
  {
   "cell_type": "markdown",
   "id": "420bda15",
   "metadata": {},
   "source": [
    "# Agentic Workflows with CrewAI Flows\n",
    "\n",
    "CrewAI Flows is a feature designed to streamline the creation and management of AI workflows. Flows allow developers to combine and coordinate coding tasks and Crews efficiently, providing a robust framework for building sophisticated AI automations. You can start easily by leveraging two decorators, `@start()` and `@listen()`:\n",
    "\n",
    "- `@start()`: the `@start()` decorator is used to mark a method as the starting point of a Flow; when a Flow is started, all the methods decorated with `@start()` are executed in parallel. You can have multiple start methods in a Flow, and they will all be executed when the Flow is started.\n",
    "- `@listen()`: the `@listen()` decorator is used to mark a method as a listener for the output of another task in the Flow. The method decorated with `@listen()` will be executed when the specified task emits an output. The method can access the output of the task it is listening to as an argument. The `@listen()` decorator can be used in several ways:\n",
    "    - Listening to a Method by Name: You can pass the name of the method you want to listen to as a string. When that method completes, the listener method will be triggered.\n",
    "    - Listening to a Method Directly: You can pass the method itself. When that method completes, the listener method will be triggered.​"
   ]
  },
  {
   "cell_type": "code",
   "execution_count": null,
   "id": "1db1e0ce",
   "metadata": {},
   "outputs": [],
   "source": [
    "%pip install -r crewai-requirements.txt --quiet --upgrade"
   ]
  },
  {
   "cell_type": "code",
   "execution_count": null,
   "id": "81118128",
   "metadata": {},
   "outputs": [],
   "source": [
    "import nest_asyncio\n",
    "nest_asyncio.apply()"
   ]
  },
  {
   "cell_type": "markdown",
   "id": "ff038757",
   "metadata": {},
   "source": [
    "Start by configuring the LLM."
   ]
  },
  {
   "cell_type": "code",
   "execution_count": null,
   "id": "7d80570a",
   "metadata": {},
   "outputs": [],
   "source": [
    "from crewai import LLM\n",
    "\n",
    "llm = LLM(\n",
    "    model=\"bedrock/us.amazon.nova-pro-v1:0\",    # Use Amazon Bedrock models \n",
    "    # model=\"sagemaker/INSERT ENDPOINT NAME\",     # Use Amazon SageMaker AI Inference\n",
    "    temperature=0.7, max_tokens=4*1024,\n",
    ")"
   ]
  },
  {
   "cell_type": "code",
   "execution_count": null,
   "id": "13d696b0",
   "metadata": {},
   "outputs": [],
   "source": [
    "llm.call(\"What is the capital of France?\")"
   ]
  },
  {
   "cell_type": "markdown",
   "id": "cb8839b7",
   "metadata": {},
   "source": [
    "Now, set up the agent."
   ]
  },
  {
   "cell_type": "code",
   "execution_count": null,
   "id": "8441829c",
   "metadata": {},
   "outputs": [],
   "source": [
    "from dotenv import load_dotenv\n",
    "from crewai_tools import SerperDevTool\n",
    "from crewai.tools import tool\n",
    "from duckduckgo_search import DDGS\n",
    "import os\n",
    "\n",
    "load_dotenv()\n",
    "\n",
    "@tool('DuckDuckGoSearch')\n",
    "def search_with_duckduckgo(search_query: str):\n",
    "    \"\"\"Search the web for information on a given topic\"\"\"\n",
    "    return DDGS().text(search_query, max_results=5)\n",
    "\n",
    "if os.environ.get(\"SERPER_API_KEY\"):\n",
    "    search_tool = SerperDevTool()\n",
    "    print(\"Using Serper API for search\")\n",
    "else:\n",
    "    search_tool = search_with_duckduckgo\n",
    "    print(\"No Serper API Key found - Using DuckDuckGo API for search\")"
   ]
  },
  {
   "cell_type": "code",
   "execution_count": null,
   "id": "18b6755d",
   "metadata": {},
   "outputs": [],
   "source": [
    "from crewai import Agent\n",
    "from textwrap import dedent\n",
    "\n",
    "\n",
    "researcher_agent = Agent(\n",
    "    role=\"Travel Researcher\",\n",
    "    goal=\"Research and compile interesting activities and attractions for a given location\",\n",
    "    backstory=dedent(\n",
    "        \"\"\"You are an experienced travel researcher with a knack for \n",
    "        discovering both popular attractions and hidden gems in any \n",
    "        location. Your expertise lies in gathering comprehensive \n",
    "        information about various activities, their historical \n",
    "        significance, and practical details for visitors.\n",
    "        \"\"\"),\n",
    "    llm=llm,\n",
    "    allow_delegation=False, max_iter=4,\n",
    "    tools=[search_tool],\n",
    "    verbose=True,\n",
    ")\n",
    "\n",
    "content_writer = Agent(\n",
    "    role=\"Content Writer\",\n",
    "    goal=\"Write a listicle of 5+ attractions/activities for a given location\",\n",
    "    backstory=dedent(\n",
    "        \"\"\"You are a content writer with a knack for creating engaging\n",
    "        and informative content for travel blogs. Your expertise lies in\n",
    "        crafting engaging and informative content for travel blogs.\n",
    "        \"\"\"),\n",
    "    llm=llm,\n",
    "    allow_delegation=False, max_iter=4,\n",
    "    verbose=True,\n",
    ")\n",
    "\n",
    "editor_agent = Agent(\n",
    "    role=\"Content Editor\",\n",
    "    goal=\"Ensure the listicle is well-structured, engaging, and error-free\",\n",
    "    backstory=dedent(\n",
    "        \"\"\"You are a meticulous editor with years of experience in\n",
    "        travel content. Your keen eye for detail helps polish articles\n",
    "        to perfection. You focus on improving flow, maintaining\n",
    "        consistency, and enhancing the overall readability of the\n",
    "        content while ensuring it appeals to the target audience.\n",
    "        \"\"\"),\n",
    "    llm=llm,\n",
    "    allow_delegation=False, max_iter=4,\n",
    "    verbose=True,\n",
    ")"
   ]
  },
  {
   "cell_type": "markdown",
   "id": "9c72352f",
   "metadata": {},
   "source": [
    "Create the flow:\n",
    "\n",
    "1. Search online information about the city to visit\n",
    "2. Write the content in the form of a listicle\n",
    "3. Review and edit the content"
   ]
  },
  {
   "cell_type": "code",
   "execution_count": null,
   "id": "cf76dc47",
   "metadata": {},
   "outputs": [],
   "source": [
    "from crewai.flow.flow import Flow, listen, start\n",
    "from pydantic import BaseModel\n",
    "\n",
    "\n",
    "class TravelAgentFlow(Flow[str]):\n",
    "    @start()\n",
    "    async def search_online(self):\n",
    "        query = \"Best things to do in {self.city}\"\n",
    "        result = await researcher_agent.kickoff_async(query)\n",
    "        return result\n",
    "\n",
    "    @listen(search_online)\n",
    "    async def write_content(self, search_result):\n",
    "        query = \"{search_result}\\n\\n Based on the search results, write a listicle of 5 things to do in {self.city}\"\n",
    "        result = await content_writer.kickoff_async(query)\n",
    "        return result\n",
    "    \n",
    "    @listen(write_content)\n",
    "    async def edit_content(self, listicle):\n",
    "        query = \"Review and edit the top 5 listicle article about things to do in {self.city}.\\n\\nContent:\\n{listicle}\\n\\nMake sure the content is well-structured, engaging, and error-free.\"\n",
    "        result = await editor_agent.kickoff_async(query)\n",
    "        return result\n",
    "\n",
    "# Run the flow\n",
    "flow = TravelAgentFlow()\n",
    "final_output = await flow.kickoff_async({\"city\": \"Paris\"})\n",
    "print(\"---- Final Output ----\")\n",
    "print(final_output)"
   ]
  },
  {
   "cell_type": "code",
   "execution_count": null,
   "id": "a9fab0f6",
   "metadata": {},
   "outputs": [],
   "source": []
  }
 ],
 "metadata": {
  "kernelspec": {
   "display_name": ".venv",
   "language": "python",
   "name": "python3"
  },
  "language_info": {
   "codemirror_mode": {
    "name": "ipython",
    "version": 3
   },
   "file_extension": ".py",
   "mimetype": "text/x-python",
   "name": "python",
   "nbconvert_exporter": "python",
   "pygments_lexer": "ipython3",
   "version": "3.12.9"
  }
 },
 "nbformat": 4,
 "nbformat_minor": 5
}

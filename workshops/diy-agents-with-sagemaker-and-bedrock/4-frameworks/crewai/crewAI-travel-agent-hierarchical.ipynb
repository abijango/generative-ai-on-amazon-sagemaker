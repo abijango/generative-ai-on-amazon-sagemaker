{
 "cells": [
  {
   "cell_type": "markdown",
   "id": "d72273da-4695-46a8-bd35-e8114a23fdd3",
   "metadata": {},
   "source": [
    "# Building a hierarchical multi-agent travel assistant with CrewAI\n",
    "\n",
    "This notebook demonstrates how to create a travel assistant using multi-agent collaboration with the CrewAI framework. Specifically, you will use this assistant to generate articles on the top activities and attractions for a specific location. \n",
    "\n",
    "## Structure of the travel assistant\n",
    "This notebook provides step-by-step guidance for creating a travel assistant consisting of the following agents:\n",
    "\n",
    "1. Researcher Agent - is responsible for gathering information on the top 5 attractions and activities in a specific location\n",
    "2. Content Writer Agent - is responsible for writing an engaging article based on the information of the top 5 attractions\n",
    "3. Editor Agent - is responsible for improving the flow and language use within the article"
   ]
  },
  {
   "cell_type": "markdown",
   "id": "4a5383f9-220a-4bdc-bdf8-bcd9d62b3654",
   "metadata": {},
   "source": [
    "## Setup\n",
    "\n",
    "Start by installing some of the required packages, including CrewAI for building multi-agent solutions, Langchain for pre-built tool components, and Tavily for its web search API."
   ]
  },
  {
   "cell_type": "code",
   "execution_count": null,
   "id": "1157c199-457f-4983-b8f1-8fd37dde0592",
   "metadata": {},
   "outputs": [],
   "source": [
    "%pip install -r crewai-requirements.txt -qU"
   ]
  },
  {
   "cell_type": "markdown",
   "id": "5c11d1be",
   "metadata": {},
   "source": [
    "<div class=\"alert alert-block alert-info\">\n",
    "<b>Important:</b> restart the kernel before proceeding with the next cells.\n",
    "</div>"
   ]
  },
  {
   "cell_type": "markdown",
   "id": "1f7adab5-b3e8-4bbc-9aee-cab1bc4c58c9",
   "metadata": {},
   "source": [
    "Now you can import all of the packages you will need for this lab. This includes the packages described above, but also textwrap for keeping the prompts readable within the notebook, and pydantic for validating input."
   ]
  },
  {
   "cell_type": "code",
   "execution_count": null,
   "id": "66cc2eb6-1fa0-4b8f-912c-9e9e0cca145e",
   "metadata": {},
   "outputs": [],
   "source": [
    "from crewai import LLM, Agent, Crew, Task, Process\n",
    "from textwrap import dedent\n",
    "from crewai_tools import SerperDevTool"
   ]
  },
  {
   "cell_type": "markdown",
   "id": "c3d5ef9b-e71a-445a-a3f9-9dfcc5538f56",
   "metadata": {},
   "source": [
    "Follow the instructions in [this lab](https://catalog.us-east-1.prod.workshops.aws/workshops/eb7af74b-184e-47d2-9277-4f59b4c91df5/en-US/2-llm-deployment-with-aws/2-sagemaker) to create a SageMaker real-time endpoint hosting the [DeepSeek R1 Distill-Llama 8B](https://huggingface.co/deepseek-ai/DeepSeek-R1) model. Although you will use this specific model for this lab, CrewAI also supports other models hosted through [Amazon SageMaker](https://docs.crewai.com/concepts/llms#amazon-sagemaker) or [Amazon Bedrock](https://docs.crewai.com/concepts/llms#aws-bedrock). While the SageMaker endpoint is being created, you can copy the name of the endpoint and replace the text `INSERT ENDPOINT NAME` in the code below with the endpoint name.\n",
    "\n",
    "When setting up an LLM model to use with CrewAI, you can also set model parameters. In this case, we set `temperature` to 0.7 to balance creativity with accuracy. We also set the `max_tokens` to 4096 to allow for longer responses.\n",
    "\n",
    "For the LLM attached to agents with tools, we will need a model capable of supporting function calling. You can use [Amazon Nova Pro](https://docs.aws.amazon.com/bedrock/latest/userguide/model-parameters-nova.html), but another valid open-source option could be Meta Llama 3.1 70B Instruct (`bedrock/invoke/meta.llama3-1-70b-instruct-v1:0`). \n",
    "\n",
    "Both Bedrock models will require to be called using [Cross-Region Inference](https://docs.aws.amazon.com/bedrock/latest/userguide/cross-region-inference.html)."
   ]
  },
  {
   "cell_type": "code",
   "execution_count": null,
   "id": "acc0b71e-b938-47f8-a297-e6c9a2a3979f",
   "metadata": {},
   "outputs": [],
   "source": [
    "from crewai import LLM\n",
    "\n",
    "# We will use the reasoning LLM as the \"manager\" LLM - the supervisor\n",
    "reasoning_llm = LLM(\n",
    "    model=\"sagemaker/INSERT ENDPOINT NAME\",\n",
    "    temperature=0.7, max_tokens=2*1024,\n",
    ")\n",
    "\n",
    "# We will leverage a model good for function calling as task executor instead\n",
    "function_calling_llm = LLM(\n",
    "    model=\"bedrock/us.amazon.nova-pro-v1:0\",\n",
    "    temperature=0, max_tokens=5*1024\n",
    ")"
   ]
  },
  {
   "cell_type": "markdown",
   "id": "84f671ad",
   "metadata": {},
   "source": [
    "## Define the Tools"
   ]
  },
  {
   "cell_type": "code",
   "execution_count": null,
   "id": "6636ecc7",
   "metadata": {},
   "outputs": [],
   "source": [
    "from getpass import getpass\n",
    "import os\n",
    "from dotenv import load_dotenv\n",
    "\n",
    "# Make sure the Serper API Key is configured\n",
    "load_dotenv()\n",
    "if not os.getenv(\"SERPER_API_KEY\"):\n",
    "    os.environ[\"SERPER_API_KEY\"] = getpass(\"Please enter your Serper API key: \")\n",
    "\n",
    "search_tool = SerperDevTool(\n",
    "    search_url=\"https://google.serper.dev/search\",\n",
    "    n_results=6,\n",
    ")"
   ]
  },
  {
   "cell_type": "markdown",
   "id": "26242c19",
   "metadata": {},
   "source": [
    "<div class=\"alert alert-block alert-warning\">\n",
    "<h3><b>Having trouble with Serper API Key?</b></h3>\n",
    "Run the next few cells to create a custom Tool to use DuckDuckGo to perform searches. Less stable than Serper.<b>If you've managed to get a Serper API Key</b>, ignore the next two cells.\n",
    "</div>"
   ]
  },
  {
   "cell_type": "code",
   "execution_count": null,
   "id": "89624328",
   "metadata": {},
   "outputs": [],
   "source": [
    "%pip install duckduckgo-search -qU"
   ]
  },
  {
   "cell_type": "code",
   "execution_count": null,
   "id": "ea3b184b",
   "metadata": {},
   "outputs": [],
   "source": [
    "from crewai.tools import tool\n",
    "from duckduckgo_search import DDGS\n",
    "\n",
    "@tool('DuckDuckGoSearch')\n",
    "def search_tool(search_query: str):\n",
    "    \"\"\"Search the web for information on a given topic\"\"\"\n",
    "    return DDGS().text(search_query, max_results=5)"
   ]
  },
  {
   "cell_type": "markdown",
   "id": "bfe11714-49f8-4b43-bba7-da3c24552456",
   "metadata": {},
   "source": [
    "## Create the crew\n",
    "\n",
    "A crew of one agent is not very interesting, so let's add a second agent to the crew. Using the same techniques as above, create a second agent which specializes in writing informative top 5 travel listicles (a type of article which contains a list). "
   ]
  },
  {
   "cell_type": "code",
   "execution_count": null,
   "id": "1ebad400",
   "metadata": {},
   "outputs": [],
   "source": [
    "# Define the manager agent\n",
    "supervisor_agent = Agent(\n",
    "    role=\"Project Manager\",\n",
    "    goal=\"Efficiently manage the crew and ensure high-quality task completion\",\n",
    "    backstory=\"You're an experienced project manager, skilled in overseeing complex projects and guiding teams to success. Your role is to coordinate the efforts of the crew members, ensuring that each task is completed on time and to the highest standard.\",\n",
    "    allow_delegation=True,\n",
    "    verbose=True,\n",
    "    tools=[],\n",
    "    llm=reasoning_llm,\n",
    "    max_iter=4\n",
    ")"
   ]
  },
  {
   "cell_type": "code",
   "execution_count": null,
   "id": "dc06ef16",
   "metadata": {},
   "outputs": [],
   "source": [
    "researcher_agent = Agent(\n",
    "    role=\"Travel Researcher\",\n",
    "    goal=\"Research and compile interesting activities and attractions for a given location\",\n",
    "    backstory=dedent(\n",
    "        \"\"\"You are an experienced travel researcher with a knack for \n",
    "        discovering both popular attractions and hidden gems in any \n",
    "        location. Your expertise lies in gathering comprehensive \n",
    "        information about various activities, their historical \n",
    "        significance, and practical details for visitors.\n",
    "        \"\"\"\n",
    "    ),\n",
    "    allow_delegation=False,\n",
    "    verbose=True,\n",
    "    llm=function_calling_llm,\n",
    "    max_iter=4,\n",
    "    tools=[search_tool],\n",
    ")\n",
    "\n",
    "research_task = Task(\n",
    "    description=dedent(\n",
    "        \"\"\"Research and compile a list of at least 5 interesting \n",
    "        activities and attractions in {location}. Include a mix of \n",
    "        popular tourist spots and lesser-known local favorites. For \n",
    "        each item, provide:\n",
    "        1. Name of the attraction/activity\n",
    "        2. Brief description (2-3 sentences)\n",
    "        3. Why it's worth visiting\n",
    "        Your final answer should be a structured list of these items.\n",
    "        \"\"\"\n",
    "    ),\n",
    "    agent=researcher_agent,\n",
    "    expected_output=\"Structured list of 5+ attractions/activities\",\n",
    ")"
   ]
  },
  {
   "cell_type": "code",
   "execution_count": null,
   "id": "c20274af-59b5-421c-9a22-3426e086e6c6",
   "metadata": {},
   "outputs": [],
   "source": [
    "content_writer_agent = Agent(\n",
    "    role=\"Travel Content Writer\",\n",
    "    goal=\"Create engaging and informative content for the top 5 listicle\",\n",
    "    backstory=dedent(\n",
    "        \"\"\"You are a skilled travel writer with a flair for creating \n",
    "        captivating content. Your writing style is engaging, \n",
    "        informative, and tailored to inspire readers to explore new \n",
    "        destinations. You excel at crafting concise yet compelling \n",
    "        descriptions of attractions and activities.\"\"\"\n",
    "    ),\n",
    "    allow_delegation=False,\n",
    "    verbose=True,\n",
    "    llm=function_calling_llm,\n",
    "    max_iter=4,\n",
    "    tools=[],\n",
    ")\n",
    "\n",
    "write_task = Task(\n",
    "    description=dedent(\n",
    "        \"\"\"Create an engaging top 5 listicle article about things to \n",
    "        do in {location}. Use the research provided to:\n",
    "        1. Write a catchy title and introduction (100-150 words)\n",
    "        2. Select and write about the top 5 activities/attractions\n",
    "        3. For each item, write 2-3 paragraphs (100-150 words total)\n",
    "        4. Include a brief conclusion (50-75 words)\n",
    "\n",
    "        Ensure the content is engaging, informative, and inspiring. \n",
    "        Your final answer should be the complete listicle article.\n",
    "        \"\"\"\n",
    "    ),\n",
    "    agent=content_writer_agent,\n",
    "    expected_output=\"Complete top 5 listicle article\",\n",
    ")"
   ]
  },
  {
   "cell_type": "code",
   "execution_count": null,
   "id": "5db32281-a7fd-4a64-9d83-500e96c0bced",
   "metadata": {},
   "outputs": [],
   "source": [
    "editor_agent = Agent(\n",
    "    role=\"Content Editor\",\n",
    "    goal=\"Ensure the listicle is well-structured, engaging, and error-free\",\n",
    "    backstory=dedent(\n",
    "        \"\"\"You are a meticulous editor with years of experience in \n",
    "        travel content. Your keen eye for detail helps polish articles \n",
    "        to perfection. You focus on improving flow, maintaining \n",
    "        consistency, and enhancing the overall readability of the \n",
    "        content while ensuring it appeals to the target audience.\"\"\"\n",
    "    ),\n",
    "    allow_delegation=False,\n",
    "    verbose=True,\n",
    "    llm=function_calling_llm,\n",
    "    max_iter=4,\n",
    "    tools=[],\n",
    ")\n",
    "\n",
    "edit_task = Task(\n",
    "    description=dedent(\n",
    "        \"\"\"Review and edit the top 5 listicle article about things to \n",
    "        do in {location}. Focus on:\n",
    "        1. Improving the overall structure and flow\n",
    "        2. Enhancing the engagement factor of the content\n",
    "        3. Ensuring consistency in tone and style\n",
    "        4. Correcting any grammatical or spelling errors\n",
    "\n",
    "        Do not change the content itself. Only edit it for higher quality.\n",
    "        Your final answer should be the polished, publication-ready \n",
    "        version of the article.\n",
    "        \"\"\"\n",
    "    ),\n",
    "    agent=editor_agent,\n",
    "    expected_output=\"Edited and polished listicle article about {location}\",\n",
    ")"
   ]
  },
  {
   "cell_type": "markdown",
   "id": "3ade8efe-6a6a-462d-9589-ab32f04b17b8",
   "metadata": {},
   "source": [
    "After creating your second and third agent, you will need to add them both to your crew. Tasks can be executed sequentially (i.e. always in the order which they are defined) or hierarchically (i.e. tasks are assigned based on agent roles). In this case, the process for writing a travel article is always the same, so we will use sequential."
   ]
  },
  {
   "cell_type": "code",
   "execution_count": null,
   "id": "8f00d8d6-d9b1-463c-ba82-b8ab3d3eeb2f",
   "metadata": {},
   "outputs": [],
   "source": [
    "crew = Crew(\n",
    "    agents=[researcher_agent, content_writer_agent, editor_agent],\n",
    "    tasks=[research_task, write_task, edit_task],\n",
    "    manager_agent=supervisor_agent,\n",
    "    # manager_llm=reasoning_llm,\n",
    "    process=Process.hierarchical,\n",
    "    verbose=True,\n",
    ")"
   ]
  },
  {
   "cell_type": "markdown",
   "id": "ff5bc4ee-6a23-4313-91fb-a83e49e1c64f",
   "metadata": {},
   "source": [
    "Next, test your crew!"
   ]
  },
  {
   "cell_type": "code",
   "execution_count": null,
   "id": "b7281f51-f286-4f8f-b509-e13913feea03",
   "metadata": {
    "scrolled": true
   },
   "outputs": [],
   "source": [
    "inputs = {\n",
    "    'location': 'Hoenderloo, Netherlands'\n",
    "}\n",
    "listicle_result = crew.kickoff(inputs=inputs)\n",
    "print(listicle_result)"
   ]
  }
 ],
 "metadata": {
  "kernelspec": {
   "display_name": "Python 3 (ipykernel)",
   "language": "python",
   "name": "python3"
  },
  "language_info": {
   "codemirror_mode": {
    "name": "ipython",
    "version": 3
   },
   "file_extension": ".py",
   "mimetype": "text/x-python",
   "name": "python",
   "nbconvert_exporter": "python",
   "pygments_lexer": "ipython3",
   "version": "3.11.11"
  }
 },
 "nbformat": 4,
 "nbformat_minor": 5
}

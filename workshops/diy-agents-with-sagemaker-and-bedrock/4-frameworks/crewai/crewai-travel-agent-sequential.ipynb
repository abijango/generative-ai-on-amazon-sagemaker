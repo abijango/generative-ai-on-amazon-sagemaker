{
 "cells": [
  {
   "cell_type": "markdown",
   "id": "d72273da-4695-46a8-bd35-e8114a23fdd3",
   "metadata": {},
   "source": [
    "# Building a sequential multi-agent travel assistant with CrewAI\n",
    "\n",
    "This notebook demonstrates how to create a travel assistant using multi-agent collaboration with the CrewAI framework. Specifically, you will use this assistant to generate articles on the top activities and attractions for a specific location. \n",
    "\n",
    "## Structure of the travel assistant\n",
    "This notebook provides step-by-step guidance for creating a travel assistant consisting of the following agents:\n",
    "\n",
    "1. Researcher Agent - is responsible for gathering information on the top 5 attractions and activities in a specific location\n",
    "2. Content Writer Agent - is responsible for writing an engaging article based on the information of the top 5 attractions\n",
    "3. Editor Agent - is responsible for improving the flow and language use within the article"
   ]
  },
  {
   "cell_type": "markdown",
   "id": "3d60808b-16a1-4982-bb6a-5046a3c6581c",
   "metadata": {},
   "source": [
    "## (Optional) Prerequisite knowledge\n",
    "This section provides general information on agents, multi-agent collaboration, and other topics. If you are comfortable with these concepts, feel free to skip reading this section. \n",
    "\n",
    "### What is an LLM and what do the parameters mean?\n",
    "[Large language models](https://aws.amazon.com/what-is/large-language-model/), also known as LLMs, are very large deep learning models that are pre-trained on vast amounts of data. LLMs are incredibly flexible. One model can perform completely different tasks such as answering questions, summarizing documents, translating languages and completing sentences. While not perfect, LLMs are demonstrating a remarkable ability to make predictions based on a relatively small number of prompts or inputs.\n",
    "\n",
    "You can interact with LLMs through prompts. A prompt is a natural language text that requests the LLM to perform a specific task. Even though LLM attempts to mimic humans, it requires detailed instructions to create high-quality and relevant output. In [prompt engineering](https://aws.amazon.com/what-is/prompt-engineering/), you choose the most appropriate formats, phrases, words, and symbols that guide the AI to interact with your users more meaningfully. Prompt engineers use creativity plus trial and error to create a collection of input texts, so an application's model works as expected.\n",
    "\n",
    "In addition to prompts, you can influence LLM behavior through [inference parameters](https://docs.aws.amazon.com/bedrock/latest/userguide/inference-parameters.html). Every model has different inference parameters, but a common parameter is `temperature`. It affects the shape of the probability distribution for the predicted output and influences the likelihood of the model selecting lower-probability outputs. A lower temperature leads to more deterministic responses which is useful for classification and structured output. A higher temperature leads to more random responses which is useful for use cases requiring natural, human-sounding, and creative output. \n",
    "\n",
    "### What is an agent and why should I use build one?\n",
    "An [artificial intelligence (AI) agent](https://aws.amazon.com/what-is/ai-agents/) is a software program that can interact with its environment, collect data, and use the data to perform self-determined tasks to meet predetermined goals. Humans set goals, but an AI agent independently chooses the best actions it needs to perform to achieve those goals. Alternatively, the term agent is used to refer to an LLM workflow which is orchestrated to follow pre-defined tasks and paths. Agents can be given access to tools, such as calculators, APIs, or databases, to complete the tasks they have been given. \n",
    "\n",
    "### Why should I use multiple agents to build a solution?\n",
    "Large language model (LLM) based AI agents that have been specialized for specific tasks have demonstrated great problem-solving capabilities. By combining the reasoning power of multiple intelligent specialized agents, multi-agent collaboration has emerged as a powerful approach to tackle more intricate, multistep workflows. Multi-agent collaboration offers several key advantages over single-agent approaches, primarily stemming from distributed problem-solving and specialization.\n",
    "\n",
    "Distributed problem-solving refers to the ability to break down complex tasks into smaller subtasks that can be handled by specialized agents. By breaking down tasks, each agent can focus on a specific aspect of the problem, leading to more efficient and effective problem-solving. For example, a travel planning problem can be decomposed into subtasks such as checking weather forecasts, finding available hotels, and selecting the best routes. The distributed aspect also contributes to the extensibility and robustness of the system. As the scope of a problem increases, we can simply add more agents to extend the capability of the system rather than try to optimize a monolithic agent packed with instructions and tools. On robustness, the system can be more resilient to failures because multiple agents can compensate for and even potentially correct errors produced by a single agent.\n",
    "\n",
    "Specialization allows each agent to focus on a specific area within the problem domain. For example, in a network of agents working on software development, a coordinator agent can manage overall planning, a programming agent can generate correct code and test cases, and a code review agent can provide constructive feedback on the generated code. Each agent can be designed and customized to excel at a specific task. \n",
    "For developers building agents, this means the workload of designing and implementing an agentic system can be organically distributed, leading to faster development cycles and better quality. Within enterprises, often development teams have distributed expertise that is ideal for developing specialist agents. Such specialist agents can be further reused by other teams across the entire organization."
   ]
  },
  {
   "cell_type": "markdown",
   "id": "4a5383f9-220a-4bdc-bdf8-bcd9d62b3654",
   "metadata": {},
   "source": [
    "## Setup\n",
    "\n",
    "Start by installing some of the required packages, including CrewAI for building multi-agent solutions, Langchain for pre-built tool components, and Tavily for its web search API."
   ]
  },
  {
   "cell_type": "code",
   "execution_count": null,
   "id": "1157c199-457f-4983-b8f1-8fd37dde0592",
   "metadata": {},
   "outputs": [],
   "source": [
    "!pip install -r crewai-requirements.txt -qU"
   ]
  },
  {
   "cell_type": "markdown",
   "id": "056256e2",
   "metadata": {},
   "source": [
    "<div class=\"alert alert-block alert-info\">\n",
    "<b>Important:</b> restart the kernel before proceeding with the next cells.\n",
    "</div>"
   ]
  },
  {
   "cell_type": "markdown",
   "id": "1f7adab5-b3e8-4bbc-9aee-cab1bc4c58c9",
   "metadata": {},
   "source": [
    "Now you can import all of the packages you will need for this lab. This includes the packages described above, but also textwrap for keeping the prompts readable within the notebook, and pydantic for validating input."
   ]
  },
  {
   "cell_type": "code",
   "execution_count": null,
   "id": "66cc2eb6-1fa0-4b8f-912c-9e9e0cca145e",
   "metadata": {},
   "outputs": [],
   "source": [
    "from crewai import LLM, Agent, Crew, Task, Process\n",
    "from textwrap import dedent\n",
    "from crewai_tools import SerperDevTool"
   ]
  },
  {
   "cell_type": "markdown",
   "id": "c3d5ef9b-e71a-445a-a3f9-9dfcc5538f56",
   "metadata": {},
   "source": [
    "Follow the instructions in [this lab](https://catalog.us-east-1.prod.workshops.aws/workshops/eb7af74b-184e-47d2-9277-4f59b4c91df5/en-US/2-llm-deployment-with-aws/2-sagemaker) to create a SageMaker real-time endpoint hosting the [DeepSeek R1 Distill-Llama 8B](https://huggingface.co/deepseek-ai/DeepSeek-R1) model. Although you will use this specific model for this lab, CrewAI also supports other models hosted through [Amazon SageMaker](https://docs.crewai.com/concepts/llms#amazon-sagemaker) or [Amazon Bedrock](https://docs.crewai.com/concepts/llms#aws-bedrock). While the SageMaker endpoint is being created, you can copy the name of the endpoint and replace the text `INSERT ENDPOINT NAME` in the code below with the endpoint name.\n",
    "\n",
    "When setting up an LLM model to use with CrewAI, you can also set model parameters. In this case, we set `temperature` to 0.7 to balance creativity with accuracy. We also set the `max_tokens` to 4096 to allow for longer responses."
   ]
  },
  {
   "cell_type": "code",
   "execution_count": null,
   "id": "acc0b71e-b938-47f8-a297-e6c9a2a3979f",
   "metadata": {},
   "outputs": [],
   "source": [
    "reasoning_llm = LLM(\n",
    "    model=\"sagemaker/INSERT ENDPOINT NAME\",\n",
    "    temperature=0.7, max_tokens=4*1024,\n",
    ")"
   ]
  },
  {
   "cell_type": "markdown",
   "id": "1e7a1f52-9360-48ca-ad57-9a67affa1f11",
   "metadata": {},
   "source": [
    "## Create your first agent\n",
    "\n",
    "Let's start by creating the first agent - the researcher agent. This agent will be responsible for gathering information on the top 5 attractions and activities for a specific location. Start simple by creating an agent which relies on the LLM's internal knowledge of various locations around the world. At a later stage, this agent can be extended by providing access to a web search tool. \n",
    "\n",
    "CrewAI Agents support various [attributes](https://docs.crewai.com/concepts/agents#agent-attributes), but we will start with:\n",
    "* `role` - defines the agent's function within the crew\n",
    "* `goal` - defines the objective which guides the agent's behavior\n",
    "* `backstory` - provides additional context to enrich interactions\n",
    "* `llm` - the LLM which processes the prompt and generates the output\n",
    "* `allow_delegation` - allow the agent to delegate tasks to other agents\n",
    "* `verbose` - enables detailed logs for debugging\n",
    "* `max_iter` - maximum iterations the model can use to produce output"
   ]
  },
  {
   "cell_type": "code",
   "execution_count": null,
   "id": "b13e8dcb-ceb7-478b-b52c-b71367b3b9ad",
   "metadata": {},
   "outputs": [],
   "source": [
    "researcher_agent = Agent(\n",
    "    role=\"Travel Researcher\",\n",
    "    goal=\"Research and compile interesting activities and attractions for a given location\",\n",
    "    backstory=dedent(\n",
    "        \"\"\"You are an experienced travel researcher with a knack for \n",
    "        discovering both popular attractions and hidden gems in any \n",
    "        location. Your expertise lies in gathering comprehensive \n",
    "        information about various activities, their historical \n",
    "        significance, and practical details for visitors.\n",
    "        \"\"\"\n",
    "    ),\n",
    "    allow_delegation=False,\n",
    "    verbose=True,\n",
    "    llm=reasoning_llm,\n",
    "    max_iter=4\n",
    ")"
   ]
  },
  {
   "cell_type": "markdown",
   "id": "e39dc394-d94e-4124-81c6-b257882ba1a5",
   "metadata": {},
   "source": [
    "Next, you will create a task. In CrewAI, a task is a specific action which can be completed by one or more agents. In this case, we define a research task which requires an agent to research at least 5 attractions and activities for a specific location.\n",
    "\n",
    "CrewAI Tasks support various [attributes](https://docs.crewai.com/concepts/tasks#task-attributes), but we will start with:\n",
    "* `description` - a concise statement of how the task should be completed\n",
    "* `expected_output` - a description of the what the output should look like\n",
    "* `agent` - the agent which will complete the task"
   ]
  },
  {
   "cell_type": "code",
   "execution_count": null,
   "id": "4abba74a-3f79-4201-83d4-767af739acd7",
   "metadata": {},
   "outputs": [],
   "source": [
    "research_task = Task(\n",
    "    description=dedent(\n",
    "        \"\"\"Research and compile a list of at least 5 interesting \n",
    "        activities and attractions in {location}. Include a mix of \n",
    "        popular tourist spots and lesser-known local favorites. For \n",
    "        each item, provide:\n",
    "        1. Name of the attraction/activity\n",
    "        2. Brief description (2-3 sentences)\n",
    "        3. Why it's worth visiting\n",
    "        Your final answer should be a structured list of these items.\n",
    "        \"\"\"\n",
    "    ),\n",
    "    agent=researcher_agent,\n",
    "    expected_output=\"Structured list of 5+ attractions/activities\",\n",
    ")"
   ]
  },
  {
   "cell_type": "markdown",
   "id": "41c0f80a-c7eb-49b9-b2a2-cad43d9a9567",
   "metadata": {},
   "source": [
    "Now you can create your first crew. A crew is a collection of agents which work together to complete tasks. This crew is particularly small, having only one agent, but you will expand it later.\n",
    "\n",
    "CrewAI Crews support various [attributes](https://docs.crewai.com/concepts/crews#crew-attributes), but we will start with:\n",
    "* `agents` - a list of agents to be included in the crew\n",
    "* `tasks` - a list of tasks to be completed by the agents\n",
    "* `verbose` - enables detailed logs for debugging"
   ]
  },
  {
   "cell_type": "code",
   "execution_count": null,
   "id": "be478c9c-6e8c-4cd6-9b52-5d0f1f447cb3",
   "metadata": {},
   "outputs": [],
   "source": [
    "crew = Crew(\n",
    "    agents=[researcher_agent],\n",
    "    tasks=[research_task],\n",
    "    verbose=True,\n",
    ")"
   ]
  },
  {
   "cell_type": "markdown",
   "id": "ce133aad-c60c-43a5-9b04-d501e7f8e55c",
   "metadata": {},
   "source": [
    "Now you can test your first crew! Since the current version of the researcher agent relies on the LLM's internal knowledge, choose a well-known location such as Amsterdam. The model has likely learned about Amsterdam in its training data. "
   ]
  },
  {
   "cell_type": "code",
   "execution_count": null,
   "id": "fd1eebcf-f71e-4f96-acd4-c3caa53ba340",
   "metadata": {},
   "outputs": [],
   "source": [
    "inputs = {\n",
    "    'location': 'Amsterdam, Netherlands'\n",
    "}\n",
    "listicle_result = crew.kickoff(inputs=inputs)\n",
    "print(listicle_result)"
   ]
  },
  {
   "cell_type": "markdown",
   "id": "bfe11714-49f8-4b43-bba7-da3c24552456",
   "metadata": {},
   "source": [
    "## Add more agents to the crew\n",
    "\n",
    "A crew of one agent is not very interesting, so let's add a second agent to the crew. Using the same techniques as above, create a second agent which specializes in writing informative top 5 travel listicles (a type of article which contains a list). "
   ]
  },
  {
   "cell_type": "code",
   "execution_count": null,
   "id": "c20274af-59b5-421c-9a22-3426e086e6c6",
   "metadata": {},
   "outputs": [],
   "source": [
    "content_writer_agent = Agent(\n",
    "    role=\"Travel Content Writer\",\n",
    "    goal=\"Create engaging and informative content for the top 5 listicle\",\n",
    "    backstory=dedent(\n",
    "        \"\"\"You are a skilled travel writer with a flair for creating \n",
    "        captivating content. Your writing style is engaging, \n",
    "        informative, and tailored to inspire readers to explore new \n",
    "        destinations. You excel at crafting concise yet compelling \n",
    "        descriptions of attractions and activities.\"\"\"\n",
    "    ),\n",
    "    allow_delegation=False,\n",
    "    verbose=True,\n",
    "    llm=reasoning_llm,\n",
    "    max_iter=4\n",
    ")\n",
    "\n",
    "write_task = Task(\n",
    "    description=dedent(\n",
    "        \"\"\"Create an engaging top 5 listicle article about things to \n",
    "        do in {location}. Use the research provided to:\n",
    "        1. Write a catchy title and introduction (100-150 words)\n",
    "        2. Select and write about the top 5 activities/attractions\n",
    "        3. For each item, write 2-3 paragraphs (100-150 words total)\n",
    "        4. Include a brief conclusion (50-75 words)\n",
    "\n",
    "        Ensure the content is engaging, informative, and inspiring. \n",
    "        Your final answer should be the complete listicle article.\n",
    "        \"\"\"\n",
    "    ),\n",
    "    agent=content_writer_agent,\n",
    "    expected_output=\"Complete top 5 listicle article\",\n",
    ")"
   ]
  },
  {
   "cell_type": "markdown",
   "id": "fc19ee85-b659-4030-8e57-b1a2df7afa70",
   "metadata": {},
   "source": [
    "Of course, professional media companies employ editors to improve the quality of articles. By taking a second look at a good article, we can make it great. So let's create a third agent which specializes in editing existing articles to improve the flow of the story and improve readability. "
   ]
  },
  {
   "cell_type": "code",
   "execution_count": null,
   "id": "5db32281-a7fd-4a64-9d83-500e96c0bced",
   "metadata": {},
   "outputs": [],
   "source": [
    "editor_agent = Agent(\n",
    "    role=\"Content Editor\",\n",
    "    goal=\"Ensure the listicle is well-structured, engaging, and error-free\",\n",
    "    backstory=dedent(\n",
    "        \"\"\"You are a meticulous editor with years of experience in \n",
    "        travel content. Your keen eye for detail helps polish articles \n",
    "        to perfection. You focus on improving flow, maintaining \n",
    "        consistency, and enhancing the overall readability of the \n",
    "        content while ensuring it appeals to the target audience.\"\"\"\n",
    "    ),\n",
    "    allow_delegation=False,\n",
    "    verbose=True,\n",
    "    llm=reasoning_llm,\n",
    "    max_iter=4\n",
    ")\n",
    "\n",
    "edit_task = Task(\n",
    "    description=dedent(\n",
    "        \"\"\"Review and edit the top 5 listicle article about things to \n",
    "        do in {location}. Focus on:\n",
    "        1. Improving the overall structure and flow\n",
    "        2. Enhancing the engagement factor of the content\n",
    "        3. Ensuring consistency in tone and style\n",
    "        4. Correcting any grammatical or spelling errors\n",
    "\n",
    "        Do not change the content itself. Only edit it for higher quality.\n",
    "        Your final answer should be the polished, publication-ready \n",
    "        version of the article.\n",
    "        \"\"\"\n",
    "    ),\n",
    "    agent=editor_agent,\n",
    "    expected_output=\"Edited and polished listicle article about {location}\",\n",
    ")"
   ]
  },
  {
   "cell_type": "markdown",
   "id": "3ade8efe-6a6a-462d-9589-ab32f04b17b8",
   "metadata": {},
   "source": [
    "After creating your second and third agent, you will need to add them both to your crew. Tasks can be executed sequentially (i.e. always in the order which they are defined) or hierarchically (i.e. tasks are assigned based on agent roles). In this case, the process for writing a travel article is always the same, so we will use sequential."
   ]
  },
  {
   "cell_type": "code",
   "execution_count": null,
   "id": "8f00d8d6-d9b1-463c-ba82-b8ab3d3eeb2f",
   "metadata": {},
   "outputs": [],
   "source": [
    "crew = Crew(\n",
    "    agents=[researcher_agent, content_writer_agent, editor_agent],\n",
    "    tasks=[research_task, write_task, edit_task],\n",
    "    process=Process.sequential,\n",
    "    verbose=True,\n",
    ")"
   ]
  },
  {
   "cell_type": "markdown",
   "id": "ff5bc4ee-6a23-4313-91fb-a83e49e1c64f",
   "metadata": {},
   "source": [
    "Next, test your crew again using the same location as before, such as Amsterdam. You should see the agents executing the tasks in order, resulting in an article about the top 5 attractions for your location."
   ]
  },
  {
   "cell_type": "code",
   "execution_count": null,
   "id": "0ebc1d71-73bf-4e15-a55c-81f228663ad4",
   "metadata": {
    "scrolled": true
   },
   "outputs": [],
   "source": [
    "inputs = {\n",
    "    'location': 'Amsterdam, Netherlands'\n",
    "}\n",
    "listicle_result = crew.kickoff(inputs=inputs)\n",
    "print(listicle_result)"
   ]
  },
  {
   "cell_type": "markdown",
   "id": "1646dc28-d40b-4d79-ba25-2f42652733cb",
   "metadata": {},
   "source": [
    "What happens if you are looking for travel advice for a less well-known location? A model is unlikely to know much about a small village like Hoenderloo, Netherlands (population of ~1,500), even though it has a lot to offer. In this case, the model will likely give recommendations outside of the location itself, or it may even hallucinate attractions which don't exist."
   ]
  },
  {
   "cell_type": "code",
   "execution_count": null,
   "id": "b7281f51-f286-4f8f-b509-e13913feea03",
   "metadata": {},
   "outputs": [],
   "source": [
    "inputs = {\n",
    "    'location': 'Hoenderloo, Netherlands'\n",
    "}\n",
    "listicle_result = crew.kickoff(inputs=inputs)\n",
    "print(listicle_result)"
   ]
  },
  {
   "cell_type": "markdown",
   "id": "cb1e4ddc-38a5-42f5-85e7-d7b059a8d52b",
   "metadata": {},
   "source": [
    "## Enhance agent capabilities using tools\n",
    "\n",
    "Let's extend the capabilities of the research agent by giving it access to a web search tool so it can search for relevant information about a less well-known location. \n",
    "\n",
    "There are many API search tools available. CrewAI has a [built-in tool](https://docs.crewai.com/concepts/tools) for [Google Serper Search](https://docs.crewai.com/tools/serperdevtool), which offers a limited number of free queries. To complete this section, you will need to [register](https://serper.dev/) and fetch an API key for this service. Copy the API key and provide it when prompted in the next cell. This will store your API key as an environment variable.\n",
    "\n",
    "Now you can instantiate the Serper Dev search tool. The tool can perform specific searches for news, scholarly articles, images, and more, but in this case you will use the tool to perform a generic internet search. This can be specified using the `search_url` parameter. It is recommended to set the maximum number of search results using `n_results` parameter."
   ]
  },
  {
   "cell_type": "code",
   "execution_count": null,
   "id": "26f9c23b-c7ca-451f-ae34-0f63b243de2d",
   "metadata": {},
   "outputs": [],
   "source": [
    "from getpass import getpass\n",
    "import os\n",
    "from dotenv import load_dotenv\n",
    "\n",
    "# Make sure the Serper API Key is configured\n",
    "load_dotenv()\n",
    "if not os.getenv(\"SERPER_API_KEY\"):\n",
    "    os.environ[\"SERPER_API_KEY\"] = getpass(\"Please enter your Serper API key: \")\n",
    "\n",
    "search_tool = SerperDevTool(\n",
    "    search_url=\"https://google.serper.dev/search\",\n",
    "    n_results=6,\n",
    ")"
   ]
  },
  {
   "cell_type": "markdown",
   "id": "e2973bd9",
   "metadata": {},
   "source": [
    "<div class=\"alert alert-block alert-warning\">\n",
    "<h3><b>Having trouble with Serper API Key?</b></h3>\n",
    "Run the next few cells to create a custom Tool to use DuckDuckGo to perform searches. Less stable than Serper.<b>If you've managed to get a Serper API Key</b>, ignore the next two cells.\n",
    "</div>"
   ]
  },
  {
   "cell_type": "code",
   "execution_count": null,
   "id": "898e1a9a",
   "metadata": {},
   "outputs": [],
   "source": [
    "%pip install duckduckgo-search -qU"
   ]
  },
  {
   "cell_type": "code",
   "execution_count": null,
   "id": "cb9d27c0",
   "metadata": {},
   "outputs": [],
   "source": [
    "from crewai.tools import tool\n",
    "from duckduckgo_search import DDGS\n",
    "\n",
    "@tool('DuckDuckGoSearch')\n",
    "def search_tool(search_query: str):\n",
    "    \"\"\"Search the web for information on a given topic\"\"\"\n",
    "    return DDGS().text(search_query, max_results=5)"
   ]
  },
  {
   "cell_type": "markdown",
   "id": "dabfb1c8-59ca-4750-8414-2a0a4081bdeb",
   "metadata": {},
   "source": [
    "DeepSeek R1 does not natively support function calling or structured outputs ([source](https://github.com/deepseek-ai/DeepSeek-R1/issues/9#issuecomment-2604747754)). With careful prompting it is possible to call a tool with DeepSeek R1, but we recommend choosing the right model for the right job. For example, **Meta Llama 3.1 70B Instruct** is better at tool calling, so we will use it for the research agent. Although you can deploy Meta Llama models on SageMaker endpoints, let's try using Llama via Amazon Bedrock serverless endpoints instead."
   ]
  },
  {
   "cell_type": "code",
   "execution_count": null,
   "id": "84598907-b1eb-4c38-8daf-74655528d199",
   "metadata": {},
   "outputs": [],
   "source": [
    "function_calling_llm = LLM(\n",
    "    model=\"bedrock/invoke/meta.llama3-1-70b-instruct-v1:0\",\n",
    "    temperature=0, max_gen_len=5*1024\n",
    ")"
   ]
  },
  {
   "cell_type": "markdown",
   "id": "00cc9d94-db9f-4e3c-9f83-ff24c3503376",
   "metadata": {},
   "source": [
    "Recreate the researcher agent to include the tool. In addition to adding the tool in the `tools` parameter, you will want to adjust the `goal` and `backstory` to inform the agent that it has access to the tool. And change the `llm` to point to the Llama model."
   ]
  },
  {
   "cell_type": "code",
   "execution_count": null,
   "id": "7e1f0b4f-c011-4c68-9680-ab96f030c434",
   "metadata": {},
   "outputs": [],
   "source": [
    "researcher_agent = Agent(\n",
    "    role=\"Travel Researcher\",\n",
    "    goal=\"Research interesting activities and attractions for a given location using the web search tool once.\",\n",
    "    backstory=dedent(\n",
    "        \"\"\"You are an experienced travel researcher with a knack for \n",
    "        discovering both popular attractions and hidden gems in any \n",
    "        location. Your expertise lies in running one web search for \n",
    "        comprehensive information about various activities, their \n",
    "        historical significance, and practical details for visitors.\n",
    "        Use the web search tool to find the information you need.\n",
    "        \"\"\"\n",
    "    ),\n",
    "    tools=[search_tool],\n",
    "    allow_delegation=False,\n",
    "    verbose=True,\n",
    "    llm=function_calling_llm,\n",
    "    max_iter=4\n",
    ")"
   ]
  },
  {
   "cell_type": "markdown",
   "id": "038797ff-d72f-4e9c-beb3-d15ade125382",
   "metadata": {},
   "source": [
    "You can also re-create the task and edit the prompt slightly to ensure that the model knows it can use the web search tool."
   ]
  },
  {
   "cell_type": "code",
   "execution_count": null,
   "id": "00b58102-5e35-48da-a52e-facd097587dc",
   "metadata": {},
   "outputs": [],
   "source": [
    "research_task = Task(\n",
    "    description=dedent(\n",
    "        \"\"\"You have access to a web search tool to research and compile \n",
    "        a list of at least 5 interesting activities and attractions in \n",
    "        {location}. Include a mix of popular tourist spots and lesser-known \n",
    "        local favorites. For each item, provide:\n",
    "        1. Name of the attraction/activity\n",
    "        2. Brief description (2-3 sentences)\n",
    "        3. Why it's worth visiting\n",
    "        Your final answer should be a structured list of these items.\n",
    "        \"\"\"\n",
    "    ),\n",
    "    agent=researcher_agent,\n",
    "    expected_output=\"Structured list of 5+ attractions/activities\",\n",
    ")"
   ]
  },
  {
   "cell_type": "markdown",
   "id": "95476efb-21d9-467f-9cbc-080c3621b1bd",
   "metadata": {},
   "source": [
    "Recreate the crew with your new research agent. No adjustment is needed for this code."
   ]
  },
  {
   "cell_type": "code",
   "execution_count": null,
   "id": "da1fd187-fd10-4dc0-953d-559e8ee6dd13",
   "metadata": {},
   "outputs": [],
   "source": [
    "crew = Crew(\n",
    "    agents=[researcher_agent, content_writer_agent, editor_agent],\n",
    "    tasks=[research_task, write_task, edit_task],\n",
    "    process=Process.sequential,\n",
    "    verbose=True,\n",
    ")"
   ]
  },
  {
   "cell_type": "markdown",
   "id": "c9c7c39a-97b0-48c8-b168-5440f82e3645",
   "metadata": {},
   "source": [
    "Now let's test the new crew of agents by asking for travel advice for Hoenderloo. Feel free to test with your location of choice."
   ]
  },
  {
   "cell_type": "code",
   "execution_count": null,
   "id": "1406f038-130e-4b98-827f-bae10a25aa00",
   "metadata": {
    "scrolled": true
   },
   "outputs": [],
   "source": [
    "inputs = {\n",
    "    'location': 'Hoenderloo, Netherlands'\n",
    "}\n",
    "listicle_result = crew.kickoff(inputs=inputs)\n",
    "print(listicle_result)"
   ]
  }
 ],
 "metadata": {
  "kernelspec": {
   "display_name": ".venv",
   "language": "python",
   "name": "python3"
  },
  "language_info": {
   "codemirror_mode": {
    "name": "ipython",
    "version": 3
   },
   "file_extension": ".py",
   "mimetype": "text/x-python",
   "name": "python",
   "nbconvert_exporter": "python",
   "pygments_lexer": "ipython3",
   "version": "3.12.6"
  }
 },
 "nbformat": 4,
 "nbformat_minor": 5
}

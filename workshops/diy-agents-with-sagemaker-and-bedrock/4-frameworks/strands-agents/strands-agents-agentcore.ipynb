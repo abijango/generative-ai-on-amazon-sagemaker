{
 "cells": [
  {
   "cell_type": "markdown",
   "id": "cbdcdb7f-236e-49de-a551-dc9d8121b10a",
   "metadata": {},
   "source": [
    "# Launching AI agents from PoC to Production in just a few lines of code\n",
    "\n",
    "Strands Agents is a simple yet powerful SDK that takes a model-driven approach to building and running AI agents. From simple conversational assistants to complex autonomous workflows, from local development to production deployment, Strands Agents scales with your needs.<br/><br/>\n",
    "This notebook demonstrates how to leverage the **Strands Agents SDK and Tools** to generate and execute automated Python code across a diverse range of tasks."
   ]
  },
  {
   "cell_type": "markdown",
   "id": "aecc9a86-8f14-4e3e-bc58-ce6583358a65",
   "metadata": {},
   "source": [
    "### Install Required Packages\n",
    "Installs `strands-agents` and related tools for creating Python agents and tools that can run and evaluate Python code.\n"
   ]
  },
  {
   "cell_type": "code",
   "execution_count": null,
   "id": "820f4e69",
   "metadata": {
    "scrolled": true
   },
   "outputs": [],
   "source": [
    "import warnings\n",
    "warnings.filterwarnings(\"ignore\")\n",
    "\n",
    "# Install required packages with tested versions\n",
    "!pip install -r requirements.txt -U\n",
    "\n",
    "# Note: bedrock-agentcore-starter-toolkit is now in requirements.txt with correct version (0.1.5)\n",
    "# No need for separate installation\n",
    "\n",
    "from IPython import get_ipython\n",
    "get_ipython().kernel.do_shutdown(True)"
   ]
  },
  {
   "cell_type": "markdown",
   "id": "e212b196",
   "metadata": {},
   "source": [
    "### Import Required Packages and Configure Environment"
   ]
  },
  {
   "cell_type": "code",
   "execution_count": null,
   "id": "a8057de8",
   "metadata": {},
   "outputs": [],
   "source": [
    "import os\n",
    "import json\n",
    "import time\n",
    "import requests\n",
    "from datetime import datetime\n",
    "from pathlib import Path\n",
    "\n",
    "# Strands imports\n",
    "from strands.models.bedrock import BedrockModel\n",
    "from strands import Agent, tool\n",
    "from strands_tools import retrieve, http_request\n",
    "from strands.tools.mcp.mcp_client import MCPClient\n",
    "from mcp.client.stdio import stdio_client, StdioServerParameters\n",
    "\n",
    "# AgentCore imports\n",
    "from bedrock_agentcore.runtime import BedrockAgentCoreApp\n",
    "from bedrock_agentcore_starter_toolkit import Runtime\n",
    "\n",
    "from boto3.session import Session\n",
    "boto_session = Session()\n",
    "region = boto_session.region_name\n",
    "\n",
    "# Configure environment\n",
    "os.environ[\"BYPASS_TOOL_CONSENT\"] = \"true\"\n",
    "\n",
    "# Configure model\n",
    "model = BedrockModel(model_id=\"us.anthropic.claude-3-5-sonnet-20241022-v2:0\")\n",
    "\n",
    "print(\"All imports loaded successfully\")\n",
    "print(region)"
   ]
  },
  {
   "cell_type": "markdown",
   "id": "1479a954",
   "metadata": {},
   "source": [
    "### Create Bedrock Knowledge Base"
   ]
  },
  {
   "cell_type": "code",
   "execution_count": null,
   "id": "a47b44d8",
   "metadata": {},
   "outputs": [],
   "source": [
    "!python utils/create_kb.py"
   ]
  },
  {
   "cell_type": "markdown",
   "id": "70cfb662-0227-408c-a43d-c0d398fa018d",
   "metadata": {},
   "source": [
    "### Configure the Model for Strands Agents\n",
    "\n",
    "<div class=\"alert alert-block alert-info\">\n",
    "\t⚠️ <b>Important:</b> ⚠️</br> To use <b>Amazon SageMaker AI</b>, make sure you've deployed the model according to <code>0-setup/2-setup-sagemaker-endpoint.ipynb</code> before proceeding.\n",
    "</div>"
   ]
  },
  {
   "cell_type": "code",
   "execution_count": null,
   "id": "f0c0c72f-31c9-4a9a-83b5-490ac6e292d7",
   "metadata": {},
   "outputs": [],
   "source": [
    "# %store -r SAGEMAKER_ENDPOINT_NAME\n",
    "# print(f\"Endpoint name: {SAGEMAKER_ENDPOINT_NAME}\")"
   ]
  },
  {
   "cell_type": "code",
   "execution_count": 2,
   "id": "08680b6e-d726-4a47-8c41-3bd366f08073",
   "metadata": {},
   "outputs": [],
   "source": [
    "from strands.models.sagemaker import SageMakerAIModel\n",
    "from strands.models.bedrock import BedrockModel\n",
    "\n",
    "\n",
    "provider = \"BEDROCK\"  # Change this to SAGEMAKER to use the previously deployed endpoint instead of Bedrock\n",
    "\n",
    "match provider:\n",
    "    case \"BEDROCK\":\n",
    "        # Using Claude 3.5 Sonnet from Bedrock\n",
    "        model = BedrockModel(model_id=\"us.anthropic.claude-3-5-sonnet-20241022-v2:0\")\n",
    "    case \"SAGEMAKER\":\n",
    "        pass\n",
    "        # Using Qwen3 from our endpoint in SageMaker AI\n",
    "        model = SageMakerAIModel(\n",
    "\t\t\tendpoint_config={\"endpoint_name\": SAGEMAKER_ENDPOINT_NAME},\n",
    "\t\t\tpayload_config={\"max_tokens\": 1024*5, \"stream\": True}\n",
    "\t\t)"
   ]
  },
  {
   "cell_type": "markdown",
   "id": "c4f5f856-4d8b-46c9-acb1-2aaedd995f20",
   "metadata": {},
   "source": [
    "# Agent 1: Web Research Agent\n"
   ]
  },
  {
   "cell_type": "code",
   "execution_count": null,
   "id": "01bdf0c5-749f-417d-bff4-82d98f368793",
   "metadata": {
    "scrolled": true
   },
   "outputs": [],
   "source": [
    "def create_web_research_agent():\n",
    "    \"\"\"Create a real web research agent with actual scraping capabilities\"\"\"\n",
    "    system_prompt = \"\"\"\n",
    "    You are a web research specialist. Your capabilities include:\n",
    "    \n",
    "    1. Web Scraping: Use requests and BeautifulSoup to scrape web content\n",
    "    2. Data Extraction: Extract titles, links, text content, and structured data\n",
    "    3. Content Analysis: Analyze and summarize web content\n",
    "    \n",
    "    Always use proper web scraping practices and extract meaningful, structured information.\n",
    "    \"\"\"\n",
    "    \n",
    "    return Agent(\n",
    "        model=model,\n",
    "        tools=[http_request],\n",
    "        system_prompt=system_prompt\n",
    "    )\n",
    "\n",
    "# Create the web research agent\n",
    "web_agent = create_web_research_agent()\n",
    "\n",
    "print(\"Created Web Research Agent\")"
   ]
  },
  {
   "cell_type": "markdown",
   "id": "1ef3d44c",
   "metadata": {},
   "source": [
    "Test Web Research Agent"
   ]
  },
  {
   "cell_type": "code",
   "execution_count": null,
   "id": "1bbe7457",
   "metadata": {},
   "outputs": [],
   "source": [
    "today = datetime.now().strftime(\"%Y-%m-%d\")\n",
    "\n",
    "web_test_query = f\"\"\"\n",
    "Scrape the Hacker News front page (https://news.ycombinator.com/) and extract:\n",
    "1. The top 10 article titles\n",
    "2. Their corresponding URLs\n",
    "3. Points/score if available\n",
    "4. Number of comments if available\n",
    "\n",
    "Provide a brief summary of the main topics being discussed.\n",
    "\"\"\"\n",
    "\n",
    "print(\"Testing Web Research Agent with real scraping...\")\n",
    "web_result = web_agent(web_test_query)\n",
    "print(\"Web scraping test completed\")\n"
   ]
  },
  {
   "cell_type": "markdown",
   "id": "08dfcd92",
   "metadata": {},
   "source": [
    "# Agent 2: Knowledge Base Agent"
   ]
  },
  {
   "cell_type": "markdown",
   "id": "d8ba17af",
   "metadata": {},
   "source": [
    "Extract Knowledge Base ID"
   ]
  },
  {
   "cell_type": "code",
   "execution_count": null,
   "id": "38498343",
   "metadata": {},
   "outputs": [],
   "source": [
    "# Load the knowledge base ID\n",
    "with open('kb_id.txt', 'r') as f:\n",
    "    kb_id = f.read().strip()\n",
    "    \n",
    "print(f\"Knowledge Base ID: {kb_id}\")"
   ]
  },
  {
   "cell_type": "markdown",
   "id": "d0786ab1",
   "metadata": {},
   "source": [
    "Create Knowledge Base Agent"
   ]
  },
  {
   "cell_type": "code",
   "execution_count": null,
   "id": "ca05743c",
   "metadata": {},
   "outputs": [],
   "source": [
    "def create_kb_agent(kb_id: str):\n",
    "    \"\"\"Create a real web research agent with actual scraping capabilities\"\"\"\n",
    "\n",
    "    system_prompt = f\"\"\" \n",
    "    You are connected to knowledge base {kb_id} in {region}. \n",
    "    Search the knowledge base for information to answer users questions.\n",
    "    Be specific about what you find.\n",
    "    \"\"\"\n",
    "\n",
    "    return Agent(\n",
    "        model=model,\n",
    "        tools=[retrieve],\n",
    "        system_prompt=system_prompt\n",
    "    )\n",
    "\n",
    "# Create the web research agent\n",
    "kb_agent = create_kb_agent(kb_id)\n",
    "\n",
    "print(\"Created Knowledge Base Agent\")"
   ]
  },
  {
   "cell_type": "markdown",
   "id": "74d5e1c0",
   "metadata": {},
   "source": [
    "Test Knowledge Base Agent"
   ]
  },
  {
   "cell_type": "code",
   "execution_count": null,
   "id": "4bcf5c59",
   "metadata": {},
   "outputs": [],
   "source": [
    "kb_test_query = f\"\"\"\n",
    "What is Agentcore?\n",
    "\"\"\"\n",
    "\n",
    "print(\"Testing Knowledge Base Agent with real scraping...\")\n",
    "web_result = kb_agent(kb_test_query)\n",
    "print(\"Knowledge Base test completed\")\n"
   ]
  },
  {
   "cell_type": "markdown",
   "id": "ef2293b8",
   "metadata": {},
   "source": [
    "# Productionize the Agents with Amazon Bedrock Agentcore"
   ]
  },
  {
   "cell_type": "markdown",
   "id": "b5aceeb7",
   "metadata": {},
   "source": [
    "Create IAM Role for Deployed Agents"
   ]
  },
  {
   "cell_type": "code",
   "execution_count": 4,
   "id": "88133b50",
   "metadata": {},
   "outputs": [],
   "source": [
    "import boto3\n",
    "import json\n",
    "\n",
    "def create_agentcore_role(kb_id):\n",
    "    iam = boto3.client('iam')\n",
    "    account_id = boto3.client(\"sts\").get_caller_identity()[\"Account\"]\n",
    "    \n",
    "    trust_policy = {\n",
    "        \"Version\": \"2012-10-17\",\n",
    "        \"Statement\": [{\n",
    "            \"Effect\": \"Allow\",\n",
    "            \"Principal\": {\"Service\": \"bedrock-agentcore.amazonaws.com\"},\n",
    "            \"Action\": \"sts:AssumeRole\"\n",
    "        }]\n",
    "    }\n",
    "    \n",
    "    policy = {\n",
    "        \"Version\": \"2012-10-17\",\n",
    "        \"Statement\": [\n",
    "            {\"Effect\": \"Allow\", \"Action\": [\"bedrock:InvokeModel\", \"bedrock:InvokeModelWithResponseStream\"], \"Resource\": \"arn:aws:bedrock:*::foundation-model/*\"},\n",
    "            {\"Effect\": \"Allow\", \"Action\": [\"bedrock:InvokeModel\", \"bedrock:InvokeModelWithResponseStream\"], \"Resource\": f\"arn:aws:bedrock:*:{account_id}:inference-profile/*\"},\n",
    "            {\"Effect\": \"Allow\", \"Action\": [\"bedrock:Retrieve\", \"bedrock:RetrieveAndGenerate\"], \"Resource\": f\"arn:aws:bedrock:us-east-1:{account_id}:knowledge-base/*\"},\n",
    "            {\"Effect\": \"Allow\", \"Action\": [\"ecr:BatchGetImage\", \"ecr:GetDownloadUrlForLayer\"], \"Resource\": f\"arn:aws:ecr:us-east-1:{account_id}:repository/*\"},\n",
    "            {\"Effect\": \"Allow\", \"Action\": [\"ecr:GetAuthorizationToken\"], \"Resource\": \"*\"},\n",
    "            {\"Effect\": \"Allow\", \"Action\": [\"logs:CreateLogGroup\", \"logs:CreateLogStream\", \"logs:PutLogEvents\"], \"Resource\": f\"arn:aws:logs:us-east-1:{account_id}:log-group:/aws/bedrock-agentcore/runtimes/*\"},\n",
    "            {\"Effect\": \"Allow\", \"Action\": [\"cloudwatch:PutMetricData\"], \"Resource\": \"*\"},\n",
    "            {\"Effect\": \"Allow\", \"Action\": [\"xray:PutTraceSegments\", \"xray:PutTelemetryRecords\"], \"Resource\": \"*\"},\n",
    "            {\"Effect\": \"Allow\", \"Action\": [\"bedrock-agentcore:GetWorkloadAccessToken\", \"bedrock-agentcore:GetWorkloadAccessTokenForJWT\", \"bedrock-agentcore:GetWorkloadAccessTokenForUserId\"], \"Resource\": [f\"arn:aws:bedrock-agentcore:us-east-1:{account_id}:workload-identity-directory/default\", f\"arn:aws:bedrock-agentcore:us-east-1:{account_id}:workload-identity-directory/default/workload-identity/*\"]}\n",
    "        ]\n",
    "    }\n",
    "    \n",
    "    try:\n",
    "        iam.create_role(RoleName=\"AgentCoreRuntimeRole\", AssumeRolePolicyDocument=json.dumps(trust_policy))\n",
    "        iam.put_role_policy(RoleName=\"AgentCoreRuntimeRole\", PolicyName=\"Policy\", PolicyDocument=json.dumps(policy))\n",
    "    except: pass\n",
    "    \n",
    "    return f\"arn:aws:iam::{account_id}:role/AgentCoreRuntimeRole\"\n",
    "\n",
    "agentcore_role_arn = create_agentcore_role(kb_id)"
   ]
  },
  {
   "cell_type": "markdown",
   "id": "5c294693",
   "metadata": {},
   "source": [
    "Helper Function to launch Agents to AgentCore Runtime"
   ]
  },
  {
   "cell_type": "code",
   "execution_count": null,
   "id": "f6120dfd",
   "metadata": {},
   "outputs": [],
   "source": [
    "from bedrock_agentcore_starter_toolkit import Runtime\n",
    "import json\n",
    "import time\n",
    "\n",
    "def deploy_agent_to_agentcore(agent_file, agent_name):\n",
    "    \"\"\"Deploy agent using Python SDK (more reliable for notebooks)\"\"\"\n",
    "    print(f\"Deploying {agent_name} using Python SDK...\")\n",
    "    \n",
    "    try:\n",
    "        # Initialize runtime\n",
    "        runtime = Runtime()\n",
    "        \n",
    "        # Configure\n",
    "        print(\"Configuring agent...\")\n",
    "        runtime.configure(\n",
    "            entrypoint=agent_file,\n",
    "            agent_name=agent_name,\n",
    "            execution_role=agentcore_role_arn,\n",
    "            auto_create_ecr=True,\n",
    "            requirements_file=\"requirements.txt\"\n",
    "        )\n",
    "        print(\"Configuration successful!\")\n",
    "        \n",
    "        # Launch with CodeBuild\n",
    "        print(\"Launching with CodeBuild...\")\n",
    "        runtime.launch(auto_update_on_conflict=True)\n",
    "        print(\"Launch successful!\")\n",
    "        \n",
    "        return runtime\n",
    "        \n",
    "    except Exception as e:\n",
    "        print(f\"Deployment failed: {str(e)}\")\n",
    "        print(f\"Error type: {type(e).__name__}\")\n",
    "        \n",
    "        # Print the full traceback for debugging\n",
    "        import traceback\n",
    "        print(\"Full traceback:\")\n",
    "        traceback.print_exc()\n",
    "        \n",
    "        return None\n",
    "\n",
    "print(\"Python SDK deployment function ready!\")"
   ]
  },
  {
   "cell_type": "markdown",
   "id": "0d067d6b",
   "metadata": {},
   "source": [
    "Deploy Web Agent"
   ]
  },
  {
   "cell_type": "code",
   "execution_count": null,
   "id": "e51d39ec",
   "metadata": {},
   "outputs": [],
   "source": [
    "# Create agent file using Python file operations\n",
    "agent_code = '''from bedrock_agentcore import BedrockAgentCoreApp\n",
    "from strands import Agent\n",
    "from strands.models import BedrockModel\n",
    "from strands_tools import http_request\n",
    "\n",
    "app = BedrockAgentCoreApp()\n",
    "\n",
    "# Create the web research agent with scraping capabilities\n",
    "agent = Agent(\n",
    "    model=BedrockModel(model_id=\"us.anthropic.claude-3-5-sonnet-20241022-v2:0\"),\n",
    "    tools=[http_request],\n",
    "    system_prompt=\"\"\"\n",
    "    You are a web research specialist. Your capabilities include:\n",
    "    \n",
    "    1. Web Scraping: Use requests and BeautifulSoup to scrape web content\n",
    "    2. Data Extraction: Extract titles, links, text content, and structured data\n",
    "    3. Content Analysis: Analyze and summarize web content\n",
    "    \n",
    "    Always use proper web scraping practices and extract meaningful, structured information.\n",
    "    \"\"\"\n",
    ")\n",
    "\n",
    "@app.entrypoint\n",
    "def agent_entrypoint(payload):\n",
    "    \"\"\"\n",
    "    Invoke the agent with the payload\n",
    "    \"\"\"\n",
    "    user_input = payload.get(\"prompt\")\n",
    "    print(\"User input:\", user_input)\n",
    "    response = agent(user_input)\n",
    "    return response.message['content'][0]['text']\n",
    "\n",
    "if __name__ == \"__main__\":\n",
    "    app.run()'''\n",
    "\n",
    "# Write the agent file\n",
    "with open('web_research_agent.py', 'w') as f:\n",
    "    f.write(agent_code)\n",
    "\n",
    "print(\"web_research_agent.py created successfully!\")\n",
    "\n",
    "# Deploy using Runtime class (CodeBuild should bypass Docker)\n",
    "web_runtime = deploy_agent_to_agentcore(\n",
    "    agent_file=\"web_research_agent.py\",\n",
    "    agent_name=\"web_research_agent\"\n",
    ")"
   ]
  },
  {
   "cell_type": "markdown",
   "id": "e12f14c7",
   "metadata": {},
   "source": [
    "Test Deployed Web Agent"
   ]
  },
  {
   "cell_type": "code",
   "execution_count": null,
   "id": "544ca67c",
   "metadata": {},
   "outputs": [],
   "source": [
    "invoke_response = web_runtime.invoke({\"prompt\": f\"\"\"\n",
    "Scrape the Hacker News front page (https://news.ycombinator.com/) and extract:\n",
    "1. The top 10 article titles\n",
    "2. Their corresponding URLs\n",
    "3. Points/score if available\n",
    "4. Number of comments if available\n",
    "\n",
    "Provide a brief summary of the main topics being discussed.\n",
    "\"\"\"})\n",
    "invoke_response"
   ]
  },
  {
   "cell_type": "markdown",
   "id": "c91779f6",
   "metadata": {},
   "source": [
    "Deploy KB Agent"
   ]
  },
  {
   "cell_type": "code",
   "execution_count": null,
   "id": "ec4d0189",
   "metadata": {},
   "outputs": [],
   "source": [
    "# Create Knowledge Base Agent following the official amazon-bedrock-agentcore-samples pattern\n",
    "print(\"Creating Knowledge Base agent with correct AgentCore pattern...\")\n",
    "\n",
    "kb_agent_code = f'''import os\n",
    "os.environ[\"BYPASS_TOOL_CONSENT\"] = \"true\"\n",
    "os.environ[\"KNOWLEDGE_BASE_ID\"] = \"{kb_id}\"\n",
    "os.environ[\"DEFAULT_KNOWLEDGE_BASE_ID\"] = \"{kb_id}\"\n",
    "os.environ[\"AWS_REGION\"] = \"{region}\"\n",
    "\n",
    "from strands import Agent\n",
    "from strands_tools import retrieve\n",
    "from strands.models import BedrockModel\n",
    "\n",
    "agent = Agent(\n",
    "    model=BedrockModel(model_id=\"us.anthropic.claude-3-5-sonnet-20241022-v2:0\"),\n",
    "    tools=[retrieve],\n",
    "    system_prompt=\"\"\"You are connected to knowledge base {kb_id} in {region}. \n",
    "    Search the knowledge base for information to answer users questions.\n",
    "    Be specific about what you find.\"\"\"\n",
    ")\n",
    "\n",
    "from bedrock_agentcore.runtime import BedrockAgentCoreApp\n",
    "app = BedrockAgentCoreApp()\n",
    "\n",
    "@app.entrypoint\n",
    "def agent_invocation(payload, context):\n",
    "    \"\"\"Handler for agent invocation\"\"\"\n",
    "    user_message = payload.get(\"prompt\", \"Hello! How can I help you search the knowledge base?\")\n",
    "    result = agent(user_message)\n",
    "    print(\"context:\\\\n-------\\\\n\", context)\n",
    "    print(\"result:\\\\n*******\\\\n\", result)\n",
    "    return {{\"result\": result.message}}\n",
    "\n",
    "if __name__ == \"__main__\":\n",
    "    app.run()'''\n",
    "\n",
    "# Write the KB agent file\n",
    "with open('kb_agent.py', 'w') as f:\n",
    "    f.write(kb_agent_code)\n",
    "\n",
    "print(\"kb_agent.py created successfully using official AgentCore samples pattern!\")\n",
    "print(f\"Knowledge Base ID configured: {kb_id}\")\n",
    "\n",
    "# Deploy the Knowledge Base agent\n",
    "print(\"Deploying Knowledge Base agent to AgentCore...\")\n",
    "kb_runtime = deploy_agent_to_agentcore(\n",
    "    agent_file=\"kb_agent.py\",\n",
    "    agent_name=\"kb_agent\"\n",
    ")"
   ]
  },
  {
   "cell_type": "markdown",
   "id": "6140f0ad",
   "metadata": {},
   "source": [
    "Test Deployed Knowledge Base Agent"
   ]
  },
  {
   "cell_type": "code",
   "execution_count": null,
   "id": "3181050e",
   "metadata": {},
   "outputs": [],
   "source": [
    "invoke_response = kb_runtime.invoke({\"prompt\": f\"\"\"\n",
    "What is AgentCore?\n",
    "\"\"\"})\n",
    "invoke_response"
   ]
  },
  {
   "cell_type": "markdown",
   "id": "c243c160",
   "metadata": {},
   "source": [
    "# Create an Orchestrator Agent to leverage deployed Agents"
   ]
  },
  {
   "cell_type": "markdown",
   "id": "55160225",
   "metadata": {},
   "source": [
    "Create Local Orchestrator Agent"
   ]
  },
  {
   "cell_type": "code",
   "execution_count": null,
   "id": "7dd0daab",
   "metadata": {},
   "outputs": [],
   "source": [
    "# Get agent ARNs from deployed agents\n",
    "kb_agent_arn = kb_runtime.status().config.agent_arn\n",
    "web_agent_arn = web_runtime.status().config.agent_arn\n",
    "\n",
    "print(f\"KB Agent ARN: {kb_agent_arn}\")\n",
    "print(f\"Web Agent ARN: {web_agent_arn}\")\n",
    "\n",
    "# Create AgentCore client\n",
    "agentcore_client = boto3.client('bedrock-agentcore', region_name=region)\n",
    "\n",
    "def invoke_agentcore_agent(agent_arn: str, query: str, agent_type: str = \"agent\") -> str:\n",
    "    \"\"\"Helper function to invoke AgentCore agents with consistent error handling\"\"\"\n",
    "    try:\n",
    "        response = agentcore_client.invoke_agent_runtime(\n",
    "            agentRuntimeArn=agent_arn,\n",
    "            qualifier=\"DEFAULT\",\n",
    "            payload=json.dumps({\"prompt\": query}),\n",
    "            contentType=\"application/json\",\n",
    "            accept=\"application/json\"\n",
    "        )\n",
    "        \n",
    "        content = ''.join(chunk.decode('utf-8') for chunk in response.get(\"response\", []))\n",
    "        result = json.loads(content)\n",
    "        if isinstance(result, dict) and 'result' in result:\n",
    "            result_data = result['result']\n",
    "            \n",
    "            if isinstance(result_data, dict) and 'content' in result_data:\n",
    "                if isinstance(result_data['content'], list):\n",
    "                    # Extract text from content array\n",
    "                    text_parts = []\n",
    "                    for item in result_data['content']:\n",
    "                        if isinstance(item, dict) and 'text' in item:\n",
    "                            text_parts.append(item['text'])\n",
    "                    return ''.join(text_parts)\n",
    "                else:\n",
    "                    return str(result_data['content'])\n",
    "            else:\n",
    "                return str(result_data)\n",
    "        else:\n",
    "            return str(result)\n",
    "        \n",
    "    except Exception as e:\n",
    "        return f\"Error searching {agent_type}: {str(e)}\"\n",
    "\n",
    "@tool\n",
    "def search_knowledge_base(query: str) -> str:\n",
    "    \"\"\"Search the internal knowledge base for information about AgentCore, AWS services, and technical documentation.\n",
    "    \n",
    "    Args:\n",
    "        query: The search query for the knowledge base\n",
    "        \n",
    "    Returns:\n",
    "        str: Information retrieved from the knowledge base\n",
    "    \"\"\"\n",
    "    return invoke_agentcore_agent(kb_agent_arn, f\"{query}\", \"knowledge base\")\n",
    "\n",
    "@tool\n",
    "def search_web(query: str) -> str:\n",
    "    \"\"\"Search the web for current information, trends, and real-time data.\n",
    "    \n",
    "    Args:\n",
    "        query: The web search query\n",
    "        \n",
    "    Returns:\n",
    "        str: Information retrieved from web sources\n",
    "    \"\"\"\n",
    "    return invoke_agentcore_agent(web_agent_arn, f\"{query}\", \"web search\")\n",
    "\n",
    "# Create the research agent\n",
    "research_agent = Agent(\n",
    "    model=model,\n",
    "    tools=[search_knowledge_base, search_web],\n",
    "    system_prompt=\"\"\"You are an intelligent research agent that helps users find and correlate information from multiple sources.\n",
    "\n",
    "You have access to two specialized tools:\n",
    "1. search_knowledge_base: For internal documentation, AWS services info, and technical knowledge\n",
    "2. search_web: For current information, trends, and real-time data\n",
    "\n",
    "Research Strategy:\n",
    "- Always synthesize information from both sources using search_knowledge_base and search_web tools\n",
    "- Provide clear, well-structured responses with source attribution (URLs where available)\n",
    "- Always add citations to your answers\n",
    "\n",
    "Be thorough in your research and provide detailed, accurate answers.\"\"\"\n",
    ")\n",
    "\n",
    "print(\"\\nResearch Agent created successfully!\")\n",
    "print(\"Available tools: search_knowledge_base, search_web\")\n",
    "print(\"\\nExample usage:\")\n",
    "print(\"result = research_agent('What is AgentCore and how does it compare to current AI agent platforms?')\")\n",
    "print(\"print(result.message)\")"
   ]
  },
  {
   "cell_type": "markdown",
   "id": "df08ac57",
   "metadata": {},
   "source": [
    "Test Orchestrator Agent"
   ]
  },
  {
   "cell_type": "code",
   "execution_count": null,
   "id": "263e87a0",
   "metadata": {},
   "outputs": [],
   "source": [
    "research_agent('What is AgentCore and how does it compare to current AI agent platforms?')"
   ]
  }
 ],
 "metadata": {
  "kernelspec": {
   "display_name": "Python 3",
   "language": "python",
   "name": "python3"
  },
  "language_info": {
   "codemirror_mode": {
    "name": "ipython",
    "version": 3
   },
   "file_extension": ".py",
   "mimetype": "text/x-python",
   "name": "python",
   "nbconvert_exporter": "python",
   "pygments_lexer": "ipython3",
   "version": "3.11.8"
  }
 },
 "nbformat": 4,
 "nbformat_minor": 5
}

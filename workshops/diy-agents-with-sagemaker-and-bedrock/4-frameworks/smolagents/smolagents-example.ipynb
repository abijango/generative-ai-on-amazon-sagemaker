{
 "cells": [
  {
   "cell_type": "code",
   "execution_count": null,
   "id": "126945bd-7490-46c6-80c8-64481f37f0f8",
   "metadata": {
    "scrolled": true
   },
   "outputs": [],
   "source": [
    "%pip install smolagents \"smolagents[litellm]\" -qU\n",
    "%pip install ddgs"
   ]
  },
  {
   "cell_type": "markdown",
   "id": "a688cfe0-c98a-47e4-ba70-4646e079fa4e",
   "metadata": {},
   "source": [
    "# Building Autonomous Agents with smolagents\n",
    "\n",
    "[🤗 smolagents](https://huggingface.co/blog/smolagents) is a library by Hugging Face that enables you to run powerful agents in a few lines of code. It is based on the concept of CodeAct Agents ([arXiv:2402.01030](https://arxiv.org/abs/2402.01030)), i.e. agents that write their actions in code. In a multi-step agent, at each step, the LLM can write an action, in the form of some calls to external tools. A common format for writing these actions is generally different shades of \"writing actions as a JSON of tools names and arguments to use, which you then parse to know which tool to execute and with which arguments\". To make it secure, it supports executing in sandboxed environments. Multiple research papers have shown that having the tool calling LLMs in code is much better.\n",
    "\n",
    "In this example we will highlight how we can use a multi agent framework with tools to find the most downloaded model of a given task on the Hugging Face Hub. \n",
    "\n",
    "smolagents supports any LLM via LiteLLM integration. To use smolagents, we are going to leverage the LiteLLM implementation which allows us to use both Amazon Bedrock and Amazon SageMaker AI, according to our preferences:"
   ]
  },
  {
   "cell_type": "code",
   "execution_count": null,
   "id": "cad5a4ab-c598-4357-b267-8a6d64c2d00d",
   "metadata": {},
   "outputs": [],
   "source": [
    "from smolagents.models import LiteLLMModel\n",
    "\n",
    "# To use Amazon Bedrock:\n",
    "model = LiteLLMModel(model_id=f\"bedrock/us.amazon.nova-pro-v1:0\", max_tokens=5*1024)\n",
    "# To use Amazon SageMaker AI:\n",
    "# model = LiteLLMModel(model_id=f\"sagemaker_chat/YOUR-ENDPOINT-NAME-HERE\", max_tokens=5*1024)"
   ]
  },
  {
   "cell_type": "markdown",
   "id": "5dceafe2-8fdb-4fb5-ac74-83e679029b99",
   "metadata": {},
   "source": [
    "Agents with smolagents can be easily created via two classes, `CodeAgent` and `ToolCallingAgent`:\n",
    "\n",
    "- **CodeAgent** generates executable Python code snippets, enabling complex logic and variable handling for tasks requiring multi-step operations or data manipulation; \n",
    "- **ToolCallingAgent** employs standardized JSON structures to define tool calls, aligning with common LLM provider implementations for simpler, structured interactions. \n",
    "\n",
    "According to `smolagents` developers, CodeAgents typically achieve better performance on complex benchmarks due to their code-first flexibility, while ToolCallingAgents suit systems prioritizing interoperability with existing tool-calling protocols. Both agent types share the same multi-step workflow but differ fundamentally in action representation and execution security considerations."
   ]
  },
  {
   "cell_type": "code",
   "execution_count": null,
   "id": "0a0c7b09-318f-4ca5-82f6-804d1cba22b7",
   "metadata": {
    "scrolled": true
   },
   "outputs": [],
   "source": [
    "from smolagents import CodeAgent\n",
    "\n",
    "agent = CodeAgent(model=model, tools=[])\n",
    "agent.run(\"What is 123*456?\")"
   ]
  },
  {
   "cell_type": "markdown",
   "id": "5d2d3796-d4cf-4a21-9a72-1b499661c045",
   "metadata": {},
   "source": [
    "Let's extend functionalities of agents using tools. As you've learnt already in the foundations/tools section, tools are functions or query engines that the agent can use to perform specific tasks. One nice feature of smolagents is that it comes with tools pre-packaged (called **base tools**) which can be easily added with:"
   ]
  },
  {
   "cell_type": "code",
   "execution_count": null,
   "id": "09a7bff1-a3d2-498e-bd90-915222d57704",
   "metadata": {
    "scrolled": true
   },
   "outputs": [],
   "source": [
    "agent = CodeAgent(model=model, add_base_tools=True, tools=[])\n",
    "agent.run(\"Can you explain the origin of the 'Hello World' program?\")"
   ]
  },
  {
   "cell_type": "markdown",
   "id": "e81f7bb6-fee4-4ba0-8f4b-cd782daaddc7",
   "metadata": {},
   "source": [
    "The available base tools are listed in [smolagents doc](https://smolagents.org/docs/agents-guided-tour/#4-toc-title):\n",
    "\n",
    "- **DuckDuckGo web search**: performs a web search using DuckDuckGo browser.\n",
    "- **Python code interpreter**: runs your LLM generated Python code in a secure environment. This tool will only be added to ToolCallingAgent if you initialize it with add_base_tools=True, since code-based agent can already natively execute Python code\n",
    "- **Transcriber**: a speech-to-text pipeline built on Whisper-Turbo that transcribes an audio to text.\n",
    "\n",
    "To create custom tools, we use `@tool` decorator which turns a function into a tool. For example, let's write a function that retrieve the most downloaded model from the HuggingFace Hub:"
   ]
  },
  {
   "cell_type": "code",
   "execution_count": null,
   "id": "4f38b043-df4b-42d9-a23c-a302a8abc30e",
   "metadata": {
    "scrolled": true
   },
   "outputs": [],
   "source": [
    "from smolagents import tool\n",
    "from huggingface_hub import list_models\n",
    "\n",
    "@tool\n",
    "def get_top_hf_model_from_task(task: str) -> str:\n",
    "    \"\"\"\n",
    "    This is a tool that returns the most downloaded model of a given task on the Hugging Face Hub.\n",
    "    It returns the name of the checkpoint.\n",
    "\n",
    "    Args:\n",
    "        task: The task for which\n",
    "    \"\"\"\n",
    "    most_downloaded_model = next(\n",
    "        iter(list_models(filter=task, sort=\"downloads\", direction=-1))\n",
    "    )\n",
    "    return most_downloaded_model.id\n",
    "\n",
    "agent = CodeAgent(model=model, add_base_tools=True, tools=[get_top_hf_model_from_task])\n",
    "agent.run(\"Can you give me the name of the model that has the most downloads in the 'text-to-video' task on the Hugging Face Hub?\")"
   ]
  },
  {
   "cell_type": "markdown",
   "id": "5e07411f-01e6-466a-98ac-937fdb57e5cd",
   "metadata": {},
   "source": [
    "### Multi-Agents\n",
    "\n",
    "You can easily build hierarchical multi-agent systems with smolagents. Here’s an example of making an agent that manages a specific web search agent using `DuckDuckGoSearchTool`:"
   ]
  },
  {
   "cell_type": "code",
   "execution_count": null,
   "id": "6b99a0e0-b081-4118-8ebd-cdbf000e2d5f",
   "metadata": {},
   "outputs": [],
   "source": [
    "from smolagents import CodeAgent, DuckDuckGoSearchTool, ToolCallingAgent\n",
    "import litellm\n",
    "\n",
    "litellm.drop_params = True # Required to drop {\"tool_choice\": \"auto\"}, not supported by Bedrock/SageMaker\n",
    "\n",
    "web_agent = ToolCallingAgent(\n",
    "    name=\"web_search_agent\",\n",
    "    description=\"Runs web searches for you.\",\n",
    "    model=model, max_steps=3,\n",
    "    tools=[DuckDuckGoSearchTool(max_results=5)],\n",
    ")\n",
    "\n",
    "manager_agent = CodeAgent(\n",
    "    tools=[], model=model, managed_agents=[web_agent], max_steps=3\n",
    ")\n",
    "manager_agent.run(\"Who is the CEO of Amazon Web Services as of 2025?\")"
   ]
  },
  {
   "cell_type": "markdown",
   "id": "9a0cf2f7-2ab3-4346-b14b-1f24c824a63f",
   "metadata": {},
   "source": [
    "### Exercise: Build a multi-agent travel assistant\n",
    "\n",
    "Your task is to create a multi-agent travel assistant based on the notions you've learnt above. Here are the steps that you need to go through, to give you a starting point:\n",
    "\n",
    "1. Create one Supervisor agent, who is meant to act like a project manager for the team\n",
    "2. Create a Travel Researcher agent, whose task is to research and compile interesting activities and attractions for a given location\n",
    "3. Create a Travel Content Writer agent, whose task is to create engaging and informative content for the top 5 listicle\n",
    "4. Create a Content Editor agent, whose task is to ensure the listicle is well-structured, engaging, and error-free"
   ]
  },
  {
   "cell_type": "code",
   "execution_count": null,
   "id": "23f02850",
   "metadata": {},
   "outputs": [],
   "source": []
  }
 ],
 "metadata": {
  "kernelspec": {
   "display_name": ".venv",
   "language": "python",
   "name": "python3"
  },
  "language_info": {
   "codemirror_mode": {
    "name": "ipython",
    "version": 3
   },
   "file_extension": ".py",
   "mimetype": "text/x-python",
   "name": "python",
   "nbconvert_exporter": "python",
   "pygments_lexer": "ipython3",
   "version": "3.12.9"
  }
 },
 "nbformat": 4,
 "nbformat_minor": 5
}

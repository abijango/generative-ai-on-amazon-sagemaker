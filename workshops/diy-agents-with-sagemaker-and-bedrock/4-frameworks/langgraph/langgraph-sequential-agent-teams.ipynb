{
 "cells": [
  {
   "cell_type": "markdown",
   "id": "500772e9",
   "metadata": {},
   "source": [
    "# Building a Sequential Multi-Agent Travel Assistant with LangGraph\n",
    "\n",
    "## Table of Contents\n",
    "- [Introduction](#introduction)\n",
    "- [Prerequisites](#prerequisites)\n",
    "- [Setup](#setup)\n",
    "- [Create Your First Agent](#create-your-first-agent)\n",
    "- [Add More Agents](#add-more-agents)\n",
    "- [Enhance Agent Capabilities Using Tools](#enhance-agent-capabilities-using-tools)\n",
    "\n",
    "## Introduction\n",
    "\n",
    "**LangGraph** is an extension of LangChain that provides a framework for building stateful, multi-agent applications. This notebook demonstrates how to create a travel assistant using multi-agent collaboration with LangGraph. Specifically, you will use this assistant to generate articles on the top activities and attractions for a specific location.\n",
    "\n",
    "**Estimated completion time:** 30-45 minutes\n",
    "\n",
    "### Objectives\n",
    "\n",
    "By the end of this notebook, you will:\n",
    "1. Understand how to create and connect multiple agents in a sequential workflow\n",
    "2. Learn how to define agent roles and responsibilities\n",
    "3. Implement a multi-agent system that can research, write, and edit travel content\n",
    "4. Enhance agent capabilities by integrating external tools\n",
    "\n",
    "### Structure of the Travel Assistant\n",
    "\n",
    "This notebook provides step-by-step guidance for creating a travel assistant consisting of the following agents:\n",
    "\n",
    "```mermaid\n",
    "graph LR\n",
    "    User[User Query] --> A[Researcher Agent]\n",
    "    A --> B[Content Writer Agent]\n",
    "    B --> C[Editor Agent]\n",
    "    C --> D[Final Article]\n",
    "    \n",
    "    style A fill:#f9d5e5,stroke:#333,stroke-width:2px\n",
    "    style B fill:#eeac99,stroke:#333,stroke-width:2px\n",
    "    style C fill:#e06377,stroke:#333,stroke-width:2px\n",
    "    style D fill:#c83349,stroke:#333,stroke-width:2px\n",
    "```\n",
    "\n",
    "1. **Researcher Agent** - Responsible for gathering information on the top 5 attractions and activities in a specific location\n",
    "2. **Content Writer Agent** - Responsible for writing an engaging article based on the information of the top 5 attractions\n",
    "3. **Editor Agent** - Responsible for improving the flow and language use within the article\n",
    "\n",
    "## Prerequisites\n",
    "\n",
    "Before starting this notebook, ensure you have:\n",
    "- Basic understanding of Python and Jupyter notebooks\n",
    "- AWS account with access to Amazon Bedrock and SageMaker\n",
    "- Tavily API key (for web search functionality)\n",
    "- Familiarity with LangChain concepts (optional but helpful)\n",
    "\n",
    "---"
   ]
  },
  {
   "cell_type": "markdown",
   "id": "65490430",
   "metadata": {},
   "source": [
    "## Setup\n",
    "\n",
    "Start by installing some of the required packages, including LangChain for pre-built tool components, LangGraph for agent workflows, and other necessary libraries."
   ]
  },
  {
   "cell_type": "code",
   "execution_count": null,
   "id": "f9236dbf",
   "metadata": {},
   "outputs": [],
   "source": [
    "%pip install -r langgraph-requirements.txt -qU"
   ]
  },
  {
   "cell_type": "markdown",
   "id": "df89be19",
   "metadata": {},
   "source": [
    "<div class=\"alert alert-block alert-info\">\n",
    "<b>Important:</b> restart the kernel before proceeding with the next cells.\n",
    "</div>"
   ]
  },
  {
   "cell_type": "code",
   "execution_count": 1,
   "id": "12f45d13",
   "metadata": {},
   "outputs": [],
   "source": [
    "from langchain_aws import ChatBedrock, SagemakerEndpoint\n",
    "from langchain_core.messages import BaseMessage, HumanMessage\n",
    "from langgraph.prebuilt import create_react_agent\n",
    "from langgraph.graph import MessagesState, END\n",
    "from langgraph.types import Command\n",
    "import boto3\n",
    "import os\n",
    "import getpass\n",
    "import json\n",
    "from textwrap import dedent\n",
    "from typing import Literal"
   ]
  },
  {
   "cell_type": "markdown",
   "id": "17966997",
   "metadata": {},
   "source": [
    "Now import all of the packages you will need for this lab. This includes the packages described above, as well as textwrap for keeping the prompts readable within the notebook, and typing for type annotations."
   ]
  },
  {
   "cell_type": "markdown",
   "id": "a180f625",
   "metadata": {},
   "source": [
    "Follow the instructions in [this lab](https://catalog.workshops.aws/building-agentic-workflows/en-US/sagemaker) to create a SageMaker real-time endpoint hosting the [DeepSeek R1 Distill-Llama 8B](https://huggingface.co/deepseek-ai/DeepSeek-R1) model. Although you will use this specific model for this lab, LangGraph also supports other models hosted through [Amazon SageMaker](https://docs.crewai.com/concepts/llms#amazon-sagemaker) or [Amazon Bedrock](https://docs.crewai.com/concepts/llms#aws-bedrock). While the SageMaker endpoint is being created, you can copy the name of the endpoint and replace the text `INSERT ENDPOINT NAME` in the code below with the endpoint name.\n",
    "\n",
    "When setting up an LLM model, you can also set model parameters. In this case, we set `temperature` to 0.7 to balance creativity with accuracy. A higher temperature (closer to 1.0) would produce more creative but potentially less accurate responses, while a lower temperature (closer to 0) would produce more deterministic responses."
   ]
  },
  {
   "cell_type": "code",
   "execution_count": 2,
   "id": "b8680113",
   "metadata": {},
   "outputs": [],
   "source": [
    "model = ChatBedrock(\n",
    "    model=\"us.amazon.nova-pro-v1:0\",\n",
    "    temperature=0.7,\n",
    "    region=\"us-west-2\"\n",
    ")"
   ]
  },
  {
   "cell_type": "markdown",
   "id": "20fd46ef",
   "metadata": {},
   "source": [
    "If you want to use Amazon SageMaker AI endpoints, you can uncomment the following section:"
   ]
  },
  {
   "cell_type": "code",
   "execution_count": 3,
   "id": "eb9d0674",
   "metadata": {},
   "outputs": [],
   "source": [
    "from langchain_aws.llms.sagemaker_endpoint import LLMContentHandler\n",
    "from typing import Dict\n",
    "\n",
    "class ContentHandler(LLMContentHandler):\n",
    "    content_type = \"application/json\"\n",
    "    accepts = \"application/json\"\n",
    "\n",
    "    def transform_input(self, prompt: str, model_kwargs: Dict) -> bytes:\n",
    "        input_str = json.dumps({\"inputs\": prompt, \"parameters\": model_kwargs})\n",
    "        return input_str.encode(\"utf-8\")\n",
    "\n",
    "    def transform_output(self, output: bytes) -> str:\n",
    "        response_json = json.loads(output.read().decode(\"utf-8\"))\n",
    "        return response_json[0][\"generated_text\"]\n",
    "\n",
    "\n",
    "# model = SagemakerEndpoint(\n",
    "#     endpoint_name=\"INSERT-ENDPOINT-NAME\",\n",
    "#     inference_component_name=\"INSERT-INFERENCE-COMPONENT-NAME\",\n",
    "#     region_name=\"us-west-2\",\n",
    "#     credentials_profile_name=\"default\",\n",
    "#     content_handler=ContentHandler()\n",
    "# )"
   ]
  },
  {
   "cell_type": "markdown",
   "id": "327db2f3",
   "metadata": {},
   "source": [
    "-----\n",
    "\n",
    "## Create Your First Agent\n",
    "\n",
    "Let's start by creating the first agent - the researcher agent. This agent will be responsible for gathering information on the top 5 attractions and activities for a specific location. \n",
    "\n",
    "> **Note:** We'll start simple by creating an agent which relies on the LLM's internal knowledge of various locations around the world. At a later stage, this agent can be extended by providing access to a web search tool.\n",
    "\n",
    "### Understanding Agent Creation in LangGraph\n",
    "\n",
    "In LangGraph, agents are created using the `create_react_agent` function, which implements the ReAct (Reasoning and Acting) pattern. This pattern allows the agent to reason about its actions and then execute them in an iterative process."
   ]
  },
  {
   "cell_type": "code",
   "execution_count": 4,
   "id": "b19e1355",
   "metadata": {},
   "outputs": [],
   "source": [
    "# Define the Agent\n",
    "research_agent = create_react_agent(\n",
    "    model=model,\n",
    "    tools=[],\n",
    "    prompt=dedent(\n",
    "            \"\"\"You are an experienced travel researcher with a knack for \n",
    "            discovering both popular attractions and hidden gems in any \n",
    "            location. Your expertise lies in gathering comprehensive \n",
    "            information about various activities, their historical \n",
    "            significance, and practical details for visitors. Research and \n",
    "            compile a list of at least 5 interesting activities and \n",
    "            attractions in the requested location. Include a mix of popular tourist \n",
    "            spots and lesser-known local favorites. For each item, provide:\n",
    "            1. Name of the attraction/activity\n",
    "            2. Brief description (2-3 sentences)\n",
    "            3. Why it's worth visiting\n",
    "            Your final answer should be a structured list of these items.\n",
    "            \"\"\"\n",
    "    ),\n",
    ")"
   ]
  },
  {
   "cell_type": "markdown",
   "id": "1de41db9",
   "metadata": {},
   "source": [
    "### Creating a Node in the Workflow\n",
    "\n",
    "Next, you will create a task. A task is defined in a **Node** object. In LangGraph, a Node represents a processing step in your workflow. Each node takes the current state as input, performs some operation, and returns a Command object that specifies how to update the state and where to go next in the workflow."
   ]
  },
  {
   "cell_type": "code",
   "execution_count": 5,
   "id": "0a44d9dc",
   "metadata": {},
   "outputs": [],
   "source": [
    "# Define the Node (task)\n",
    "def research_node(state: MessagesState):\n",
    "    result = research_agent.invoke(state)\n",
    "    return Command(\n",
    "        update={\n",
    "            # share internal message history of research agent with other agents\n",
    "            \"messages\": result[\"messages\"],\n",
    "        },\n",
    "        goto=\"content_writer\",\n",
    "    )"
   ]
  },
  {
   "cell_type": "markdown",
   "id": "bb8ecc75",
   "metadata": {},
   "source": [
    "### Creating Your First Graph\n",
    "\n",
    "Now you can create your first graph. In LangGraph, a **StateGraph** represents the entire workflow, with nodes connected by edges that define the flow of execution."
   ]
  },
  {
   "cell_type": "code",
   "execution_count": 6,
   "id": "b5ce1c41",
   "metadata": {},
   "outputs": [],
   "source": [
    "from langgraph.graph import StateGraph, START, END\n",
    "\n",
    "workflow = StateGraph(MessagesState)\n",
    "workflow.add_node(\"researcher\", research_node)\n",
    "\n",
    "workflow.add_edge(START, \"researcher\")\n",
    "# workflow.add_edge(\"researcher\", END)\n",
    "graph = workflow.compile()"
   ]
  },
  {
   "cell_type": "markdown",
   "id": "649b08b7",
   "metadata": {},
   "source": [
    "### Testing Your First Agent\n",
    "\n",
    "Now you can test your first agent! Since the current version of the researcher agent relies on the LLM's internal knowledge, choose a well-known location such as Amsterdam. The model has likely learned about Amsterdam in its training data.\n",
    "\n",
    "**Expected Output:**\n",
    "You should see the agent's thought process and a structured list of 5 attractions in Amsterdam, including names, descriptions, and reasons to visit each one."
   ]
  },
  {
   "cell_type": "code",
   "execution_count": 7,
   "id": "a1b200fa",
   "metadata": {
    "lines_to_next_cell": 2
   },
   "outputs": [
    {
     "name": "stdout",
     "output_type": "stream",
     "text": [
      "{'researcher': {'messages': [HumanMessage(content='Write a listicle for Amsterdam, Netherlands.', additional_kwargs={}, response_metadata={}, id='6ed29c42-5b09-4321-8d4c-d0a01d15d3e7'), AIMessage(content=\"### 5 Must-Visit Attractions and Activities in Amsterdam, Netherlands\\n\\n#### 1. **Anne Frank House**\\n   - **Brief Description:** The Anne Frank House is a museum dedicated to Jewish diarist Anne Frank, who hid from the Nazis in a secret annex during World War II.\\n   - **Why It's Worth Visiting:** It offers a poignant and deeply moving experience, providing invaluable insights into the horrors of the Holocaust and the resilience of the human spirit.\\n\\n#### 2. **Rijksmuseum**\\n   - **Brief Description:** The Rijksmuseum is one of the world's most prestigious art museums, housing an extensive collection of Dutch Golden Age paintings, including works by Rembrandt and Vermeer.\\n   - **Why It's Worth Visiting:** It's a treasure trove of art and history, offering a comprehensive look at the Netherlands' rich cultural heritage.\\n\\n#### 3. **Vondelpark**\\n   - **Brief Description:** Vondelpark is Amsterdam's largest and most famous urban park, featuring rolling lawns, ponds, and a picturesque rose garden.\\n   - **Why It's Worth Visiting:** It's a perfect spot for relaxation, picnics, and outdoor activities, providing a serene escape from the city's bustling streets.\\n\\n#### 4. **Heineken Experience**\\n   - **Brief Description:** Located in the former Heineken brewery, this interactive museum offers a behind-the-scenes look at the history and production of Heineken beer.\\n   - **Why It's Worth Visiting:** It's fun, educational, and of course, ends with a complimentary beer tasting—a must for beer enthusiasts.\\n\\n#### 5. **NEMO Science Museum**\\n   - **Brief Description:** NEMO is an award-winning science museum designed by architect Renzo Piano, featuring hands-on exhibits that make science fun and accessible for all ages.\\n   - **Why It's Worth Visiting:** Its unique, green ship-like design and engaging exhibits make it a hit with both children and adults, fostering a love for science and discovery.\", additional_kwargs={}, response_metadata={'ResponseMetadata': {'RequestId': '174f82c9-ca17-4541-9079-4a5f02fc2e38', 'HTTPStatusCode': 200, 'HTTPHeaders': {'date': 'Thu, 24 Apr 2025 18:29:05 GMT', 'content-type': 'application/json', 'content-length': '2114', 'connection': 'keep-alive', 'x-amzn-requestid': '174f82c9-ca17-4541-9079-4a5f02fc2e38'}, 'RetryAttempts': 0}, 'stopReason': 'end_turn', 'metrics': {'latencyMs': [5224]}, 'model_name': 'us.amazon.nova-pro-v1:0'}, id='run-ffb20fe2-afbf-4c8d-96a8-17abcc41c783-0', usage_metadata={'input_tokens': 148, 'output_tokens': 422, 'total_tokens': 570, 'input_token_details': {'cache_creation': 0, 'cache_read': 0}})]}}\n",
      "----\n"
     ]
    }
   ],
   "source": [
    "events = graph.stream(\n",
    "    {\n",
    "        \"messages\": [\n",
    "            (\n",
    "                \"user\",\n",
    "                \"Write a listicle for Amsterdam, Netherlands.\"\n",
    "            )\n",
    "        ],\n",
    "    },\n",
    "    # Maximum number of steps to take in the graph\n",
    "    {\"recursion_limit\": 150},\n",
    ")\n",
    "for s in events:\n",
    "    print(s)\n",
    "    print(\"----\")"
   ]
  },
  {
   "cell_type": "markdown",
   "id": "0551f277",
   "metadata": {},
   "source": [
    "----\n",
    "\n",
    "## Add More Agents\n",
    "\n",
    "A team of one agent is not very interesting, so let's add a second agent to the crew. Using the same techniques as above, we'll create a second agent which specializes in writing informative top 5 travel listicles (a type of article which contains a list).\n",
    "\n",
    "### Content Writer Agent"
   ]
  },
  {
   "cell_type": "code",
   "execution_count": 8,
   "id": "5898a396",
   "metadata": {},
   "outputs": [],
   "source": [
    "content_writer_agent = create_react_agent(\n",
    "    model,\n",
    "    tools=[],\n",
    "    prompt=dedent(\n",
    "            \"\"\"You are a skilled travel writer with a flair for creating \n",
    "            captivating content. Your writing style is engaging, \n",
    "            informative, and tailored to inspire readers to explore new \n",
    "            destinations. You excel at crafting concise yet compelling \n",
    "            descriptions of attractions and activities. Create an engaging \n",
    "            top 5 listicle article about things to do in the requested location. \n",
    "            Use the research provided to:\n",
    "            1. Write a catchy title and introduction (100-150 words)\n",
    "            2. Select and write about the top 5 activities/attractions\n",
    "            3. For each item, write 2-3 paragraphs (100-150 words total)\n",
    "            4. Include a brief conclusion (50-75 words) \n",
    "            Ensure the content is engaging, informative, and inspiring. \n",
    "            Your final answer should be the complete listicle article.\n",
    "            \"\"\"\n",
    "    ),\n",
    ")\n",
    "\n",
    "def writer_node(state: MessagesState) -> Command[Literal[\"content_editor\"]]:\n",
    "    result = content_writer_agent.invoke(state)\n",
    "    return Command(update={\"messages\": result[\"messages\"]}, goto=\"content_editor\")"
   ]
  },
  {
   "cell_type": "markdown",
   "id": "6b980fd3",
   "metadata": {},
   "source": [
    "### Editor Agent\n",
    "\n",
    "Professional media companies employ editors to improve the quality of articles. By taking a second look at a good article, we can make it great. So let's create a third agent which specializes in editing existing articles to improve the flow of the story and improve readability."
   ]
  },
  {
   "cell_type": "code",
   "execution_count": 9,
   "id": "18a96d77",
   "metadata": {},
   "outputs": [],
   "source": [
    "from langgraph.graph import END\n",
    "\n",
    "content_editor_agent = create_react_agent(\n",
    "    model,\n",
    "    tools=[],\n",
    "    prompt=dedent(\n",
    "            \"\"\"You are a meticulous editor with years of experience in \n",
    "            travel content. Your keen eye for detail helps polish articles \n",
    "            to perfection. You focus on improving flow, maintaining \n",
    "            consistency, and enhancing the overall readability of the \n",
    "            content while ensuring it appeals to the target audience. \n",
    "            Review and edit the top 5 listicle article about things to \n",
    "            do in the requested location. Focus on: \n",
    "            1. Improving the overall structure and flow \n",
    "            2. Enhancing the engagement factor of the content \n",
    "            3. Ensuring consistency in tone and style \n",
    "            4. Correcting any grammatical or spelling errors \n",
    "            Do not change the content itself. Only edit it for higher quality. \n",
    "            Your final answer should be the polished, publication-ready \n",
    "            version of the article.\n",
    "            \"\"\"\n",
    "    ),\n",
    ")\n",
    "\n",
    "def editor_node(\n",
    "    state: MessagesState,\n",
    ") -> Command[Literal[END]]:\n",
    "    result = content_editor_agent.invoke(state)\n",
    "    # wrap in a human message, as not all providers allow\n",
    "    # AI message at the last position of the input messages list\n",
    "    # result[\"messages\"][-1] = HumanMessage(\n",
    "    #     content=result[\"messages\"][-1].content, name=\"content_editor\"\n",
    "    # )\n",
    "    return Command(\n",
    "        update={\n",
    "            # share internal message history of research agent with other agents\n",
    "            \"messages\": result[\"messages\"],\n",
    "        },\n",
    "        goto=END,\n",
    "    )"
   ]
  },
  {
   "cell_type": "markdown",
   "id": "5b06b0d9",
   "metadata": {},
   "source": [
    "### Connecting the Agents in a Sequential Workflow\n",
    "\n",
    "After creating your second and third agent, you will need to add them both to your team. Tasks can be executed sequentially (i.e., always in the order which they are defined) or hierarchically (i.e., tasks are assigned based on agent roles). \n",
    "\n",
    "In this case, the process for writing a travel article is always the same, so we will use a sequential workflow where:\n",
    "1. The researcher gathers information\n",
    "2. The writer creates an article based on that information\n",
    "3. The editor polishes the final article"
   ]
  },
  {
   "cell_type": "code",
   "execution_count": 10,
   "id": "0931f7f4",
   "metadata": {},
   "outputs": [],
   "source": [
    "from langgraph.graph import StateGraph, START, END\n",
    "\n",
    "workflow = StateGraph(MessagesState)\n",
    "workflow.add_node(\"researcher\", research_node)\n",
    "workflow.add_node(\"content_writer\", content_writer_agent)\n",
    "workflow.add_node(\"content_editor\", content_editor_agent)\n",
    "\n",
    "workflow.add_edge(START, \"researcher\")\n",
    "workflow.add_edge(\"researcher\", \"content_writer\")\n",
    "workflow.add_edge(\"content_writer\", \"content_editor\")\n",
    "workflow.add_edge(\"content_editor\", END)\n",
    "graph = workflow.compile()"
   ]
  },
  {
   "cell_type": "markdown",
   "id": "36aa24d9",
   "metadata": {},
   "source": [
    "### Testing the Complete Workflow\n",
    "\n",
    "Next, test your crew again using the same location as before, such as Amsterdam. You should see the agents executing the tasks in order, resulting in an article about the top 5 attractions for your location.\n",
    "\n",
    "**Expected Output:**\n",
    "You should see the output from all three agents in sequence:\n",
    "1. The researcher's list of attractions\n",
    "2. The writer's draft article\n",
    "3. The editor's polished final article"
   ]
  },
  {
   "cell_type": "code",
   "execution_count": 11,
   "id": "238e2fe3",
   "metadata": {
    "lines_to_next_cell": 2
   },
   "outputs": [
    {
     "name": "stdout",
     "output_type": "stream",
     "text": [
      "{'researcher': {'messages': [HumanMessage(content='Write a listicle for Amsterdam, Netherlands.', additional_kwargs={}, response_metadata={}, id='70156187-d42c-44be-8c1d-d16c0fb8a27b'), AIMessage(content=\"Certainly! Here's a curated list of activities and attractions in Amsterdam that blend popular tourist spots with lesser-known local favorites:\\n\\n### 1. Anne Frank House\\n**Brief Description:** A museum dedicated to Jewish diarist Anne Frank, housed in the secret annex where she wrote her diary while hiding from the Nazis during World War II.\\n**Why It's Worth Visiting:** It offers a poignant and deeply moving experience, providing insight into one of the darkest periods of history and the resilience of the human spirit.\\n\\n### 2. Vondelpark\\n**Brief Description:** Amsterdam's most famous park, spanning 47 hectares and featuring ponds, playgrounds, and open-air theatres.\\n**Why It's Worth Visiting:** It's a perfect spot for relaxation, picnics, and outdoor concerts. The park is a green oasis in the heart of the city, offering a tranquil escape from urban life.\\n\\n### 3. Rijksmuseum\\n**Brief Description:** A national museum dedicated to arts and history, housing a vast collection of Dutch Golden Age paintings, including works by Rembrandt and Vermeer.\\n**Why It's Worth Visiting:** It's a treasure trove of art and history, offering a comprehensive look at the cultural heritage of the Netherlands.\\n\\n### 4. NDSM Wharf\\n**Brief Description:** A former industrial shipyard transformed into a creative hub with art installations, workshops, and unique eateries.\\n**Why It's Worth Visiting:** It's a hidden gem that offers a gritty, artistic atmosphere away from the typical tourist crowds. The area is constantly evolving, making each visit a new experience.\\n\\n### 5. Het Twiske\\n**Brief Description:** A nature reserve located just outside Amsterdam in the Waterland region, offering hiking trails, cycling paths, and a chance to spot wildlife.\\n**Why It's Worth Visiting:** It provides a serene escape into nature, perfect for those looking to experience the Dutch countryside without traveling far from the city.\\n\\n### 6. De Pijp Market\\n**Brief Description:** A vibrant weekend market in the De Pijp neighborhood, featuring fresh produce, flowers, and a variety of international foods.\\n**Why It's Worth Visiting:** It's a local favorite that offers a taste of Amsterdam's multicultural community and a chance to sample delicious street food.\\n\\n### 7. EYE Film Museum\\n**Brief Description:** A modern museum dedicated to film and moving images, located on the northern bank of the IJ river.\\n**Why It's Worth Visiting:** Its unique architecture and stunning views of the Amsterdam skyline make it a must-visit. The museum offers a deep dive into the world of cinema, with regular screenings and exhibitions.\\n\\n### 8. Albert Cuyp Market\\n**Brief Description:** One of the oldest and largest markets in Amsterdam, offering a wide array of fresh produce, clothing, and local delicacies.\\n**Why It's Worth Visiting:** It's a bustling hub of activity that provides an authentic Amsterdam experience, allowing visitors to immerse themselves in local life.\\n\\n### 9. Hortus Botanicus Amsterdam\\n**Brief Description:** The oldest botanical garden in the Netherlands, dating back to 1638, featuring a diverse collection of plants from around the world.\\n**Why It's Worth Visiting:** It's a peaceful retreat in the city center, offering a chance to explore the beauty of nature and learn about the history of botany.\\n\\n### 10. De Kas\\n**Brief Description:** An urban greenhouse located in Amsterdam Noord, offering a unique dining experience with meals made from ingredients grown on-site.\\n**Why It's Worth Visiting:** It's an innovative fusion of agriculture and gastronomy, providing a sustainable and delicious dining experience with a view of the city skyline.\", additional_kwargs={}, response_metadata={'ResponseMetadata': {'RequestId': 'fa63411a-0a2a-49eb-8c9f-56f13ad6b590', 'HTTPStatusCode': 200, 'HTTPHeaders': {'date': 'Thu, 24 Apr 2025 18:29:16 GMT', 'content-type': 'application/json', 'content-length': '3865', 'connection': 'keep-alive', 'x-amzn-requestid': 'fa63411a-0a2a-49eb-8c9f-56f13ad6b590'}, 'RetryAttempts': 0}, 'stopReason': 'end_turn', 'metrics': {'latencyMs': [10288]}, 'model_name': 'us.amazon.nova-pro-v1:0'}, id='run-fe7573a0-69df-4b8a-8ffb-0de03b149647-0', usage_metadata={'input_tokens': 148, 'output_tokens': 761, 'total_tokens': 909, 'input_token_details': {'cache_creation': 0, 'cache_read': 0}})]}}\n",
      "----\n",
      "{'content_writer': {'messages': [HumanMessage(content='Write a listicle for Amsterdam, Netherlands.', additional_kwargs={}, response_metadata={}, id='70156187-d42c-44be-8c1d-d16c0fb8a27b'), AIMessage(content=\"Certainly! Here's a curated list of activities and attractions in Amsterdam that blend popular tourist spots with lesser-known local favorites:\\n\\n### 1. Anne Frank House\\n**Brief Description:** A museum dedicated to Jewish diarist Anne Frank, housed in the secret annex where she wrote her diary while hiding from the Nazis during World War II.\\n**Why It's Worth Visiting:** It offers a poignant and deeply moving experience, providing insight into one of the darkest periods of history and the resilience of the human spirit.\\n\\n### 2. Vondelpark\\n**Brief Description:** Amsterdam's most famous park, spanning 47 hectares and featuring ponds, playgrounds, and open-air theatres.\\n**Why It's Worth Visiting:** It's a perfect spot for relaxation, picnics, and outdoor concerts. The park is a green oasis in the heart of the city, offering a tranquil escape from urban life.\\n\\n### 3. Rijksmuseum\\n**Brief Description:** A national museum dedicated to arts and history, housing a vast collection of Dutch Golden Age paintings, including works by Rembrandt and Vermeer.\\n**Why It's Worth Visiting:** It's a treasure trove of art and history, offering a comprehensive look at the cultural heritage of the Netherlands.\\n\\n### 4. NDSM Wharf\\n**Brief Description:** A former industrial shipyard transformed into a creative hub with art installations, workshops, and unique eateries.\\n**Why It's Worth Visiting:** It's a hidden gem that offers a gritty, artistic atmosphere away from the typical tourist crowds. The area is constantly evolving, making each visit a new experience.\\n\\n### 5. Het Twiske\\n**Brief Description:** A nature reserve located just outside Amsterdam in the Waterland region, offering hiking trails, cycling paths, and a chance to spot wildlife.\\n**Why It's Worth Visiting:** It provides a serene escape into nature, perfect for those looking to experience the Dutch countryside without traveling far from the city.\\n\\n### 6. De Pijp Market\\n**Brief Description:** A vibrant weekend market in the De Pijp neighborhood, featuring fresh produce, flowers, and a variety of international foods.\\n**Why It's Worth Visiting:** It's a local favorite that offers a taste of Amsterdam's multicultural community and a chance to sample delicious street food.\\n\\n### 7. EYE Film Museum\\n**Brief Description:** A modern museum dedicated to film and moving images, located on the northern bank of the IJ river.\\n**Why It's Worth Visiting:** Its unique architecture and stunning views of the Amsterdam skyline make it a must-visit. The museum offers a deep dive into the world of cinema, with regular screenings and exhibitions.\\n\\n### 8. Albert Cuyp Market\\n**Brief Description:** One of the oldest and largest markets in Amsterdam, offering a wide array of fresh produce, clothing, and local delicacies.\\n**Why It's Worth Visiting:** It's a bustling hub of activity that provides an authentic Amsterdam experience, allowing visitors to immerse themselves in local life.\\n\\n### 9. Hortus Botanicus Amsterdam\\n**Brief Description:** The oldest botanical garden in the Netherlands, dating back to 1638, featuring a diverse collection of plants from around the world.\\n**Why It's Worth Visiting:** It's a peaceful retreat in the city center, offering a chance to explore the beauty of nature and learn about the history of botany.\\n\\n### 10. De Kas\\n**Brief Description:** An urban greenhouse located in Amsterdam Noord, offering a unique dining experience with meals made from ingredients grown on-site.\\n**Why It's Worth Visiting:** It's an innovative fusion of agriculture and gastronomy, providing a sustainable and delicious dining experience with a view of the city skyline.\", additional_kwargs={}, response_metadata={'ResponseMetadata': {'RequestId': 'fa63411a-0a2a-49eb-8c9f-56f13ad6b590', 'HTTPStatusCode': 200, 'HTTPHeaders': {'date': 'Thu, 24 Apr 2025 18:29:16 GMT', 'content-type': 'application/json', 'content-length': '3865', 'connection': 'keep-alive', 'x-amzn-requestid': 'fa63411a-0a2a-49eb-8c9f-56f13ad6b590'}, 'RetryAttempts': 0}, 'stopReason': 'end_turn', 'metrics': {'latencyMs': [10288]}, 'model_name': 'us.amazon.nova-pro-v1:0'}, id='run-fe7573a0-69df-4b8a-8ffb-0de03b149647-0', usage_metadata={'input_tokens': 148, 'output_tokens': 761, 'total_tokens': 909, 'input_token_details': {'cache_creation': 0, 'cache_read': 0}}), AIMessage(content='', additional_kwargs={}, response_metadata={'ResponseMetadata': {'RequestId': '7c99ebf1-c7a5-4bc7-afeb-d20a3f9da79a', 'HTTPStatusCode': 200, 'HTTPHeaders': {'date': 'Thu, 24 Apr 2025 18:29:17 GMT', 'content-type': 'application/json', 'content-length': '182', 'connection': 'keep-alive', 'x-amzn-requestid': '7c99ebf1-c7a5-4bc7-afeb-d20a3f9da79a'}, 'RetryAttempts': 0}, 'stopReason': 'end_turn', 'metrics': {'latencyMs': [293]}, 'model_name': 'us.amazon.nova-pro-v1:0'}, id='run-1e56af28-4b25-4220-ba48-60cea6296e44-0', usage_metadata={'input_tokens': 951, 'output_tokens': 0, 'total_tokens': 951, 'input_token_details': {'cache_creation': 0, 'cache_read': 0}})]}}\n",
      "----\n",
      "{'content_editor': {'messages': [HumanMessage(content='Write a listicle for Amsterdam, Netherlands.', additional_kwargs={}, response_metadata={}, id='70156187-d42c-44be-8c1d-d16c0fb8a27b'), AIMessage(content=\"Certainly! Here's a curated list of activities and attractions in Amsterdam that blend popular tourist spots with lesser-known local favorites:\\n\\n### 1. Anne Frank House\\n**Brief Description:** A museum dedicated to Jewish diarist Anne Frank, housed in the secret annex where she wrote her diary while hiding from the Nazis during World War II.\\n**Why It's Worth Visiting:** It offers a poignant and deeply moving experience, providing insight into one of the darkest periods of history and the resilience of the human spirit.\\n\\n### 2. Vondelpark\\n**Brief Description:** Amsterdam's most famous park, spanning 47 hectares and featuring ponds, playgrounds, and open-air theatres.\\n**Why It's Worth Visiting:** It's a perfect spot for relaxation, picnics, and outdoor concerts. The park is a green oasis in the heart of the city, offering a tranquil escape from urban life.\\n\\n### 3. Rijksmuseum\\n**Brief Description:** A national museum dedicated to arts and history, housing a vast collection of Dutch Golden Age paintings, including works by Rembrandt and Vermeer.\\n**Why It's Worth Visiting:** It's a treasure trove of art and history, offering a comprehensive look at the cultural heritage of the Netherlands.\\n\\n### 4. NDSM Wharf\\n**Brief Description:** A former industrial shipyard transformed into a creative hub with art installations, workshops, and unique eateries.\\n**Why It's Worth Visiting:** It's a hidden gem that offers a gritty, artistic atmosphere away from the typical tourist crowds. The area is constantly evolving, making each visit a new experience.\\n\\n### 5. Het Twiske\\n**Brief Description:** A nature reserve located just outside Amsterdam in the Waterland region, offering hiking trails, cycling paths, and a chance to spot wildlife.\\n**Why It's Worth Visiting:** It provides a serene escape into nature, perfect for those looking to experience the Dutch countryside without traveling far from the city.\\n\\n### 6. De Pijp Market\\n**Brief Description:** A vibrant weekend market in the De Pijp neighborhood, featuring fresh produce, flowers, and a variety of international foods.\\n**Why It's Worth Visiting:** It's a local favorite that offers a taste of Amsterdam's multicultural community and a chance to sample delicious street food.\\n\\n### 7. EYE Film Museum\\n**Brief Description:** A modern museum dedicated to film and moving images, located on the northern bank of the IJ river.\\n**Why It's Worth Visiting:** Its unique architecture and stunning views of the Amsterdam skyline make it a must-visit. The museum offers a deep dive into the world of cinema, with regular screenings and exhibitions.\\n\\n### 8. Albert Cuyp Market\\n**Brief Description:** One of the oldest and largest markets in Amsterdam, offering a wide array of fresh produce, clothing, and local delicacies.\\n**Why It's Worth Visiting:** It's a bustling hub of activity that provides an authentic Amsterdam experience, allowing visitors to immerse themselves in local life.\\n\\n### 9. Hortus Botanicus Amsterdam\\n**Brief Description:** The oldest botanical garden in the Netherlands, dating back to 1638, featuring a diverse collection of plants from around the world.\\n**Why It's Worth Visiting:** It's a peaceful retreat in the city center, offering a chance to explore the beauty of nature and learn about the history of botany.\\n\\n### 10. De Kas\\n**Brief Description:** An urban greenhouse located in Amsterdam Noord, offering a unique dining experience with meals made from ingredients grown on-site.\\n**Why It's Worth Visiting:** It's an innovative fusion of agriculture and gastronomy, providing a sustainable and delicious dining experience with a view of the city skyline.\", additional_kwargs={}, response_metadata={'ResponseMetadata': {'RequestId': 'fa63411a-0a2a-49eb-8c9f-56f13ad6b590', 'HTTPStatusCode': 200, 'HTTPHeaders': {'date': 'Thu, 24 Apr 2025 18:29:16 GMT', 'content-type': 'application/json', 'content-length': '3865', 'connection': 'keep-alive', 'x-amzn-requestid': 'fa63411a-0a2a-49eb-8c9f-56f13ad6b590'}, 'RetryAttempts': 0}, 'stopReason': 'end_turn', 'metrics': {'latencyMs': [10288]}, 'model_name': 'us.amazon.nova-pro-v1:0'}, id='run-fe7573a0-69df-4b8a-8ffb-0de03b149647-0', usage_metadata={'input_tokens': 148, 'output_tokens': 761, 'total_tokens': 909, 'input_token_details': {'cache_creation': 0, 'cache_read': 0}}), AIMessage(content='', additional_kwargs={}, response_metadata={'ResponseMetadata': {'RequestId': '7c99ebf1-c7a5-4bc7-afeb-d20a3f9da79a', 'HTTPStatusCode': 200, 'HTTPHeaders': {'date': 'Thu, 24 Apr 2025 18:29:17 GMT', 'content-type': 'application/json', 'content-length': '182', 'connection': 'keep-alive', 'x-amzn-requestid': '7c99ebf1-c7a5-4bc7-afeb-d20a3f9da79a'}, 'RetryAttempts': 0}, 'stopReason': 'end_turn', 'metrics': {'latencyMs': [293]}, 'model_name': 'us.amazon.nova-pro-v1:0'}, id='run-1e56af28-4b25-4220-ba48-60cea6296e44-0', usage_metadata={'input_tokens': 951, 'output_tokens': 0, 'total_tokens': 951, 'input_token_details': {'cache_creation': 0, 'cache_read': 0}}), AIMessage(content='', additional_kwargs={}, response_metadata={'ResponseMetadata': {'RequestId': '06577636-ac04-4259-9187-93fb8923981c', 'HTTPStatusCode': 200, 'HTTPHeaders': {'date': 'Thu, 24 Apr 2025 18:29:17 GMT', 'content-type': 'application/json', 'content-length': '182', 'connection': 'keep-alive', 'x-amzn-requestid': '06577636-ac04-4259-9187-93fb8923981c'}, 'RetryAttempts': 0}, 'stopReason': 'end_turn', 'metrics': {'latencyMs': [420]}, 'model_name': 'us.amazon.nova-pro-v1:0'}, id='run-a2361730-673c-4974-9abc-dc8f80a7a5c4-0', usage_metadata={'input_tokens': 932, 'output_tokens': 0, 'total_tokens': 932, 'input_token_details': {'cache_creation': 0, 'cache_read': 0}})]}}\n",
      "----\n"
     ]
    }
   ],
   "source": [
    "events = graph.stream(\n",
    "    {\n",
    "        \"messages\": [\n",
    "            (\"user\", \"Write a listicle for Amsterdam, Netherlands.\")\n",
    "        ],\n",
    "    },\n",
    "    # Maximum number of steps to take in the graph\n",
    "    {\"recursion_limit\": 150},\n",
    ")\n",
    "for s in events:\n",
    "    print(s)\n",
    "    print(\"----\")"
   ]
  },
  {
   "cell_type": "markdown",
   "id": "48c7d812",
   "metadata": {},
   "source": [
    "### Testing with a Less Well-Known Location\n",
    "\n",
    "What happens if you are looking for travel advice for a less well-known location? A model is unlikely to know much about a small village like Hoenderloo, Netherlands (population of ~1,500), even though it has a lot to offer. In this case, the model will likely give recommendations outside of the location itself, or it may even hallucinate attractions which don't exist.\n",
    "\n",
    "**Expected Output:**\n",
    "You may notice that the model struggles with this less-known location, potentially providing inaccurate or generic information. This highlights the limitations of relying solely on the model's internal knowledge."
   ]
  },
  {
   "cell_type": "code",
   "execution_count": null,
   "id": "260c4617",
   "metadata": {},
   "outputs": [],
   "source": [
    "events = graph.stream(\n",
    "    {\n",
    "        \"messages\": [\n",
    "            (\"user\", \"Write a listicle for Hoenderloo, Netherlands.\")\n",
    "        ],\n",
    "    },\n",
    "    # Maximum number of steps to take in the graph\n",
    "    {\"recursion_limit\": 150},\n",
    ")\n",
    "for s in events:\n",
    "    print(s)\n",
    "    print(\"----\")"
   ]
  },
  {
   "cell_type": "markdown",
   "id": "798b6ad0",
   "metadata": {},
   "source": [
    "----\n",
    "\n",
    "## Enhance Agent Capabilities Using Tools\n",
    "\n",
    "Let's extend the capabilities of the research agent by giving it access to a web search tool so it can search for relevant information about a less well-known location.\n",
    "\n",
    "### Setting Up the Search Tool\n",
    "\n",
    "There are many API search tools available. LangChain has built-in tools for various search providers. For this notebook, we'll use the DuckDuckGo Search tool."
   ]
  },
  {
   "cell_type": "code",
   "execution_count": 12,
   "id": "d51fc63b",
   "metadata": {},
   "outputs": [],
   "source": [
    "from langchain_community.tools import DuckDuckGoSearchRun\n",
    "\n",
    "search = DuckDuckGoSearchRun()"
   ]
  },
  {
   "cell_type": "markdown",
   "id": "0958bc14",
   "metadata": {},
   "source": [
    "### Choosing the Right Model for Tool Use\n",
    "\n",
    "DeepSeek R1 does not natively support function calling or structured outputs ([source](https://github.com/deepseek-ai/DeepSeek-R1/issues/9#issuecomment-2604747754)). With careful prompting it is possible to call a tool with DeepSeek R1, but we recommend choosing the right model for the right job. \n",
    "\n",
    "In this case, let's replace the LLM for the researcher agent with [Mistral Large 2402](https://docs.aws.amazon.com/bedrock/latest/userguide/model-parameters-mistral.html), which has better support for tool use. The writer and editor agents will continue to use the DeepSeek model since they don't need to use tools.\n",
    "\n",
    "Although you can deploy Mistral models on SageMaker endpoints, let's try using Mistral via Amazon Bedrock serverless endpoints instead."
   ]
  },
  {
   "cell_type": "code",
   "execution_count": 13,
   "id": "45f46198",
   "metadata": {},
   "outputs": [],
   "source": [
    "function_calling_model = ChatBedrock(\n",
    "    model=\"mistral.mistral-large-2402-v1:0\",\n",
    "    temperature=0,\n",
    "    region=\"us-west-2\"\n",
    ")"
   ]
  },
  {
   "cell_type": "markdown",
   "id": "15816504",
   "metadata": {},
   "source": [
    "### Recreating the Researcher Agent with Tool Access\n",
    "\n",
    "Recreate the researcher agent to include the tool. In addition to adding the tool in the `tools` parameter, we'll keep the same prompt but now the agent will have access to the search tool."
   ]
  },
  {
   "cell_type": "code",
   "execution_count": 14,
   "id": "02b2b0ee",
   "metadata": {},
   "outputs": [],
   "source": [
    "research_agent = create_react_agent(\n",
    "    function_calling_model,\n",
    "    tools=[search],\n",
    "    prompt=dedent(\n",
    "            \"\"\"You are an experienced travel researcher with a knack for \n",
    "            discovering both popular attractions and hidden gems in any \n",
    "            location. Your expertise lies in gathering comprehensive \n",
    "            information about various activities, their historical \n",
    "            significance, and practical details for visitors. Research and \n",
    "            compile a list of at least 5 interesting activities and \n",
    "            attractions in the requested location. Include a mix of popular tourist \n",
    "            spots and lesser-known local favorites. For each item, provide:\n",
    "            1. Name of the attraction/activity\n",
    "            2. Brief description (2-3 sentences)\n",
    "            3. Why it's worth visiting\n",
    "            Your final answer should be a structured list of these items.\n",
    "            \"\"\"\n",
    "    ),\n",
    ")"
   ]
  },
  {
   "cell_type": "markdown",
   "id": "6fa51528",
   "metadata": {},
   "source": [
    "You can also re-create the task and edit the prompt slightly to ensure that the model knows it can use the web search tool."
   ]
  },
  {
   "cell_type": "code",
   "execution_count": 15,
   "id": "3a7d024e",
   "metadata": {},
   "outputs": [],
   "source": [
    "def research_node(state: MessagesState) -> Command[Literal[\"content_writer\"]]:\n",
    "    result = research_agent.invoke(state)\n",
    "    return Command(\n",
    "        update={\n",
    "            # share internal message history of research agent with other agents\n",
    "            \"messages\": result[\"messages\"],\n",
    "        },\n",
    "        goto=\"content_writer\",\n",
    "    )"
   ]
  },
  {
   "cell_type": "markdown",
   "id": "f045cfd3",
   "metadata": {},
   "source": [
    "### Recreating the Complete Workflow\n",
    "\n",
    "Recreate the crew with your new research agent. No adjustment is needed for this code."
   ]
  },
  {
   "cell_type": "code",
   "execution_count": 16,
   "id": "53e43f69",
   "metadata": {},
   "outputs": [],
   "source": [
    "workflow = StateGraph(MessagesState)\n",
    "workflow.add_node(\"researcher\", research_node)\n",
    "workflow.add_node(\"content_writer\", content_writer_agent)\n",
    "workflow.add_node(\"content_editor\", content_editor_agent)\n",
    "\n",
    "workflow.add_edge(START, \"researcher\")\n",
    "workflow.add_edge(\"researcher\", \"content_writer\")\n",
    "workflow.add_edge(\"content_writer\", \"content_editor\")\n",
    "workflow.add_edge(\"content_editor\", END)\n",
    "graph = workflow.compile()"
   ]
  },
  {
   "cell_type": "markdown",
   "id": "7abc40b7",
   "metadata": {},
   "source": [
    "### Testing the Enhanced Workflow\n",
    "\n",
    "Now let's test the new crew of agents by asking for travel advice for Hoenderloo. Feel free to test with your location of choice.\n",
    "\n",
    "**Expected Output:**\n",
    "With the search tool enabled, you should now see much more accurate and detailed information about Hoenderloo, as the researcher agent can search the web for current and factual information rather than relying solely on the model's internal knowledge."
   ]
  },
  {
   "cell_type": "code",
   "execution_count": 17,
   "id": "d02ba77e",
   "metadata": {},
   "outputs": [
    {
     "name": "stdout",
     "output_type": "stream",
     "text": [
      "{'researcher': {'messages': [HumanMessage(content='Write a listicle for Hoenderloo, Netherlands.', additional_kwargs={}, response_metadata={}, id='2c706c79-d1a3-4990-8997-bbc473fee068'), AIMessage(content=\" 1. **Hoge Veluwe National Park**\\n   - This is a beautiful nature reserve that spans over 5,400 hectares, featuring diverse landscapes such as sand dunes, heathlands, and forests.\\n   - It's worth visiting for its rich wildlife, picturesque sceneries, and the Kröller-Müller Museum located within the park, which houses the second-largest Van Gogh collection in the world.\\n\\n2. **Kröller-Müller Museum**\\n   - As mentioned above, this museum is situated inside the Hoge Veluwe National Park and is home to an impressive collection of 19th and 20th-century art.\\n   - Apart from the extensive Van Gogh collection, the museum also features works by other renowned artists like Claude Monet, Pablo Picasso, and Piet Mondrian, making it a must-visit for art enthusiasts.\\n\\n3. **Landgoed Staverden**\\n   - This historic estate and museum offer a glimpse into the lives of the Dutch nobility and their servants from the 17th to the 20th century.\\n   - It's worth visiting for its well-preserved interiors, beautiful gardens, and various exhibitions that showcase the estate's rich history.\\n\\n4. **Airborne Museum 'Hartenstein'**\\n   - Located in nearby Oosterbeek, this museum is dedicated to the Battle of Arnhem, which took place during World War II's Operation Market Garden.\\n   - It's worth visiting for its informative exhibitions that provide insight into the events and consequences of the battle, as well as the personal stories of the soldiers and civilians involved.\\n\\n5. **Radio Kootwijk**\\n   - This former radio transmitter station is a hidden gem located near Apeldoorn, featuring an impressive Art Deco-style building and surrounding park.\\n   - It's worth visiting for its unique architecture, fascinating history, and the serene atmosphere of the surrounding forest, which offers several walking and cycling paths.\", additional_kwargs={'usage': {'prompt_tokens': 181, 'completion_tokens': 461, 'cache_read_input_tokens': 0, 'cache_write_input_tokens': 0, 'total_tokens': 642}, 'stop_reason': None, 'thinking': {}, 'model_id': 'mistral.mistral-large-2402-v1:0', 'model_name': 'mistral.mistral-large-2402-v1:0'}, response_metadata={'usage': {'prompt_tokens': 181, 'completion_tokens': 461, 'cache_read_input_tokens': 0, 'cache_write_input_tokens': 0, 'total_tokens': 642}, 'stop_reason': None, 'thinking': {}, 'model_id': 'mistral.mistral-large-2402-v1:0', 'model_name': 'mistral.mistral-large-2402-v1:0'}, id='run-cf5956e4-f8e0-45a4-b391-e48268c7e905-0', usage_metadata={'input_tokens': 181, 'output_tokens': 461, 'total_tokens': 642, 'input_token_details': {'cache_creation': 0, 'cache_read': 0}})]}}\n",
      "----\n",
      "{'content_writer': {'messages': [HumanMessage(content='Write a listicle for Hoenderloo, Netherlands.', additional_kwargs={}, response_metadata={}, id='2c706c79-d1a3-4990-8997-bbc473fee068'), AIMessage(content=\" 1. **Hoge Veluwe National Park**\\n   - This is a beautiful nature reserve that spans over 5,400 hectares, featuring diverse landscapes such as sand dunes, heathlands, and forests.\\n   - It's worth visiting for its rich wildlife, picturesque sceneries, and the Kröller-Müller Museum located within the park, which houses the second-largest Van Gogh collection in the world.\\n\\n2. **Kröller-Müller Museum**\\n   - As mentioned above, this museum is situated inside the Hoge Veluwe National Park and is home to an impressive collection of 19th and 20th-century art.\\n   - Apart from the extensive Van Gogh collection, the museum also features works by other renowned artists like Claude Monet, Pablo Picasso, and Piet Mondrian, making it a must-visit for art enthusiasts.\\n\\n3. **Landgoed Staverden**\\n   - This historic estate and museum offer a glimpse into the lives of the Dutch nobility and their servants from the 17th to the 20th century.\\n   - It's worth visiting for its well-preserved interiors, beautiful gardens, and various exhibitions that showcase the estate's rich history.\\n\\n4. **Airborne Museum 'Hartenstein'**\\n   - Located in nearby Oosterbeek, this museum is dedicated to the Battle of Arnhem, which took place during World War II's Operation Market Garden.\\n   - It's worth visiting for its informative exhibitions that provide insight into the events and consequences of the battle, as well as the personal stories of the soldiers and civilians involved.\\n\\n5. **Radio Kootwijk**\\n   - This former radio transmitter station is a hidden gem located near Apeldoorn, featuring an impressive Art Deco-style building and surrounding park.\\n   - It's worth visiting for its unique architecture, fascinating history, and the serene atmosphere of the surrounding forest, which offers several walking and cycling paths.\", additional_kwargs={'usage': {'prompt_tokens': 181, 'completion_tokens': 461, 'cache_read_input_tokens': 0, 'cache_write_input_tokens': 0, 'total_tokens': 642}, 'stop_reason': None, 'thinking': {}, 'model_id': 'mistral.mistral-large-2402-v1:0', 'model_name': 'mistral.mistral-large-2402-v1:0'}, response_metadata={'usage': {'prompt_tokens': 181, 'completion_tokens': 461, 'cache_read_input_tokens': 0, 'cache_write_input_tokens': 0, 'total_tokens': 642}, 'stop_reason': None, 'thinking': {}, 'model_id': 'mistral.mistral-large-2402-v1:0', 'model_name': 'mistral.mistral-large-2402-v1:0'}, id='run-cf5956e4-f8e0-45a4-b391-e48268c7e905-0', usage_metadata={'input_tokens': 181, 'output_tokens': 461, 'total_tokens': 642, 'input_token_details': {'cache_creation': 0, 'cache_read': 0}}), AIMessage(content=\"\\n\\nIn conclusion, Hoenderloo, Netherlands, offers a diverse range of attractions and activities for visitors to enjoy. From exploring the beautiful Hoge Veluwe National Park and the Kröller-Müller Museum to discovering the historic Landgoed Staverden and the Airborne Museum 'Hartenstein', there's something for everyone in this charming destination. Don't forget to also visit the unique Radio Kootwijk for a glimpse into the past and a peaceful retreat in nature.\", additional_kwargs={}, response_metadata={'ResponseMetadata': {'RequestId': 'a3900bf4-cb2e-4f0b-9515-44253796e83a', 'HTTPStatusCode': 200, 'HTTPHeaders': {'date': 'Thu, 24 Apr 2025 18:29:55 GMT', 'content-type': 'application/json', 'content-length': '652', 'connection': 'keep-alive', 'x-amzn-requestid': 'a3900bf4-cb2e-4f0b-9515-44253796e83a'}, 'RetryAttempts': 0}, 'stopReason': 'end_turn', 'metrics': {'latencyMs': [1479]}, 'model_name': 'us.amazon.nova-pro-v1:0'}, id='run-094ad5fb-4c77-4555-b962-fcaecaf1d012-0', usage_metadata={'input_tokens': 594, 'output_tokens': 98, 'total_tokens': 692, 'input_token_details': {'cache_creation': 0, 'cache_read': 0}})]}}\n",
      "----\n",
      "{'content_editor': {'messages': [HumanMessage(content='Write a listicle for Hoenderloo, Netherlands.', additional_kwargs={}, response_metadata={}, id='2c706c79-d1a3-4990-8997-bbc473fee068'), AIMessage(content=\" 1. **Hoge Veluwe National Park**\\n   - This is a beautiful nature reserve that spans over 5,400 hectares, featuring diverse landscapes such as sand dunes, heathlands, and forests.\\n   - It's worth visiting for its rich wildlife, picturesque sceneries, and the Kröller-Müller Museum located within the park, which houses the second-largest Van Gogh collection in the world.\\n\\n2. **Kröller-Müller Museum**\\n   - As mentioned above, this museum is situated inside the Hoge Veluwe National Park and is home to an impressive collection of 19th and 20th-century art.\\n   - Apart from the extensive Van Gogh collection, the museum also features works by other renowned artists like Claude Monet, Pablo Picasso, and Piet Mondrian, making it a must-visit for art enthusiasts.\\n\\n3. **Landgoed Staverden**\\n   - This historic estate and museum offer a glimpse into the lives of the Dutch nobility and their servants from the 17th to the 20th century.\\n   - It's worth visiting for its well-preserved interiors, beautiful gardens, and various exhibitions that showcase the estate's rich history.\\n\\n4. **Airborne Museum 'Hartenstein'**\\n   - Located in nearby Oosterbeek, this museum is dedicated to the Battle of Arnhem, which took place during World War II's Operation Market Garden.\\n   - It's worth visiting for its informative exhibitions that provide insight into the events and consequences of the battle, as well as the personal stories of the soldiers and civilians involved.\\n\\n5. **Radio Kootwijk**\\n   - This former radio transmitter station is a hidden gem located near Apeldoorn, featuring an impressive Art Deco-style building and surrounding park.\\n   - It's worth visiting for its unique architecture, fascinating history, and the serene atmosphere of the surrounding forest, which offers several walking and cycling paths.\", additional_kwargs={'usage': {'prompt_tokens': 181, 'completion_tokens': 461, 'cache_read_input_tokens': 0, 'cache_write_input_tokens': 0, 'total_tokens': 642}, 'stop_reason': None, 'thinking': {}, 'model_id': 'mistral.mistral-large-2402-v1:0', 'model_name': 'mistral.mistral-large-2402-v1:0'}, response_metadata={'usage': {'prompt_tokens': 181, 'completion_tokens': 461, 'cache_read_input_tokens': 0, 'cache_write_input_tokens': 0, 'total_tokens': 642}, 'stop_reason': None, 'thinking': {}, 'model_id': 'mistral.mistral-large-2402-v1:0', 'model_name': 'mistral.mistral-large-2402-v1:0'}, id='run-cf5956e4-f8e0-45a4-b391-e48268c7e905-0', usage_metadata={'input_tokens': 181, 'output_tokens': 461, 'total_tokens': 642, 'input_token_details': {'cache_creation': 0, 'cache_read': 0}}), AIMessage(content=\"\\n\\nIn conclusion, Hoenderloo, Netherlands, offers a diverse range of attractions and activities for visitors to enjoy. From exploring the beautiful Hoge Veluwe National Park and the Kröller-Müller Museum to discovering the historic Landgoed Staverden and the Airborne Museum 'Hartenstein', there's something for everyone in this charming destination. Don't forget to also visit the unique Radio Kootwijk for a glimpse into the past and a peaceful retreat in nature.\", additional_kwargs={}, response_metadata={'ResponseMetadata': {'RequestId': 'a3900bf4-cb2e-4f0b-9515-44253796e83a', 'HTTPStatusCode': 200, 'HTTPHeaders': {'date': 'Thu, 24 Apr 2025 18:29:55 GMT', 'content-type': 'application/json', 'content-length': '652', 'connection': 'keep-alive', 'x-amzn-requestid': 'a3900bf4-cb2e-4f0b-9515-44253796e83a'}, 'RetryAttempts': 0}, 'stopReason': 'end_turn', 'metrics': {'latencyMs': [1479]}, 'model_name': 'us.amazon.nova-pro-v1:0'}, id='run-094ad5fb-4c77-4555-b962-fcaecaf1d012-0', usage_metadata={'input_tokens': 594, 'output_tokens': 98, 'total_tokens': 692, 'input_token_details': {'cache_creation': 0, 'cache_read': 0}}), AIMessage(content='', additional_kwargs={}, response_metadata={'ResponseMetadata': {'RequestId': '3ea4b832-4059-49fe-8faa-415fb8c22e98', 'HTTPStatusCode': 200, 'HTTPHeaders': {'date': 'Thu, 24 Apr 2025 18:29:56 GMT', 'content-type': 'application/json', 'content-length': '182', 'connection': 'keep-alive', 'x-amzn-requestid': '3ea4b832-4059-49fe-8faa-415fb8c22e98'}, 'RetryAttempts': 0}, 'stopReason': 'end_turn', 'metrics': {'latencyMs': [401]}, 'model_name': 'us.amazon.nova-pro-v1:0'}, id='run-d04d9611-3ad0-4708-b852-9c2d1384bada-0', usage_metadata={'input_tokens': 672, 'output_tokens': 0, 'total_tokens': 672, 'input_token_details': {'cache_creation': 0, 'cache_read': 0}})]}}\n",
      "----\n"
     ]
    }
   ],
   "source": [
    "events = graph.stream(\n",
    "    {\n",
    "        \"messages\": [\n",
    "            (\"user\", \"Write a listicle for Hoenderloo, Netherlands.\")\n",
    "        ],\n",
    "    },\n",
    "    # Maximum number of steps to take in the graph\n",
    "    {\"recursion_limit\": 150},\n",
    ")\n",
    "for s in events:\n",
    "    print(s)\n",
    "    print(\"----\")"
   ]
  },
  {
   "cell_type": "markdown",
   "id": "8d5d791e",
   "metadata": {},
   "source": [
    "---\n",
    "\n",
    "## Summary\n",
    "\n",
    "In this notebook, you've learned how to:\n",
    "\n",
    "1. Create a sequential multi-agent workflow using LangGraph\n",
    "2. Define specialized agents with different roles and responsibilities\n",
    "3. Connect agents in a workflow using StateGraph\n",
    "4. Enhance agent capabilities by integrating external tools\n",
    "5. Test the workflow with both well-known and obscure locations\n",
    "\n",
    "This pattern of sequential agent collaboration can be applied to many other use cases beyond travel content creation, such as customer support, content moderation, data analysis, and more."
   ]
  }
 ],
 "metadata": {
  "kernelspec": {
   "display_name": ".venv",
   "language": "python",
   "name": "python3"
  },
  "language_info": {
   "codemirror_mode": {
    "name": "ipython",
    "version": 3
   },
   "file_extension": ".py",
   "mimetype": "text/x-python",
   "name": "python",
   "nbconvert_exporter": "python",
   "pygments_lexer": "ipython3",
   "version": "3.12.9"
  }
 },
 "nbformat": 4,
 "nbformat_minor": 5
}

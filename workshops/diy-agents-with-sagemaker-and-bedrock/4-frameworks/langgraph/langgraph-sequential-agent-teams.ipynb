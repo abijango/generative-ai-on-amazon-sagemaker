{
 "cells": [
  {
   "cell_type": "markdown",
   "id": "500772e9",
   "metadata": {},
   "source": [
    "# Building a Sequential Multi-Agent Travel Assistant with LangGraph\n",
    "\n",
    "## Table of Contents\n",
    "- [Introduction](#introduction)\n",
    "- [Prerequisites](#prerequisites)\n",
    "- [Setup](#setup)\n",
    "- [Create Your First Agent](#create-your-first-agent)\n",
    "- [Add More Agents](#add-more-agents)\n",
    "- [Enhance Agent Capabilities Using Tools](#enhance-agent-capabilities-using-tools)\n",
    "\n",
    "## Introduction\n",
    "\n",
    "**LangGraph** is an extension of LangChain that provides a framework for building stateful, multi-agent applications. This notebook demonstrates how to create a travel assistant using multi-agent collaboration with LangGraph. Specifically, you will use this assistant to generate articles on the top activities and attractions for a specific location.\n",
    "\n",
    "**Estimated completion time:** 30-45 minutes\n",
    "\n",
    "### Objectives\n",
    "\n",
    "By the end of this notebook, you will:\n",
    "1. Understand how to create and connect multiple agents in a sequential workflow\n",
    "2. Learn how to define agent roles and responsibilities\n",
    "3. Implement a multi-agent system that can research, write, and edit travel content\n",
    "4. Enhance agent capabilities by integrating external tools\n",
    "\n",
    "### Structure of the Travel Assistant\n",
    "\n",
    "This notebook provides step-by-step guidance for creating a travel assistant consisting of the following agents:\n",
    "\n",
    "```mermaid\n",
    "graph LR\n",
    "    User[User Query] --> A[Researcher Agent]\n",
    "    A --> B[Content Writer Agent]\n",
    "    B --> C[Editor Agent]\n",
    "    C --> D[Final Article]\n",
    "    \n",
    "    style A fill:#f9d5e5,stroke:#333,stroke-width:2px\n",
    "    style B fill:#eeac99,stroke:#333,stroke-width:2px\n",
    "    style C fill:#e06377,stroke:#333,stroke-width:2px\n",
    "    style D fill:#c83349,stroke:#333,stroke-width:2px\n",
    "```\n",
    "\n",
    "1. **Researcher Agent** - Responsible for gathering information on the top 5 attractions and activities in a specific location\n",
    "2. **Content Writer Agent** - Responsible for writing an engaging article based on the information of the top 5 attractions\n",
    "3. **Editor Agent** - Responsible for improving the flow and language use within the article\n",
    "\n",
    "## Prerequisites\n",
    "\n",
    "Before starting this notebook, ensure you have:\n",
    "- Basic understanding of Python and Jupyter notebooks\n",
    "- AWS account with access to Amazon Bedrock and SageMaker\n",
    "- Tavily API key (for web search functionality)\n",
    "- Familiarity with LangChain concepts (optional but helpful)\n",
    "\n",
    "---"
   ]
  },
  {
   "cell_type": "markdown",
   "id": "65490430",
   "metadata": {},
   "source": [
    "## Setup\n",
    "\n",
    "Start by installing some of the required packages, including LangChain for pre-built tool components, LangGraph for agent workflows, and other necessary libraries."
   ]
  },
  {
   "cell_type": "code",
   "execution_count": null,
   "id": "f9236dbf",
   "metadata": {},
   "outputs": [],
   "source": [
    "%pip install -r langgraph-requirements.txt -qU"
   ]
  },
  {
   "cell_type": "markdown",
   "id": "df89be19",
   "metadata": {},
   "source": [
    "<div class=\"alert alert-block alert-info\">\n",
    "<b>Important:</b> restart the kernel before proceeding with the next cells.\n",
    "</div>"
   ]
  },
  {
   "cell_type": "code",
   "execution_count": 1,
   "id": "12f45d13",
   "metadata": {},
   "outputs": [],
   "source": [
    "from langchain_aws import ChatBedrock, SagemakerEndpoint\n",
    "from langchain_core.messages import BaseMessage, HumanMessage\n",
    "from langgraph.prebuilt import create_react_agent\n",
    "from langgraph.graph import MessagesState, END\n",
    "from langgraph.types import Command\n",
    "import boto3\n",
    "import os\n",
    "import getpass\n",
    "import json\n",
    "from textwrap import dedent\n",
    "from typing import Literal"
   ]
  },
  {
   "cell_type": "markdown",
   "id": "17966997",
   "metadata": {},
   "source": [
    "Now import all of the packages you will need for this lab. This includes the packages described above, as well as textwrap for keeping the prompts readable within the notebook, and typing for type annotations."
   ]
  },
  {
   "cell_type": "markdown",
   "id": "a180f625",
   "metadata": {},
   "source": [
    "Follow the instructions in [this lab](https://catalog.workshops.aws/building-agentic-workflows/en-US/sagemaker) to create a SageMaker real-time endpoint hosting the [DeepSeek R1 Distill-Llama 8B](https://huggingface.co/deepseek-ai/DeepSeek-R1) model. Although you will use this specific model for this lab, LangGraph also supports other models hosted through [Amazon SageMaker](https://docs.crewai.com/concepts/llms#amazon-sagemaker) or [Amazon Bedrock](https://docs.crewai.com/concepts/llms#aws-bedrock). While the SageMaker endpoint is being created, you can copy the name of the endpoint and replace the text `INSERT ENDPOINT NAME` in the code below with the endpoint name.\n",
    "\n",
    "When setting up an LLM model, you can also set model parameters. In this case, we set `temperature` to 0.7 to balance creativity with accuracy. A higher temperature (closer to 1.0) would produce more creative but potentially less accurate responses, while a lower temperature (closer to 0) would produce more deterministic responses."
   ]
  },
  {
   "cell_type": "code",
   "execution_count": null,
   "id": "b8680113",
   "metadata": {},
   "outputs": [],
   "source": [
    "model = ChatBedrock(\n",
    "    model=\"us.amazon.nova-pro-v1:0\",\n",
    "    temperature=0.7,\n",
    "    region=\"us-west-2\"\n",
    ")"
   ]
  },
  {
   "cell_type": "markdown",
   "id": "20fd46ef",
   "metadata": {},
   "source": [
    "If you want to use Amazon SageMaker AI endpoints, you can uncomment the following section:"
   ]
  },
  {
   "cell_type": "code",
   "execution_count": null,
   "id": "eb9d0674",
   "metadata": {},
   "outputs": [],
   "source": [
    "# from langchain_aws.llms.sagemaker_endpoint import LLMContentHandler\n",
    "# from typing import Dict\n",
    "\n",
    "# class ContentHandler(LLMContentHandler):\n",
    "#     content_type = \"application/json\"\n",
    "#     accepts = \"application/json\"\n",
    "\n",
    "#     def transform_input(self, prompt: str, model_kwargs: Dict) -> bytes:\n",
    "#         input_str = json.dumps({\"inputs\": prompt, \"parameters\": model_kwargs})\n",
    "#         return input_str.encode(\"utf-8\")\n",
    "\n",
    "#     def transform_output(self, output: bytes) -> str:\n",
    "#         response_json = json.loads(output.read().decode(\"utf-8\"))\n",
    "#         return response_json[0][\"generated_text\"]\n",
    "\n",
    "\n",
    "# model = SagemakerEndpoint(\n",
    "#     endpoint_name=\"INSERT-ENDPOINT-NAME\",\n",
    "#     region_name=\"us-west-2\",\n",
    "#     credentials_profile_name=\"default\",\n",
    "#     content_handler=ContentHandler()\n",
    "# )"
   ]
  },
  {
   "cell_type": "markdown",
   "id": "327db2f3",
   "metadata": {},
   "source": [
    "-----\n",
    "\n",
    "## Create Your First Agent\n",
    "\n",
    "Let's start by creating the first agent - the researcher agent. This agent will be responsible for gathering information on the top 5 attractions and activities for a specific location. \n",
    "\n",
    "> **Note:** We'll start simple by creating an agent which relies on the LLM's internal knowledge of various locations around the world. At a later stage, this agent can be extended by providing access to a web search tool.\n",
    "\n",
    "### Understanding Agent Creation in LangGraph\n",
    "\n",
    "In LangGraph, agents are created using the `create_react_agent` function, which implements the ReAct (Reasoning and Acting) pattern. This pattern allows the agent to reason about its actions and then execute them in an iterative process."
   ]
  },
  {
   "cell_type": "code",
   "execution_count": 4,
   "id": "b19e1355",
   "metadata": {},
   "outputs": [],
   "source": [
    "# Define the Agent\n",
    "research_agent = create_react_agent(\n",
    "    model=model,\n",
    "    tools=[],\n",
    "    prompt=dedent(\n",
    "            \"\"\"You are an experienced travel researcher with a knack for \n",
    "            discovering both popular attractions and hidden gems in any \n",
    "            location. Your expertise lies in gathering comprehensive \n",
    "            information about various activities, their historical \n",
    "            significance, and practical details for visitors. Research and \n",
    "            compile a list of at least 5 interesting activities and \n",
    "            attractions in the requested location. Include a mix of popular tourist \n",
    "            spots and lesser-known local favorites. For each item, provide:\n",
    "            1. Name of the attraction/activity\n",
    "            2. Brief description (2-3 sentences)\n",
    "            3. Why it's worth visiting\n",
    "            Your final answer should be a structured list of these items.\n",
    "            \"\"\"\n",
    "    ),\n",
    ")"
   ]
  },
  {
   "cell_type": "markdown",
   "id": "1de41db9",
   "metadata": {},
   "source": [
    "### Creating a Node in the Workflow\n",
    "\n",
    "Next, you will create a task. A task is defined in a **Node** object. In LangGraph, a Node represents a processing step in your workflow. Each node takes the current state as input, performs some operation, and returns a Command object that specifies how to update the state and where to go next in the workflow."
   ]
  },
  {
   "cell_type": "code",
   "execution_count": 5,
   "id": "0a44d9dc",
   "metadata": {},
   "outputs": [],
   "source": [
    "# Define the Node (task)\n",
    "def research_node(state: MessagesState):\n",
    "    result = research_agent.invoke(state)\n",
    "    return Command(\n",
    "        update={\n",
    "            # share internal message history of research agent with other agents\n",
    "            \"messages\": result[\"messages\"],\n",
    "        },\n",
    "        goto=\"content_writer\",\n",
    "    )"
   ]
  },
  {
   "cell_type": "markdown",
   "id": "bb8ecc75",
   "metadata": {},
   "source": [
    "### Creating Your First Graph\n",
    "\n",
    "Now you can create your first graph. In LangGraph, a **StateGraph** represents the entire workflow, with nodes connected by edges that define the flow of execution."
   ]
  },
  {
   "cell_type": "code",
   "execution_count": 6,
   "id": "b5ce1c41",
   "metadata": {},
   "outputs": [],
   "source": [
    "from langgraph.graph import StateGraph, START, END\n",
    "\n",
    "workflow = StateGraph(MessagesState)\n",
    "workflow.add_node(\"researcher\", research_node)\n",
    "\n",
    "workflow.add_edge(START, \"researcher\")\n",
    "# workflow.add_edge(\"researcher\", END)\n",
    "graph = workflow.compile()"
   ]
  },
  {
   "cell_type": "markdown",
   "id": "649b08b7",
   "metadata": {},
   "source": [
    "### Testing Your First Agent\n",
    "\n",
    "Now you can test your first agent! Since the current version of the researcher agent relies on the LLM's internal knowledge, choose a well-known location such as Amsterdam. The model has likely learned about Amsterdam in its training data.\n",
    "\n",
    "**Expected Output:**\n",
    "You should see the agent's thought process and a structured list of 5 attractions in Amsterdam, including names, descriptions, and reasons to visit each one."
   ]
  },
  {
   "cell_type": "code",
   "execution_count": 7,
   "id": "a1b200fa",
   "metadata": {
    "lines_to_next_cell": 2
   },
   "outputs": [
    {
     "name": "stdout",
     "output_type": "stream",
     "text": [
      "{'researcher': {'messages': [HumanMessage(content='Write a listicle for Amsterdam, Netherlands.', additional_kwargs={}, response_metadata={}, id='c7650083-ad03-49df-87be-2a4d9769ff79'), AIMessage(content=\"### Top Activities and Attractions in Amsterdam, Netherlands\\n\\n#### 1. **Anne Frank House**\\n   - **Brief Description:** A museum dedicated to Jewish diarist Anne Frank, housed in the secret annex where she and her family hid from the Nazis during World War II.\\n   - **Why It's Worth Visiting:** Provides a poignant and deeply moving experience, offering insight into a dark period of history and the resilience of the human spirit.\\n\\n#### 2. **Rijksmuseum**\\n   - **Brief Description:** One of the world's largest and most prestigious museums, featuring an extensive collection of Dutch Golden Age art and historical artifacts.\\n   - **Why It's Worth Visiting:** Home to masterpieces by Rembrandt, Vermeer, and other Dutch masters, offering a comprehensive look at Dutch art and history.\\n\\n#### 3. **Vondelpark**\\n   - **Brief Description:** Amsterdam's largest and most famous urban park, spanning 47 hectares and featuring ponds, playgrounds, and open-air theaters.\\n   - **Why It's Worth Visiting:** A perfect spot for relaxation, picnics, or outdoor activities, and a beloved local hangout that captures the essence of Amsterdam's laid-back lifestyle.\\n\\n#### 4. **Albert Cuyp Market**\\n   - **Brief Description:** One of Europe's largest street markets, offering a vibrant array of fresh produce, clothing, flowers, and local delicacies.\\n   - **Why It's Worth Visiting:** An authentic experience of Amsterdam's diverse culture and a great place to sample local foods and shop like a local.\\n\\n#### 5. **Heineken Experience**\\n   - **Brief Description:** An interactive museum located in the original Heineken brewery, offering a journey through the history of Heineken beer with tastings included.\\n   - **Why It's Worth Visiting:** A fun and educational experience for beer enthusiasts, providing a behind-the-scenes look at one of the world's most famous breweries.\\n\\n#### 6. **NEMO Science Museum**\\n   - **Brief Description:** A hands-on science museum designed by architect Renzo Piano, featuring five floors of interactive exhibits for all ages.\\n   - **Why It's Worth Visiting:** Encourages learning through play, making science fun and accessible, and offers stunning views of the city from its rooftop terrace.\\n\\n#### 7. **De Pijp Neighborhood**\\n   - **Brief Description:** A vibrant district known for its multicultural atmosphere, diverse restaurants, and the famous Albert Cuyp Market.\\n   - **Why It's Worth Visiting:** Offers a glimpse into Amsterdam's diverse community, with plenty of dining options, street art, and a lively, local feel.\\n\\n#### 8. **Canal Cruise**\\n   - **Brief Description:** A boat tour along Amsterdam's iconic canals, providing views of historic houses, bridges, and landmarks.\\n   - **Why It's Worth Visiting:** A unique perspective of the city's beauty and history, often accompanied by informative commentary about Amsterdam's rich past.\\n\\n#### 9. **Stedelijk Museum**\\n   - **Brief Description:** Amsterdam's museum of modern art, featuring a collection that spans the 19th century to the present day.\\n   - **Why It's Worth Visiting:** Offers a deep dive into modern and contemporary art, with rotating exhibitions that challenge and inspire.\\n\\n#### 10. **Hidden Libraries (Bibliotheca Philosophica Hermetica)**\\n   - **Brief Description:** A specialized library focusing on hermeticism, alchemy, and the history of science, housed in a historic building.\\n   - **Why It's Worth Visiting:** A unique and lesser-known attraction for those interested in esoteric subjects, offering a rare collection of books and manuscripts.\", additional_kwargs={}, response_metadata={'ResponseMetadata': {'RequestId': '86c7917f-99c9-416d-9965-5902e5f96bdf', 'HTTPStatusCode': 200, 'HTTPHeaders': {'date': 'Wed, 09 Apr 2025 15:23:23 GMT', 'content-type': 'application/json', 'content-length': '3768', 'connection': 'keep-alive', 'x-amzn-requestid': '86c7917f-99c9-416d-9965-5902e5f96bdf'}, 'RetryAttempts': 0}, 'stopReason': 'end_turn', 'metrics': {'latencyMs': [8944]}, 'model_name': 'us.amazon.nova-pro-v1:0'}, id='run-c5b73c97-ab9e-4eba-b989-dfd6dddc88ae-0', usage_metadata={'input_tokens': 148, 'output_tokens': 772, 'total_tokens': 920})]}}\n",
      "----\n"
     ]
    }
   ],
   "source": [
    "events = graph.stream(\n",
    "    {\n",
    "        \"messages\": [\n",
    "            (\n",
    "                \"user\",\n",
    "                \"Write a listicle for Amsterdam, Netherlands.\"\n",
    "            )\n",
    "        ],\n",
    "    },\n",
    "    # Maximum number of steps to take in the graph\n",
    "    {\"recursion_limit\": 150},\n",
    ")\n",
    "for s in events:\n",
    "    print(s)\n",
    "    print(\"----\")"
   ]
  },
  {
   "cell_type": "markdown",
   "id": "0551f277",
   "metadata": {},
   "source": [
    "----\n",
    "\n",
    "## Add More Agents\n",
    "\n",
    "A team of one agent is not very interesting, so let's add a second agent to the crew. Using the same techniques as above, we'll create a second agent which specializes in writing informative top 5 travel listicles (a type of article which contains a list).\n",
    "\n",
    "### Content Writer Agent"
   ]
  },
  {
   "cell_type": "code",
   "execution_count": 8,
   "id": "5898a396",
   "metadata": {},
   "outputs": [],
   "source": [
    "content_writer_agent = create_react_agent(\n",
    "    model,\n",
    "    tools=[],\n",
    "    prompt=dedent(\n",
    "            \"\"\"You are a skilled travel writer with a flair for creating \n",
    "            captivating content. Your writing style is engaging, \n",
    "            informative, and tailored to inspire readers to explore new \n",
    "            destinations. You excel at crafting concise yet compelling \n",
    "            descriptions of attractions and activities. Create an engaging \n",
    "            top 5 listicle article about things to do in the requested location. \n",
    "            Use the research provided to:\n",
    "            1. Write a catchy title and introduction (100-150 words)\n",
    "            2. Select and write about the top 5 activities/attractions\n",
    "            3. For each item, write 2-3 paragraphs (100-150 words total)\n",
    "            4. Include a brief conclusion (50-75 words) \n",
    "            Ensure the content is engaging, informative, and inspiring. \n",
    "            Your final answer should be the complete listicle article.\n",
    "            \"\"\"\n",
    "    ),\n",
    ")\n",
    "\n",
    "def writer_node(state: MessagesState) -> Command[Literal[\"content_editor\"]]:\n",
    "    result = content_writer_agent.invoke(state)\n",
    "    return Command(update={\"messages\": result[\"messages\"]}, goto=\"content_editor\")"
   ]
  },
  {
   "cell_type": "markdown",
   "id": "6b980fd3",
   "metadata": {},
   "source": [
    "### Editor Agent\n",
    "\n",
    "Professional media companies employ editors to improve the quality of articles. By taking a second look at a good article, we can make it great. So let's create a third agent which specializes in editing existing articles to improve the flow of the story and improve readability."
   ]
  },
  {
   "cell_type": "code",
   "execution_count": 12,
   "id": "18a96d77",
   "metadata": {},
   "outputs": [],
   "source": [
    "from langgraph.graph import END\n",
    "\n",
    "content_editor_agent = create_react_agent(\n",
    "    model,\n",
    "    tools=[],\n",
    "    prompt=dedent(\n",
    "            \"\"\"You are a meticulous editor with years of experience in \n",
    "            travel content. Your keen eye for detail helps polish articles \n",
    "            to perfection. You focus on improving flow, maintaining \n",
    "            consistency, and enhancing the overall readability of the \n",
    "            content while ensuring it appeals to the target audience. \n",
    "            Review and edit the top 5 listicle article about things to \n",
    "            do in the requested location. Focus on: \n",
    "            1. Improving the overall structure and flow \n",
    "            2. Enhancing the engagement factor of the content \n",
    "            3. Ensuring consistency in tone and style \n",
    "            4. Correcting any grammatical or spelling errors \n",
    "            Do not change the content itself. Only edit it for higher quality. \n",
    "            Your final answer should be the polished, publication-ready \n",
    "            version of the article.\n",
    "            \"\"\"\n",
    "    ),\n",
    ")\n",
    "\n",
    "def editor_node(\n",
    "    state: MessagesState,\n",
    ") -> Command[Literal[END]]:\n",
    "    result = content_editor_agent.invoke(state)\n",
    "    # wrap in a human message, as not all providers allow\n",
    "    # AI message at the last position of the input messages list\n",
    "    # result[\"messages\"][-1] = HumanMessage(\n",
    "    #     content=result[\"messages\"][-1].content, name=\"content_editor\"\n",
    "    # )\n",
    "    return Command(\n",
    "        update={\n",
    "            # share internal message history of research agent with other agents\n",
    "            \"messages\": result[\"messages\"],\n",
    "        },\n",
    "        goto=END,\n",
    "    )"
   ]
  },
  {
   "cell_type": "markdown",
   "id": "5b06b0d9",
   "metadata": {},
   "source": [
    "### Connecting the Agents in a Sequential Workflow\n",
    "\n",
    "After creating your second and third agent, you will need to add them both to your team. Tasks can be executed sequentially (i.e., always in the order which they are defined) or hierarchically (i.e., tasks are assigned based on agent roles). \n",
    "\n",
    "In this case, the process for writing a travel article is always the same, so we will use a sequential workflow where:\n",
    "1. The researcher gathers information\n",
    "2. The writer creates an article based on that information\n",
    "3. The editor polishes the final article"
   ]
  },
  {
   "cell_type": "code",
   "execution_count": 13,
   "id": "0931f7f4",
   "metadata": {},
   "outputs": [],
   "source": [
    "from langgraph.graph import StateGraph, START, END\n",
    "\n",
    "workflow = StateGraph(MessagesState)\n",
    "workflow.add_node(\"researcher\", research_node)\n",
    "workflow.add_node(\"content_writer\", content_writer_agent)\n",
    "workflow.add_node(\"content_editor\", content_editor_agent)\n",
    "\n",
    "workflow.add_edge(START, \"researcher\")\n",
    "workflow.add_edge(\"researcher\", \"content_writer\")\n",
    "workflow.add_edge(\"content_writer\", \"content_editor\")\n",
    "workflow.add_edge(\"content_editor\", END)\n",
    "graph = workflow.compile()"
   ]
  },
  {
   "cell_type": "markdown",
   "id": "36aa24d9",
   "metadata": {},
   "source": [
    "### Testing the Complete Workflow\n",
    "\n",
    "Next, test your crew again using the same location as before, such as Amsterdam. You should see the agents executing the tasks in order, resulting in an article about the top 5 attractions for your location.\n",
    "\n",
    "**Expected Output:**\n",
    "You should see the output from all three agents in sequence:\n",
    "1. The researcher's list of attractions\n",
    "2. The writer's draft article\n",
    "3. The editor's polished final article"
   ]
  },
  {
   "cell_type": "code",
   "execution_count": 14,
   "id": "238e2fe3",
   "metadata": {
    "lines_to_next_cell": 2
   },
   "outputs": [
    {
     "name": "stdout",
     "output_type": "stream",
     "text": [
      "{'researcher': {'messages': [HumanMessage(content='Write a listicle for Amsterdam, Netherlands.', additional_kwargs={}, response_metadata={}, id='0f6ffdad-18d8-4bcd-8d54-b7be66e0f7ae'), AIMessage(content=\"Sure! Here’s a structured list of interesting activities and attractions in Amsterdam, Netherlands:\\n\\n### 1. **Anne Frank House**\\n- **Brief Description:** A museum dedicated to Jewish diarist Anne Frank, housed in the building where she and her family hid from the Nazis during World War II.\\n- **Why It's Worth Visiting:** Offers a poignant and deeply personal look into history, providing insight into the horrors of the Holocaust and the resilience of the human spirit.\\n\\n### 2. **Rijksmuseum**\\n- **Brief Description:** One of the world's largest and most prestigious museums, featuring an extensive collection of Dutch Golden Age paintings, including works by Rembrandt and Vermeer.\\n- **Why It's Worth Visiting:** A must-visit for art lovers, offering a comprehensive look at Dutch history and culture through its vast array of masterpieces.\\n\\n### 3. **Vondelpark**\\n- **Brief Description:** Amsterdam’s most famous park, spanning 47 hectares and offering a mix of formal gardens, playgrounds, and open lawns.\\n- **Why It's Worth Visiting:** Perfect for a relaxing afternoon, picnicking, or enjoying live music. It's a beloved local hangout and a green oasis in the city.\\n\\n### 4. **Heineken Experience**\\n- **Brief Description:** An interactive museum tour located in the original Heineken brewery, offering a deep dive into the history and production of the world-famous beer.\\n- **Why It's Worth Visiting:** A fun and educational experience for beer enthusiasts, complete with tastings at the end of the tour.\\n\\n### 5. **Albert Cuyp Market**\\n- **Brief Description:** One of Amsterdam’s largest and most vibrant street markets, offering a wide range of fresh produce, clothing, and local delicacies.\\n- **Why It's Worth Visiting:** A true taste of local life, perfect for foodies and those looking to experience Amsterdam’s diverse culinary scene.\\n\\n### 6. **NEMO Science Museum**\\n- **Brief Description:** An award-winning science museum designed by architect Renzo Piano, featuring hands-on exhibits and interactive displays for all ages.\\n- **Why It's Worth Visiting:** Ideal for families and curious minds, offering an engaging way to learn about science and technology.\\n\\n### 7. **Jordaan District**\\n- **Brief Description:** A charming neighborhood known for its narrow streets, boutique shops, art galleries, and cozy cafes.\\n- **Why It's Worth Visiting:** Offers a more intimate and local experience of Amsterdam, away from the bustling tourist crowds.\\n\\n### 8. **Canal Cruise**\\n- **Brief Description:** A boat tour along Amsterdam’s iconic canals, providing views of historic houses, bridges, and landmarks.\\n- **Why It's Worth Visiting:** A unique perspective of the city, especially beautiful during the evening when the buildings are lit up.\\n\\n### 9. **Micropia**\\n- **Brief Description:** The world’s first museum dedicated to microorganisms, offering interactive exhibits and live microscope views.\\n- **Why It's Worth Visiting:** Fascinating for both adults and children, providing a deeper understanding of the microscopic world around us.\\n\\n### 10. **De Pijp Neighborhood**\\n- **Brief Description:** A diverse and vibrant area known for its multicultural atmosphere, street art, and the famous De Pijp market.\\n- **Why It's Worth Visiting:** A great place to explore Amsterdam’s cultural diversity, with plenty of eateries, shops, and nightlife options.\", additional_kwargs={}, response_metadata={'ResponseMetadata': {'RequestId': 'c63461b4-1812-4930-8f39-5797361f1af8', 'HTTPStatusCode': 200, 'HTTPHeaders': {'date': 'Wed, 09 Apr 2025 15:24:21 GMT', 'content-type': 'application/json', 'content-length': '3590', 'connection': 'keep-alive', 'x-amzn-requestid': 'c63461b4-1812-4930-8f39-5797361f1af8'}, 'RetryAttempts': 0}, 'stopReason': 'end_turn', 'metrics': {'latencyMs': [8804]}, 'model_name': 'us.amazon.nova-pro-v1:0'}, id='run-84853ac2-25dc-497f-a3b7-f451370ef0d3-0', usage_metadata={'input_tokens': 148, 'output_tokens': 711, 'total_tokens': 859})]}}\n",
      "----\n",
      "{'content_writer': {'messages': [HumanMessage(content='Write a listicle for Amsterdam, Netherlands.', additional_kwargs={}, response_metadata={}, id='0f6ffdad-18d8-4bcd-8d54-b7be66e0f7ae'), AIMessage(content=\"Sure! Here’s a structured list of interesting activities and attractions in Amsterdam, Netherlands:\\n\\n### 1. **Anne Frank House**\\n- **Brief Description:** A museum dedicated to Jewish diarist Anne Frank, housed in the building where she and her family hid from the Nazis during World War II.\\n- **Why It's Worth Visiting:** Offers a poignant and deeply personal look into history, providing insight into the horrors of the Holocaust and the resilience of the human spirit.\\n\\n### 2. **Rijksmuseum**\\n- **Brief Description:** One of the world's largest and most prestigious museums, featuring an extensive collection of Dutch Golden Age paintings, including works by Rembrandt and Vermeer.\\n- **Why It's Worth Visiting:** A must-visit for art lovers, offering a comprehensive look at Dutch history and culture through its vast array of masterpieces.\\n\\n### 3. **Vondelpark**\\n- **Brief Description:** Amsterdam’s most famous park, spanning 47 hectares and offering a mix of formal gardens, playgrounds, and open lawns.\\n- **Why It's Worth Visiting:** Perfect for a relaxing afternoon, picnicking, or enjoying live music. It's a beloved local hangout and a green oasis in the city.\\n\\n### 4. **Heineken Experience**\\n- **Brief Description:** An interactive museum tour located in the original Heineken brewery, offering a deep dive into the history and production of the world-famous beer.\\n- **Why It's Worth Visiting:** A fun and educational experience for beer enthusiasts, complete with tastings at the end of the tour.\\n\\n### 5. **Albert Cuyp Market**\\n- **Brief Description:** One of Amsterdam’s largest and most vibrant street markets, offering a wide range of fresh produce, clothing, and local delicacies.\\n- **Why It's Worth Visiting:** A true taste of local life, perfect for foodies and those looking to experience Amsterdam’s diverse culinary scene.\\n\\n### 6. **NEMO Science Museum**\\n- **Brief Description:** An award-winning science museum designed by architect Renzo Piano, featuring hands-on exhibits and interactive displays for all ages.\\n- **Why It's Worth Visiting:** Ideal for families and curious minds, offering an engaging way to learn about science and technology.\\n\\n### 7. **Jordaan District**\\n- **Brief Description:** A charming neighborhood known for its narrow streets, boutique shops, art galleries, and cozy cafes.\\n- **Why It's Worth Visiting:** Offers a more intimate and local experience of Amsterdam, away from the bustling tourist crowds.\\n\\n### 8. **Canal Cruise**\\n- **Brief Description:** A boat tour along Amsterdam’s iconic canals, providing views of historic houses, bridges, and landmarks.\\n- **Why It's Worth Visiting:** A unique perspective of the city, especially beautiful during the evening when the buildings are lit up.\\n\\n### 9. **Micropia**\\n- **Brief Description:** The world’s first museum dedicated to microorganisms, offering interactive exhibits and live microscope views.\\n- **Why It's Worth Visiting:** Fascinating for both adults and children, providing a deeper understanding of the microscopic world around us.\\n\\n### 10. **De Pijp Neighborhood**\\n- **Brief Description:** A diverse and vibrant area known for its multicultural atmosphere, street art, and the famous De Pijp market.\\n- **Why It's Worth Visiting:** A great place to explore Amsterdam’s cultural diversity, with plenty of eateries, shops, and nightlife options.\", additional_kwargs={}, response_metadata={'ResponseMetadata': {'RequestId': 'c63461b4-1812-4930-8f39-5797361f1af8', 'HTTPStatusCode': 200, 'HTTPHeaders': {'date': 'Wed, 09 Apr 2025 15:24:21 GMT', 'content-type': 'application/json', 'content-length': '3590', 'connection': 'keep-alive', 'x-amzn-requestid': 'c63461b4-1812-4930-8f39-5797361f1af8'}, 'RetryAttempts': 0}, 'stopReason': 'end_turn', 'metrics': {'latencyMs': [8804]}, 'model_name': 'us.amazon.nova-pro-v1:0'}, id='run-84853ac2-25dc-497f-a3b7-f451370ef0d3-0', usage_metadata={'input_tokens': 148, 'output_tokens': 711, 'total_tokens': 859}), AIMessage(content='', additional_kwargs={}, response_metadata={'ResponseMetadata': {'RequestId': '6cb26554-564a-4145-ad30-a76e8542652b', 'HTTPStatusCode': 200, 'HTTPHeaders': {'date': 'Wed, 09 Apr 2025 15:24:22 GMT', 'content-type': 'application/json', 'content-length': '182', 'connection': 'keep-alive', 'x-amzn-requestid': '6cb26554-564a-4145-ad30-a76e8542652b'}, 'RetryAttempts': 0}, 'stopReason': 'end_turn', 'metrics': {'latencyMs': [418]}, 'model_name': 'us.amazon.nova-pro-v1:0'}, id='run-f2f99b7e-a0f6-4299-9aa9-6582d2dac631-0', usage_metadata={'input_tokens': 901, 'output_tokens': 0, 'total_tokens': 901})]}}\n",
      "----\n",
      "{'content_editor': {'messages': [HumanMessage(content='Write a listicle for Amsterdam, Netherlands.', additional_kwargs={}, response_metadata={}, id='0f6ffdad-18d8-4bcd-8d54-b7be66e0f7ae'), AIMessage(content=\"Sure! Here’s a structured list of interesting activities and attractions in Amsterdam, Netherlands:\\n\\n### 1. **Anne Frank House**\\n- **Brief Description:** A museum dedicated to Jewish diarist Anne Frank, housed in the building where she and her family hid from the Nazis during World War II.\\n- **Why It's Worth Visiting:** Offers a poignant and deeply personal look into history, providing insight into the horrors of the Holocaust and the resilience of the human spirit.\\n\\n### 2. **Rijksmuseum**\\n- **Brief Description:** One of the world's largest and most prestigious museums, featuring an extensive collection of Dutch Golden Age paintings, including works by Rembrandt and Vermeer.\\n- **Why It's Worth Visiting:** A must-visit for art lovers, offering a comprehensive look at Dutch history and culture through its vast array of masterpieces.\\n\\n### 3. **Vondelpark**\\n- **Brief Description:** Amsterdam’s most famous park, spanning 47 hectares and offering a mix of formal gardens, playgrounds, and open lawns.\\n- **Why It's Worth Visiting:** Perfect for a relaxing afternoon, picnicking, or enjoying live music. It's a beloved local hangout and a green oasis in the city.\\n\\n### 4. **Heineken Experience**\\n- **Brief Description:** An interactive museum tour located in the original Heineken brewery, offering a deep dive into the history and production of the world-famous beer.\\n- **Why It's Worth Visiting:** A fun and educational experience for beer enthusiasts, complete with tastings at the end of the tour.\\n\\n### 5. **Albert Cuyp Market**\\n- **Brief Description:** One of Amsterdam’s largest and most vibrant street markets, offering a wide range of fresh produce, clothing, and local delicacies.\\n- **Why It's Worth Visiting:** A true taste of local life, perfect for foodies and those looking to experience Amsterdam’s diverse culinary scene.\\n\\n### 6. **NEMO Science Museum**\\n- **Brief Description:** An award-winning science museum designed by architect Renzo Piano, featuring hands-on exhibits and interactive displays for all ages.\\n- **Why It's Worth Visiting:** Ideal for families and curious minds, offering an engaging way to learn about science and technology.\\n\\n### 7. **Jordaan District**\\n- **Brief Description:** A charming neighborhood known for its narrow streets, boutique shops, art galleries, and cozy cafes.\\n- **Why It's Worth Visiting:** Offers a more intimate and local experience of Amsterdam, away from the bustling tourist crowds.\\n\\n### 8. **Canal Cruise**\\n- **Brief Description:** A boat tour along Amsterdam’s iconic canals, providing views of historic houses, bridges, and landmarks.\\n- **Why It's Worth Visiting:** A unique perspective of the city, especially beautiful during the evening when the buildings are lit up.\\n\\n### 9. **Micropia**\\n- **Brief Description:** The world’s first museum dedicated to microorganisms, offering interactive exhibits and live microscope views.\\n- **Why It's Worth Visiting:** Fascinating for both adults and children, providing a deeper understanding of the microscopic world around us.\\n\\n### 10. **De Pijp Neighborhood**\\n- **Brief Description:** A diverse and vibrant area known for its multicultural atmosphere, street art, and the famous De Pijp market.\\n- **Why It's Worth Visiting:** A great place to explore Amsterdam’s cultural diversity, with plenty of eateries, shops, and nightlife options.\", additional_kwargs={}, response_metadata={'ResponseMetadata': {'RequestId': 'c63461b4-1812-4930-8f39-5797361f1af8', 'HTTPStatusCode': 200, 'HTTPHeaders': {'date': 'Wed, 09 Apr 2025 15:24:21 GMT', 'content-type': 'application/json', 'content-length': '3590', 'connection': 'keep-alive', 'x-amzn-requestid': 'c63461b4-1812-4930-8f39-5797361f1af8'}, 'RetryAttempts': 0}, 'stopReason': 'end_turn', 'metrics': {'latencyMs': [8804]}, 'model_name': 'us.amazon.nova-pro-v1:0'}, id='run-84853ac2-25dc-497f-a3b7-f451370ef0d3-0', usage_metadata={'input_tokens': 148, 'output_tokens': 711, 'total_tokens': 859}), AIMessage(content='', additional_kwargs={}, response_metadata={'ResponseMetadata': {'RequestId': '6cb26554-564a-4145-ad30-a76e8542652b', 'HTTPStatusCode': 200, 'HTTPHeaders': {'date': 'Wed, 09 Apr 2025 15:24:22 GMT', 'content-type': 'application/json', 'content-length': '182', 'connection': 'keep-alive', 'x-amzn-requestid': '6cb26554-564a-4145-ad30-a76e8542652b'}, 'RetryAttempts': 0}, 'stopReason': 'end_turn', 'metrics': {'latencyMs': [418]}, 'model_name': 'us.amazon.nova-pro-v1:0'}, id='run-f2f99b7e-a0f6-4299-9aa9-6582d2dac631-0', usage_metadata={'input_tokens': 901, 'output_tokens': 0, 'total_tokens': 901}), AIMessage(content=\"\\n\\n---\\n**Note:** Each activity offers a unique glimpse into Amsterdam’s rich history, vibrant culture, and innovative spirit. Whether you're a history buff, art lover, or simply looking for a fun day out, Amsterdam has something for everyone.\", additional_kwargs={}, response_metadata={'ResponseMetadata': {'RequestId': 'f2feaca0-78c1-47dd-a93c-6b3043572292', 'HTTPStatusCode': 200, 'HTTPHeaders': {'date': 'Wed, 09 Apr 2025 15:24:23 GMT', 'content-type': 'application/json', 'content-length': '430', 'connection': 'keep-alive', 'x-amzn-requestid': 'f2feaca0-78c1-47dd-a93c-6b3043572292'}, 'RetryAttempts': 0}, 'stopReason': 'end_turn', 'metrics': {'latencyMs': [1076]}, 'model_name': 'us.amazon.nova-pro-v1:0'}, id='run-0b30587c-696c-4c82-8a5c-9532aa1cc798-0', usage_metadata={'input_tokens': 882, 'output_tokens': 51, 'total_tokens': 933})]}}\n",
      "----\n"
     ]
    }
   ],
   "source": [
    "events = graph.stream(\n",
    "    {\n",
    "        \"messages\": [\n",
    "            (\"user\", \"Write a listicle for Amsterdam, Netherlands.\")\n",
    "        ],\n",
    "    },\n",
    "    # Maximum number of steps to take in the graph\n",
    "    {\"recursion_limit\": 150},\n",
    ")\n",
    "for s in events:\n",
    "    print(s)\n",
    "    print(\"----\")"
   ]
  },
  {
   "cell_type": "markdown",
   "id": "48c7d812",
   "metadata": {},
   "source": [
    "### Testing with a Less Well-Known Location\n",
    "\n",
    "What happens if you are looking for travel advice for a less well-known location? A model is unlikely to know much about a small village like Hoenderloo, Netherlands (population of ~1,500), even though it has a lot to offer. In this case, the model will likely give recommendations outside of the location itself, or it may even hallucinate attractions which don't exist.\n",
    "\n",
    "**Expected Output:**\n",
    "You may notice that the model struggles with this less-known location, potentially providing inaccurate or generic information. This highlights the limitations of relying solely on the model's internal knowledge."
   ]
  },
  {
   "cell_type": "code",
   "execution_count": 17,
   "id": "260c4617",
   "metadata": {},
   "outputs": [
    {
     "name": "stdout",
     "output_type": "stream",
     "text": [
      "{'researcher': {'messages': [HumanMessage(content='Write a listicle for Hoenderloo, Netherlands.', additional_kwargs={}, response_metadata={}, id='1d22decd-7d34-4e34-ac06-de759fc9b59b'), AIMessage(content=\"Sure! Here’s a structured list of interesting activities and attractions in Hoenderloo, Netherlands:\\n\\n### 1. Veluwezoom National Park\\n**Brief Description:**  \\nVeluwezoom National Park is one of the oldest national parks in the Netherlands, known for its diverse landscapes, including forests, heathlands, and sand drifts.  \\n**Why It's Worth Visiting:**  \\nThe park offers numerous hiking and cycling trails, providing opportunities to explore its natural beauty and observe local wildlife. It’s a perfect spot for nature lovers and outdoor enthusiasts.\\n\\n### 2. Kröller-Müller Museum\\n**Brief Description:**  \\nLocated within the Hoge Veluwe National Park, the Kröller-Müller Museum boasts the second-largest collection of Van Gogh paintings in the world, alongside works by other prominent artists.  \\n**Why It's Worth Visiting:**  \\nArt aficionados will appreciate the extensive collection of modern art, and the surrounding sculpture garden offers a unique outdoor experience amidst beautiful scenery.\\n\\n### 3. Otterlo Village\\n**Brief Description:**  \\nA charming village nearby Hoenderloo, Otterlo is known for its quaint atmosphere and proximity to the Kröller-Müller Museum.  \\n**Why It's Worth Visiting:**  \\nVisitors can enjoy local cafes, shops, and the peaceful ambiance. It’s an ideal place to relax after a day of exploring the nearby attractions.\\n\\n### 4. National Park de Groote Peel\\n**Brief Description:**  \\nAlthough primarily located in the provinces of Limburg and North Brabant, parts of this unique peat bog landscape extend into the region around Hoenderloo.  \\n**Why It's Worth Visiting:**  \\nThe park offers serene walking routes, bird-watching opportunities, and a chance to experience a rare ecosystem that’s quite different from the typical Dutch landscapes.\\n\\n### 5. Airborne Museum Hartenstein in Oosterbeek\\n**Brief Description:**  \\nSituated a short drive from Hoenderloo in the village of Oosterbeek, the Airborne Museum Hartenstein is dedicated to the Battle of Arnhem during World War II.  \\n**Why It's Worth Visiting:**  \\nHistory buffs will find the museum fascinating, with exhibits that provide a deep insight into the events of Operation Market Garden. The building itself played a crucial role during the battle, adding a layer of authenticity to the experience.\\n\\n### 6. Posbank\\n**Brief Description:**  \\nPosbank is a well-known scenic spot within the Veluwezoom National Park, offering panoramic views over the Dutch countryside.  \\n**Why It's Worth Visiting:**  \\nIt’s a fantastic place for a picnic, photography, or simply taking in the breathtaking vistas. The area is also rich in hiking trails for those who want to explore further.\\n\\n### 7. St. Eusebius' Church in Arnhem\\n**Brief Description:**  \\nLocated in the nearby city of Arnhem, St. Eusebius' Church is a historic church with a striking tower that dominates the city’s skyline.  \\n**Why It's Worth Visiting:**  \\nThe church has a rich history dating back to the 14th century and offers beautiful architecture and a tranquil atmosphere. It’s a great spot for those interested in history and architecture.\\n\\nThese attractions offer a mix of natural beauty, cultural experiences, and historical insights, making Hoenderloo and its surrounding areas a fascinating destination for any type of traveler.\", additional_kwargs={}, response_metadata={'ResponseMetadata': {'RequestId': 'c6095a19-386b-479e-9d80-e87becc2ef53', 'HTTPStatusCode': 200, 'HTTPHeaders': {'date': 'Wed, 09 Apr 2025 15:26:05 GMT', 'content-type': 'application/json', 'content-length': '3522', 'connection': 'keep-alive', 'x-amzn-requestid': 'c6095a19-386b-479e-9d80-e87becc2ef53'}, 'RetryAttempts': 0}, 'stopReason': 'end_turn', 'metrics': {'latencyMs': [7995]}, 'model_name': 'us.amazon.nova-pro-v1:0'}, id='run-180a1337-3a8c-4c34-9185-4496d4d1eb44-0', usage_metadata={'input_tokens': 150, 'output_tokens': 687, 'total_tokens': 837})]}}\n",
      "----\n",
      "{'content_writer': {'messages': [HumanMessage(content='Write a listicle for Hoenderloo, Netherlands.', additional_kwargs={}, response_metadata={}, id='1d22decd-7d34-4e34-ac06-de759fc9b59b'), AIMessage(content=\"Sure! Here’s a structured list of interesting activities and attractions in Hoenderloo, Netherlands:\\n\\n### 1. Veluwezoom National Park\\n**Brief Description:**  \\nVeluwezoom National Park is one of the oldest national parks in the Netherlands, known for its diverse landscapes, including forests, heathlands, and sand drifts.  \\n**Why It's Worth Visiting:**  \\nThe park offers numerous hiking and cycling trails, providing opportunities to explore its natural beauty and observe local wildlife. It’s a perfect spot for nature lovers and outdoor enthusiasts.\\n\\n### 2. Kröller-Müller Museum\\n**Brief Description:**  \\nLocated within the Hoge Veluwe National Park, the Kröller-Müller Museum boasts the second-largest collection of Van Gogh paintings in the world, alongside works by other prominent artists.  \\n**Why It's Worth Visiting:**  \\nArt aficionados will appreciate the extensive collection of modern art, and the surrounding sculpture garden offers a unique outdoor experience amidst beautiful scenery.\\n\\n### 3. Otterlo Village\\n**Brief Description:**  \\nA charming village nearby Hoenderloo, Otterlo is known for its quaint atmosphere and proximity to the Kröller-Müller Museum.  \\n**Why It's Worth Visiting:**  \\nVisitors can enjoy local cafes, shops, and the peaceful ambiance. It’s an ideal place to relax after a day of exploring the nearby attractions.\\n\\n### 4. National Park de Groote Peel\\n**Brief Description:**  \\nAlthough primarily located in the provinces of Limburg and North Brabant, parts of this unique peat bog landscape extend into the region around Hoenderloo.  \\n**Why It's Worth Visiting:**  \\nThe park offers serene walking routes, bird-watching opportunities, and a chance to experience a rare ecosystem that’s quite different from the typical Dutch landscapes.\\n\\n### 5. Airborne Museum Hartenstein in Oosterbeek\\n**Brief Description:**  \\nSituated a short drive from Hoenderloo in the village of Oosterbeek, the Airborne Museum Hartenstein is dedicated to the Battle of Arnhem during World War II.  \\n**Why It's Worth Visiting:**  \\nHistory buffs will find the museum fascinating, with exhibits that provide a deep insight into the events of Operation Market Garden. The building itself played a crucial role during the battle, adding a layer of authenticity to the experience.\\n\\n### 6. Posbank\\n**Brief Description:**  \\nPosbank is a well-known scenic spot within the Veluwezoom National Park, offering panoramic views over the Dutch countryside.  \\n**Why It's Worth Visiting:**  \\nIt’s a fantastic place for a picnic, photography, or simply taking in the breathtaking vistas. The area is also rich in hiking trails for those who want to explore further.\\n\\n### 7. St. Eusebius' Church in Arnhem\\n**Brief Description:**  \\nLocated in the nearby city of Arnhem, St. Eusebius' Church is a historic church with a striking tower that dominates the city’s skyline.  \\n**Why It's Worth Visiting:**  \\nThe church has a rich history dating back to the 14th century and offers beautiful architecture and a tranquil atmosphere. It’s a great spot for those interested in history and architecture.\\n\\nThese attractions offer a mix of natural beauty, cultural experiences, and historical insights, making Hoenderloo and its surrounding areas a fascinating destination for any type of traveler.\", additional_kwargs={}, response_metadata={'ResponseMetadata': {'RequestId': 'c6095a19-386b-479e-9d80-e87becc2ef53', 'HTTPStatusCode': 200, 'HTTPHeaders': {'date': 'Wed, 09 Apr 2025 15:26:05 GMT', 'content-type': 'application/json', 'content-length': '3522', 'connection': 'keep-alive', 'x-amzn-requestid': 'c6095a19-386b-479e-9d80-e87becc2ef53'}, 'RetryAttempts': 0}, 'stopReason': 'end_turn', 'metrics': {'latencyMs': [7995]}, 'model_name': 'us.amazon.nova-pro-v1:0'}, id='run-180a1337-3a8c-4c34-9185-4496d4d1eb44-0', usage_metadata={'input_tokens': 150, 'output_tokens': 687, 'total_tokens': 837}), AIMessage(content='', additional_kwargs={}, response_metadata={'ResponseMetadata': {'RequestId': 'e7b86bb3-b939-49cf-9076-dbae39cd0da7', 'HTTPStatusCode': 200, 'HTTPHeaders': {'date': 'Wed, 09 Apr 2025 15:26:05 GMT', 'content-type': 'application/json', 'content-length': '182', 'connection': 'keep-alive', 'x-amzn-requestid': 'e7b86bb3-b939-49cf-9076-dbae39cd0da7'}, 'RetryAttempts': 0}, 'stopReason': 'end_turn', 'metrics': {'latencyMs': [421]}, 'model_name': 'us.amazon.nova-pro-v1:0'}, id='run-f963b601-cd96-44a0-8c01-2c228aca81ef-0', usage_metadata={'input_tokens': 879, 'output_tokens': 0, 'total_tokens': 879})]}}\n",
      "----\n",
      "{'content_editor': {'messages': [HumanMessage(content='Write a listicle for Hoenderloo, Netherlands.', additional_kwargs={}, response_metadata={}, id='1d22decd-7d34-4e34-ac06-de759fc9b59b'), AIMessage(content=\"Sure! Here’s a structured list of interesting activities and attractions in Hoenderloo, Netherlands:\\n\\n### 1. Veluwezoom National Park\\n**Brief Description:**  \\nVeluwezoom National Park is one of the oldest national parks in the Netherlands, known for its diverse landscapes, including forests, heathlands, and sand drifts.  \\n**Why It's Worth Visiting:**  \\nThe park offers numerous hiking and cycling trails, providing opportunities to explore its natural beauty and observe local wildlife. It’s a perfect spot for nature lovers and outdoor enthusiasts.\\n\\n### 2. Kröller-Müller Museum\\n**Brief Description:**  \\nLocated within the Hoge Veluwe National Park, the Kröller-Müller Museum boasts the second-largest collection of Van Gogh paintings in the world, alongside works by other prominent artists.  \\n**Why It's Worth Visiting:**  \\nArt aficionados will appreciate the extensive collection of modern art, and the surrounding sculpture garden offers a unique outdoor experience amidst beautiful scenery.\\n\\n### 3. Otterlo Village\\n**Brief Description:**  \\nA charming village nearby Hoenderloo, Otterlo is known for its quaint atmosphere and proximity to the Kröller-Müller Museum.  \\n**Why It's Worth Visiting:**  \\nVisitors can enjoy local cafes, shops, and the peaceful ambiance. It’s an ideal place to relax after a day of exploring the nearby attractions.\\n\\n### 4. National Park de Groote Peel\\n**Brief Description:**  \\nAlthough primarily located in the provinces of Limburg and North Brabant, parts of this unique peat bog landscape extend into the region around Hoenderloo.  \\n**Why It's Worth Visiting:**  \\nThe park offers serene walking routes, bird-watching opportunities, and a chance to experience a rare ecosystem that’s quite different from the typical Dutch landscapes.\\n\\n### 5. Airborne Museum Hartenstein in Oosterbeek\\n**Brief Description:**  \\nSituated a short drive from Hoenderloo in the village of Oosterbeek, the Airborne Museum Hartenstein is dedicated to the Battle of Arnhem during World War II.  \\n**Why It's Worth Visiting:**  \\nHistory buffs will find the museum fascinating, with exhibits that provide a deep insight into the events of Operation Market Garden. The building itself played a crucial role during the battle, adding a layer of authenticity to the experience.\\n\\n### 6. Posbank\\n**Brief Description:**  \\nPosbank is a well-known scenic spot within the Veluwezoom National Park, offering panoramic views over the Dutch countryside.  \\n**Why It's Worth Visiting:**  \\nIt’s a fantastic place for a picnic, photography, or simply taking in the breathtaking vistas. The area is also rich in hiking trails for those who want to explore further.\\n\\n### 7. St. Eusebius' Church in Arnhem\\n**Brief Description:**  \\nLocated in the nearby city of Arnhem, St. Eusebius' Church is a historic church with a striking tower that dominates the city’s skyline.  \\n**Why It's Worth Visiting:**  \\nThe church has a rich history dating back to the 14th century and offers beautiful architecture and a tranquil atmosphere. It’s a great spot for those interested in history and architecture.\\n\\nThese attractions offer a mix of natural beauty, cultural experiences, and historical insights, making Hoenderloo and its surrounding areas a fascinating destination for any type of traveler.\", additional_kwargs={}, response_metadata={'ResponseMetadata': {'RequestId': 'c6095a19-386b-479e-9d80-e87becc2ef53', 'HTTPStatusCode': 200, 'HTTPHeaders': {'date': 'Wed, 09 Apr 2025 15:26:05 GMT', 'content-type': 'application/json', 'content-length': '3522', 'connection': 'keep-alive', 'x-amzn-requestid': 'c6095a19-386b-479e-9d80-e87becc2ef53'}, 'RetryAttempts': 0}, 'stopReason': 'end_turn', 'metrics': {'latencyMs': [7995]}, 'model_name': 'us.amazon.nova-pro-v1:0'}, id='run-180a1337-3a8c-4c34-9185-4496d4d1eb44-0', usage_metadata={'input_tokens': 150, 'output_tokens': 687, 'total_tokens': 837}), AIMessage(content='', additional_kwargs={}, response_metadata={'ResponseMetadata': {'RequestId': 'e7b86bb3-b939-49cf-9076-dbae39cd0da7', 'HTTPStatusCode': 200, 'HTTPHeaders': {'date': 'Wed, 09 Apr 2025 15:26:05 GMT', 'content-type': 'application/json', 'content-length': '182', 'connection': 'keep-alive', 'x-amzn-requestid': 'e7b86bb3-b939-49cf-9076-dbae39cd0da7'}, 'RetryAttempts': 0}, 'stopReason': 'end_turn', 'metrics': {'latencyMs': [421]}, 'model_name': 'us.amazon.nova-pro-v1:0'}, id='run-f963b601-cd96-44a0-8c01-2c228aca81ef-0', usage_metadata={'input_tokens': 879, 'output_tokens': 0, 'total_tokens': 879}), AIMessage(content='', additional_kwargs={}, response_metadata={'ResponseMetadata': {'RequestId': '8bb64f0d-43db-462e-8e29-508c8319c8b0', 'HTTPStatusCode': 200, 'HTTPHeaders': {'date': 'Wed, 09 Apr 2025 15:26:06 GMT', 'content-type': 'application/json', 'content-length': '182', 'connection': 'keep-alive', 'x-amzn-requestid': '8bb64f0d-43db-462e-8e29-508c8319c8b0'}, 'RetryAttempts': 0}, 'stopReason': 'end_turn', 'metrics': {'latencyMs': [413]}, 'model_name': 'us.amazon.nova-pro-v1:0'}, id='run-0a19e8a7-7d2d-4240-b74f-31f9c007b893-0', usage_metadata={'input_tokens': 860, 'output_tokens': 0, 'total_tokens': 860})]}}\n",
      "----\n"
     ]
    }
   ],
   "source": [
    "events = graph.stream(\n",
    "    {\n",
    "        \"messages\": [\n",
    "            (\"user\", \"Write a listicle for Hoenderloo, Netherlands.\")\n",
    "        ],\n",
    "    },\n",
    "    # Maximum number of steps to take in the graph\n",
    "    {\"recursion_limit\": 150},\n",
    ")\n",
    "for s in events:\n",
    "    print(s)\n",
    "    print(\"----\")"
   ]
  },
  {
   "cell_type": "markdown",
   "id": "798b6ad0",
   "metadata": {},
   "source": [
    "----\n",
    "\n",
    "## Enhance Agent Capabilities Using Tools\n",
    "\n",
    "Let's extend the capabilities of the research agent by giving it access to a web search tool so it can search for relevant information about a less well-known location.\n",
    "\n",
    "### Setting Up the Search Tool\n",
    "\n",
    "There are many API search tools available. LangChain has built-in tools for various search providers. For this notebook, we'll use the Tavily search API, which offers a limited number of free queries. \n",
    "\n",
    "> **Note:** To complete this section, you will need to [register with Tavily](https://tavily.com/) and fetch an API key for this service."
   ]
  },
  {
   "cell_type": "code",
   "execution_count": 19,
   "id": "ff4ea538",
   "metadata": {},
   "outputs": [],
   "source": [
    "def _set_if_undefined(var: str):\n",
    "    if not os.environ.get(var):\n",
    "        os.environ[var] = getpass.getpass(f\"Please provide your {var}\")\n",
    "\n",
    "\n",
    "_set_if_undefined(\"TAVILY_API_KEY\")"
   ]
  },
  {
   "cell_type": "markdown",
   "id": "02bbf36b",
   "metadata": {},
   "source": [
    "Now you can instantiate the Tavily search tool. The tool can perform specific searches for news, scholarly articles, images, and more, but in this case you will use the tool to perform a generic internet search. It is recommended to set the maximum number of search results using the `max_results` parameter."
   ]
  },
  {
   "cell_type": "code",
   "execution_count": 20,
   "id": "d51fc63b",
   "metadata": {},
   "outputs": [],
   "source": [
    "from langchain_community.tools.tavily_search import TavilySearchResults\n",
    "\n",
    "tavily_tool = TavilySearchResults(max_results=5)"
   ]
  },
  {
   "cell_type": "markdown",
   "id": "0958bc14",
   "metadata": {},
   "source": [
    "### Choosing the Right Model for Tool Use\n",
    "\n",
    "DeepSeek R1 does not natively support function calling or structured outputs ([source](https://github.com/deepseek-ai/DeepSeek-R1/issues/9#issuecomment-2604747754)). With careful prompting it is possible to call a tool with DeepSeek R1, but we recommend choosing the right model for the right job. \n",
    "\n",
    "In this case, let's replace the LLM for the researcher agent with [Mistral Large 2402](https://docs.aws.amazon.com/bedrock/latest/userguide/model-parameters-mistral.html), which has better support for tool use. The writer and editor agents will continue to use the DeepSeek model since they don't need to use tools.\n",
    "\n",
    "Although you can deploy Mistral models on SageMaker endpoints, let's try using Mistral via Amazon Bedrock serverless endpoints instead."
   ]
  },
  {
   "cell_type": "code",
   "execution_count": 24,
   "id": "45f46198",
   "metadata": {},
   "outputs": [],
   "source": [
    "function_calling_model = ChatBedrock(\n",
    "    model=\"mistral.mistral-large-2402-v1:0\",\n",
    "    temperature=0,\n",
    "    region=\"us-west-2\"\n",
    ")"
   ]
  },
  {
   "cell_type": "markdown",
   "id": "15816504",
   "metadata": {},
   "source": [
    "### Recreating the Researcher Agent with Tool Access\n",
    "\n",
    "Recreate the researcher agent to include the tool. In addition to adding the tool in the `tools` parameter, we'll keep the same prompt but now the agent will have access to the search tool."
   ]
  },
  {
   "cell_type": "code",
   "execution_count": 25,
   "id": "02b2b0ee",
   "metadata": {},
   "outputs": [],
   "source": [
    "research_agent = create_react_agent(\n",
    "    function_calling_model,\n",
    "    tools=[tavily_tool],\n",
    "    prompt=dedent(\n",
    "            \"\"\"You are an experienced travel researcher with a knack for \n",
    "            discovering both popular attractions and hidden gems in any \n",
    "            location. Your expertise lies in gathering comprehensive \n",
    "            information about various activities, their historical \n",
    "            significance, and practical details for visitors. Research and \n",
    "            compile a list of at least 5 interesting activities and \n",
    "            attractions in the requested location. Include a mix of popular tourist \n",
    "            spots and lesser-known local favorites. For each item, provide:\n",
    "            1. Name of the attraction/activity\n",
    "            2. Brief description (2-3 sentences)\n",
    "            3. Why it's worth visiting\n",
    "            Your final answer should be a structured list of these items.\n",
    "            \"\"\"\n",
    "    ),\n",
    ")"
   ]
  },
  {
   "cell_type": "markdown",
   "id": "6fa51528",
   "metadata": {},
   "source": [
    "You can also re-create the task and edit the prompt slightly to ensure that the model knows it can use the web search tool."
   ]
  },
  {
   "cell_type": "code",
   "execution_count": 26,
   "id": "3a7d024e",
   "metadata": {},
   "outputs": [],
   "source": [
    "def research_node(state: MessagesState) -> Command[Literal[\"content_writer\"]]:\n",
    "    result = research_agent.invoke(state)\n",
    "    return Command(\n",
    "        update={\n",
    "            # share internal message history of research agent with other agents\n",
    "            \"messages\": result[\"messages\"],\n",
    "        },\n",
    "        goto=\"content_writer\",\n",
    "    )"
   ]
  },
  {
   "cell_type": "markdown",
   "id": "f045cfd3",
   "metadata": {},
   "source": [
    "### Recreating the Complete Workflow\n",
    "\n",
    "Recreate the crew with your new research agent. No adjustment is needed for this code."
   ]
  },
  {
   "cell_type": "code",
   "execution_count": null,
   "id": "53e43f69",
   "metadata": {},
   "outputs": [],
   "source": [
    "workflow = StateGraph(MessagesState)\n",
    "workflow.add_node(\"researcher\", research_node)\n",
    "workflow.add_node(\"content_writer\", content_writer_agent)\n",
    "workflow.add_node(\"content_editor\", content_editor_agent)\n",
    "\n",
    "workflow.add_edge(START, \"researcher\")\n",
    "workflow.add_edge(\"researcher\", \"content_writer\")\n",
    "workflow.add_edge(\"content_writer\", \"content_editor\")\n",
    "workflow.add_edge(\"content_editor\", END)\n",
    "graph = workflow.compile()"
   ]
  },
  {
   "cell_type": "markdown",
   "id": "7abc40b7",
   "metadata": {},
   "source": [
    "### Testing the Enhanced Workflow\n",
    "\n",
    "Now let's test the new crew of agents by asking for travel advice for Hoenderloo. Feel free to test with your location of choice.\n",
    "\n",
    "**Expected Output:**\n",
    "With the search tool enabled, you should now see much more accurate and detailed information about Hoenderloo, as the researcher agent can search the web for current and factual information rather than relying solely on the model's internal knowledge."
   ]
  },
  {
   "cell_type": "code",
   "execution_count": 29,
   "id": "d02ba77e",
   "metadata": {},
   "outputs": [
    {
     "name": "stdout",
     "output_type": "stream",
     "text": [
      "{'researcher': {'messages': [HumanMessage(content='Write a listicle for Hoenderloo, Netherlands.', additional_kwargs={}, response_metadata={}, id='c3945947-3482-4c45-9f72-57781bd903b4'), AIMessage(content=\" 1. **Hoge Veluwe National Park**\\n   - This is a beautiful nature reserve that spans over 5,400 hectares, featuring diverse landscapes such as sand dunes, heathlands, and forests.\\n   - It's worth visiting for its stunning natural beauty, abundant wildlife, and the Kröller-Müller Museum located within the park, which houses the second-largest Van Gogh collection in the world.\\n\\n2. **Kröller-Müller Museum**\\n   - As mentioned above, this museum is situated within the Hoge Veluwe National Park and boasts an impressive collection of 19th and 20th-century art.\\n   - Apart from the extensive Van Gogh collection, the museum also features works by other renowned artists like Claude Monet, Pablo Picasso, and Piet Mondrian, making it a must-visit for art enthusiasts.\\n\\n3. **Jachthuis Sint Hubertus**\\n   - This historic hunting lodge was designed by Hendrik Petrus Berlage, a prominent Dutch architect, and is considered one of his masterpieces.\\n   - The lodge's unique architecture, blending traditional Dutch elements with Art Nouveau influences, and its picturesque setting within the national park make it an interesting attraction to explore.\\n\\n4. **Landgoed Buitenplaats De Hooge Boekel**\\n   - This charming estate is a lesser-known local favorite, offering a serene escape into nature with its lush gardens, walking trails, and a cozy tea house.\\n   - Visitors can enjoy a leisurely stroll through the beautiful surroundings, have a cup of tea or coffee at the tea house, and even participate in various workshops and events organized throughout the year.\\n\\n5. **Airborne Museum 'Hartenstein'**\\n   - Located in nearby Oosterbeek, this museum is dedicated to the Battle of Arnhem, which took place during World War II as part of Operation Market Garden.\\n   - History buffs will appreciate the museum's extensive collection of artifacts, photographs, and personal stories that provide insight into this significant event, as well as its role in shaping modern European history.\", additional_kwargs={'usage': {'prompt_tokens': 181, 'completion_tokens': 490, 'total_tokens': 671}, 'stop_reason': None, 'thinking': {}, 'model_id': 'mistral.mistral-large-2402-v1:0', 'model_name': 'mistral.mistral-large-2402-v1:0'}, response_metadata={'usage': {'prompt_tokens': 181, 'completion_tokens': 490, 'total_tokens': 671}, 'stop_reason': None, 'thinking': {}, 'model_id': 'mistral.mistral-large-2402-v1:0', 'model_name': 'mistral.mistral-large-2402-v1:0'}, id='run-05c373f2-3c91-4d97-babc-f2ccc2ca9994-0', usage_metadata={'input_tokens': 181, 'output_tokens': 490, 'total_tokens': 671})]}}\n",
      "----\n",
      "{'content_writer': {'messages': [HumanMessage(content='Write a listicle for Hoenderloo, Netherlands.', additional_kwargs={}, response_metadata={}, id='c3945947-3482-4c45-9f72-57781bd903b4'), AIMessage(content=\" 1. **Hoge Veluwe National Park**\\n   - This is a beautiful nature reserve that spans over 5,400 hectares, featuring diverse landscapes such as sand dunes, heathlands, and forests.\\n   - It's worth visiting for its stunning natural beauty, abundant wildlife, and the Kröller-Müller Museum located within the park, which houses the second-largest Van Gogh collection in the world.\\n\\n2. **Kröller-Müller Museum**\\n   - As mentioned above, this museum is situated within the Hoge Veluwe National Park and boasts an impressive collection of 19th and 20th-century art.\\n   - Apart from the extensive Van Gogh collection, the museum also features works by other renowned artists like Claude Monet, Pablo Picasso, and Piet Mondrian, making it a must-visit for art enthusiasts.\\n\\n3. **Jachthuis Sint Hubertus**\\n   - This historic hunting lodge was designed by Hendrik Petrus Berlage, a prominent Dutch architect, and is considered one of his masterpieces.\\n   - The lodge's unique architecture, blending traditional Dutch elements with Art Nouveau influences, and its picturesque setting within the national park make it an interesting attraction to explore.\\n\\n4. **Landgoed Buitenplaats De Hooge Boekel**\\n   - This charming estate is a lesser-known local favorite, offering a serene escape into nature with its lush gardens, walking trails, and a cozy tea house.\\n   - Visitors can enjoy a leisurely stroll through the beautiful surroundings, have a cup of tea or coffee at the tea house, and even participate in various workshops and events organized throughout the year.\\n\\n5. **Airborne Museum 'Hartenstein'**\\n   - Located in nearby Oosterbeek, this museum is dedicated to the Battle of Arnhem, which took place during World War II as part of Operation Market Garden.\\n   - History buffs will appreciate the museum's extensive collection of artifacts, photographs, and personal stories that provide insight into this significant event, as well as its role in shaping modern European history.\", additional_kwargs={'usage': {'prompt_tokens': 181, 'completion_tokens': 490, 'total_tokens': 671}, 'stop_reason': None, 'thinking': {}, 'model_id': 'mistral.mistral-large-2402-v1:0', 'model_name': 'mistral.mistral-large-2402-v1:0'}, response_metadata={'usage': {'prompt_tokens': 181, 'completion_tokens': 490, 'total_tokens': 671}, 'stop_reason': None, 'thinking': {}, 'model_id': 'mistral.mistral-large-2402-v1:0', 'model_name': 'mistral.mistral-large-2402-v1:0'}, id='run-05c373f2-3c91-4d97-babc-f2ccc2ca9994-0', usage_metadata={'input_tokens': 181, 'output_tokens': 490, 'total_tokens': 671}), AIMessage(content='', additional_kwargs={}, response_metadata={'ResponseMetadata': {'RequestId': 'dcaa1c88-abf7-465a-9507-49b079da0a91', 'HTTPStatusCode': 200, 'HTTPHeaders': {'date': 'Wed, 09 Apr 2025 15:28:12 GMT', 'content-type': 'application/json', 'content-length': '182', 'connection': 'keep-alive', 'x-amzn-requestid': 'dcaa1c88-abf7-465a-9507-49b079da0a91'}, 'RetryAttempts': 0}, 'stopReason': 'end_turn', 'metrics': {'latencyMs': [438]}, 'model_name': 'us.amazon.nova-pro-v1:0'}, id='run-75054dd0-5a8d-42de-9403-c0f8f886d3a6-0', usage_metadata={'input_tokens': 610, 'output_tokens': 0, 'total_tokens': 610})]}}\n",
      "----\n",
      "{'content_editor': {'messages': [HumanMessage(content='Write a listicle for Hoenderloo, Netherlands.', additional_kwargs={}, response_metadata={}, id='c3945947-3482-4c45-9f72-57781bd903b4'), AIMessage(content=\" 1. **Hoge Veluwe National Park**\\n   - This is a beautiful nature reserve that spans over 5,400 hectares, featuring diverse landscapes such as sand dunes, heathlands, and forests.\\n   - It's worth visiting for its stunning natural beauty, abundant wildlife, and the Kröller-Müller Museum located within the park, which houses the second-largest Van Gogh collection in the world.\\n\\n2. **Kröller-Müller Museum**\\n   - As mentioned above, this museum is situated within the Hoge Veluwe National Park and boasts an impressive collection of 19th and 20th-century art.\\n   - Apart from the extensive Van Gogh collection, the museum also features works by other renowned artists like Claude Monet, Pablo Picasso, and Piet Mondrian, making it a must-visit for art enthusiasts.\\n\\n3. **Jachthuis Sint Hubertus**\\n   - This historic hunting lodge was designed by Hendrik Petrus Berlage, a prominent Dutch architect, and is considered one of his masterpieces.\\n   - The lodge's unique architecture, blending traditional Dutch elements with Art Nouveau influences, and its picturesque setting within the national park make it an interesting attraction to explore.\\n\\n4. **Landgoed Buitenplaats De Hooge Boekel**\\n   - This charming estate is a lesser-known local favorite, offering a serene escape into nature with its lush gardens, walking trails, and a cozy tea house.\\n   - Visitors can enjoy a leisurely stroll through the beautiful surroundings, have a cup of tea or coffee at the tea house, and even participate in various workshops and events organized throughout the year.\\n\\n5. **Airborne Museum 'Hartenstein'**\\n   - Located in nearby Oosterbeek, this museum is dedicated to the Battle of Arnhem, which took place during World War II as part of Operation Market Garden.\\n   - History buffs will appreciate the museum's extensive collection of artifacts, photographs, and personal stories that provide insight into this significant event, as well as its role in shaping modern European history.\", additional_kwargs={'usage': {'prompt_tokens': 181, 'completion_tokens': 490, 'total_tokens': 671}, 'stop_reason': None, 'thinking': {}, 'model_id': 'mistral.mistral-large-2402-v1:0', 'model_name': 'mistral.mistral-large-2402-v1:0'}, response_metadata={'usage': {'prompt_tokens': 181, 'completion_tokens': 490, 'total_tokens': 671}, 'stop_reason': None, 'thinking': {}, 'model_id': 'mistral.mistral-large-2402-v1:0', 'model_name': 'mistral.mistral-large-2402-v1:0'}, id='run-05c373f2-3c91-4d97-babc-f2ccc2ca9994-0', usage_metadata={'input_tokens': 181, 'output_tokens': 490, 'total_tokens': 671}), AIMessage(content='', additional_kwargs={}, response_metadata={'ResponseMetadata': {'RequestId': 'dcaa1c88-abf7-465a-9507-49b079da0a91', 'HTTPStatusCode': 200, 'HTTPHeaders': {'date': 'Wed, 09 Apr 2025 15:28:12 GMT', 'content-type': 'application/json', 'content-length': '182', 'connection': 'keep-alive', 'x-amzn-requestid': 'dcaa1c88-abf7-465a-9507-49b079da0a91'}, 'RetryAttempts': 0}, 'stopReason': 'end_turn', 'metrics': {'latencyMs': [438]}, 'model_name': 'us.amazon.nova-pro-v1:0'}, id='run-75054dd0-5a8d-42de-9403-c0f8f886d3a6-0', usage_metadata={'input_tokens': 610, 'output_tokens': 0, 'total_tokens': 610}), AIMessage(content='', additional_kwargs={}, response_metadata={'ResponseMetadata': {'RequestId': '99c0859c-8e05-4707-aa9a-ea7e1a335c5e', 'HTTPStatusCode': 200, 'HTTPHeaders': {'date': 'Wed, 09 Apr 2025 15:28:13 GMT', 'content-type': 'application/json', 'content-length': '182', 'connection': 'keep-alive', 'x-amzn-requestid': '99c0859c-8e05-4707-aa9a-ea7e1a335c5e'}, 'RetryAttempts': 0}, 'stopReason': 'end_turn', 'metrics': {'latencyMs': [414]}, 'model_name': 'us.amazon.nova-pro-v1:0'}, id='run-856ae6c9-6592-41c0-8d97-5d4c4a805574-0', usage_metadata={'input_tokens': 591, 'output_tokens': 0, 'total_tokens': 591})]}}\n",
      "----\n"
     ]
    }
   ],
   "source": [
    "events = graph.stream(\n",
    "    {\n",
    "        \"messages\": [\n",
    "            (\"user\", \"Write a listicle for Hoenderloo, Netherlands.\")\n",
    "        ],\n",
    "    },\n",
    "    # Maximum number of steps to take in the graph\n",
    "    {\"recursion_limit\": 150},\n",
    ")\n",
    "for s in events:\n",
    "    print(s)\n",
    "    print(\"----\")"
   ]
  },
  {
   "cell_type": "markdown",
   "id": "8d5d791e",
   "metadata": {},
   "source": [
    "---\n",
    "\n",
    "## Summary\n",
    "\n",
    "In this notebook, you've learned how to:\n",
    "\n",
    "1. Create a sequential multi-agent workflow using LangGraph\n",
    "2. Define specialized agents with different roles and responsibilities\n",
    "3. Connect agents in a workflow using StateGraph\n",
    "4. Enhance agent capabilities by integrating external tools\n",
    "5. Test the workflow with both well-known and obscure locations\n",
    "\n",
    "This pattern of sequential agent collaboration can be applied to many other use cases beyond travel content creation, such as customer support, content moderation, data analysis, and more."
   ]
  }
 ],
 "metadata": {
  "kernelspec": {
   "display_name": ".venv",
   "language": "python",
   "name": "python3"
  },
  "language_info": {
   "codemirror_mode": {
    "name": "ipython",
    "version": 3
   },
   "file_extension": ".py",
   "mimetype": "text/x-python",
   "name": "python",
   "nbconvert_exporter": "python",
   "pygments_lexer": "ipython3",
   "version": "3.12.9"
  }
 },
 "nbformat": 4,
 "nbformat_minor": 5
}

{
  "cells": [
    {
      "cell_type": "markdown",
      "metadata": {},
      "source": [
        "# Getting Started with the OpenAI Agents SDK\n",
        "\n",
        "This notebook will guide you through the basics of using the [OpenAI Agents SDK](https://github.com/openai/agents-sdk) with Amazon Bedrock. We'll cover how to set up your environment, create an agent, and run a simple example.\n",
        "\n",
        "## Prerequisites\n",
        "Before you begin, ensure you have the following:\n",
        "- Python installed\n",
        "- An AWS account with access to Amazon Bedrock\n",
        "- The `openai-agents-sdk` Python package installed\n",
        "\n",
        "You can install the `openai-agents` package using pip:"
      ]
    },
    {
      "cell_type": "code",
      "execution_count": 1,
      "metadata": {},
      "outputs": [
        {
          "name": "stdout",
          "output_type": "stream",
          "text": [
            "Note: you may need to restart the kernel to use updated packages.\n"
          ]
        }
      ],
      "source": [
        "%pip install openai-agents litellm boto3 --quiet --upgrade"
      ]
    },
    {
      "cell_type": "code",
      "execution_count": null,
      "metadata": {},
      "outputs": [],
      "source": [
        "from __future__ import annotations\n",
        "from agents import Agent, Runner, function_tool, set_tracing_disabled\n",
        "from agents.tool import FunctionTool\n",
        "\n",
        "set_tracing_disabled(disabled=True)"
      ]
    },
    {
      "cell_type": "markdown",
      "metadata": {},
      "source": [
        "## Converting an OpenAI Tool to a Bedrock Tool\n",
        "\n",
        "The `convert_openai_tool_to_bedrock_tool` function converts an OpenAI tool to a Bedrock tool. This is useful when you want to use an existing OpenAI tool with Amazon Bedrock."
      ]
    },
    {
      "cell_type": "code",
      "execution_count": 3,
      "metadata": {},
      "outputs": [],
      "source": [
        "def convert_openai_tool_to_bedrock_tool(tool: dict) -> FunctionTool:\n",
        "    \"\"\"Converts an OpenAI tool to a Bedrock tool.\"\"\"\n",
        "    return FunctionTool(\n",
        "        name=tool[\"name\"],\n",
        "        description=tool[\"description\"],\n",
        "        params_json_schema={\n",
        "            \"type\": \"object\",\n",
        "            \"properties\": { k: v for k, v in tool[\"params_json_schema\"][\"properties\"].items() },\n",
        "            \"required\": tool[\"params_json_schema\"].get(\"required\", []),\n",
        "        },\n",
        "        on_invoke_tool=tool[\"on_invoke_tool\"],\n",
        "    )"
      ]
    },
    {
      "cell_type": "markdown",
      "metadata": {},
      "source": [
        "## Creating a Simple Tool\n",
        "\n",
        "Let's create a simple tool that gets the weather for a given city."
      ]
    },
    {
      "cell_type": "code",
      "execution_count": 4,
      "metadata": {},
      "outputs": [],
      "source": [
        "@function_tool\n",
        "def get_weather(city: str):\n",
        "    \"\"\"Get the weather for a given city.\"\"\"\n",
        "    print(f\"[debug] getting weather for {city}\")\n",
        "    return f\"The weather in {city} is sunny.\""
      ]
    },
    {
      "cell_type": "markdown",
      "metadata": {},
      "source": [
        "## Creating an Agent\n",
        "\n",
        "Now, let's create an agent that uses the `get_weather` tool."
      ]
    },
    {
      "cell_type": "code",
      "execution_count": 10,
      "metadata": {},
      "outputs": [
        {
          "name": "stderr",
          "output_type": "stream",
          "text": [
            "/opt/homebrew/Cellar/python@3.12/3.12.9/Frameworks/Python.framework/Versions/3.12/lib/python3.12/typing.py:1217: RuntimeWarning: coroutine 'main' was never awaited\n",
            "  super().__setattr__(attr, val)\n",
            "RuntimeWarning: Enable tracemalloc to get the object allocation traceback\n"
          ]
        },
        {
          "name": "stdout",
          "output_type": "stream",
          "text": [
            "[debug] getting weather for Tokyo\n",
            "Sunny skies in Tokyo,\n",
            "April 22, 2025 haiku.\n"
          ]
        }
      ],
      "source": [
        "%autoawait asyncio\n",
        "\n",
        "agent = Agent(\n",
        "    name=\"Assistant\",\n",
        "    instructions=\"You only respond in haikus.\",\n",
        "    model=\"litellm/bedrock/us.amazon.nova-pro-v1:0\",\n",
        "    tools=[convert_openai_tool_to_bedrock_tool(get_weather.__dict__)],\n",
        ")\n",
        "\n",
        "result = await Runner.run(agent, \"What's the weather in Tokyo today, April 22 2025?\")\n",
        "print(result.final_output)"
      ]
    },
    {
      "cell_type": "code",
      "execution_count": null,
      "metadata": {},
      "outputs": [],
      "source": []
    }
  ],
  "metadata": {
    "kernelspec": {
      "display_name": ".venv",
      "language": "python",
      "name": "python3"
    },
    "language_info": {
      "codemirror_mode": {
        "name": "ipython",
        "version": 3
      },
      "file_extension": ".py",
      "mimetype": "text/x-python",
      "name": "python",
      "nbconvert_exporter": "python",
      "pygments_lexer": "ipython3",
      "version": "3.12.9"
    }
  },
  "nbformat": 4,
  "nbformat_minor": 4
}

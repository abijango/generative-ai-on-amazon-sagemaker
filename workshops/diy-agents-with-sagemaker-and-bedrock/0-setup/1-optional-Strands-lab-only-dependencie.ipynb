{
 "cells": [
  {
   "cell_type": "markdown",
   "id": "055c1fab-abcb-40df-bcd1-20b60d2273ce",
   "metadata": {},
   "source": [
    "### Configure the Model for Strands Agents\n",
    "\n",
    "<div class=\"alert alert-block alert-info\">\n",
    "\t⚠️ <b>Important:</b> ⚠️</br> To use <b>Amazon SageMaker AI</b>,Run this notebook only when you intend to execute Strands workshop under <code>4-frameworks/strands-agents</code>and no other workshop \n",
    "</div>"
   ]
  },
  {
   "cell_type": "markdown",
   "id": "e05d69d6",
   "metadata": {},
   "source": [
    "# Installing Dependencies\n",
    "\n",
    "Please install the dependencies before proceeding with the rest of the workshop."
   ]
  },
  {
   "cell_type": "code",
   "execution_count": null,
   "id": "d64ef10b",
   "metadata": {},
   "outputs": [],
   "source": [
    "%%capture\n",
    "import warnings\n",
    "warnings.filterwarnings(\"ignore\")\n",
    "%pip uninstall -q -y autogluon-multimodal autogluon-timeseries autogluon-features autogluon-common autogluon-core\n",
    "%pip install -Uq -r requirements.txt\n",
    "from IPython import get_ipython\n",
    "get_ipython().kernel.do_shutdown(True)\n"
   ]
  },
  {
   "cell_type": "markdown",
   "id": "6795ccde-9d4a-4488-8fd2-8a0747801392",
   "metadata": {},
   "source": [
    "# Create knowledge base\n",
    "\n",
    "### We will create a knowledge base with s3 as vector store. We will leverage this knowledge base in our lab to query and retreive information by agents. "
   ]
  },
  {
   "cell_type": "code",
   "execution_count": null,
   "id": "8c033499-7d03-4fbe-be60-5218aaafd6b1",
   "metadata": {},
   "outputs": [],
   "source": [
    "!python ../4-frameworks/strands-agents/utils/create_kb1.py"
   ]
  },
  {
   "cell_type": "markdown",
   "id": "2565ea70-8a18-451f-8a7f-0662c76fba61",
   "metadata": {},
   "source": [
    "# Clean up unwanted directories"
   ]
  },
  {
   "cell_type": "code",
   "execution_count": null,
   "id": "696e120f-88ca-4f12-b8dd-acca6970c37c",
   "metadata": {},
   "outputs": [],
   "source": [
    "%%bash\n",
    "set -eux\n",
    "\n",
    "REPO_DIR=/home/sagemaker-user/generative-ai-on-amazon-sagemaker\n",
    "\n",
    "\n",
    "cd $REPO_DIR\n",
    "\n",
    "keep_dirs=(\n",
    "  \"workshops/diy-agents-with-sagemaker-and-bedrock/4-frameworks/strands-agents\"\n",
    "  \"workshops/diy-agents-with-sagemaker-and-bedrock/0-setup\"\n",
    "  \"workshops/diy-agents-with-sagemaker-and-bedrock/99-use-cases/sagemaker-endpoint-as-tool\"\n",
    ")\n",
    "\n",
    "for dir in $(ls -d */ | sed 's#/##'); do\n",
    "  keep=false\n",
    "  for k in \"${keep_dirs[@]}\"; do\n",
    "    if [[ \"$k\" == \"$dir\"* ]]; then\n",
    "      keep=true\n",
    "      break\n",
    "    fi\n",
    "  done\n",
    "  if ! $keep; then\n",
    "    rm -rf \"$dir\"\n",
    "  fi\n",
    "done\n",
    "\n",
    "cd workshops\n",
    "for d in $(ls -d */ | sed 's#/##'); do\n",
    "  if [[ \"$d\" != \"diy-agents-with-sagemaker-and-bedrock\" ]]; then\n",
    "    rm -rf \"$d\"\n",
    "  else\n",
    "    cd diy-agents-with-sagemaker-and-bedrock\n",
    "    for inner_d in $(ls -d */ | sed 's#/##'); do\n",
    "      if [[ \"$inner_d\" != \"4-frameworks\" && \"$inner_d\" != \"0-setup\" ]]; then\n",
    "        rm -rf \"$inner_d\"\n",
    "      elif [[ \"$inner_d\" = \"4-frameworks\" ]]; then\n",
    "        cd 4-frameworks\n",
    "        for sub_d in $(ls -d */ | sed 's#/##'); do\n",
    "          if [[ \"$sub_d\" != \"strands-agents\" ]]; then\n",
    "            rm -rf \"$sub_d\"\n",
    "          fi\n",
    "        done\n",
    "        cd ..\n",
    "      fi\n",
    "    done\n",
    "    cd ..\n",
    "  fi\n",
    "done\n"
   ]
  },
  {
   "cell_type": "code",
   "execution_count": null,
   "id": "2fa8b666-7fe1-419c-b2fa-a55a8985226e",
   "metadata": {},
   "outputs": [],
   "source": []
  }
 ],
 "metadata": {
  "kernelspec": {
   "display_name": "Python 3 (ipykernel)",
   "language": "python",
   "name": "python3"
  },
  "language_info": {
   "codemirror_mode": {
    "name": "ipython",
    "version": 3
   },
   "file_extension": ".py",
   "mimetype": "text/x-python",
   "name": "python",
   "nbconvert_exporter": "python",
   "pygments_lexer": "ipython3",
   "version": "3.12.9"
  }
 },
 "nbformat": 4,
 "nbformat_minor": 5
}

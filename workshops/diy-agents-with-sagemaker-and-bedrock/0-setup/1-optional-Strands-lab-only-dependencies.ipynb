{
 "cells": [
  {
   "cell_type": "markdown",
   "id": "055c1fab-abcb-40df-bcd1-20b60d2273ce",
   "metadata": {},
   "source": [
    "### Configure the Model for Strands Agents\n",
    "\n",
    "<div class=\"alert alert-block alert-info\">\n",
    "\t⚠️ <b>Important:</b> ⚠️</br> To use <b>Amazon SageMaker AI</b>,Run this notebook only when you intend to execute Strands workshop under <code>4-frameworks/strands-agents</code>and no other workshop \n",
    "</div>"
   ]
  },
  {
   "cell_type": "markdown",
   "id": "e05d69d6",
   "metadata": {},
   "source": [
    "# Installing Dependencies\n",
    "\n",
    "Please install the dependencies before proceeding with the rest of the workshop."
   ]
  },
  {
   "cell_type": "code",
   "execution_count": null,
   "id": "d64ef10b",
   "metadata": {},
   "outputs": [],
   "source": [
    "%%capture\n",
    "import warnings\n",
    "warnings.filterwarnings(\"ignore\")\n",
    "%pip uninstall -q -y autogluon-multimodal autogluon-timeseries autogluon-features autogluon-common autogluon-core\n",
    "%pip install -Uq -r requirements.txt\n",
    "from IPython import get_ipython\n",
    "get_ipython().kernel.do_shutdown(True)\n"
   ]
  },
  {
   "cell_type": "markdown",
   "id": "6795ccde-9d4a-4488-8fd2-8a0747801392",
   "metadata": {},
   "source": [
    "# Create knowledge base\n",
    "\n",
    "### We will create a knowledge base with s3 as vector store. We will leverage this knowledge base in our lab to query and retreive information by agents. "
   ]
  },
  {
   "cell_type": "code",
   "execution_count": null,
   "id": "8c033499-7d03-4fbe-be60-5218aaafd6b1",
   "metadata": {},
   "outputs": [],
   "source": [
    "!python ../4-frameworks/strands-agents/utils/create_kb.py"
   ]
  },
  {
   "cell_type": "markdown",
   "id": "2565ea70-8a18-451f-8a7f-0662c76fba61",
   "metadata": {},
   "source": [
    "# Clean up unwanted directories"
   ]
  },
  {
   "cell_type": "code",
   "execution_count": 4,
   "id": "2fa8b666-7fe1-419c-b2fa-a55a8985226e",
   "metadata": {
    "execution": {
     "iopub.execute_input": "2025-08-30T01:04:58.333733Z",
     "iopub.status.busy": "2025-08-30T01:04:58.333324Z",
     "iopub.status.idle": "2025-08-30T01:04:59.189553Z",
     "shell.execute_reply": "2025-08-30T01:04:59.188738Z",
     "shell.execute_reply.started": "2025-08-30T01:04:58.333705Z"
    }
   },
   "outputs": [
    {
     "name": "stderr",
     "output_type": "stream",
     "text": [
      "+ REPO_DIR=/home/sagemaker-user/generative-ai-on-amazon-sagemaker\n",
      "+ '[' -d /home/sagemaker-user/generative-ai-on-amazon-sagemaker ']'\n",
      "+ cd /home/sagemaker-user/generative-ai-on-amazon-sagemaker\n",
      "+ git pull\n"
     ]
    },
    {
     "name": "stdout",
     "output_type": "stream",
     "text": [
      "Already up to date.\n"
     ]
    },
    {
     "name": "stderr",
     "output_type": "stream",
     "text": [
      "+ keep_dirs=(\"workshops/diy-agents-with-sagemaker-and-bedrock/4-frameworks/strands-agents\" \"workshops/diy-agents-with-sagemaker-and-bedrock/0-setup\" \"workshops/diy-agents-with-sagemaker-and-bedrock/99-use-cases/sagemaker-endpoint-as-tool\")\n",
      "+ mkdir -p /tmp/keep_dirs\n",
      "+ for d in \"${keep_dirs[@]}\"\n",
      "+ '[' -d workshops/diy-agents-with-sagemaker-and-bedrock/4-frameworks/strands-agents ']'\n",
      "++ dirname workshops/diy-agents-with-sagemaker-and-bedrock/4-frameworks/strands-agents\n",
      "+ mkdir -p /tmp/keep_dirs/workshops/diy-agents-with-sagemaker-and-bedrock/4-frameworks\n",
      "+ mv workshops/diy-agents-with-sagemaker-and-bedrock/4-frameworks/strands-agents /tmp/keep_dirs/workshops/diy-agents-with-sagemaker-and-bedrock/4-frameworks/strands-agents\n",
      "+ for d in \"${keep_dirs[@]}\"\n",
      "+ '[' -d workshops/diy-agents-with-sagemaker-and-bedrock/0-setup ']'\n",
      "++ dirname workshops/diy-agents-with-sagemaker-and-bedrock/0-setup\n",
      "+ mkdir -p /tmp/keep_dirs/workshops/diy-agents-with-sagemaker-and-bedrock\n",
      "+ mv workshops/diy-agents-with-sagemaker-and-bedrock/0-setup /tmp/keep_dirs/workshops/diy-agents-with-sagemaker-and-bedrock/0-setup\n",
      "+ for d in \"${keep_dirs[@]}\"\n",
      "+ '[' -d workshops/diy-agents-with-sagemaker-and-bedrock/99-use-cases/sagemaker-endpoint-as-tool ']'\n",
      "++ dirname workshops/diy-agents-with-sagemaker-and-bedrock/99-use-cases/sagemaker-endpoint-as-tool\n",
      "+ mkdir -p /tmp/keep_dirs/workshops/diy-agents-with-sagemaker-and-bedrock/99-use-cases\n",
      "+ mv workshops/diy-agents-with-sagemaker-and-bedrock/99-use-cases/sagemaker-endpoint-as-tool /tmp/keep_dirs/workshops/diy-agents-with-sagemaker-and-bedrock/99-use-cases/sagemaker-endpoint-as-tool\n",
      "+ find . -mindepth 1 -maxdepth 1 '!' -name .git -exec rm -rf '{}' +\n",
      "+ for d in \"${keep_dirs[@]}\"\n",
      "++ dirname workshops/diy-agents-with-sagemaker-and-bedrock/4-frameworks/strands-agents\n",
      "+ mkdir -p workshops/diy-agents-with-sagemaker-and-bedrock/4-frameworks\n",
      "+ mv /tmp/keep_dirs/workshops/diy-agents-with-sagemaker-and-bedrock/4-frameworks/strands-agents workshops/diy-agents-with-sagemaker-and-bedrock/4-frameworks/strands-agents\n",
      "+ for d in \"${keep_dirs[@]}\"\n",
      "++ dirname workshops/diy-agents-with-sagemaker-and-bedrock/0-setup\n",
      "+ mkdir -p workshops/diy-agents-with-sagemaker-and-bedrock\n",
      "+ mv /tmp/keep_dirs/workshops/diy-agents-with-sagemaker-and-bedrock/0-setup workshops/diy-agents-with-sagemaker-and-bedrock/0-setup\n",
      "+ for d in \"${keep_dirs[@]}\"\n",
      "++ dirname workshops/diy-agents-with-sagemaker-and-bedrock/99-use-cases/sagemaker-endpoint-as-tool\n",
      "+ mkdir -p workshops/diy-agents-with-sagemaker-and-bedrock/99-use-cases\n",
      "+ mv /tmp/keep_dirs/workshops/diy-agents-with-sagemaker-and-bedrock/99-use-cases/sagemaker-endpoint-as-tool workshops/diy-agents-with-sagemaker-and-bedrock/99-use-cases/sagemaker-endpoint-as-tool\n",
      "+ rm -rf /tmp/keep_dirs\n"
     ]
    }
   ],
   "source": [
    "%%bash\n",
    "set -eux\n",
    "\n",
    "# Directory to clone the repo into\n",
    "REPO_DIR=\"/home/sagemaker-user/generative-ai-on-amazon-sagemaker\"\n",
    "\n",
    "# Clone the repo if it doesn't exist, otherwise pull the latest\n",
    "if [ -d \"$REPO_DIR\" ]; then\n",
    "  cd \"$REPO_DIR\"\n",
    "  git pull\n",
    "else\n",
    "  git clone https://github.com/aws-samples/generative-ai-on-amazon-sagemaker.git \"$REPO_DIR\"\n",
    "  cd \"$REPO_DIR\"\n",
    "fi\n",
    "\n",
    "# Define directories to keep (relative to repo root)\n",
    "keep_dirs=(\n",
    "  \"workshops/diy-agents-with-sagemaker-and-bedrock/4-frameworks/strands-agents\"\n",
    "  \"workshops/diy-agents-with-sagemaker-and-bedrock/0-setup\"\n",
    "  \"workshops/diy-agents-with-sagemaker-and-bedrock/99-use-cases/sagemaker-endpoint-as-tool\"\n",
    ")\n",
    "\n",
    "# Copy keep_dirs to a temp location\n",
    "mkdir -p /tmp/keep_dirs\n",
    "for d in \"${keep_dirs[@]}\"; do\n",
    "  if [ -d \"$d\" ]; then\n",
    "    mkdir -p \"/tmp/keep_dirs/$(dirname \"$d\")\"\n",
    "    mv \"$d\" \"/tmp/keep_dirs/$d\"\n",
    "  fi\n",
    "done\n",
    "\n",
    "# Delete everything in repo except .git\n",
    "find . -mindepth 1 -maxdepth 1 ! -name '.git' -exec rm -rf {} +\n",
    "\n",
    "# Move keep_dirs back\n",
    "for d in \"${keep_dirs[@]}\"; do\n",
    "  mkdir -p \"$(dirname \"$d\")\"\n",
    "  mv \"/tmp/keep_dirs/$d\" \"$d\"\n",
    "done\n",
    "\n",
    "rm -rf /tmp/keep_dirs\n",
    "\n",
    "# Result: Only the three requested folders (and their parent paths) remain in the repo.\n"
   ]
  },
  {
   "cell_type": "code",
   "execution_count": null,
   "id": "a97a1b41-d1f1-4454-887b-1bf146933a0f",
   "metadata": {},
   "outputs": [],
   "source": []
  }
 ],
 "metadata": {
  "kernelspec": {
   "display_name": "Python 3 (ipykernel)",
   "language": "python",
   "name": "python3"
  },
  "language_info": {
   "codemirror_mode": {
    "name": "ipython",
    "version": 3
   },
   "file_extension": ".py",
   "mimetype": "text/x-python",
   "name": "python",
   "nbconvert_exporter": "python",
   "pygments_lexer": "ipython3",
   "version": "3.12.9"
  }
 },
 "nbformat": 4,
 "nbformat_minor": 5
}

{
 "cells": [
  {
   "cell_type": "markdown",
   "id": "586f2662-a568-4c29-af10-7bcb2eadbf30",
   "metadata": {},
   "source": [
    "# Prerequisites\n",
    "\n",
    "To use SageMaker AI endpoints in these examples, you will need to first deploy a managed endpoint. In this example you will deploy an endpoint through SageMaker Jumpstart, a feature that helps machine learning practitioners quickly get started with hundreds of production-ready models in SageMaker AI."
   ]
  },
  {
   "cell_type": "markdown",
   "id": "df96b6ea-2fe6-4d2c-818c-02417f08f42e",
   "metadata": {},
   "source": [
    "## Dependencies (Warnings are safe to ignore)"
   ]
  },
  {
   "cell_type": "code",
   "execution_count": null,
   "id": "09c6bf13",
   "metadata": {
    "execution": {
     "iopub.execute_input": "2025-06-09T23:09:50.414088Z",
     "iopub.status.busy": "2025-06-09T23:09:50.413775Z"
    }
   },
   "outputs": [],
   "source": [
    "%pip uninstall -q -y autogluon-multimodal autogluon-timeseries autogluon-features autogluon-common autogluon-core\n",
    "%pip install -Uq sagemaker==2.239.0\n",
    "%pip install -Uq boto3==1.38.33\n",
    "%pip install -Uq litellm==1.72.2\n",
    "%pip install -Uq aiohttp==3.12.11"
   ]
  },
  {
   "cell_type": "markdown",
   "id": "cceadf99-fe59-4152-9e1b-1e56d5f9b773",
   "metadata": {},
   "source": [
    "## This cell will restart the kernel. Wait for the pop-up box to appear, then click \"OK\" before proceeding."
   ]
  },
  {
   "cell_type": "code",
   "execution_count": null,
   "id": "5eb5e6d3",
   "metadata": {},
   "outputs": [],
   "source": [
    "from IPython import get_ipython\n",
    "get_ipython().kernel.do_shutdown(True)"
   ]
  },
  {
   "cell_type": "markdown",
   "id": "bb51e51a",
   "metadata": {},
   "source": [
    "## Deploy the model from SageMaker JumpStart on a SageMaker Inference endpoint\n",
    "\n",
    "> Note: skip the cell below if you have already deployed your model."
   ]
  },
  {
   "cell_type": "code",
   "execution_count": null,
   "id": "fd08268e",
   "metadata": {},
   "outputs": [],
   "source": [
    "from sagemaker.djl_inference import DJLModel\n",
    "import sagemaker\n",
    "\n",
    "model_id = \"Qwen/Qwen3-1.7B\"\n",
    "model_name = sagemaker.utils.name_from_base(model_id.split(\"/\")[0].replace(\".\",\"p\"))\n",
    "model = DJLModel(\n",
    "    name=model_name,\n",
    "    image_uri=\"763104351884.dkr.ecr.us-east-1.amazonaws.com/djl-inference:0.33.0-lmi15.0.0-cu128-v1.3\",\n",
    "    role=sagemaker.get_execution_role(),\n",
    "    env={\n",
    "        \"HF_MODEL_ID\": model_id, # config: https://qwen.readthedocs.io/en/latest/framework/function_call.html#vllm \n",
    "        \"OPTION_MAX_MODEL_LEN\": f\"{1024*32}\",\n",
    "        # vllm serve {model_id} --enable-auto-tool-choice --tool-call-parser hermes\n",
    "        \"OPTION_ROLLING_BATCH\": \"vllm\",\n",
    "        \"OPTION_ENABLE_AUTO_TOOL_CHOICE\": \"true\",\n",
    "        \"OPTION_TOOL_CALL_PARSER\": \"hermes\",\n",
    "        # --enable-reasoning --reasoning-parser deepseek_r1\n",
    "        # \"OPTION_ENABLE_REASONING\": \"true\",\n",
    "        # \"OPTION_REASONING_PARSER\": \"qwen3\" # currently not available in djl lmi15\n",
    "    }\n",
    ")\n",
    "model.deploy(\n",
    "    endpoint_name=sagemaker.utils.name_from_base(\"qwen3-ep\"),\n",
    "    initial_instance_count=1,\n",
    "    instance_type=\"ml.g5.xlarge\",\n",
    ")"
   ]
  },
  {
   "cell_type": "code",
   "execution_count": null,
   "id": "18e6de49-11f7-4e36-b7bb-322282a51e53",
   "metadata": {},
   "outputs": [],
   "source": [
    "SAGEMAKER_ENDPOINT_NAME = predictor.endpoint_name\n",
    "print(f\"Endpoint name: {SAGEMAKER_ENDPOINT_NAME}\")\n",
    "\n",
    "%store SAGEMAKER_ENDPOINT_NAME"
   ]
  },
  {
   "cell_type": "markdown",
   "id": "ac12f8be",
   "metadata": {},
   "source": [
    "<div class=\"alert alert-block alert-info\">\n",
    "⚠️ <b>Note:</b> deployment will take 5~7 minutes. Take note of the endpoint name and the inference component names, as they will be needed later.\n",
    "</div>"
   ]
  }
 ],
 "metadata": {
  "kernelspec": {
   "display_name": "Python 3 (ipykernel)",
   "language": "python",
   "name": "python3"
  },
  "language_info": {
   "codemirror_mode": {
    "name": "ipython",
    "version": 3
   },
   "file_extension": ".py",
   "mimetype": "text/x-python",
   "name": "python",
   "nbconvert_exporter": "python",
   "pygments_lexer": "ipython3",
   "version": "3.12.9"
  }
 },
 "nbformat": 4,
 "nbformat_minor": 5
}

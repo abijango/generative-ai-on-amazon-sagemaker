{
 "cells": [
  {
   "cell_type": "markdown",
   "id": "586f2662-a568-4c29-af10-7bcb2eadbf30",
   "metadata": {},
   "source": [
    "# Prerequisites\n",
    "\n",
    "To use SageMaker AI endpoints in these examples, you will need to first deploy a managed endpoint. In this example you will deploy an endpoint through SageMaker Jumpstart, a feature that helps machine learning practitioners quickly get started with hundreds of production-ready models in SageMaker AI."
   ]
  },
  {
   "cell_type": "markdown",
   "id": "df96b6ea-2fe6-4d2c-818c-02417f08f42e",
   "metadata": {},
   "source": [
    "## Dependencies (Warnings are safe to ignore)"
   ]
  },
  {
   "cell_type": "code",
   "execution_count": null,
   "id": "09c6bf13",
   "metadata": {
    "execution": {
     "iopub.execute_input": "2025-06-09T23:09:50.414088Z",
     "iopub.status.busy": "2025-06-09T23:09:50.413775Z"
    }
   },
   "outputs": [],
   "source": [
    "%pip uninstall -q -y autogluon-multimodal autogluon-timeseries autogluon-features autogluon-common autogluon-core\n",
    "%pip install -Uq sagemaker==2.239.0\n",
    "%pip install -Uq boto3==1.38.33\n",
    "%pip install -Uq litellm==1.72.2\n",
    "%pip install -Uq aiohttp==3.12.11"
   ]
  },
  {
   "cell_type": "markdown",
   "id": "cceadf99-fe59-4152-9e1b-1e56d5f9b773",
   "metadata": {},
   "source": [
    "## This cell will restart the kernel. Wait for the pop-up box to appear, then click \"OK\" before proceeding."
   ]
  },
  {
   "cell_type": "code",
   "execution_count": null,
   "id": "5eb5e6d3",
   "metadata": {},
   "outputs": [],
   "source": [
    "from IPython import get_ipython\n",
    "get_ipython().kernel.do_shutdown(True)"
   ]
  },
  {
   "cell_type": "markdown",
   "id": "bb51e51a",
   "metadata": {},
   "source": [
    "## Deploy the model from SageMaker JumpStart on a SageMaker Inference endpoint\n",
    "\n",
    "> Note: skip the cell below if you have already deployed your model."
   ]
  },
  {
   "cell_type": "code",
   "execution_count": null,
   "id": "fd08268e",
   "metadata": {},
   "outputs": [],
   "source": [
    "import sagemaker\n",
    "from sagemaker.jumpstart.model import JumpStartModel\n",
    "from sagemaker.serializers import JSONSerializer\n",
    "from sagemaker.deserializers import JSONDeserializer\n",
    "\n",
    "sagemaker_session = sagemaker.Session()\n",
    "region=sagemaker_session.boto_session.region_name\n",
    "\n",
    "model = JumpStartModel(\n",
    "    model_id=\"huggingface-llm-mistral-small-24B-Instruct-2501\", model_version=\"2.0.2\",\n",
    "    instance_type=\"ml.g5.12xlarge\",\n",
    "    image_uri=f\"763104351884.dkr.ecr.{region}.amazonaws.com/djl-inference:0.33.0-lmi15.0.0-cu128-v1.1\"\n",
    ")\n",
    "\n",
    "predictor = model.deploy(\n",
    "    accept_eula=True,\n",
    "    initial_instance_count=1,\n",
    "    instance_type=\"ml.g5.12xlarge\",\n",
    "    serializer=JSONSerializer(), deserializer=JSONDeserializer(),\n",
    ")"
   ]
  },
  {
   "cell_type": "code",
   "execution_count": null,
   "id": "18e6de49-11f7-4e36-b7bb-322282a51e53",
   "metadata": {},
   "outputs": [],
   "source": [
    "SAGEMAKER_ENDPOINT_NAME = predictor.endpoint_name\n",
    "print(f\"Endpoint name: {SAGEMAKER_ENDPOINT_NAME}\")\n",
    "\n",
    "%store SAGEMAKER_ENDPOINT_NAME"
   ]
  },
  {
   "cell_type": "markdown",
   "id": "ac12f8be",
   "metadata": {},
   "source": [
    "<div class=\"alert alert-block alert-info\">\n",
    "⚠️ <b>Note:</b> deployment will take 5~7 minutes. Take note of the endpoint name and the inference component names, as they will be needed later.\n",
    "</div>"
   ]
  }
 ],
 "metadata": {
  "kernelspec": {
   "display_name": "Python 3 (ipykernel)",
   "language": "python",
   "name": "python3"
  },
  "language_info": {
   "codemirror_mode": {
    "name": "ipython",
    "version": 3
   },
   "file_extension": ".py",
   "mimetype": "text/x-python",
   "name": "python",
   "nbconvert_exporter": "python",
   "pygments_lexer": "ipython3",
   "version": "3.12.9"
  }
 },
 "nbformat": 4,
 "nbformat_minor": 5
}

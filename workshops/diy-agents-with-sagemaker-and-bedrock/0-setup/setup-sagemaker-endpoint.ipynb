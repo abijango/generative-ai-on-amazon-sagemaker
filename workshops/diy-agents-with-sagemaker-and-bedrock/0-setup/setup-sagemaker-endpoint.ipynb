{
 "cells": [
  {
   "cell_type": "code",
   "execution_count": null,
   "id": "09c6bf13",
   "metadata": {},
   "outputs": [],
   "source": [
    "%pip install sagemaker boto3 litellm aiohttp -qU"
   ]
  },
  {
   "cell_type": "markdown",
   "id": "6b1f3a81",
   "metadata": {},
   "source": [
    "<div class=\"alert alert-block alert-info\">\n",
    "<center>⚠️ <b>Important:</b> Please restart the kernel after installing the dependencies. ⚠️</center>\n",
    "</div>"
   ]
  },
  {
   "cell_type": "markdown",
   "id": "bb51e51a",
   "metadata": {},
   "source": [
    "## Deploy the model from SageMaker JumpStart on a SageMaker Inference endpoint\n",
    "\n",
    "> Note: skip the cell below if you have already deployed your model."
   ]
  },
  {
   "cell_type": "code",
   "execution_count": null,
   "id": "fd08268e",
   "metadata": {},
   "outputs": [],
   "source": [
    "from sagemaker.jumpstart.model import JumpStartModel\n",
    "from sagemaker.serializers import JSONSerializer\n",
    "from sagemaker.deserializers import JSONDeserializer\n",
    "from sagemaker.enums import EndpointType\n",
    "from sagemaker.compute_resource_requirements.resource_requirements import ResourceRequirements\n",
    "\n",
    "\n",
    "resources = ResourceRequirements(\n",
    "    requests = {\n",
    "        \"num_accelerators\": 4, # Number of accelerators required\n",
    "        \"memory\": 96*1024,  # Minimum memory required in Mb (required)\n",
    "        \"copies\": 1,\n",
    "    }\n",
    ")\n",
    "\n",
    "model = JumpStartModel(\n",
    "    model_id=\"huggingface-llm-mistral-small-24B-Instruct-2501\", model_version=\"2.0.1\",\n",
    "    instance_type=\"ml.g5.12xlarge\"\n",
    ")\n",
    "predictor = model.deploy(\n",
    "    accept_eula=True,\n",
    "    initial_instance_count=1,\n",
    "    instance_type=\"ml.g5.12xlarge\",\n",
    "    serializer=JSONSerializer(), deserializer=JSONDeserializer(),\n",
    "    endpoint_type=EndpointType.INFERENCE_COMPONENT_BASED,\n",
    "    resources=resources,\n",
    "    managed_instance_scaling={\n",
    "        \"MinInstanceCount\": 0,\n",
    "        \"MaxInstanceCount\": 1\n",
    "    }\n",
    ")"
   ]
  },
  {
   "cell_type": "code",
   "execution_count": null,
   "id": "0e15b39c",
   "metadata": {},
   "outputs": [],
   "source": [
    "endpoint_name = predictor.endpoint_name\n",
    "component_name = predictor.component_name\n",
    "print(f\"Endpoint name: {endpoint_name}\")\n",
    "print(f\"Inference component name: {component_name}\")"
   ]
  },
  {
   "cell_type": "markdown",
   "id": "ac12f8be",
   "metadata": {},
   "source": [
    "<div class=\"alert alert-block alert-info\">\n",
    "⚠️ <b>Note:</b> deployment will take 5~7 minutes. Take note of the endpoint name and the inference component names, as they will be needed later.\n",
    "</div>"
   ]
  }
 ],
 "metadata": {
  "language_info": {
   "name": "python"
  }
 },
 "nbformat": 4,
 "nbformat_minor": 5
}

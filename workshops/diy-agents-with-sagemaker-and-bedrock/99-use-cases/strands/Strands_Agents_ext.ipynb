{
 "cells": [
  {
   "cell_type": "markdown",
   "id": "8c2d5215",
   "metadata": {},
   "source": [
    "## Using Memory: Personalized Context Through Persistent Memory"
   ]
  },
  {
   "cell_type": "code",
   "execution_count": 13,
   "id": "ed33b0f9",
   "metadata": {},
   "outputs": [
    {
     "name": "stderr",
     "output_type": "stream",
     "text": [
      "/Users/giryoong/Projects/github/generative-ai-on-amazon-sagemaker-june13/.conda/lib/python3.12/pty.py:95: DeprecationWarning: This process (pid=80458) is multi-threaded, use of forkpty() may lead to deadlocks in the child.\n",
      "  pid, fd = os.forkpty()\n"
     ]
    },
    {
     "name": "stdout",
     "output_type": "stream",
     "text": [
      "Looking in indexes: https://pypi.org/simple, https://plugin.us-east-1.prod.workshops.aws\n",
      "Requirement already satisfied: strands-agents==0.1.7 in /Users/giryoong/Projects/github/generative-ai-on-amazon-sagemaker-june13/.conda/lib/python3.12/site-packages (0.1.7)\n",
      "Requirement already satisfied: strands-agents-tools==0.1.5 in /Users/giryoong/Projects/github/generative-ai-on-amazon-sagemaker-june13/.conda/lib/python3.12/site-packages (0.1.5)\n",
      "Requirement already satisfied: mem0ai in /Users/giryoong/Projects/github/generative-ai-on-amazon-sagemaker-june13/.conda/lib/python3.12/site-packages (0.1.108)\n",
      "Requirement already satisfied: duckduckgo-search in /Users/giryoong/Projects/github/generative-ai-on-amazon-sagemaker-june13/.conda/lib/python3.12/site-packages (8.0.4)\n",
      "Requirement already satisfied: faiss-cpu in /Users/giryoong/Projects/github/generative-ai-on-amazon-sagemaker-june13/.conda/lib/python3.12/site-packages (1.11.0)\n",
      "Requirement already satisfied: boto3<2.0.0,>=1.26.0 in /Users/giryoong/Projects/github/generative-ai-on-amazon-sagemaker-june13/.conda/lib/python3.12/site-packages (from strands-agents==0.1.7) (1.38.37)\n",
      "Requirement already satisfied: botocore<2.0.0,>=1.29.0 in /Users/giryoong/Projects/github/generative-ai-on-amazon-sagemaker-june13/.conda/lib/python3.12/site-packages (from strands-agents==0.1.7) (1.38.37)\n",
      "Requirement already satisfied: docstring-parser<0.16.0,>=0.15 in /Users/giryoong/Projects/github/generative-ai-on-amazon-sagemaker-june13/.conda/lib/python3.12/site-packages (from strands-agents==0.1.7) (0.15)\n",
      "Requirement already satisfied: mcp<2.0.0,>=1.8.0 in /Users/giryoong/Projects/github/generative-ai-on-amazon-sagemaker-june13/.conda/lib/python3.12/site-packages (from strands-agents==0.1.7) (1.9.4)\n",
      "Requirement already satisfied: opentelemetry-api<2.0.0,>=1.30.0 in /Users/giryoong/Projects/github/generative-ai-on-amazon-sagemaker-june13/.conda/lib/python3.12/site-packages (from strands-agents==0.1.7) (1.34.1)\n",
      "Requirement already satisfied: opentelemetry-exporter-otlp-proto-http<2.0.0,>=1.30.0 in /Users/giryoong/Projects/github/generative-ai-on-amazon-sagemaker-june13/.conda/lib/python3.12/site-packages (from strands-agents==0.1.7) (1.34.1)\n",
      "Requirement already satisfied: opentelemetry-sdk<2.0.0,>=1.30.0 in /Users/giryoong/Projects/github/generative-ai-on-amazon-sagemaker-june13/.conda/lib/python3.12/site-packages (from strands-agents==0.1.7) (1.34.1)\n",
      "Requirement already satisfied: pydantic<3.0.0,>=2.0.0 in /Users/giryoong/Projects/github/generative-ai-on-amazon-sagemaker-june13/.conda/lib/python3.12/site-packages (from strands-agents==0.1.7) (2.11.7)\n",
      "Requirement already satisfied: typing-extensions<5.0.0,>=4.13.2 in /Users/giryoong/Projects/github/generative-ai-on-amazon-sagemaker-june13/.conda/lib/python3.12/site-packages (from strands-agents==0.1.7) (4.14.0)\n",
      "Requirement already satisfied: watchdog<7.0.0,>=6.0.0 in /Users/giryoong/Projects/github/generative-ai-on-amazon-sagemaker-june13/.conda/lib/python3.12/site-packages (from strands-agents==0.1.7) (6.0.0)\n",
      "Requirement already satisfied: aws-requests-auth<0.5.0,>=0.4.3 in /Users/giryoong/Projects/github/generative-ai-on-amazon-sagemaker-june13/.conda/lib/python3.12/site-packages (from strands-agents-tools==0.1.5) (0.4.3)\n",
      "Requirement already satisfied: colorama<0.5.0,>=0.4.6 in /Users/giryoong/Projects/github/generative-ai-on-amazon-sagemaker-june13/.conda/lib/python3.12/site-packages (from strands-agents-tools==0.1.5) (0.4.6)\n",
      "Requirement already satisfied: dill<0.5.0,>=0.4.0 in /Users/giryoong/Projects/github/generative-ai-on-amazon-sagemaker-june13/.conda/lib/python3.12/site-packages (from strands-agents-tools==0.1.5) (0.4.0)\n",
      "Requirement already satisfied: pillow<12.0.0,>=11.2.1 in /Users/giryoong/Projects/github/generative-ai-on-amazon-sagemaker-june13/.conda/lib/python3.12/site-packages (from strands-agents-tools==0.1.5) (11.2.1)\n",
      "Requirement already satisfied: prompt-toolkit<4.0.0,>=3.0.51 in /Users/giryoong/Projects/github/generative-ai-on-amazon-sagemaker-june13/.conda/lib/python3.12/site-packages (from strands-agents-tools==0.1.5) (3.0.51)\n",
      "Requirement already satisfied: pyjwt<3.0.0,>=2.10.1 in /Users/giryoong/Projects/github/generative-ai-on-amazon-sagemaker-june13/.conda/lib/python3.12/site-packages (from strands-agents-tools==0.1.5) (2.10.1)\n",
      "Requirement already satisfied: rich<15.0.0,>=14.0.0 in /Users/giryoong/Projects/github/generative-ai-on-amazon-sagemaker-june13/.conda/lib/python3.12/site-packages (from strands-agents-tools==0.1.5) (14.0.0)\n",
      "Requirement already satisfied: slack-bolt<2.0.0,>=1.23.0 in /Users/giryoong/Projects/github/generative-ai-on-amazon-sagemaker-june13/.conda/lib/python3.12/site-packages (from strands-agents-tools==0.1.5) (1.23.0)\n",
      "Requirement already satisfied: sympy<2.0.0,>=1.12.0 in /Users/giryoong/Projects/github/generative-ai-on-amazon-sagemaker-june13/.conda/lib/python3.12/site-packages (from strands-agents-tools==0.1.5) (1.14.0)\n",
      "Requirement already satisfied: tenacity<10.0.0,>=9.1.2 in /Users/giryoong/Projects/github/generative-ai-on-amazon-sagemaker-june13/.conda/lib/python3.12/site-packages (from strands-agents-tools==0.1.5) (9.1.2)\n",
      "Requirement already satisfied: requests>=0.14.0 in /Users/giryoong/Projects/github/generative-ai-on-amazon-sagemaker-june13/.conda/lib/python3.12/site-packages (from aws-requests-auth<0.5.0,>=0.4.3->strands-agents-tools==0.1.5) (2.32.4)\n",
      "Requirement already satisfied: jmespath<2.0.0,>=0.7.1 in /Users/giryoong/Projects/github/generative-ai-on-amazon-sagemaker-june13/.conda/lib/python3.12/site-packages (from boto3<2.0.0,>=1.26.0->strands-agents==0.1.7) (1.0.1)\n",
      "Requirement already satisfied: s3transfer<0.14.0,>=0.13.0 in /Users/giryoong/Projects/github/generative-ai-on-amazon-sagemaker-june13/.conda/lib/python3.12/site-packages (from boto3<2.0.0,>=1.26.0->strands-agents==0.1.7) (0.13.0)\n",
      "Requirement already satisfied: python-dateutil<3.0.0,>=2.1 in /Users/giryoong/Projects/github/generative-ai-on-amazon-sagemaker-june13/.conda/lib/python3.12/site-packages (from botocore<2.0.0,>=1.29.0->strands-agents==0.1.7) (2.9.0.post0)\n",
      "Requirement already satisfied: urllib3!=2.2.0,<3,>=1.25.4 in /Users/giryoong/Projects/github/generative-ai-on-amazon-sagemaker-june13/.conda/lib/python3.12/site-packages (from botocore<2.0.0,>=1.29.0->strands-agents==0.1.7) (2.4.0)\n",
      "Requirement already satisfied: anyio>=4.5 in /Users/giryoong/Projects/github/generative-ai-on-amazon-sagemaker-june13/.conda/lib/python3.12/site-packages (from mcp<2.0.0,>=1.8.0->strands-agents==0.1.7) (4.9.0)\n",
      "Requirement already satisfied: httpx-sse>=0.4 in /Users/giryoong/Projects/github/generative-ai-on-amazon-sagemaker-june13/.conda/lib/python3.12/site-packages (from mcp<2.0.0,>=1.8.0->strands-agents==0.1.7) (0.4.0)\n",
      "Requirement already satisfied: httpx>=0.27 in /Users/giryoong/Projects/github/generative-ai-on-amazon-sagemaker-june13/.conda/lib/python3.12/site-packages (from mcp<2.0.0,>=1.8.0->strands-agents==0.1.7) (0.28.1)\n",
      "Requirement already satisfied: pydantic-settings>=2.5.2 in /Users/giryoong/Projects/github/generative-ai-on-amazon-sagemaker-june13/.conda/lib/python3.12/site-packages (from mcp<2.0.0,>=1.8.0->strands-agents==0.1.7) (2.9.1)\n",
      "Requirement already satisfied: python-multipart>=0.0.9 in /Users/giryoong/Projects/github/generative-ai-on-amazon-sagemaker-june13/.conda/lib/python3.12/site-packages (from mcp<2.0.0,>=1.8.0->strands-agents==0.1.7) (0.0.20)\n",
      "Requirement already satisfied: sse-starlette>=1.6.1 in /Users/giryoong/Projects/github/generative-ai-on-amazon-sagemaker-june13/.conda/lib/python3.12/site-packages (from mcp<2.0.0,>=1.8.0->strands-agents==0.1.7) (2.3.6)\n",
      "Requirement already satisfied: starlette>=0.27 in /Users/giryoong/Projects/github/generative-ai-on-amazon-sagemaker-june13/.conda/lib/python3.12/site-packages (from mcp<2.0.0,>=1.8.0->strands-agents==0.1.7) (0.47.0)\n",
      "Requirement already satisfied: uvicorn>=0.23.1 in /Users/giryoong/Projects/github/generative-ai-on-amazon-sagemaker-june13/.conda/lib/python3.12/site-packages (from mcp<2.0.0,>=1.8.0->strands-agents==0.1.7) (0.34.3)\n",
      "Requirement already satisfied: importlib-metadata<8.8.0,>=6.0 in /Users/giryoong/Projects/github/generative-ai-on-amazon-sagemaker-june13/.conda/lib/python3.12/site-packages (from opentelemetry-api<2.0.0,>=1.30.0->strands-agents==0.1.7) (8.7.0)\n",
      "Requirement already satisfied: zipp>=3.20 in /Users/giryoong/Projects/github/generative-ai-on-amazon-sagemaker-june13/.conda/lib/python3.12/site-packages (from importlib-metadata<8.8.0,>=6.0->opentelemetry-api<2.0.0,>=1.30.0->strands-agents==0.1.7) (3.23.0)\n",
      "Requirement already satisfied: googleapis-common-protos~=1.52 in /Users/giryoong/Projects/github/generative-ai-on-amazon-sagemaker-june13/.conda/lib/python3.12/site-packages (from opentelemetry-exporter-otlp-proto-http<2.0.0,>=1.30.0->strands-agents==0.1.7) (1.70.0)\n",
      "Requirement already satisfied: opentelemetry-exporter-otlp-proto-common==1.34.1 in /Users/giryoong/Projects/github/generative-ai-on-amazon-sagemaker-june13/.conda/lib/python3.12/site-packages (from opentelemetry-exporter-otlp-proto-http<2.0.0,>=1.30.0->strands-agents==0.1.7) (1.34.1)\n",
      "Requirement already satisfied: opentelemetry-proto==1.34.1 in /Users/giryoong/Projects/github/generative-ai-on-amazon-sagemaker-june13/.conda/lib/python3.12/site-packages (from opentelemetry-exporter-otlp-proto-http<2.0.0,>=1.30.0->strands-agents==0.1.7) (1.34.1)\n",
      "Requirement already satisfied: protobuf<6.0,>=5.0 in /Users/giryoong/Projects/github/generative-ai-on-amazon-sagemaker-june13/.conda/lib/python3.12/site-packages (from opentelemetry-proto==1.34.1->opentelemetry-exporter-otlp-proto-http<2.0.0,>=1.30.0->strands-agents==0.1.7) (5.29.5)\n",
      "Requirement already satisfied: opentelemetry-semantic-conventions==0.55b1 in /Users/giryoong/Projects/github/generative-ai-on-amazon-sagemaker-june13/.conda/lib/python3.12/site-packages (from opentelemetry-sdk<2.0.0,>=1.30.0->strands-agents==0.1.7) (0.55b1)\n",
      "Requirement already satisfied: wcwidth in /Users/giryoong/Projects/github/generative-ai-on-amazon-sagemaker-june13/.conda/lib/python3.12/site-packages (from prompt-toolkit<4.0.0,>=3.0.51->strands-agents-tools==0.1.5) (0.2.13)\n",
      "Requirement already satisfied: annotated-types>=0.6.0 in /Users/giryoong/Projects/github/generative-ai-on-amazon-sagemaker-june13/.conda/lib/python3.12/site-packages (from pydantic<3.0.0,>=2.0.0->strands-agents==0.1.7) (0.7.0)\n",
      "Requirement already satisfied: pydantic-core==2.33.2 in /Users/giryoong/Projects/github/generative-ai-on-amazon-sagemaker-june13/.conda/lib/python3.12/site-packages (from pydantic<3.0.0,>=2.0.0->strands-agents==0.1.7) (2.33.2)\n",
      "Requirement already satisfied: typing-inspection>=0.4.0 in /Users/giryoong/Projects/github/generative-ai-on-amazon-sagemaker-june13/.conda/lib/python3.12/site-packages (from pydantic<3.0.0,>=2.0.0->strands-agents==0.1.7) (0.4.1)\n",
      "Requirement already satisfied: six>=1.5 in /Users/giryoong/Projects/github/generative-ai-on-amazon-sagemaker-june13/.conda/lib/python3.12/site-packages (from python-dateutil<3.0.0,>=2.1->botocore<2.0.0,>=1.29.0->strands-agents==0.1.7) (1.17.0)\n",
      "Requirement already satisfied: charset_normalizer<4,>=2 in /Users/giryoong/Projects/github/generative-ai-on-amazon-sagemaker-june13/.conda/lib/python3.12/site-packages (from requests>=0.14.0->aws-requests-auth<0.5.0,>=0.4.3->strands-agents-tools==0.1.5) (3.4.2)\n",
      "Requirement already satisfied: idna<4,>=2.5 in /Users/giryoong/Projects/github/generative-ai-on-amazon-sagemaker-june13/.conda/lib/python3.12/site-packages (from requests>=0.14.0->aws-requests-auth<0.5.0,>=0.4.3->strands-agents-tools==0.1.5) (3.10)\n",
      "Requirement already satisfied: certifi>=2017.4.17 in /Users/giryoong/Projects/github/generative-ai-on-amazon-sagemaker-june13/.conda/lib/python3.12/site-packages (from requests>=0.14.0->aws-requests-auth<0.5.0,>=0.4.3->strands-agents-tools==0.1.5) (2025.6.15)\n",
      "Requirement already satisfied: markdown-it-py>=2.2.0 in /Users/giryoong/Projects/github/generative-ai-on-amazon-sagemaker-june13/.conda/lib/python3.12/site-packages (from rich<15.0.0,>=14.0.0->strands-agents-tools==0.1.5) (3.0.0)\n",
      "Requirement already satisfied: pygments<3.0.0,>=2.13.0 in /Users/giryoong/Projects/github/generative-ai-on-amazon-sagemaker-june13/.conda/lib/python3.12/site-packages (from rich<15.0.0,>=14.0.0->strands-agents-tools==0.1.5) (2.19.1)\n",
      "Requirement already satisfied: slack_sdk<4,>=3.35.0 in /Users/giryoong/Projects/github/generative-ai-on-amazon-sagemaker-june13/.conda/lib/python3.12/site-packages (from slack-bolt<2.0.0,>=1.23.0->strands-agents-tools==0.1.5) (3.35.0)\n",
      "Requirement already satisfied: mpmath<1.4,>=1.1.0 in /Users/giryoong/Projects/github/generative-ai-on-amazon-sagemaker-june13/.conda/lib/python3.12/site-packages (from sympy<2.0.0,>=1.12.0->strands-agents-tools==0.1.5) (1.3.0)\n",
      "Requirement already satisfied: openai>=1.33.0 in /Users/giryoong/Projects/github/generative-ai-on-amazon-sagemaker-june13/.conda/lib/python3.12/site-packages (from mem0ai) (1.87.0)\n",
      "Requirement already satisfied: posthog>=3.5.0 in /Users/giryoong/Projects/github/generative-ai-on-amazon-sagemaker-june13/.conda/lib/python3.12/site-packages (from mem0ai) (5.0.0)\n",
      "Requirement already satisfied: pytz>=2024.1 in /Users/giryoong/Projects/github/generative-ai-on-amazon-sagemaker-june13/.conda/lib/python3.12/site-packages (from mem0ai) (2025.2)\n",
      "Requirement already satisfied: qdrant-client>=1.9.1 in /Users/giryoong/Projects/github/generative-ai-on-amazon-sagemaker-june13/.conda/lib/python3.12/site-packages (from mem0ai) (1.14.3)\n",
      "Requirement already satisfied: sqlalchemy>=2.0.31 in /Users/giryoong/Projects/github/generative-ai-on-amazon-sagemaker-june13/.conda/lib/python3.12/site-packages (from mem0ai) (2.0.41)\n",
      "Requirement already satisfied: click>=8.1.8 in /Users/giryoong/Projects/github/generative-ai-on-amazon-sagemaker-june13/.conda/lib/python3.12/site-packages (from duckduckgo-search) (8.2.1)\n",
      "Requirement already satisfied: primp>=0.15.0 in /Users/giryoong/Projects/github/generative-ai-on-amazon-sagemaker-june13/.conda/lib/python3.12/site-packages (from duckduckgo-search) (0.15.0)\n",
      "Requirement already satisfied: lxml>=5.3.0 in /Users/giryoong/Projects/github/generative-ai-on-amazon-sagemaker-june13/.conda/lib/python3.12/site-packages (from duckduckgo-search) (5.4.0)\n",
      "Requirement already satisfied: numpy<3.0,>=1.25.0 in /Users/giryoong/Projects/github/generative-ai-on-amazon-sagemaker-june13/.conda/lib/python3.12/site-packages (from faiss-cpu) (2.3.0)\n",
      "Requirement already satisfied: packaging in /Users/giryoong/Projects/github/generative-ai-on-amazon-sagemaker-june13/.conda/lib/python3.12/site-packages (from faiss-cpu) (25.0)\n",
      "Requirement already satisfied: sniffio>=1.1 in /Users/giryoong/Projects/github/generative-ai-on-amazon-sagemaker-june13/.conda/lib/python3.12/site-packages (from anyio>=4.5->mcp<2.0.0,>=1.8.0->strands-agents==0.1.7) (1.3.1)\n",
      "Requirement already satisfied: httpcore==1.* in /Users/giryoong/Projects/github/generative-ai-on-amazon-sagemaker-june13/.conda/lib/python3.12/site-packages (from httpx>=0.27->mcp<2.0.0,>=1.8.0->strands-agents==0.1.7) (1.0.9)\n",
      "Requirement already satisfied: h11>=0.16 in /Users/giryoong/Projects/github/generative-ai-on-amazon-sagemaker-june13/.conda/lib/python3.12/site-packages (from httpcore==1.*->httpx>=0.27->mcp<2.0.0,>=1.8.0->strands-agents==0.1.7) (0.16.0)\n",
      "Requirement already satisfied: mdurl~=0.1 in /Users/giryoong/Projects/github/generative-ai-on-amazon-sagemaker-june13/.conda/lib/python3.12/site-packages (from markdown-it-py>=2.2.0->rich<15.0.0,>=14.0.0->strands-agents-tools==0.1.5) (0.1.2)\n",
      "Requirement already satisfied: distro<2,>=1.7.0 in /Users/giryoong/Projects/github/generative-ai-on-amazon-sagemaker-june13/.conda/lib/python3.12/site-packages (from openai>=1.33.0->mem0ai) (1.9.0)\n",
      "Requirement already satisfied: jiter<1,>=0.4.0 in /Users/giryoong/Projects/github/generative-ai-on-amazon-sagemaker-june13/.conda/lib/python3.12/site-packages (from openai>=1.33.0->mem0ai) (0.10.0)\n",
      "Requirement already satisfied: tqdm>4 in /Users/giryoong/Projects/github/generative-ai-on-amazon-sagemaker-june13/.conda/lib/python3.12/site-packages (from openai>=1.33.0->mem0ai) (4.67.1)\n",
      "Requirement already satisfied: backoff>=1.10.0 in /Users/giryoong/Projects/github/generative-ai-on-amazon-sagemaker-june13/.conda/lib/python3.12/site-packages (from posthog>=3.5.0->mem0ai) (2.2.1)\n",
      "Requirement already satisfied: python-dotenv>=0.21.0 in /Users/giryoong/Projects/github/generative-ai-on-amazon-sagemaker-june13/.conda/lib/python3.12/site-packages (from pydantic-settings>=2.5.2->mcp<2.0.0,>=1.8.0->strands-agents==0.1.7) (1.1.0)\n",
      "Requirement already satisfied: grpcio>=1.41.0 in /Users/giryoong/Projects/github/generative-ai-on-amazon-sagemaker-june13/.conda/lib/python3.12/site-packages (from qdrant-client>=1.9.1->mem0ai) (1.73.0)\n",
      "Requirement already satisfied: portalocker<3.0.0,>=2.7.0 in /Users/giryoong/Projects/github/generative-ai-on-amazon-sagemaker-june13/.conda/lib/python3.12/site-packages (from qdrant-client>=1.9.1->mem0ai) (2.10.1)\n",
      "Requirement already satisfied: h2<5,>=3 in /Users/giryoong/Projects/github/generative-ai-on-amazon-sagemaker-june13/.conda/lib/python3.12/site-packages (from httpx[http2]>=0.20.0->qdrant-client>=1.9.1->mem0ai) (4.2.0)\n",
      "Requirement already satisfied: hyperframe<7,>=6.1 in /Users/giryoong/Projects/github/generative-ai-on-amazon-sagemaker-june13/.conda/lib/python3.12/site-packages (from h2<5,>=3->httpx[http2]>=0.20.0->qdrant-client>=1.9.1->mem0ai) (6.1.0)\n",
      "Requirement already satisfied: hpack<5,>=4.1 in /Users/giryoong/Projects/github/generative-ai-on-amazon-sagemaker-june13/.conda/lib/python3.12/site-packages (from h2<5,>=3->httpx[http2]>=0.20.0->qdrant-client>=1.9.1->mem0ai) (4.1.0)\n",
      "Requirement already satisfied: greenlet>=1 in /Users/giryoong/Projects/github/generative-ai-on-amazon-sagemaker-june13/.conda/lib/python3.12/site-packages (from sqlalchemy>=2.0.31->mem0ai) (3.2.3)\n",
      "Looking in indexes: https://pypi.org/simple, https://plugin.us-east-1.prod.workshops.aws\n",
      "Requirement already satisfied: boto3 in /Users/giryoong/Projects/github/generative-ai-on-amazon-sagemaker-june13/.conda/lib/python3.12/site-packages (1.38.37)\n",
      "Requirement already satisfied: botocore<1.39.0,>=1.38.37 in /Users/giryoong/Projects/github/generative-ai-on-amazon-sagemaker-june13/.conda/lib/python3.12/site-packages (from boto3) (1.38.37)\n",
      "Requirement already satisfied: jmespath<2.0.0,>=0.7.1 in /Users/giryoong/Projects/github/generative-ai-on-amazon-sagemaker-june13/.conda/lib/python3.12/site-packages (from boto3) (1.0.1)\n",
      "Requirement already satisfied: s3transfer<0.14.0,>=0.13.0 in /Users/giryoong/Projects/github/generative-ai-on-amazon-sagemaker-june13/.conda/lib/python3.12/site-packages (from boto3) (0.13.0)\n",
      "Requirement already satisfied: python-dateutil<3.0.0,>=2.1 in /Users/giryoong/Projects/github/generative-ai-on-amazon-sagemaker-june13/.conda/lib/python3.12/site-packages (from botocore<1.39.0,>=1.38.37->boto3) (2.9.0.post0)\n",
      "Requirement already satisfied: urllib3!=2.2.0,<3,>=1.25.4 in /Users/giryoong/Projects/github/generative-ai-on-amazon-sagemaker-june13/.conda/lib/python3.12/site-packages (from botocore<1.39.0,>=1.38.37->boto3) (2.4.0)\n",
      "Requirement already satisfied: six>=1.5 in /Users/giryoong/Projects/github/generative-ai-on-amazon-sagemaker-june13/.conda/lib/python3.12/site-packages (from python-dateutil<3.0.0,>=2.1->botocore<1.39.0,>=1.38.37->boto3) (1.17.0)\n"
     ]
    }
   ],
   "source": [
    "!pip install --upgrade strands-agents==0.1.7 strands-agents-tools==0.1.5 mem0ai duckduckgo-search faiss-cpu\n",
    "!pip install --upgrade boto3"
   ]
  },
  {
   "cell_type": "code",
   "execution_count": 14,
   "id": "ee1ea4c5",
   "metadata": {},
   "outputs": [],
   "source": [
    "# Import Required Libraries\n",
    "import os\n",
    "from strands import Agent, tool\n",
    "from strands_tools import mem0_memory\n",
    "from duckduckgo_search import DDGS\n",
    "from duckduckgo_search.exceptions import DuckDuckGoSearchException, RatelimitException\n",
    "\n",
    "os.environ[\"AWS_DEFAULT_REGION\"]=\"us-west-2\""
   ]
  },
  {
   "cell_type": "code",
   "execution_count": 15,
   "id": "989a11ad",
   "metadata": {},
   "outputs": [],
   "source": [
    "# Define a focused system prompt for memory operations\n",
    "SYSTEM_PROMPT = \"\"\"You are a helpful personal assistant for a user. Your task is to assist the user by providing personalized responses based on their history. \n",
    "\n",
    "Capabilities:\n",
    "- You can store information using the mem0_memory tool (action=\"store\").\n",
    "- You can retrieve relevant memories using the mem0_memory tool (action=\"retrieve\").\n",
    "- You can use duckduckgo_search to find information on the web.\n",
    "\n",
    "Key Rules:\n",
    "- Be conversational and natural in your responses.\n",
    "- Always retrieve memories before responding to the user and use them to inform your response.\n",
    "- Store any new user information and user preferences in mem0_memory.\n",
    "- Only share relevant information.\n",
    "- Politely indicate when you don't have the information.\n",
    "\"\"\""
   ]
  },
  {
   "cell_type": "code",
   "execution_count": 16,
   "id": "a2b2a2de",
   "metadata": {},
   "outputs": [],
   "source": [
    "@tool\n",
    "def websearch(\n",
    "    keywords: str,\n",
    "    region: str = \"us-en\",\n",
    "    max_results: int | None = None,\n",
    ") -> str:\n",
    "    \"\"\"Search the web to get updated information.\n",
    "    Args:\n",
    "        keywords (str): The search query keywords.\n",
    "        region (str): The search region: wt-wt, us-en, uk-en, ru-ru, etc..\n",
    "        max_results (int | None): The maximum number of results to return.\n",
    "    Returns:\n",
    "        List of dictionaries with search results.\n",
    "    \"\"\"\n",
    "    try:\n",
    "        results = DDGS().text(keywords, region=region, max_results=max_results)\n",
    "        return results if results else \"No results found.\"\n",
    "    except RatelimitException:\n",
    "        return \"RatelimitException: Please try again after a short delay.\"\n",
    "    except DuckDuckGoSearchException as d:\n",
    "        return f\"DuckDuckGoSearchException: {d}\"\n",
    "    except Exception as e:\n",
    "        return f\"Exception: {e}\""
   ]
  },
  {
   "cell_type": "code",
   "execution_count": 17,
   "id": "2791af87",
   "metadata": {},
   "outputs": [],
   "source": [
    "# Create an agent with memory, websearch tool\n",
    "USER_ID = \"new_user\" # Replace with actual user ID\n",
    "\n",
    "memory_agent = Agent(\n",
    "    system_prompt=SYSTEM_PROMPT,\n",
    "    tools=[mem0_memory, websearch],\n",
    ")"
   ]
  },
  {
   "cell_type": "code",
   "execution_count": 26,
   "id": "6994e322",
   "metadata": {},
   "outputs": [
    {
     "data": {
      "text/html": [
       "<pre style=\"white-space:pre;overflow-x:auto;line-height:normal;font-family:Menlo,'DejaVu Sans Mono',consolas,'Courier New',monospace\"><span style=\"color: #008000; text-decoration-color: #008000\">╭─────────────────────────────────────────── </span><span style=\"color: #008000; text-decoration-color: #008000; font-weight: bold\">Memory for user new_user</span><span style=\"color: #008000; text-decoration-color: #008000\"> ────────────────────────────────────────────╮</span>\n",
       "<span style=\"color: #008000; text-decoration-color: #008000\">│</span> The user's name is new_user.                                                                                    <span style=\"color: #008000; text-decoration-color: #008000\">│</span>\n",
       "<span style=\"color: #008000; text-decoration-color: #008000\">╰─────────────────────────────────────────────────────────────────────────────────────────────────────────────────╯</span>\n",
       "</pre>\n"
      ],
      "text/plain": [
       "\u001b[32m╭─\u001b[0m\u001b[32m──────────────────────────────────────────\u001b[0m\u001b[32m \u001b[0m\u001b[1;32mMemory for user new_user\u001b[0m\u001b[32m \u001b[0m\u001b[32m───────────────────────────────────────────\u001b[0m\u001b[32m─╮\u001b[0m\n",
       "\u001b[32m│\u001b[0m The user's name is new_user.                                                                                    \u001b[32m│\u001b[0m\n",
       "\u001b[32m╰─────────────────────────────────────────────────────────────────────────────────────────────────────────────────╯\u001b[0m\n"
      ]
     },
     "metadata": {},
     "output_type": "display_data"
    },
    {
     "data": {
      "text/html": [
       "<pre style=\"white-space:pre;overflow-x:auto;line-height:normal;font-family:Menlo,'DejaVu Sans Mono',consolas,'Courier New',monospace\"><span style=\"color: #800000; text-decoration-color: #800000\">╭─────────────────────────────────────────── ❌ Memory Operation Error ───────────────────────────────────────────╮</span>\n",
       "<span style=\"color: #800000; text-decoration-color: #800000\">│</span> <span style=\"color: #800000; text-decoration-color: #800000\">An error occurred (UnrecognizedClientException) when calling the InvokeModel operation: The security token </span>     <span style=\"color: #800000; text-decoration-color: #800000\">│</span>\n",
       "<span style=\"color: #800000; text-decoration-color: #800000\">│</span> <span style=\"color: #800000; text-decoration-color: #800000\">included in the request is invalid.</span>                                                                             <span style=\"color: #800000; text-decoration-color: #800000\">│</span>\n",
       "<span style=\"color: #800000; text-decoration-color: #800000\">╰─────────────────────────────────────────────────────────────────────────────────────────────────────────────────╯</span>\n",
       "</pre>\n"
      ],
      "text/plain": [
       "\u001b[31m╭─\u001b[0m\u001b[31m──────────────────────────────────────────\u001b[0m\u001b[31m ❌ Memory Operation Error \u001b[0m\u001b[31m──────────────────────────────────────────\u001b[0m\u001b[31m─╮\u001b[0m\n",
       "\u001b[31m│\u001b[0m \u001b[31mAn error occurred (UnrecognizedClientException) when calling the InvokeModel operation: The security token \u001b[0m     \u001b[31m│\u001b[0m\n",
       "\u001b[31m│\u001b[0m \u001b[31mincluded in the request is invalid.\u001b[0m                                                                             \u001b[31m│\u001b[0m\n",
       "\u001b[31m╰─────────────────────────────────────────────────────────────────────────────────────────────────────────────────╯\u001b[0m\n"
      ]
     },
     "metadata": {},
     "output_type": "display_data"
    },
    {
     "data": {
      "text/html": [
       "<pre style=\"white-space:pre;overflow-x:auto;line-height:normal;font-family:Menlo,'DejaVu Sans Mono',consolas,'Courier New',monospace\"><span style=\"color: #008000; text-decoration-color: #008000\">╭─────────────────────────────────────────── </span><span style=\"color: #008000; text-decoration-color: #008000; font-weight: bold\">Memory for user new_user</span><span style=\"color: #008000; text-decoration-color: #008000\"> ────────────────────────────────────────────╮</span>\n",
       "<span style=\"color: #008000; text-decoration-color: #008000\">│</span> I like to drink tea more than coffee.                                                                           <span style=\"color: #008000; text-decoration-color: #008000\">│</span>\n",
       "<span style=\"color: #008000; text-decoration-color: #008000\">╰─────────────────────────────────────────────────────────────────────────────────────────────────────────────────╯</span>\n",
       "</pre>\n"
      ],
      "text/plain": [
       "\u001b[32m╭─\u001b[0m\u001b[32m──────────────────────────────────────────\u001b[0m\u001b[32m \u001b[0m\u001b[1;32mMemory for user new_user\u001b[0m\u001b[32m \u001b[0m\u001b[32m───────────────────────────────────────────\u001b[0m\u001b[32m─╮\u001b[0m\n",
       "\u001b[32m│\u001b[0m I like to drink tea more than coffee.                                                                           \u001b[32m│\u001b[0m\n",
       "\u001b[32m╰─────────────────────────────────────────────────────────────────────────────────────────────────────────────────╯\u001b[0m\n"
      ]
     },
     "metadata": {},
     "output_type": "display_data"
    },
    {
     "data": {
      "text/html": [
       "<pre style=\"white-space:pre;overflow-x:auto;line-height:normal;font-family:Menlo,'DejaVu Sans Mono',consolas,'Courier New',monospace\"><span style=\"color: #800000; text-decoration-color: #800000\">╭─────────────────────────────────────────── ❌ Memory Operation Error ───────────────────────────────────────────╮</span>\n",
       "<span style=\"color: #800000; text-decoration-color: #800000\">│</span> <span style=\"color: #800000; text-decoration-color: #800000\">An error occurred (UnrecognizedClientException) when calling the InvokeModel operation: The security token </span>     <span style=\"color: #800000; text-decoration-color: #800000\">│</span>\n",
       "<span style=\"color: #800000; text-decoration-color: #800000\">│</span> <span style=\"color: #800000; text-decoration-color: #800000\">included in the request is invalid.</span>                                                                             <span style=\"color: #800000; text-decoration-color: #800000\">│</span>\n",
       "<span style=\"color: #800000; text-decoration-color: #800000\">╰─────────────────────────────────────────────────────────────────────────────────────────────────────────────────╯</span>\n",
       "</pre>\n"
      ],
      "text/plain": [
       "\u001b[31m╭─\u001b[0m\u001b[31m──────────────────────────────────────────\u001b[0m\u001b[31m ❌ Memory Operation Error \u001b[0m\u001b[31m──────────────────────────────────────────\u001b[0m\u001b[31m─╮\u001b[0m\n",
       "\u001b[31m│\u001b[0m \u001b[31mAn error occurred (UnrecognizedClientException) when calling the InvokeModel operation: The security token \u001b[0m     \u001b[31m│\u001b[0m\n",
       "\u001b[31m│\u001b[0m \u001b[31mincluded in the request is invalid.\u001b[0m                                                                             \u001b[31m│\u001b[0m\n",
       "\u001b[31m╰─────────────────────────────────────────────────────────────────────────────────────────────────────────────────╯\u001b[0m\n"
      ]
     },
     "metadata": {},
     "output_type": "display_data"
    },
    {
     "data": {
      "text/plain": [
       "{'toolUseId': 'tooluse_mem0_memory_294523918',\n",
       " 'status': 'error',\n",
       " 'content': [{'text': 'Error: An error occurred (UnrecognizedClientException) when calling the InvokeModel operation: The security token included in the request is invalid.'}]}"
      ]
     },
     "execution_count": 26,
     "metadata": {},
     "output_type": "execute_result"
    }
   ],
   "source": [
    "# Store initial memories to demonstrate retrieval\n",
    "memory_agent.tool.mem0_memory(\n",
    "    action=\"store\", content=f\"The user's name is {USER_ID}.\", user_id=USER_ID\n",
    ")\n",
    "memory_agent.tool.mem0_memory(\n",
    "    action=\"store\", \n",
    "    content=\"I like to drink tea more than coffee.\", \n",
    "    user_id=USER_ID\n",
    ")"
   ]
  },
  {
   "cell_type": "code",
   "execution_count": 19,
   "id": "509c13db",
   "metadata": {},
   "outputs": [
    {
     "data": {
      "text/html": [
       "<pre style=\"white-space:pre;overflow-x:auto;line-height:normal;font-family:Menlo,'DejaVu Sans Mono',consolas,'Courier New',monospace\"><span style=\"color: #800000; text-decoration-color: #800000\">╭─────────────────────────────────────────── ❌ Memory Operation Error ───────────────────────────────────────────╮</span>\n",
       "<span style=\"color: #800000; text-decoration-color: #800000\">│</span> <span style=\"color: #800000; text-decoration-color: #800000\">Error getting embedding from AWS Bedrock: An error occurred (UnrecognizedClientException) when calling the </span>     <span style=\"color: #800000; text-decoration-color: #800000\">│</span>\n",
       "<span style=\"color: #800000; text-decoration-color: #800000\">│</span> <span style=\"color: #800000; text-decoration-color: #800000\">InvokeModel operation: The security token included in the request is invalid.</span>                                   <span style=\"color: #800000; text-decoration-color: #800000\">│</span>\n",
       "<span style=\"color: #800000; text-decoration-color: #800000\">╰─────────────────────────────────────────────────────────────────────────────────────────────────────────────────╯</span>\n",
       "</pre>\n"
      ],
      "text/plain": [
       "\u001b[31m╭─\u001b[0m\u001b[31m──────────────────────────────────────────\u001b[0m\u001b[31m ❌ Memory Operation Error \u001b[0m\u001b[31m──────────────────────────────────────────\u001b[0m\u001b[31m─╮\u001b[0m\n",
       "\u001b[31m│\u001b[0m \u001b[31mError getting embedding from AWS Bedrock: An error occurred (UnrecognizedClientException) when calling the \u001b[0m     \u001b[31m│\u001b[0m\n",
       "\u001b[31m│\u001b[0m \u001b[31mInvokeModel operation: The security token included in the request is invalid.\u001b[0m                                   \u001b[31m│\u001b[0m\n",
       "\u001b[31m╰─────────────────────────────────────────────────────────────────────────────────────────────────────────────────╯\u001b[0m\n"
      ]
     },
     "metadata": {},
     "output_type": "display_data"
    },
    {
     "name": "stdout",
     "output_type": "stream",
     "text": [
      "Retrieved Memories: {'toolUseId': 'tooluse_mem0_memory_964572442', 'status': 'error', 'content': [{'text': 'Error: Error getting embedding from AWS Bedrock: An error occurred (UnrecognizedClientException) when calling the InvokeModel operation: The security token included in the request is invalid.'}]}\n"
     ]
    }
   ],
   "source": [
    "# Retrieve memories\n",
    "retrieved_memories = memory_agent.tool.mem0_memory(\n",
    "    action=\"retrieve\", query=\"What is the user's name?\", user_id=USER_ID\n",
    ")\n",
    "print(\"Retrieved Memories:\", retrieved_memories)"
   ]
  },
  {
   "cell_type": "code",
   "execution_count": 20,
   "id": "05a4099e",
   "metadata": {},
   "outputs": [
    {
     "data": {
      "text/html": [
       "<pre style=\"white-space:pre;overflow-x:auto;line-height:normal;font-family:Menlo,'DejaVu Sans Mono',consolas,'Courier New',monospace\"><span style=\"color: #800000; text-decoration-color: #800000\">╭─────────────────────────────────────────── ❌ Memory Operation Error ───────────────────────────────────────────╮</span>\n",
       "<span style=\"color: #800000; text-decoration-color: #800000\">│</span> <span style=\"color: #800000; text-decoration-color: #800000\">Error getting embedding from AWS Bedrock: An error occurred (UnrecognizedClientException) when calling the </span>     <span style=\"color: #800000; text-decoration-color: #800000\">│</span>\n",
       "<span style=\"color: #800000; text-decoration-color: #800000\">│</span> <span style=\"color: #800000; text-decoration-color: #800000\">InvokeModel operation: The security token included in the request is invalid.</span>                                   <span style=\"color: #800000; text-decoration-color: #800000\">│</span>\n",
       "<span style=\"color: #800000; text-decoration-color: #800000\">╰─────────────────────────────────────────────────────────────────────────────────────────────────────────────────╯</span>\n",
       "</pre>\n"
      ],
      "text/plain": [
       "\u001b[31m╭─\u001b[0m\u001b[31m──────────────────────────────────────────\u001b[0m\u001b[31m ❌ Memory Operation Error \u001b[0m\u001b[31m──────────────────────────────────────────\u001b[0m\u001b[31m─╮\u001b[0m\n",
       "\u001b[31m│\u001b[0m \u001b[31mError getting embedding from AWS Bedrock: An error occurred (UnrecognizedClientException) when calling the \u001b[0m     \u001b[31m│\u001b[0m\n",
       "\u001b[31m│\u001b[0m \u001b[31mInvokeModel operation: The security token included in the request is invalid.\u001b[0m                                   \u001b[31m│\u001b[0m\n",
       "\u001b[31m╰─────────────────────────────────────────────────────────────────────────────────────────────────────────────────╯\u001b[0m\n"
      ]
     },
     "metadata": {},
     "output_type": "display_data"
    },
    {
     "data": {
      "text/plain": [
       "{'toolUseId': 'tooluse_mem0_memory_933100576',\n",
       " 'status': 'error',\n",
       " 'content': [{'text': 'Error: Error getting embedding from AWS Bedrock: An error occurred (UnrecognizedClientException) when calling the InvokeModel operation: The security token included in the request is invalid.'}]}"
      ]
     },
     "execution_count": 20,
     "metadata": {},
     "output_type": "execute_result"
    }
   ],
   "source": [
    "# Retrieve memories about preferences\n",
    "memory_agent.tool.mem0_memory(\n",
    "    action=\"retrieve\",\n",
    "    query=\"What are the my drink preferences?\",\n",
    "    user_id=USER_ID\n",
    ")"
   ]
  },
  {
   "cell_type": "code",
   "execution_count": 21,
   "id": "7406e4e6",
   "metadata": {},
   "outputs": [
    {
     "name": "stdout",
     "output_type": "stream",
     "text": [
      "You are a helpful personal assistant for a user. Your task is to assist the user by providing personalized responses based on their history. \n",
      "\n",
      "Capabilities:\n",
      "- You can store information using the mem0_memory tool (action=\"store\").\n",
      "- You can retrieve relevant memories using the mem0_memory tool (action=\"retrieve\").\n",
      "- You can use duckduckgo_search to find information on the web.\n",
      "\n",
      "Key Rules:\n",
      "- Be conversational and natural in your responses.\n",
      "- Always retrieve memories before responding to the user and use them to inform your response.\n",
      "- Store any new user information and user preferences in mem0_memory.\n",
      "- Only share relevant information.\n",
      "- Politely indicate when you don't have the information.\n",
      " [{'role': 'user', 'content': [{'text': 'agent.tool.mem0_memory direct tool call.\\nInput parameters: {\"action\": \"store\", \"content\": \"The user\\'s name is new_user.\", \"user_id\": \"new_user\"}\\n'}]}, {'role': 'assistant', 'content': [{'toolUse': {'toolUseId': 'tooluse_mem0_memory_704221315', 'name': 'mem0_memory', 'input': {'action': 'store', 'content': \"The user's name is new_user.\", 'user_id': 'new_user'}}}]}, {'role': 'user', 'content': [{'toolResult': {'toolUseId': 'tooluse_mem0_memory_704221315', 'status': 'error', 'content': [{'text': 'Error: An error occurred (UnrecognizedClientException) when calling the InvokeModel operation: The security token included in the request is invalid.'}]}}]}, {'role': 'assistant', 'content': [{'text': 'agent.mem0_memory was called'}]}, {'role': 'user', 'content': [{'text': 'agent.tool.mem0_memory direct tool call.\\nInput parameters: {\"action\": \"store\", \"content\": \"I like to drink tea more than coffee.\", \"user_id\": \"new_user\"}\\n'}]}, {'role': 'assistant', 'content': [{'toolUse': {'toolUseId': 'tooluse_mem0_memory_468107527', 'name': 'mem0_memory', 'input': {'action': 'store', 'content': 'I like to drink tea more than coffee.', 'user_id': 'new_user'}}}]}, {'role': 'user', 'content': [{'toolResult': {'toolUseId': 'tooluse_mem0_memory_468107527', 'status': 'error', 'content': [{'text': 'Error: An error occurred (UnrecognizedClientException) when calling the InvokeModel operation: The security token included in the request is invalid.'}]}}]}, {'role': 'assistant', 'content': [{'text': 'agent.mem0_memory was called'}]}, {'role': 'user', 'content': [{'text': 'agent.tool.mem0_memory direct tool call.\\nInput parameters: {\"action\": \"retrieve\", \"query\": \"What is the user\\'s name?\", \"user_id\": \"new_user\"}\\n'}]}, {'role': 'assistant', 'content': [{'toolUse': {'toolUseId': 'tooluse_mem0_memory_964572442', 'name': 'mem0_memory', 'input': {'action': 'retrieve', 'query': \"What is the user's name?\", 'user_id': 'new_user'}}}]}, {'role': 'user', 'content': [{'toolResult': {'toolUseId': 'tooluse_mem0_memory_964572442', 'status': 'error', 'content': [{'text': 'Error: Error getting embedding from AWS Bedrock: An error occurred (UnrecognizedClientException) when calling the InvokeModel operation: The security token included in the request is invalid.'}]}}]}, {'role': 'assistant', 'content': [{'text': 'agent.mem0_memory was called'}]}, {'role': 'user', 'content': [{'text': 'agent.tool.mem0_memory direct tool call.\\nInput parameters: {\"action\": \"retrieve\", \"query\": \"What are the my drink preferences?\", \"user_id\": \"new_user\"}\\n'}]}, {'role': 'assistant', 'content': [{'toolUse': {'toolUseId': 'tooluse_mem0_memory_933100576', 'name': 'mem0_memory', 'input': {'action': 'retrieve', 'query': 'What are the my drink preferences?', 'user_id': 'new_user'}}}]}, {'role': 'user', 'content': [{'toolResult': {'toolUseId': 'tooluse_mem0_memory_933100576', 'status': 'error', 'content': [{'text': 'Error: Error getting embedding from AWS Bedrock: An error occurred (UnrecognizedClientException) when calling the InvokeModel operation: The security token included in the request is invalid.'}]}}]}, {'role': 'assistant', 'content': [{'text': 'agent.mem0_memory was called'}]}, {'role': 'user', 'content': [{'text': 'What are the events happening in the New York today?'}]}] <strands.handlers.tool_handler.AgentToolHandler object at 0x11767e8d0> <strands.tools.thread_pool_executor.ThreadPoolExecutorWrapper object at 0x11767d400>\n"
     ]
    },
    {
     "ename": "EventStreamError",
     "evalue": "An error occurred (validationException) when calling the ConverseStream operation: The model returned the following errors: tools.0.custom.input_schema: input_schema does not support oneOf, allOf, or anyOf at the top level",
     "output_type": "error",
     "traceback": [
      "\u001b[31m---------------------------------------------------------------------------\u001b[39m",
      "\u001b[31mEventStreamError\u001b[39m                          Traceback (most recent call last)",
      "\u001b[36mCell\u001b[39m\u001b[36m \u001b[39m\u001b[32mIn[21]\u001b[39m\u001b[32m, line 2\u001b[39m\n\u001b[32m      1\u001b[39m \u001b[38;5;66;03m# Ask the agent a question\u001b[39;00m\n\u001b[32m----> \u001b[39m\u001b[32m2\u001b[39m response = \u001b[43mmemory_agent\u001b[49m\u001b[43m(\u001b[49m\u001b[33;43m\"\u001b[39;49m\u001b[33;43mWhat are the events happening in the New York today?\u001b[39;49m\u001b[33;43m\"\u001b[39;49m\u001b[43m)\u001b[49m\n\u001b[32m      3\u001b[39m \u001b[38;5;28mprint\u001b[39m(response)\n",
      "\u001b[36mFile \u001b[39m\u001b[32m~/Projects/github/generative-ai-on-amazon-sagemaker-june13/.conda/lib/python3.12/site-packages/strands/agent/agent.py:358\u001b[39m, in \u001b[36mAgent.__call__\u001b[39m\u001b[34m(self, prompt, **kwargs)\u001b[39m\n\u001b[32m    354\u001b[39m \u001b[38;5;28mself\u001b[39m._start_agent_trace_span(prompt)\n\u001b[32m    356\u001b[39m \u001b[38;5;28;01mtry\u001b[39;00m:\n\u001b[32m    357\u001b[39m     \u001b[38;5;66;03m# Run the event loop and get the result\u001b[39;00m\n\u001b[32m--> \u001b[39m\u001b[32m358\u001b[39m     result = \u001b[38;5;28;43mself\u001b[39;49m\u001b[43m.\u001b[49m\u001b[43m_run_loop\u001b[49m\u001b[43m(\u001b[49m\u001b[43mprompt\u001b[49m\u001b[43m,\u001b[49m\u001b[43m \u001b[49m\u001b[43mkwargs\u001b[49m\u001b[43m)\u001b[49m\n\u001b[32m    360\u001b[39m     \u001b[38;5;28mself\u001b[39m._end_agent_trace_span(response=result)\n\u001b[32m    362\u001b[39m     \u001b[38;5;28;01mreturn\u001b[39;00m result\n",
      "\u001b[36mFile \u001b[39m\u001b[32m~/Projects/github/generative-ai-on-amazon-sagemaker-june13/.conda/lib/python3.12/site-packages/strands/agent/agent.py:462\u001b[39m, in \u001b[36mAgent._run_loop\u001b[39m\u001b[34m(self, prompt, kwargs, supplementary_callback_handler)\u001b[39m\n\u001b[32m    459\u001b[39m     \u001b[38;5;28mself\u001b[39m.messages.append(new_message)\n\u001b[32m    461\u001b[39m     \u001b[38;5;66;03m# Execute the event loop cycle with retry logic for context limits\u001b[39;00m\n\u001b[32m--> \u001b[39m\u001b[32m462\u001b[39m     \u001b[38;5;28;01mreturn\u001b[39;00m \u001b[38;5;28;43mself\u001b[39;49m\u001b[43m.\u001b[49m\u001b[43m_execute_event_loop_cycle\u001b[49m\u001b[43m(\u001b[49m\u001b[43minvocation_callback_handler\u001b[49m\u001b[43m,\u001b[49m\u001b[43m \u001b[49m\u001b[43mkwargs\u001b[49m\u001b[43m)\u001b[49m\n\u001b[32m    464\u001b[39m \u001b[38;5;28;01mfinally\u001b[39;00m:\n\u001b[32m    465\u001b[39m     \u001b[38;5;28mself\u001b[39m.conversation_manager.apply_management(\u001b[38;5;28mself\u001b[39m)\n",
      "\u001b[36mFile \u001b[39m\u001b[32m~/Projects/github/generative-ai-on-amazon-sagemaker-june13/.conda/lib/python3.12/site-packages/strands/agent/agent.py:491\u001b[39m, in \u001b[36mAgent._execute_event_loop_cycle\u001b[39m\u001b[34m(self, callback_handler, kwargs)\u001b[39m\n\u001b[32m    488\u001b[39m \u001b[38;5;28;01mtry\u001b[39;00m:\n\u001b[32m    489\u001b[39m     \u001b[38;5;66;03m# Execute the main event loop cycle\u001b[39;00m\n\u001b[32m    490\u001b[39m     \u001b[38;5;28mprint\u001b[39m(system_prompt, messages, tool_handler, tool_execution_handler)\n\u001b[32m--> \u001b[39m\u001b[32m491\u001b[39m     stop_reason, message, metrics, state = \u001b[43mevent_loop_cycle\u001b[49m\u001b[43m(\u001b[49m\n\u001b[32m    492\u001b[39m \u001b[43m        \u001b[49m\u001b[43mmodel\u001b[49m\u001b[43m=\u001b[49m\u001b[43mmodel\u001b[49m\u001b[43m,\u001b[49m\n\u001b[32m    493\u001b[39m \u001b[43m        \u001b[49m\u001b[43msystem_prompt\u001b[49m\u001b[43m=\u001b[49m\u001b[43msystem_prompt\u001b[49m\u001b[43m,\u001b[49m\n\u001b[32m    494\u001b[39m \u001b[43m        \u001b[49m\u001b[43mmessages\u001b[49m\u001b[43m=\u001b[49m\u001b[43mmessages\u001b[49m\u001b[43m,\u001b[49m\u001b[43m  \u001b[49m\u001b[38;5;66;43;03m# will be modified by event_loop_cycle\u001b[39;49;00m\n\u001b[32m    495\u001b[39m \u001b[43m        \u001b[49m\u001b[43mtool_config\u001b[49m\u001b[43m=\u001b[49m\u001b[43mtool_config\u001b[49m\u001b[43m,\u001b[49m\n\u001b[32m    496\u001b[39m \u001b[43m        \u001b[49m\u001b[43mcallback_handler\u001b[49m\u001b[43m=\u001b[49m\u001b[43mcallback_handler_override\u001b[49m\u001b[43m,\u001b[49m\n\u001b[32m    497\u001b[39m \u001b[43m        \u001b[49m\u001b[43mtool_handler\u001b[49m\u001b[43m=\u001b[49m\u001b[43mtool_handler\u001b[49m\u001b[43m,\u001b[49m\n\u001b[32m    498\u001b[39m \u001b[43m        \u001b[49m\u001b[43mtool_execution_handler\u001b[49m\u001b[43m=\u001b[49m\u001b[43mtool_execution_handler\u001b[49m\u001b[43m,\u001b[49m\n\u001b[32m    499\u001b[39m \u001b[43m        \u001b[49m\u001b[43mevent_loop_metrics\u001b[49m\u001b[43m=\u001b[49m\u001b[43mevent_loop_metrics\u001b[49m\u001b[43m,\u001b[49m\n\u001b[32m    500\u001b[39m \u001b[43m        \u001b[49m\u001b[43magent\u001b[49m\u001b[43m=\u001b[49m\u001b[38;5;28;43mself\u001b[39;49m\u001b[43m,\u001b[49m\n\u001b[32m    501\u001b[39m \u001b[43m        \u001b[49m\u001b[43mevent_loop_parent_span\u001b[49m\u001b[43m=\u001b[49m\u001b[38;5;28;43mself\u001b[39;49m\u001b[43m.\u001b[49m\u001b[43mtrace_span\u001b[49m\u001b[43m,\u001b[49m\n\u001b[32m    502\u001b[39m \u001b[43m        \u001b[49m\u001b[43m*\u001b[49m\u001b[43m*\u001b[49m\u001b[43mkwargs\u001b[49m\u001b[43m,\u001b[49m\n\u001b[32m    503\u001b[39m \u001b[43m    \u001b[49m\u001b[43m)\u001b[49m\n\u001b[32m    505\u001b[39m     \u001b[38;5;28;01mreturn\u001b[39;00m AgentResult(stop_reason, message, metrics, state)\n\u001b[32m    507\u001b[39m \u001b[38;5;28;01mexcept\u001b[39;00m ContextWindowOverflowException \u001b[38;5;28;01mas\u001b[39;00m e:\n\u001b[32m    508\u001b[39m     \u001b[38;5;66;03m# Try reducing the context size and retrying\u001b[39;00m\n",
      "\u001b[36mFile \u001b[39m\u001b[32m~/Projects/github/generative-ai-on-amazon-sagemaker-june13/.conda/lib/python3.12/site-packages/strands/event_loop/event_loop.py:190\u001b[39m, in \u001b[36mevent_loop_cycle\u001b[39m\u001b[34m(model, system_prompt, messages, tool_config, callback_handler, tool_handler, tool_execution_handler, **kwargs)\u001b[39m\n\u001b[32m    188\u001b[39m         \u001b[38;5;28;01mif\u001b[39;00m model_invoke_span:\n\u001b[32m    189\u001b[39m             tracer.end_span_with_error(model_invoke_span, \u001b[38;5;28mstr\u001b[39m(e), e)\n\u001b[32m--> \u001b[39m\u001b[32m190\u001b[39m         \u001b[38;5;28;01mraise\u001b[39;00m e\n\u001b[32m    192\u001b[39m \u001b[38;5;28;01mtry\u001b[39;00m:\n\u001b[32m    193\u001b[39m     \u001b[38;5;66;03m# Add message in trace and mark the end of the stream messages trace\u001b[39;00m\n\u001b[32m    194\u001b[39m     stream_trace.add_message(message)\n",
      "\u001b[36mFile \u001b[39m\u001b[32m~/Projects/github/generative-ai-on-amazon-sagemaker-june13/.conda/lib/python3.12/site-packages/strands/event_loop/event_loop.py:148\u001b[39m, in \u001b[36mevent_loop_cycle\u001b[39m\u001b[34m(model, system_prompt, messages, tool_config, callback_handler, tool_handler, tool_execution_handler, **kwargs)\u001b[39m\n\u001b[32m    141\u001b[39m model_invoke_span = tracer.start_model_invoke_span(\n\u001b[32m    142\u001b[39m     parent_span=cycle_span,\n\u001b[32m    143\u001b[39m     messages=messages,\n\u001b[32m    144\u001b[39m     model_id=model_id,\n\u001b[32m    145\u001b[39m )\n\u001b[32m    147\u001b[39m \u001b[38;5;28;01mtry\u001b[39;00m:\n\u001b[32m--> \u001b[39m\u001b[32m148\u001b[39m     stop_reason, message, usage, metrics, kwargs[\u001b[33m\"\u001b[39m\u001b[33mrequest_state\u001b[39m\u001b[33m\"\u001b[39m] = \u001b[43mstream_messages\u001b[49m\u001b[43m(\u001b[49m\n\u001b[32m    149\u001b[39m \u001b[43m        \u001b[49m\u001b[43mmodel\u001b[49m\u001b[43m,\u001b[49m\n\u001b[32m    150\u001b[39m \u001b[43m        \u001b[49m\u001b[43msystem_prompt\u001b[49m\u001b[43m,\u001b[49m\n\u001b[32m    151\u001b[39m \u001b[43m        \u001b[49m\u001b[43mmessages\u001b[49m\u001b[43m,\u001b[49m\n\u001b[32m    152\u001b[39m \u001b[43m        \u001b[49m\u001b[43mtool_config\u001b[49m\u001b[43m,\u001b[49m\n\u001b[32m    153\u001b[39m \u001b[43m        \u001b[49m\u001b[43mcallback_handler\u001b[49m\u001b[43m,\u001b[49m\n\u001b[32m    154\u001b[39m \u001b[43m        \u001b[49m\u001b[43m*\u001b[49m\u001b[43m*\u001b[49m\u001b[43mkwargs\u001b[49m\u001b[43m,\u001b[49m\n\u001b[32m    155\u001b[39m \u001b[43m    \u001b[49m\u001b[43m)\u001b[49m\n\u001b[32m    156\u001b[39m     \u001b[38;5;28;01mif\u001b[39;00m model_invoke_span:\n\u001b[32m    157\u001b[39m         tracer.end_model_invoke_span(model_invoke_span, message, usage)\n",
      "\u001b[36mFile \u001b[39m\u001b[32m~/Projects/github/generative-ai-on-amazon-sagemaker-june13/.conda/lib/python3.12/site-packages/strands/event_loop/streaming.py:340\u001b[39m, in \u001b[36mstream_messages\u001b[39m\u001b[34m(model, system_prompt, messages, tool_config, callback_handler, **kwargs)\u001b[39m\n\u001b[32m    337\u001b[39m tool_specs = [tool[\u001b[33m\"\u001b[39m\u001b[33mtoolSpec\u001b[39m\u001b[33m\"\u001b[39m] \u001b[38;5;28;01mfor\u001b[39;00m tool \u001b[38;5;129;01min\u001b[39;00m tool_config.get(\u001b[33m\"\u001b[39m\u001b[33mtools\u001b[39m\u001b[33m\"\u001b[39m, [])] \u001b[38;5;129;01mor\u001b[39;00m \u001b[38;5;28;01mNone\u001b[39;00m \u001b[38;5;28;01mif\u001b[39;00m tool_config \u001b[38;5;28;01melse\u001b[39;00m \u001b[38;5;28;01mNone\u001b[39;00m\n\u001b[32m    339\u001b[39m chunks = model.converse(messages, tool_specs, system_prompt)\n\u001b[32m--> \u001b[39m\u001b[32m340\u001b[39m \u001b[38;5;28;01mreturn\u001b[39;00m \u001b[43mprocess_stream\u001b[49m\u001b[43m(\u001b[49m\u001b[43mchunks\u001b[49m\u001b[43m,\u001b[49m\u001b[43m \u001b[49m\u001b[43mcallback_handler\u001b[49m\u001b[43m,\u001b[49m\u001b[43m \u001b[49m\u001b[43mmessages\u001b[49m\u001b[43m,\u001b[49m\u001b[43m \u001b[49m\u001b[43m*\u001b[49m\u001b[43m*\u001b[49m\u001b[43mkwargs\u001b[49m\u001b[43m)\u001b[49m\n",
      "\u001b[36mFile \u001b[39m\u001b[32m~/Projects/github/generative-ai-on-amazon-sagemaker-june13/.conda/lib/python3.12/site-packages/strands/event_loop/streaming.py:290\u001b[39m, in \u001b[36mprocess_stream\u001b[39m\u001b[34m(chunks, callback_handler, messages, **kwargs)\u001b[39m\n\u001b[32m    286\u001b[39m metrics: Metrics = Metrics(latencyMs=\u001b[32m0\u001b[39m)\n\u001b[32m    288\u001b[39m kwargs.setdefault(\u001b[33m\"\u001b[39m\u001b[33mrequest_state\u001b[39m\u001b[33m\"\u001b[39m, {})\n\u001b[32m--> \u001b[39m\u001b[32m290\u001b[39m \u001b[43m\u001b[49m\u001b[38;5;28;43;01mfor\u001b[39;49;00m\u001b[43m \u001b[49m\u001b[43mchunk\u001b[49m\u001b[43m \u001b[49m\u001b[38;5;129;43;01min\u001b[39;49;00m\u001b[43m \u001b[49m\u001b[43mchunks\u001b[49m\u001b[43m:\u001b[49m\n\u001b[32m    291\u001b[39m \u001b[43m    \u001b[49m\u001b[38;5;66;43;03m# Callback handler call here allows each event to be visible to the caller\u001b[39;49;00m\n\u001b[32m    292\u001b[39m \u001b[43m    \u001b[49m\u001b[43mcallback_handler\u001b[49m\u001b[43m(\u001b[49m\u001b[43mevent\u001b[49m\u001b[43m=\u001b[49m\u001b[43mchunk\u001b[49m\u001b[43m)\u001b[49m\n\u001b[32m    294\u001b[39m \u001b[43m    \u001b[49m\u001b[38;5;28;43;01mif\u001b[39;49;00m\u001b[43m \u001b[49m\u001b[33;43m\"\u001b[39;49m\u001b[33;43mmessageStart\u001b[39;49m\u001b[33;43m\"\u001b[39;49m\u001b[43m \u001b[49m\u001b[38;5;129;43;01min\u001b[39;49;00m\u001b[43m \u001b[49m\u001b[43mchunk\u001b[49m\u001b[43m:\u001b[49m\n",
      "\u001b[36mFile \u001b[39m\u001b[32m~/Projects/github/generative-ai-on-amazon-sagemaker-june13/.conda/lib/python3.12/site-packages/strands/types/models/model.py:115\u001b[39m, in \u001b[36mModel.converse\u001b[39m\u001b[34m(self, messages, tool_specs, system_prompt)\u001b[39m\n\u001b[32m    112\u001b[39m response = \u001b[38;5;28mself\u001b[39m.stream(request)\n\u001b[32m    114\u001b[39m logger.debug(\u001b[33m\"\u001b[39m\u001b[33mgot response from model\u001b[39m\u001b[33m\"\u001b[39m)\n\u001b[32m--> \u001b[39m\u001b[32m115\u001b[39m \u001b[43m\u001b[49m\u001b[38;5;28;43;01mfor\u001b[39;49;00m\u001b[43m \u001b[49m\u001b[43mevent\u001b[49m\u001b[43m \u001b[49m\u001b[38;5;129;43;01min\u001b[39;49;00m\u001b[43m \u001b[49m\u001b[43mresponse\u001b[49m\u001b[43m:\u001b[49m\n\u001b[32m    116\u001b[39m \u001b[43m    \u001b[49m\u001b[38;5;28;43;01myield\u001b[39;49;00m\u001b[43m \u001b[49m\u001b[38;5;28;43mself\u001b[39;49m\u001b[43m.\u001b[49m\u001b[43mformat_chunk\u001b[49m\u001b[43m(\u001b[49m\u001b[43mevent\u001b[49m\u001b[43m)\u001b[49m\n\u001b[32m    118\u001b[39m logger.debug(\u001b[33m\"\u001b[39m\u001b[33mfinished streaming response from model\u001b[39m\u001b[33m\"\u001b[39m)\n",
      "\u001b[36mFile \u001b[39m\u001b[32m~/Projects/github/generative-ai-on-amazon-sagemaker-june13/.conda/lib/python3.12/site-packages/strands/models/bedrock.py:369\u001b[39m, in \u001b[36mBedrockModel.stream\u001b[39m\u001b[34m(self, request)\u001b[39m\n\u001b[32m    366\u001b[39m     \u001b[38;5;28;01mraise\u001b[39;00m ContextWindowOverflowException(e) \u001b[38;5;28;01mfrom\u001b[39;00m\u001b[38;5;250m \u001b[39m\u001b[34;01me\u001b[39;00m\n\u001b[32m    368\u001b[39m \u001b[38;5;66;03m# Otherwise raise the error\u001b[39;00m\n\u001b[32m--> \u001b[39m\u001b[32m369\u001b[39m \u001b[38;5;28;01mraise\u001b[39;00m e\n",
      "\u001b[36mFile \u001b[39m\u001b[32m~/Projects/github/generative-ai-on-amazon-sagemaker-june13/.conda/lib/python3.12/site-packages/strands/models/bedrock.py:331\u001b[39m, in \u001b[36mBedrockModel.stream\u001b[39m\u001b[34m(self, request)\u001b[39m\n\u001b[32m    328\u001b[39m \u001b[38;5;28;01mif\u001b[39;00m streaming:\n\u001b[32m    329\u001b[39m     \u001b[38;5;66;03m# Streaming implementation\u001b[39;00m\n\u001b[32m    330\u001b[39m     response = \u001b[38;5;28mself\u001b[39m.client.converse_stream(**request)\n\u001b[32m--> \u001b[39m\u001b[32m331\u001b[39m \u001b[43m    \u001b[49m\u001b[38;5;28;43;01mfor\u001b[39;49;00m\u001b[43m \u001b[49m\u001b[43mchunk\u001b[49m\u001b[43m \u001b[49m\u001b[38;5;129;43;01min\u001b[39;49;00m\u001b[43m \u001b[49m\u001b[43mresponse\u001b[49m\u001b[43m[\u001b[49m\u001b[33;43m\"\u001b[39;49m\u001b[33;43mstream\u001b[39;49m\u001b[33;43m\"\u001b[39;49m\u001b[43m]\u001b[49m\u001b[43m:\u001b[49m\n\u001b[32m    332\u001b[39m \u001b[43m        \u001b[49m\u001b[38;5;28;43;01mif\u001b[39;49;00m\u001b[43m \u001b[49m\u001b[43m(\u001b[49m\n\u001b[32m    333\u001b[39m \u001b[43m            \u001b[49m\u001b[33;43m\"\u001b[39;49m\u001b[33;43mmetadata\u001b[39;49m\u001b[33;43m\"\u001b[39;49m\u001b[43m \u001b[49m\u001b[38;5;129;43;01min\u001b[39;49;00m\u001b[43m \u001b[49m\u001b[43mchunk\u001b[49m\n\u001b[32m    334\u001b[39m \u001b[43m            \u001b[49m\u001b[38;5;129;43;01mand\u001b[39;49;00m\u001b[43m \u001b[49m\u001b[33;43m\"\u001b[39;49m\u001b[33;43mtrace\u001b[39;49m\u001b[33;43m\"\u001b[39;49m\u001b[43m \u001b[49m\u001b[38;5;129;43;01min\u001b[39;49;00m\u001b[43m \u001b[49m\u001b[43mchunk\u001b[49m\u001b[43m[\u001b[49m\u001b[33;43m\"\u001b[39;49m\u001b[33;43mmetadata\u001b[39;49m\u001b[33;43m\"\u001b[39;49m\u001b[43m]\u001b[49m\n\u001b[32m    335\u001b[39m \u001b[43m            \u001b[49m\u001b[38;5;129;43;01mand\u001b[39;49;00m\u001b[43m \u001b[49m\u001b[33;43m\"\u001b[39;49m\u001b[33;43mguardrail\u001b[39;49m\u001b[33;43m\"\u001b[39;49m\u001b[43m \u001b[49m\u001b[38;5;129;43;01min\u001b[39;49;00m\u001b[43m \u001b[49m\u001b[43mchunk\u001b[49m\u001b[43m[\u001b[49m\u001b[33;43m\"\u001b[39;49m\u001b[33;43mmetadata\u001b[39;49m\u001b[33;43m\"\u001b[39;49m\u001b[43m]\u001b[49m\u001b[43m[\u001b[49m\u001b[33;43m\"\u001b[39;49m\u001b[33;43mtrace\u001b[39;49m\u001b[33;43m\"\u001b[39;49m\u001b[43m]\u001b[49m\n\u001b[32m    336\u001b[39m \u001b[43m        \u001b[49m\u001b[43m)\u001b[49m\u001b[43m:\u001b[49m\n\u001b[32m    337\u001b[39m \u001b[43m            \u001b[49m\u001b[43mguardrail_data\u001b[49m\u001b[43m \u001b[49m\u001b[43m=\u001b[49m\u001b[43m \u001b[49m\u001b[43mchunk\u001b[49m\u001b[43m[\u001b[49m\u001b[33;43m\"\u001b[39;49m\u001b[33;43mmetadata\u001b[39;49m\u001b[33;43m\"\u001b[39;49m\u001b[43m]\u001b[49m\u001b[43m[\u001b[49m\u001b[33;43m\"\u001b[39;49m\u001b[33;43mtrace\u001b[39;49m\u001b[33;43m\"\u001b[39;49m\u001b[43m]\u001b[49m\u001b[43m[\u001b[49m\u001b[33;43m\"\u001b[39;49m\u001b[33;43mguardrail\u001b[39;49m\u001b[33;43m\"\u001b[39;49m\u001b[43m]\u001b[49m\n",
      "\u001b[36mFile \u001b[39m\u001b[32m~/Projects/github/generative-ai-on-amazon-sagemaker-june13/.conda/lib/python3.12/site-packages/botocore/eventstream.py:592\u001b[39m, in \u001b[36mEventStream.__iter__\u001b[39m\u001b[34m(self)\u001b[39m\n\u001b[32m    590\u001b[39m \u001b[38;5;28;01mdef\u001b[39;00m\u001b[38;5;250m \u001b[39m\u001b[34m__iter__\u001b[39m(\u001b[38;5;28mself\u001b[39m):\n\u001b[32m    591\u001b[39m     \u001b[38;5;28;01mfor\u001b[39;00m event \u001b[38;5;129;01min\u001b[39;00m \u001b[38;5;28mself\u001b[39m._event_generator:\n\u001b[32m--> \u001b[39m\u001b[32m592\u001b[39m         parsed_event = \u001b[38;5;28;43mself\u001b[39;49m\u001b[43m.\u001b[49m\u001b[43m_parse_event\u001b[49m\u001b[43m(\u001b[49m\u001b[43mevent\u001b[49m\u001b[43m)\u001b[49m\n\u001b[32m    593\u001b[39m         \u001b[38;5;28;01mif\u001b[39;00m parsed_event:\n\u001b[32m    594\u001b[39m             \u001b[38;5;28;01myield\u001b[39;00m parsed_event\n",
      "\u001b[36mFile \u001b[39m\u001b[32m~/Projects/github/generative-ai-on-amazon-sagemaker-june13/.conda/lib/python3.12/site-packages/botocore/eventstream.py:608\u001b[39m, in \u001b[36mEventStream._parse_event\u001b[39m\u001b[34m(self, event)\u001b[39m\n\u001b[32m    606\u001b[39m     \u001b[38;5;28;01mreturn\u001b[39;00m parsed_response\n\u001b[32m    607\u001b[39m \u001b[38;5;28;01melse\u001b[39;00m:\n\u001b[32m--> \u001b[39m\u001b[32m608\u001b[39m     \u001b[38;5;28;01mraise\u001b[39;00m EventStreamError(parsed_response, \u001b[38;5;28mself\u001b[39m._operation_name)\n",
      "\u001b[31mEventStreamError\u001b[39m: An error occurred (validationException) when calling the ConverseStream operation: The model returned the following errors: tools.0.custom.input_schema: input_schema does not support oneOf, allOf, or anyOf at the top level"
     ]
    }
   ],
   "source": [
    "# Ask the agent a question\n",
    "response = memory_agent(\"What are the events happening in the New York today?\")\n",
    "print(response)"
   ]
  },
  {
   "cell_type": "code",
   "execution_count": null,
   "id": "da0f0e71",
   "metadata": {},
   "outputs": [],
   "source": []
  },
  {
   "cell_type": "code",
   "execution_count": null,
   "id": "a5be4227",
   "metadata": {},
   "outputs": [
    {
     "name": "stdout",
     "output_type": "stream",
     "text": [
      "All Stored Memories:\n"
     ]
    },
    {
     "data": {
      "text/html": [
       "<pre style=\"white-space:pre;overflow-x:auto;line-height:normal;font-family:Menlo,'DejaVu Sans Mono',consolas,'Courier New',monospace\"><span style=\"color: #008000; text-decoration-color: #008000\">╭───────────────────────────────────────────────── </span><span style=\"color: #008000; text-decoration-color: #008000; font-weight: bold\">Memories List</span><span style=\"color: #008000; text-decoration-color: #008000\"> ─────────────────────────────────────────────────╮</span>\n",
       "<span style=\"color: #008000; text-decoration-color: #008000\">│</span> <span style=\"font-style: italic\">                                                   Memories                                                    </span> <span style=\"color: #008000; text-decoration-color: #008000\">│</span>\n",
       "<span style=\"color: #008000; text-decoration-color: #008000\">│</span> ┏━━━━━━━━━━━━━━━━┳━━━━━━━━━━━━━━━━━━━━━━━━━━━━━━━━━━━━━━━━━━━━━━━━━━━━┳━━━━━━━━━━━━━━━━━┳━━━━━━━━━━┳━━━━━━━━━━┓ <span style=\"color: #008000; text-decoration-color: #008000\">│</span>\n",
       "<span style=\"color: #008000; text-decoration-color: #008000\">│</span> ┃<span style=\"color: #800080; text-decoration-color: #800080; font-weight: bold\"> ID             </span>┃<span style=\"color: #800080; text-decoration-color: #800080; font-weight: bold\"> Memory                                             </span>┃<span style=\"color: #800080; text-decoration-color: #800080; font-weight: bold\"> Created At      </span>┃<span style=\"color: #800080; text-decoration-color: #800080; font-weight: bold\"> User ID  </span>┃<span style=\"color: #800080; text-decoration-color: #800080; font-weight: bold\"> Metadata </span>┃ <span style=\"color: #008000; text-decoration-color: #008000\">│</span>\n",
       "<span style=\"color: #008000; text-decoration-color: #008000\">│</span> ┡━━━━━━━━━━━━━━━━╇━━━━━━━━━━━━━━━━━━━━━━━━━━━━━━━━━━━━━━━━━━━━━━━━━━━━╇━━━━━━━━━━━━━━━━━╇━━━━━━━━━━╇━━━━━━━━━━┩ <span style=\"color: #008000; text-decoration-color: #008000\">│</span>\n",
       "<span style=\"color: #008000; text-decoration-color: #008000\">│</span> │<span style=\"color: #008080; text-decoration-color: #008080\"> 94e68f3a-0f2a… </span>│<span style=\"color: #808000; text-decoration-color: #808000\"> Name is new_user                                   </span>│<span style=\"color: #000080; text-decoration-color: #000080\"> 2025-06-16T21:… </span>│<span style=\"color: #008000; text-decoration-color: #008000\"> new_user </span>│<span style=\"color: #800080; text-decoration-color: #800080\"> None     </span>│ <span style=\"color: #008000; text-decoration-color: #008000\">│</span>\n",
       "<span style=\"color: #008000; text-decoration-color: #008000\">│</span> │<span style=\"color: #008080; text-decoration-color: #008080\"> 17bf9c7e-14c4… </span>│<span style=\"color: #808000; text-decoration-color: #808000\"> Prefers tea over coffee                            </span>│<span style=\"color: #000080; text-decoration-color: #000080\"> 2025-06-16T21:… </span>│<span style=\"color: #008000; text-decoration-color: #008000\"> new_user </span>│<span style=\"color: #800080; text-decoration-color: #800080\"> None     </span>│ <span style=\"color: #008000; text-decoration-color: #008000\">│</span>\n",
       "<span style=\"color: #008000; text-decoration-color: #008000\">│</span> └────────────────┴────────────────────────────────────────────────────┴─────────────────┴──────────┴──────────┘ <span style=\"color: #008000; text-decoration-color: #008000\">│</span>\n",
       "<span style=\"color: #008000; text-decoration-color: #008000\">╰─────────────────────────────────────────────────────────────────────────────────────────────────────────────────╯</span>\n",
       "</pre>\n"
      ],
      "text/plain": [
       "\u001b[32m╭─\u001b[0m\u001b[32m────────────────────────────────────────────────\u001b[0m\u001b[32m \u001b[0m\u001b[1;32mMemories List\u001b[0m\u001b[32m \u001b[0m\u001b[32m────────────────────────────────────────────────\u001b[0m\u001b[32m─╮\u001b[0m\n",
       "\u001b[32m│\u001b[0m \u001b[3m                                                   Memories                                                    \u001b[0m \u001b[32m│\u001b[0m\n",
       "\u001b[32m│\u001b[0m ┏━━━━━━━━━━━━━━━━┳━━━━━━━━━━━━━━━━━━━━━━━━━━━━━━━━━━━━━━━━━━━━━━━━━━━━┳━━━━━━━━━━━━━━━━━┳━━━━━━━━━━┳━━━━━━━━━━┓ \u001b[32m│\u001b[0m\n",
       "\u001b[32m│\u001b[0m ┃\u001b[1;35m \u001b[0m\u001b[1;35mID            \u001b[0m\u001b[1;35m \u001b[0m┃\u001b[1;35m \u001b[0m\u001b[1;35mMemory                                            \u001b[0m\u001b[1;35m \u001b[0m┃\u001b[1;35m \u001b[0m\u001b[1;35mCreated At     \u001b[0m\u001b[1;35m \u001b[0m┃\u001b[1;35m \u001b[0m\u001b[1;35mUser ID \u001b[0m\u001b[1;35m \u001b[0m┃\u001b[1;35m \u001b[0m\u001b[1;35mMetadata\u001b[0m\u001b[1;35m \u001b[0m┃ \u001b[32m│\u001b[0m\n",
       "\u001b[32m│\u001b[0m ┡━━━━━━━━━━━━━━━━╇━━━━━━━━━━━━━━━━━━━━━━━━━━━━━━━━━━━━━━━━━━━━━━━━━━━━╇━━━━━━━━━━━━━━━━━╇━━━━━━━━━━╇━━━━━━━━━━┩ \u001b[32m│\u001b[0m\n",
       "\u001b[32m│\u001b[0m │\u001b[36m \u001b[0m\u001b[36m94e68f3a-0f2a…\u001b[0m\u001b[36m \u001b[0m│\u001b[33m \u001b[0m\u001b[33mName is new_user                                  \u001b[0m\u001b[33m \u001b[0m│\u001b[34m \u001b[0m\u001b[34m2025-06-16T21:…\u001b[0m\u001b[34m \u001b[0m│\u001b[32m \u001b[0m\u001b[32mnew_user\u001b[0m\u001b[32m \u001b[0m│\u001b[35m \u001b[0m\u001b[35mNone    \u001b[0m\u001b[35m \u001b[0m│ \u001b[32m│\u001b[0m\n",
       "\u001b[32m│\u001b[0m │\u001b[36m \u001b[0m\u001b[36m17bf9c7e-14c4…\u001b[0m\u001b[36m \u001b[0m│\u001b[33m \u001b[0m\u001b[33mPrefers tea over coffee                           \u001b[0m\u001b[33m \u001b[0m│\u001b[34m \u001b[0m\u001b[34m2025-06-16T21:…\u001b[0m\u001b[34m \u001b[0m│\u001b[32m \u001b[0m\u001b[32mnew_user\u001b[0m\u001b[32m \u001b[0m│\u001b[35m \u001b[0m\u001b[35mNone    \u001b[0m\u001b[35m \u001b[0m│ \u001b[32m│\u001b[0m\n",
       "\u001b[32m│\u001b[0m └────────────────┴────────────────────────────────────────────────────┴─────────────────┴──────────┴──────────┘ \u001b[32m│\u001b[0m\n",
       "\u001b[32m╰─────────────────────────────────────────────────────────────────────────────────────────────────────────────────╯\u001b[0m\n"
      ]
     },
     "metadata": {},
     "output_type": "display_data"
    }
   ],
   "source": [
    "# List all stored memories\n",
    "print(\"All Stored Memories:\")\n",
    "all_memories = memory_agent.tool.mem0_memory(\n",
    "    action=\"list\", user_id=USER_ID\n",
    ")"
   ]
  }
 ],
 "metadata": {
  "kernelspec": {
   "display_name": "Python 3",
   "language": "python",
   "name": "python3"
  },
  "language_info": {
   "codemirror_mode": {
    "name": "ipython",
    "version": 3
   },
   "file_extension": ".py",
   "mimetype": "text/x-python",
   "name": "python",
   "nbconvert_exporter": "python",
   "pygments_lexer": "ipython3",
   "version": "3.12.11"
  }
 },
 "nbformat": 4,
 "nbformat_minor": 5
}

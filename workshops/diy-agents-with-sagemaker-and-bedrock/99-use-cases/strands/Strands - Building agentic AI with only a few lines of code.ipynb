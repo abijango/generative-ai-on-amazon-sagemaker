{
 "cells": [
  {
   "cell_type": "markdown",
   "id": "cbdcdb7f-236e-49de-a551-dc9d8121b10a",
   "metadata": {},
   "source": [
    "# A model-driven approach to building AI agents in just a few lines of code\n",
    "\n",
    "Strands Agents is a simple yet powerful SDK that takes a model-driven approach to building and running AI agents. From simple conversational assistants to complex autonomous workflows, from local development to production deployment, Strands Agents scales with your needs.<br/><br/>\n",
    "This notebook demonstrates how to leverage the **Strands Agents SDK and Tools** to generate and execute automated Python code across a diverse range of tasks."
   ]
  },
  {
   "cell_type": "markdown",
   "id": "494a7726-ec2b-4f1e-8331-2a8bbeee1f6a",
   "metadata": {},
   "source": [
    "### Suppress Warnings for Cleaner Output  \n",
    "This cell imports the `warnings` module and suppresses warnings to ensure the notebook output remains clean and easy to read."
   ]
  },
  {
   "cell_type": "code",
   "execution_count": null,
   "id": "b51b02e5-bb7a-41b0-835a-282afebd2e86",
   "metadata": {},
   "outputs": [],
   "source": [
    "import warnings\n",
    "warnings.filterwarnings(\"ignore\")"
   ]
  },
  {
   "cell_type": "markdown",
   "id": "aecc9a86-8f14-4e3e-bc58-ce6583358a65",
   "metadata": {},
   "source": [
    "### Install Strands Agents Libraries  \n",
    "Installs `strands-agents` and related tools for creating Python agents and tools that can run and evaluate Python code.\n"
   ]
  },
  {
   "cell_type": "code",
   "execution_count": null,
   "id": "f9f2a6af-2b86-43be-81c8-87c9d6909602",
   "metadata": {
    "scrolled": true
   },
   "outputs": [],
   "source": [
    "!pip install strands-agents strands-agents-tools strands-agents-builder nest_asyncio"
   ]
  },
  {
   "cell_type": "code",
   "execution_count": null,
   "id": "0779c364-8d03-48e0-9b0c-8f6234247f47",
   "metadata": {},
   "outputs": [],
   "source": [
    "# Optionally install additional libraries that are needed for the use cases. \n",
    "# If you do not have them, LLM will identify missing libraries and will try to install in the Python REPL environment.\n",
    "!pip install yfinance matplotlib\n",
    "!pip install beautifulsoup4 pandas requests"
   ]
  },
  {
   "cell_type": "markdown",
   "id": "c4f5f856-4d8b-46c9-acb1-2aaedd995f20",
   "metadata": {},
   "source": [
    "## Use Case 1: Web Scraping with a few lines of code\n",
    "Uses `requests` and `BeautifulSoup` to scrape article titles and links from Hacker News, saving results to a CSV file.\n"
   ]
  },
  {
   "cell_type": "code",
   "execution_count": null,
   "id": "01bdf0c5-749f-417d-bff4-82d98f368793",
   "metadata": {
    "scrolled": true
   },
   "outputs": [],
   "source": [
    "from strands_tools import python_repl, file_write\n",
    "from strands import Agent, tool\n",
    "import os\n",
    "\n",
    "os.environ[\"DEV\"] = \"true\"\n",
    "\n",
    "agent = Agent(tools=[python_repl, file_write])\n",
    "\n",
    "prompt = \"\"\"\n",
    "Get the titles and the links of the articles listed in https://news.ycombinator.com/news. \n",
    "When you execute a python script, make sure to run it in non-interactive mode.\n",
    "Write the results as a CSV file names news_{date}.csv.\n",
    "\"\"\"\n",
    "\n",
    "response = agent(prompt)"
   ]
  },
  {
   "cell_type": "markdown",
   "id": "f5475e6b-d849-4feb-a9a9-19f59332eafa",
   "metadata": {},
   "source": [
    "## Use Case 2: Stock Price Analysis  \n",
    "Downloads historical stock data, calculates moving averages, key financial metrics, and buy/sell signals with visualizations and logging for Apple Inc. using `yfinance` and `matplotlib`.\n"
   ]
  },
  {
   "cell_type": "code",
   "execution_count": null,
   "id": "5eef88da-8209-4277-a8af-4f36696b42c0",
   "metadata": {
    "scrolled": true
   },
   "outputs": [],
   "source": [
    "from strands_tools import current_time, python_repl\n",
    "from strands import Agent, tool\n",
    "import os\n",
    "\n",
    "os.environ[\"DEV\"] = \"true\"\n",
    "\n",
    "system_prompt = \"\"\"\n",
    "You are a financial analyst. Provide following charts:\n",
    "- Plot 20-days moving average of closing prices for the past one year.\n",
    "- Plot daily return rate comparison against S&P500 for the same period.\n",
    "\n",
    "Also, compute following two metrics of the stock:\n",
    "  - Volatility of the return rates\n",
    "\n",
    "Use `yfinance` module to retrive the historical data.\n",
    "\"\"\"\n",
    "\n",
    "agent = Agent(tools=[python_repl, current_time],\n",
    "              system_prompt=system_prompt,\n",
    "              model=\"anthropic.claude-3-5-sonnet-20241022-v2:0\")\n",
    "\n",
    "response = agent(\"Amazon\")"
   ]
  },
  {
   "cell_type": "markdown",
   "id": "053eaa39-163e-46fd-b7b3-b766c1beabff",
   "metadata": {},
   "source": [
    "### Use Case 3: Weather conditions inspection\n",
    "In this scenario, we will use an agent which investigate if there was a storm in particular county duing specified time. The validated result is to be stored in AWS DynamoDB table for downstream applications."
   ]
  },
  {
   "cell_type": "code",
   "execution_count": null,
   "id": "e3fc884d-aaad-40f4-8545-b2879b635140",
   "metadata": {},
   "outputs": [],
   "source": [
    "from strands_tools import use_aws, http_request, current_time, think\n",
    "from strands import Agent, tool\n",
    "import os\n",
    "\n",
    "os.environ[\"DEV\"] = \"true\"\n",
    "\n",
    "system_prompt = \"\"\"\n",
    "You are a specialized insurance claim inspector. We have insurance claims getting from home owners, who claim their houses were damaged by severe weather condition.\n",
    "Investigate if there was any severe storm which can damage a house in their area then summarize your findings and store it into a DynanoDB table.\n",
    "\n",
    "[Instructions]\n",
    "- Use GET request to https://www.ncdc.noaa.gov/stormevents/csv search the weather database. Refer an example URL provided below.\n",
    "- Write the results into a DynamoDB table \"WeatherInspection\" in us-west-2. Create the table if not exists. Use ClaimID as a partitian key, inspection date as a sort key.\n",
    "\"\"\"\n",
    "\n",
    "example_url = \"\"\"Follwing URL is an example to find weather events in ALAMEDA county in CALIFORNIA from 2024-01-20 to 2024-12-31\n",
    "    https://www.ncdc.noaa.gov/stormevents/csv?eventType=ALL&beginDate_mm=01&beginDate_dd=20&beginDate_yyyy=2024&endDate_mm=12&endDate_dd=31&endDate_yyyy=2024&county=ALAMEDA%3A1&statefips=6%2CCALIFORNIA\"\"\"\n",
    "\n",
    "agent = Agent(tools=[use_aws, http_request, current_time, think],\n",
    "              system_prompt=f\"{system_prompt} {example_url}\",\n",
    "              model=\"anthropic.claude-3-5-sonnet-20240620-v1:0\"\n",
    "            )\n",
    "\n",
    "\n",
    "response = agent(\"Find if there was a severe weather in Wheeler County, GA in Aug-2024.\")"
   ]
  },
  {
   "cell_type": "markdown",
   "id": "52685710-c626-4b87-9221-2c0189d9dd72",
   "metadata": {},
   "source": [
    "### Use Case 4: Text-to-DSL using MCP - Reusing the code from the previous Lab\n",
    "Let us repeat Text-to-DSL use case we worked in the previous lab. This time, we will use Strands SDK instead of LangGraph.<br/>\n",
    "<br/>\n",
    "**You should have completed the previous Text-to-DSL Lab to run this lab.**"
   ]
  },
  {
   "cell_type": "code",
   "execution_count": null,
   "id": "33172f49-051c-407f-add4-975cc46388f4",
   "metadata": {},
   "outputs": [],
   "source": [
    "from strands import Agent\n",
    "from strands.tools.mcp import MCPClient\n",
    "from mcp import stdio_client, StdioServerParameters\n",
    "import boto3\n",
    "from IPython.display import display, Markdown\n",
    "\n",
    "# Define a system prompt\n",
    "SYSTEM_PROMPT = \"\"\"\n",
    "Write a DSL query to retrive data from guardduty-index for the following question. \n",
    "Check the schema of the index to write accurate and concise queries. \n",
    "\n",
    "Format your answer as a Markdown report consists of four sections:\n",
    "1. A DSL query that was used.\n",
    "2. Summarized answer for the question.\n",
    "3. Tabular format of the findings.\n",
    "4. Recommended remediations based on your knowledge\n",
    "\"\"\"\n",
    "credentials = boto3.Session().get_credentials()\n",
    "server_params = StdioServerParameters(\n",
    "        command=\"python\",  # Executable\n",
    "        args=[\"mcp_dsl_server.py\"],  # Optional command line arguments\n",
    "        env={\n",
    "            \"AWS_ACCESS_KEY_ID\": credentials.access_key,\n",
    "            \"AWS_SECRET_ACCESS_KEY\": credentials.secret_key,\n",
    "            \"AWS_SESSION_TOKEN\": credentials.token\n",
    "        },  # Optional environment variables\n",
    "    )\n",
    "\n",
    "# Load an MCP server that can query OpenSearch Index with DSL\n",
    "opensearch_tool = MCPClient(lambda: stdio_client(server_params))\n",
    "\n",
    "with opensearch_tool:\n",
    "    agent = Agent(\n",
    "        system_prompt=SYSTEM_PROMPT,\n",
    "        tools=opensearch_tool.list_tools_sync(),\n",
    "        model = \"anthropic.claude-3-5-sonnet-20241022-v2:0\"\n",
    "    )\n",
    "\n",
    "    display(Markdown(agent(\"Any crypto currency mining activity happening in our clusters?\").message[\"content\"][0][\"text\"]))"
   ]
  },
  {
   "cell_type": "markdown",
   "id": "9f880477-7f8d-4367-93bf-321124468600",
   "metadata": {},
   "source": [
    "### Use Case 5: Bring your own Python script - LLM usage calculator\n",
    "This example will show how to import your own Python functions as the tools that your agent can access. <br/>\n",
    "Please refer ```llm_cost_utils.py``` file which defines ```get_bedrock_token_count``` function with the ```@tool``` decorator."
   ]
  },
  {
   "cell_type": "code",
   "execution_count": null,
   "id": "aa3f1ade-9544-4159-843a-daebb4da60fd",
   "metadata": {},
   "outputs": [],
   "source": [
    "from llm_cost_utils import get_bedrock_token_count\n",
    "from strands import Agent\n",
    "from strands_tools import current_time\n",
    "from IPython.display import Markdown, display\n",
    "\n",
    "SYSTEM_PROMPT=\"\"\"\n",
    "Find token count for an LLM model given using the tool provided for given time. Then calculate the cost of the token usage.\n",
    "\"\"\"\n",
    "\n",
    "agent = Agent(tools=[get_bedrock_token_count, current_time])\n",
    "\n",
    "display(Markdown(agent(\"Cost of us.anthropic.claude-3-7-sonnet-20250219-v1:0 usage during 24 hours?\").message[\"content\"][0][\"text\"]))"
   ]
  },
  {
   "cell_type": "code",
   "execution_count": null,
   "id": "17726579-5206-45cc-bcf4-5c95404ea6aa",
   "metadata": {},
   "outputs": [],
   "source": []
  }
 ],
 "metadata": {
  "kernelspec": {
   "display_name": "Python 3 (ipykernel)",
   "language": "python",
   "name": "python3"
  },
  "language_info": {
   "codemirror_mode": {
    "name": "ipython",
    "version": 3
   },
   "file_extension": ".py",
   "mimetype": "text/x-python",
   "name": "python",
   "nbconvert_exporter": "python",
   "pygments_lexer": "ipython3",
   "version": "3.12.9"
  }
 },
 "nbformat": 4,
 "nbformat_minor": 5
}

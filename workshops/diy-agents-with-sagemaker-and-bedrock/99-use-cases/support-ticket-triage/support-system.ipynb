{
 "cells": [
  {
   "cell_type": "code",
   "execution_count": null,
   "metadata": {},
   "outputs": [],
   "source": [
    "%pip install -r langgraph-requirements.txt --quiet --upgrade"
   ]
  },
  {
   "cell_type": "code",
   "execution_count": null,
   "metadata": {},
   "outputs": [],
   "source": [
    "from IPython import get_ipython\n",
    "get_ipython().kernel.do_shutdown(True)"
   ]
  },
  {
   "cell_type": "markdown",
   "metadata": {},
   "source": [
    "# Multi-Agent Support Ticket System with LangGraph\n",
    "\n",
    "This notebook demonstrates building a multi-agent system for triaging and resolving support tickets using LangGraph and AWS Bedrock.\n",
    "\n",
    "## Import necessary libraries"
   ]
  },
  {
   "cell_type": "code",
   "execution_count": 1,
   "metadata": {},
   "outputs": [],
   "source": [
    "# Import necessary libraries\n",
    "import json\n",
    "from typing import TypedDict, List, Dict, Any\n",
    "from textwrap import dedent\n",
    "\n",
    "# LangChain imports\n",
    "from langchain_aws import ChatBedrock\n",
    "from langchain.tools import tool\n",
    "\n",
    "# LangGraph imports\n",
    "from langgraph.graph import StateGraph, START, END\n",
    "from langgraph.prebuilt import create_react_agent"
   ]
  },
  {
   "cell_type": "markdown",
   "metadata": {},
   "source": [
    "## Set up the LLM\n",
    "\n",
    "Configure the AWS Bedrock model for our agents."
   ]
  },
  {
   "cell_type": "code",
   "execution_count": 2,
   "metadata": {},
   "outputs": [],
   "source": [
    "# Set up the LLM\n",
    "model = ChatBedrock(\n",
    "    model=\"us.amazon.nova-pro-v1:0\",\n",
    "    temperature=0.1,\n",
    "    region=\"us-west-2\"\n",
    ")"
   ]
  },
  {
   "cell_type": "markdown",
   "metadata": {},
   "source": [
    "## Define the State Type\n",
    "\n",
    "Create a TypedDict to represent the state of a support ticket."
   ]
  },
  {
   "cell_type": "code",
   "execution_count": 3,
   "metadata": {},
   "outputs": [],
   "source": [
    "# Define the State type\n",
    "class TicketState(TypedDict):\n",
    "    ticket_id: str\n",
    "    content: str\n",
    "    category: str\n",
    "    status: str\n",
    "    history: List[Dict[str, Any]]\n",
    "    current_agent: str\n",
    "    resolution: str\n",
    "    requires_human: bool\n",
    "    next: str\n",
    "    messages: List[Dict[str, Any]]"
   ]
  },
  {
   "cell_type": "markdown",
   "metadata": {},
   "source": [
    "## Tool Definitions\n",
    "\n",
    "Define the tools that our agents will use to process support tickets."
   ]
  },
  {
   "cell_type": "code",
   "execution_count": 4,
   "metadata": {},
   "outputs": [],
   "source": [
    "# Tool definitions\n",
    "@tool\n",
    "def search_kb_tool(query: str) -> str:\n",
    "    \"\"\"Search knowledge base for relevant information about the query\"\"\"\n",
    "    # Mock implementation - would connect to actual KB in production\n",
    "    kb = {\n",
    "        \"password reset\": \"Users can reset passwords at example.com/reset\",\n",
    "        \"account locked\": \"Accounts are locked after 3 failed attempts\",\n",
    "        \"billing\": \"Billing cycles occur on the 1st of each month\",\n",
    "        \"features\": \"New features are documented at example.com/features\"\n",
    "    }\n",
    "    \n",
    "    for keyword, info in kb.items():\n",
    "        if keyword in query.lower():\n",
    "            return info\n",
    "    return \"No relevant information found in knowledge base.\"\n",
    "\n",
    "@tool\n",
    "def get_ticket_history_tool(ticket_id: str) -> str:\n",
    "    \"\"\"Get the history of a support ticket\"\"\"\n",
    "    # Mock implementation\n",
    "    return f\"Retrieved history for ticket {ticket_id}: No previous interactions found.\"\n",
    "\n",
    "@tool\n",
    "def check_account_status_tool(account_id: str) -> str:\n",
    "    \"\"\"Check status of a user account\"\"\"\n",
    "    # Mock implementation\n",
    "    statuses = {\"default\": \"active\"}\n",
    "    return f\"Account status: {statuses.get(account_id, 'active')}\"\n",
    "\n",
    "@tool\n",
    "def reset_password_tool(account_id: str) -> str:\n",
    "    \"\"\"Initiate password reset for an account\"\"\"\n",
    "    # Mock implementation\n",
    "    return f\"Password reset initiated for account {account_id}. Reset email sent.\"\n",
    "\n",
    "@tool\n",
    "def unlock_account_tool(account_id: str) -> str:\n",
    "    \"\"\"Unlock a locked user account\"\"\"\n",
    "    # Mock implementation\n",
    "    return f\"Account {account_id} has been unlocked. User can now log in.\"\n",
    "\n",
    "@tool\n",
    "def search_documentation_tool(query: str) -> str:\n",
    "    \"\"\"Search product documentation\"\"\"\n",
    "    # Mock implementation\n",
    "    docs = {\n",
    "        \"login\": \"Login documentation: Go to example.com and click 'Sign In'\",\n",
    "        \"features\": \"Feature documentation available at example.com/features\",\n",
    "        \"api\": \"API documentation available at example.com/api\",\n",
    "        \"settings\": \"Settings can be configured at example.com/settings\"\n",
    "    }\n",
    "    \n",
    "    for keyword, info in docs.items():\n",
    "        if keyword in query.lower():\n",
    "            return info\n",
    "    return \"No relevant documentation found.\"\n",
    "\n",
    "@tool\n",
    "def generate_how_to_tool(topic: str) -> str:\n",
    "    \"\"\"Generate a how-to guide for a common task\"\"\"\n",
    "    # Mock implementation\n",
    "    how_tos = {\n",
    "        \"password\": \"How to reset your password:\\n1. Go to login page\\n2. Click 'Forgot Password'\\n3. Enter email\\n4. Follow instructions in email\",\n",
    "        \"account\": \"How to manage your account:\\n1. Log in\\n2. Click 'Account' in top menu\\n3. Select desired option\",\n",
    "        \"billing\": \"How to update billing information:\\n1. Log in\\n2. Go to Settings > Billing\\n3. Click 'Update Payment Method'\"\n",
    "    }\n",
    "    \n",
    "    for keyword, guide in how_tos.items():\n",
    "        if keyword in topic.lower():\n",
    "            return guide\n",
    "    return f\"How-to guide for {topic}:\\n1. Log in to your account\\n2. Check the help section\\n3. Contact support if needed\"\n",
    "\n",
    "@tool\n",
    "def prep_for_human_tool(ticket_content: str) -> str:\n",
    "    \"\"\"Prepare a ticket for human review\"\"\"\n",
    "    # Mock implementation\n",
    "    return \"Ticket prepared for human review with relevant context and history.\"\n",
    "\n",
    "@tool\n",
    "def get_escalation_priority_tool(ticket_content: str) -> str:\n",
    "    \"\"\"Determine the priority level for escalation\"\"\"\n",
    "    # Mock implementation\n",
    "    if \"urgent\" in ticket_content.lower() or \"immediately\" in ticket_content.lower():\n",
    "        return \"high\"\n",
    "    elif \"soon\" in ticket_content.lower() or \"important\" in ticket_content.lower():\n",
    "        return \"medium\"\n",
    "    else:\n",
    "        return \"low\""
   ]
  },
  {
   "cell_type": "markdown",
   "metadata": {},
   "source": [
    "## Create the Agents\n",
    "\n",
    "Define specialized agents for different aspects of ticket processing.\n",
    "\n",
    "The first agent will be a classifier agent: its task is to take the ticket as input and route it to the right category."
   ]
  },
  {
   "cell_type": "code",
   "execution_count": 5,
   "metadata": {},
   "outputs": [],
   "source": [
    "# Entry point: Classifier Agent\n",
    "classifier_agent = create_react_agent(\n",
    "    name=\"classifier_agent\",\n",
    "    model=model,\n",
    "    tools=[],\n",
    "    prompt=dedent(\"\"\"\n",
    "    You are a support ticket classifier.\n",
    "    Your task is to analyze the content of a support ticket and classify it into one of the following categories:\n",
    "    - account_issue (login problems, password resets, account locks)\n",
    "    - documentation_help (how to use, documentation questions)\n",
    "    - technical_problem (bugs, errors, technical difficulties)\n",
    "    - other (any other issues not covered by the above categories)\n",
    "    Your final answer should be the category name only.\n",
    "    \"\"\")\n",
    ")\n",
    "def classify_issue(state):\n",
    "    classification = classifier_agent.invoke(state)['messages'][-1].content\n",
    "    state[\"next\"] = classification\n",
    "    return state"
   ]
  },
  {
   "cell_type": "code",
   "execution_count": 6,
   "metadata": {},
   "outputs": [],
   "source": [
    "account_agent = create_react_agent(\n",
    "    model=model,\n",
    "    tools=[check_account_status_tool, reset_password_tool, unlock_account_tool],\n",
    "    prompt=\"You are an account management specialist. Your task is to analyze the content of a support ticket and resolve common account issues. Only use the tools provided to you. If you cannot resolve the issue, prepare the ticket for human review.\",\n",
    ")\n",
    "def solve_account_issue(state):\n",
    "    response = account_agent.invoke(state)['messages'][-1].content\n",
    "    state[\"next\"] = \"end\"\n",
    "    state[\"resolution\"] = response\n",
    "    return state"
   ]
  },
  {
   "cell_type": "code",
   "execution_count": 7,
   "metadata": {},
   "outputs": [],
   "source": [
    "documentation_agent = create_react_agent(\n",
    "    model=model,\n",
    "    tools=[search_documentation_tool, generate_how_to_tool],\n",
    "    prompt=dedent(\"\"\"\\\n",
    "    You are a documentation expert.\n",
    "    Find relevant documentation to address the user's question.\n",
    "    Use the available tools to search documentation.\n",
    "    Your final answer should be a concise explanation or link to appropriate resources.\\\n",
    "    \"\"\"),\n",
    ")\n",
    "def provide_documentation(state):\n",
    "    response = documentation_agent.invoke(state)['messages'][-1].content\n",
    "    state[\"next\"] = \"end\"\n",
    "    state[\"resolution\"] = response\n",
    "    return state"
   ]
  },
  {
   "cell_type": "code",
   "execution_count": 8,
   "metadata": {},
   "outputs": [],
   "source": [
    "tech_support_agent = create_react_agent(\n",
    "    model=model,\n",
    "    tools=[search_kb_tool, get_ticket_history_tool],\n",
    "    prompt=dedent(\"\"\"\\\n",
    "    You are a technical support agent.\n",
    "    Your task is to analyze the content of a support ticket and resolve common technical issues.\n",
    "    Use the available tools to search knowledge base and retrieve ticket history.\n",
    "    Your final answer should be a concise explanation or resolution.\\\n",
    "    \"\"\"),\n",
    ")\n",
    "def solve_technical_issue(state):\n",
    "    response = tech_support_agent.invoke(state)['messages'][-1].content\n",
    "    state[\"next\"] = \"end\"\n",
    "    state[\"resolution\"] = response\n",
    "    return state"
   ]
  },
  {
   "cell_type": "code",
   "execution_count": 9,
   "metadata": {},
   "outputs": [],
   "source": [
    "other_agent = create_react_agent(\n",
    "    model=model,\n",
    "    tools=[prep_for_human_tool, get_escalation_priority_tool],\n",
    "    prompt=dedent(\"\"\"\\\n",
    "    You are a support ticket triage agent.\n",
    "    Your task is to analyze the content of a support ticket and prepare it for human review.\n",
    "    Use the available tools to prepare the ticket and determine escalation priority.\n",
    "    Your final answer should be a concise summary of the ticket and its priority level.\\\n",
    "    \"\"\"),\n",
    ")\n",
    "def handle_other_issue(state):\n",
    "    response = other_agent.invoke(state)['messages'][-1].content\n",
    "    state[\"next\"] = \"end\"\n",
    "    state[\"resolution\"] = response\n",
    "    return state"
   ]
  },
  {
   "cell_type": "markdown",
   "metadata": {},
   "source": [
    "## Build the Graph\n",
    "\n",
    "Create the workflow graph that defines how tickets are processed."
   ]
  },
  {
   "cell_type": "code",
   "execution_count": 10,
   "metadata": {},
   "outputs": [
    {
     "data": {
      "text/plain": [
       "<langgraph.graph.state.StateGraph at 0x1170545c0>"
      ]
     },
     "execution_count": 10,
     "metadata": {},
     "output_type": "execute_result"
    }
   ],
   "source": [
    "workflow = StateGraph(TicketState)\n",
    "\n",
    "# Invoking an agent is done by nodes\n",
    "workflow.add_node(\"classify_issue\", classify_issue)\n",
    "workflow.add_node(\"solve_account_issue\", solve_account_issue)\n",
    "workflow.add_node(\"doc_support\", provide_documentation)\n",
    "workflow.add_node(\"tech_support\", solve_technical_issue)\n",
    "workflow.add_node(\"escalate_issue\", handle_other_issue)\n",
    "\n",
    "# Edges define the flow of the graph\n",
    "workflow.add_edge(START, \"classify_issue\")\n",
    "workflow.add_conditional_edges(\n",
    "    \"classify_issue\",\n",
    "    lambda state: state[\"next\"],\n",
    "    {\n",
    "        \"account_issue\": \"solve_account_issue\",\n",
    "        \"technical_problem\": \"tech_support\",\n",
    "        \"documentation_help\": \"doc_support\",\n",
    "        \"other\": \"escalate_issue\",\n",
    "    }\n",
    ")"
   ]
  },
  {
   "cell_type": "code",
   "execution_count": 11,
   "metadata": {},
   "outputs": [
    {
     "data": {
      "image/png": "[encoded data removed]",
      "text/plain": [
       "<langgraph.graph.state.CompiledStateGraph object at 0x1074f8530>"
      ]
     },
     "execution_count": 11,
     "metadata": {},
     "output_type": "execute_result"
    }
   ],
   "source": [
    "executor = workflow.compile()\n",
    "executor"
   ]
  },
  {
   "cell_type": "markdown",
   "metadata": {},
   "source": [
    "## Test the System\n",
    "\n",
    "Process some sample tickets to test the support system."
   ]
  },
  {
   "cell_type": "code",
   "execution_count": 12,
   "metadata": {},
   "outputs": [
    {
     "data": {
      "text/plain": [
       "{'ticket_id': '12345',\n",
       " 'content': \"I can't log in to my account. I think my password is wrong.\",\n",
       " 'category': '',\n",
       " 'status': 'open',\n",
       " 'history': [],\n",
       " 'current_agent': '',\n",
       " 'resolution': 'A password reset has been initiated for your account. Please check your email for instructions on how to reset your password. If you do not receive the email within a few minutes, please check your spam folder.',\n",
       " 'requires_human': False,\n",
       " 'next': 'end',\n",
       " 'messages': [{'role': 'user',\n",
       "   'content': \"I can't log in to my account. I think my password is wrong.\"}]}"
      ]
     },
     "execution_count": 12,
     "metadata": {},
     "output_type": "execute_result"
    }
   ],
   "source": [
    "executor.invoke(\n",
    "    {\n",
    "        \"ticket_id\": \"12345\",\n",
    "        \"content\": \"I can't log in to my account. I think my password is wrong.\",\n",
    "        \"category\": \"\",\n",
    "        \"status\": \"open\",\n",
    "        \"history\": [],\n",
    "        \"current_agent\": \"\",\n",
    "        \"resolution\": \"\",\n",
    "        \"requires_human\": False,\n",
    "        \"next\": \"\",\n",
    "        \"messages\": [\n",
    "            {\n",
    "                \"role\": \"user\",\n",
    "                \"content\": \"I can't log in to my account. I think my password is wrong.\"\n",
    "            }\n",
    "        ]\n",
    "    }\n",
    ")"
   ]
  },
  {
   "cell_type": "markdown",
   "metadata": {},
   "source": [
    "## Explanation\n",
    "\n",
    "This notebook demonstrates a multi-agent support ticket system using LangGraph and AWS Bedrock.\n",
    "The system:\n",
    "1. Classifies incoming tickets\n",
    "2. Routes them to specialized agents based on category\n",
    "3. Attempts automated resolution\n",
    "4. Escalates to humans when necessary\n",
    "\n",
    "The state tracking allows us to maintain context across the entire workflow,\n",
    "and the graph structure makes it easy to modify or extend the system.\n",
    "\n",
    "To deploy this in a real environment:\n",
    "1. Replace mock tool implementations with actual API calls\n",
    "2. Add error handling and retries\n",
    "3. Implement proper authentication\n",
    "4. Add monitoring and feedback loops\n",
    "5. Expand the range of ticket categories and resolution strategies"
   ]
  }
 ],
 "metadata": {
  "kernelspec": {
   "display_name": ".venv",
   "language": "python",
   "name": "python3"
  },
  "language_info": {
   "codemirror_mode": {
    "name": "ipython",
    "version": 3
   },
   "file_extension": ".py",
   "mimetype": "text/x-python",
   "name": "python",
   "nbconvert_exporter": "python",
   "pygments_lexer": "ipython3",
   "version": "3.12.9"
  }
 },
 "nbformat": 4,
 "nbformat_minor": 4
}

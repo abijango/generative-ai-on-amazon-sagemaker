{
 "cells": [
  {
   "cell_type": "markdown",
   "id": "beb24897",
   "metadata": {},
   "source": [
    "# Invoking models from Amazon Bedrock\n",
    "\n",
    "<div class=\"alert alert-block alert-info\">\n",
    "⚠️ <b>Important:</b> Make sure you've run the <code>0-setup/1-required-dependencies.ipynb</code> notebook in this repository before proceeding.\n",
    "</div>"
   ]
  },
  {
   "cell_type": "code",
   "execution_count": null,
   "id": "ddf375c9",
   "metadata": {},
   "outputs": [],
   "source": [
    "import boto3\n",
    "import json\n",
    "\n",
    "bedrock = boto3.client(\n",
    "    service_name='bedrock-runtime',\n",
    "    region_name=boto3.Session().region_name\n",
    ")\n",
    "\n",
    "def invoke_model(model_id, model_input):\n",
    "    body = json.dumps(model_input)\n",
    "    \n",
    "    response = bedrock.invoke_model(\n",
    "        modelId=model_id,\n",
    "        body=body\n",
    "    )\n",
    "    \n",
    "    response_body = json.loads(response['body'].read())\n",
    "    return response_body"
   ]
  },
  {
   "cell_type": "code",
   "execution_count": null,
   "id": "bf5f8fbb",
   "metadata": {},
   "outputs": [],
   "source": [
    "%%time\n",
    "deepseek_prompt = \"What are the key ingredients for pizza?\"\n",
    "deepseek_input = {\n",
    "    \"prompt\": f\"<｜begin_of_sentence｜><｜User｜>{deepseek_prompt}<｜Assistant｜><think>\\n\",\n",
    "    \"temperature\": 0.5,\n",
    "    \"max_tokens\": 512,\n",
    "}\n",
    "deepseek_response = invoke_model('us.deepseek.r1-v1:0', deepseek_input)\n",
    "deepseek_response"
   ]
  },
  {
   "cell_type": "code",
   "execution_count": null,
   "id": "34a3bd2c",
   "metadata": {},
   "outputs": [],
   "source": [
    "%%time\n",
    "mistral_prompt = \"What are the key ingredients for pizza?\"\n",
    "mistral_input = {\n",
    "    \"prompt\": f\"<s>[INST] {mistral_prompt} [/INST]\",\n",
    "    \"temperature\": 0.5,\n",
    "    \"max_tokens\": 512,\n",
    "}\n",
    "mistral_response = invoke_model('mistral.mistral-large-2402-v1:0', mistral_input)\n",
    "mistral_response"
   ]
  },
  {
   "cell_type": "markdown",
   "id": "cb041fe7",
   "metadata": {},
   "source": [
    "## Using the Converse API"
   ]
  },
  {
   "cell_type": "code",
   "execution_count": null,
   "id": "2d7ca56f",
   "metadata": {},
   "outputs": [],
   "source": [
    "%%time\n",
    "nova_prompt = \"What are the key ingredients for pizza?\"\n",
    "messages = [{\"role\": \"user\", \"content\": [{\"text\":nova_prompt}]}]\n",
    "nova_response = bedrock.converse(\n",
    "    modelId=\"us.amazon.nova-pro-v1:0\",\n",
    "    messages=messages,\n",
    "    system=[{\"text\":\"You are a helpful assistant.\"}],\n",
    "    inferenceConfig={\n",
    "        \"maxTokens\": 512,\n",
    "        \"temperature\": 0.5,\n",
    "    }\n",
    ")\n",
    "nova_response"
   ]
  },
  {
   "cell_type": "markdown",
   "id": "179ba8b3",
   "metadata": {},
   "source": [
    "## Using LiteLLM"
   ]
  },
  {
   "cell_type": "code",
   "execution_count": null,
   "id": "c8be24ec",
   "metadata": {},
   "outputs": [],
   "source": [
    "from litellm import completion"
   ]
  },
  {
   "cell_type": "code",
   "execution_count": null,
   "id": "41e8c84f",
   "metadata": {},
   "outputs": [],
   "source": [
    "%%time\n",
    "\n",
    "response = completion(\n",
    "    model=\"bedrock/us.amazon.nova-pro-v1:0\",\n",
    "    messages=[\n",
    "        {\"role\": \"system\", \"content\": \"You are a helpful assistant.\"},\n",
    "        {\"role\": \"user\", \"content\": \"What are the key ingredients for pizza?\"}\n",
    "    ],\n",
    "    max_tokens=512,\n",
    "    temperature=0.5,\n",
    ")\n",
    "response"
   ]
  },
  {
   "cell_type": "code",
   "execution_count": null,
   "id": "840dc6b7",
   "metadata": {},
   "outputs": [],
   "source": []
  }
 ],
 "metadata": {
  "kernelspec": {
   "display_name": ".venv",
   "language": "python",
   "name": "python3"
  },
  "language_info": {
   "codemirror_mode": {
    "name": "ipython",
    "version": 3
   },
   "file_extension": ".py",
   "mimetype": "text/x-python",
   "name": "python",
   "nbconvert_exporter": "python",
   "pygments_lexer": "ipython3",
   "version": "3.12.9"
  }
 },
 "nbformat": 4,
 "nbformat_minor": 5
}

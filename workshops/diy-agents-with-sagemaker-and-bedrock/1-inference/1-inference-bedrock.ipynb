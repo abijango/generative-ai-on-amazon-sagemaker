{
 "cells": [
  {
   "cell_type": "code",
   "execution_count": null,
   "id": "cf7bc93e",
   "metadata": {},
   "outputs": [],
   "source": [
    "%pip install boto3 litellm aiohttp --quiet --upgrade"
   ]
  },
  {
   "cell_type": "markdown",
   "id": "24037975",
   "metadata": {},
   "source": [
    "<div class=\"alert alert-block alert-info\">\n",
    "<center>⚠️ <b>Important:</b> Please restart the kernel after installing the dependencies. ⚠️</center>\n",
    "</div>"
   ]
  },
  {
   "cell_type": "markdown",
   "id": "beb24897",
   "metadata": {},
   "source": [
    "# Invoking models from Amazon Bedrock"
   ]
  },
  {
   "cell_type": "code",
   "execution_count": null,
   "id": "ddf375c9",
   "metadata": {},
   "outputs": [],
   "source": [
    "import boto3\n",
    "import json\n",
    "\n",
    "bedrock = boto3.client(\n",
    "    service_name='bedrock-runtime',\n",
    "    region_name=boto3.Session().region_name\n",
    ")\n",
    "\n",
    "def invoke_model(model_id, model_input):\n",
    "    body = json.dumps(model_input)\n",
    "    \n",
    "    response = bedrock.invoke_model(\n",
    "        modelId=model_id,\n",
    "        body=body\n",
    "    )\n",
    "    \n",
    "    response_body = json.loads(response['body'].read())\n",
    "    return response_body"
   ]
  },
  {
   "cell_type": "code",
   "execution_count": 5,
   "id": "bf5f8fbb",
   "metadata": {},
   "outputs": [
    {
     "name": "stdout",
     "output_type": "stream",
     "text": [
      "CPU times: user 3.99 ms, sys: 2.75 ms, total: 6.74 ms\n",
      "Wall time: 11.4 s\n"
     ]
    },
    {
     "data": {
      "text/plain": [
       "{'choices': [{'text': 'Okay, the user is asking about the key ingredients for pizza. Let me start by recalling the basic components of a traditional pizza. First, the dough is essential—it\\'s made from flour, water, yeast, salt, and maybe a bit of olive oil. Then there\\'s the sauce, typically tomato-based with herbs like oregano and basil. Cheese is a big one, usually mozzarella because it melts well. Toppings vary, but classics include pepperoni, mushrooms, bell peppers, onions, and olives. Some people might add meats like sausage or ham, or even go for a white pizza without tomato sauce. Oh, and after baking, maybe a garnish like fresh basil or a drizzle of olive oil. I should also mention that there are variations, like different cheeses or gluten-free crusts for dietary needs. Let me make sure I cover the basics without missing anything important. Maybe list the ingredients in categories: dough, sauce, cheese, toppings, and optional extras. Also, note that some ingredients are optional based on the type of pizza, like BBQ sauce instead of tomato or vegan cheese substitutes. Yeah, that should cover it.\\n</think>\\n\\nThe key ingredients for a classic pizza can be broken down into essential components, with flexibility for customization:\\n\\n### **1. Dough**  \\n- **Flour** (usually all-purpose or bread flour)  \\n- **Water**  \\n- **Yeast** (active dry or instant, for fermentation)  \\n- **Salt** (enhances flavor)  \\n- **Olive oil** (optional, for texture and richness)  \\n\\n### **2. Sauce**  \\n- **Tomato-based sauce** (crushed tomatoes, tomato paste, or marinara)  \\n- **Seasonings**: Garlic, oregano, basil, salt, and pepper.  \\n- *Variations*: Pesto, white sauce (béchamel), BBQ sauce, or olive oil (for \"white pizza\").  \\n\\n### **3. Cheese**  \\n- **Mozzarella** (fresh or shredded, for its meltability).  \\n- *Optional additions*: Parmesan, ricotta, provolone, or goat cheese.  \\n- *Vegan option*: Plant-based cheese substitutes.  \\n\\n### **4. Toppings** (customizable)  \\n- **Classic**: Pepperoni, mushrooms, bell peppers, onions, olives, fresh basil.  \\n- **Meats**: Sausage, ham, bacon, or anchovies.  \\n- **Vegetables**: Spinach, cherry tomatoes,',\n",
       "   'stop_reason': 'length'}]}"
      ]
     },
     "execution_count": 5,
     "metadata": {},
     "output_type": "execute_result"
    }
   ],
   "source": [
    "%%time\n",
    "deepseek_prompt = \"What are the key ingredients for pizza?\"\n",
    "deepseek_input = {\n",
    "    \"prompt\": f\"<｜begin_of_sentence｜><｜User｜>{deepseek_prompt}<｜Assistant｜><think>\\n\",\n",
    "    \"temperature\": 0.5,\n",
    "    \"max_tokens\": 512,\n",
    "}\n",
    "deepseek_response = invoke_model('us.deepseek.r1-v1:0', deepseek_input)\n",
    "deepseek_response"
   ]
  },
  {
   "cell_type": "code",
   "execution_count": 7,
   "id": "34a3bd2c",
   "metadata": {},
   "outputs": [
    {
     "name": "stdout",
     "output_type": "stream",
     "text": [
      "CPU times: user 2.41 ms, sys: 3.3 ms, total: 5.71 ms\n",
      "Wall time: 4.69 s\n"
     ]
    },
    {
     "data": {
      "text/plain": [
       "{'outputs': [{'text': \" The key ingredients for pizza typically include:\\n\\n1. Pizza Dough: This is the base of the pizza. It's made from flour, yeast, water, salt, and sometimes sugar.\\n\\n2. Pizza Sauce: This is spread over the dough. It's usually made from tomatoes, but can also be a white sauce or pesto.\\n\\n3. Cheese: The most common type is mozzarella, but other types like cheddar, gouda, or parmesan can also be used.\\n\\n4. Toppings: These can vary greatly depending on personal preference. Common toppings include pepperoni, sausage, mushrooms, onions, bell peppers, olives, and tomatoes.\\n\\n5. Seasonings: These are added to enhance the flavor. They can include basil, oregano, garlic, and red pepper flakes.\\n\\n6. Olive Oil: Often used to brush the crust for a golden, crispy finish.\",\n",
       "   'stop_reason': 'stop'}]}"
      ]
     },
     "execution_count": 7,
     "metadata": {},
     "output_type": "execute_result"
    }
   ],
   "source": [
    "%%time\n",
    "mistral_prompt = \"What are the key ingredients for pizza?\"\n",
    "mistral_input = {\n",
    "    \"prompt\": f\"<s>[INST] {mistral_prompt} [/INST]\",\n",
    "    \"temperature\": 0.5,\n",
    "    \"max_tokens\": 512,\n",
    "}\n",
    "mistral_response = invoke_model('mistral.mistral-large-2402-v1:0', mistral_input)\n",
    "mistral_response"
   ]
  },
  {
   "cell_type": "markdown",
   "id": "cb041fe7",
   "metadata": {},
   "source": [
    "## Using the Converse API"
   ]
  },
  {
   "cell_type": "code",
   "execution_count": 18,
   "id": "2d7ca56f",
   "metadata": {},
   "outputs": [
    {
     "name": "stdout",
     "output_type": "stream",
     "text": [
      "CPU times: user 2.45 ms, sys: 4.04 ms, total: 6.48 ms\n",
      "Wall time: 4.56 s\n"
     ]
    },
    {
     "data": {
      "text/plain": [
       "{'ResponseMetadata': {'RequestId': '51e40bf5-2d23-45e5-bd46-66eb72812c1d',\n",
       "  'HTTPStatusCode': 200,\n",
       "  'HTTPHeaders': {'date': 'Thu, 24 Apr 2025 13:46:03 GMT',\n",
       "   'content-type': 'application/json',\n",
       "   'content-length': '1383',\n",
       "   'connection': 'keep-alive',\n",
       "   'x-amzn-requestid': '51e40bf5-2d23-45e5-bd46-66eb72812c1d'},\n",
       "  'RetryAttempts': 0},\n",
       " 'output': {'message': {'role': 'assistant',\n",
       "   'content': [{'text': 'Certainly! The key ingredients for making a classic pizza typically include:\\n\\n### Dough:\\n1. **Flour** (usually all-purpose or bread flour)\\n2. **Yeast** (active dry or instant)\\n3. **Water**\\n4. **Salt**\\n5. **Olive oil** (optional, but commonly used)\\n6. **Sugar** (a small amount to feed the yeast, optional)\\n\\n### Sauce:\\n1. **Tomatoes** (canned crushed tomatoes, tomato sauce, or fresh tomatoes)\\n2. **Garlic** (minced)\\n3. **Olive oil**\\n4. **Salt**\\n5. **Herbs** (such as oregano, basil, and sometimes thyme or parsley)\\n6. **Black pepper**\\n\\n### Cheese:\\n1. **Mozzarella** (fresh or shredded)\\n2. **Parmesan** (optional, for added flavor)\\n\\n### Toppings (can vary widely):\\n1. **Pepperoni**\\n2. **Sausage**\\n3. **Mushrooms**\\n4. **Onions**\\n5. **Bell peppers**\\n6. **Olives**\\n7. **Anchovies**\\n8. **Ham**\\n9. **Spinach**\\n10. **Artichoke hearts**\\n\\n### Additional Seasonings:\\n1. **Red pepper flakes** (for a spicy kick)\\n2. **Feta cheese** (for a Greek-style pizza)\\n3. **Ricotta cheese** (often used in white pizzas)\\n4. **Basil** (fresh, for topping after baking)\\n\\nThese ingredients can be adjusted based on personal preferences and dietary restrictions. Enjoy making your pizza!'}]}},\n",
       " 'stopReason': 'end_turn',\n",
       " 'usage': {'inputTokens': 14, 'outputTokens': 334, 'totalTokens': 348},\n",
       " 'metrics': {'latencyMs': 4319}}"
      ]
     },
     "execution_count": 18,
     "metadata": {},
     "output_type": "execute_result"
    }
   ],
   "source": [
    "%%time\n",
    "nova_prompt = \"What are the key ingredients for pizza?\"\n",
    "messages = [{\"role\": \"user\", \"content\": [{\"text\":nova_prompt}]}]\n",
    "nova_response = bedrock.converse(\n",
    "    modelId=\"us.amazon.nova-pro-v1:0\",\n",
    "    messages=messages,\n",
    "    system=[{\"text\":\"You are a helpful assistant.\"}],\n",
    "    inferenceConfig={\n",
    "        \"maxTokens\": 512,\n",
    "        \"temperature\": 0.5,\n",
    "    }\n",
    ")\n",
    "nova_response"
   ]
  },
  {
   "cell_type": "markdown",
   "id": "179ba8b3",
   "metadata": {},
   "source": [
    "## Using LiteLLM"
   ]
  },
  {
   "cell_type": "code",
   "execution_count": 22,
   "id": "c8be24ec",
   "metadata": {},
   "outputs": [],
   "source": [
    "from litellm import completion"
   ]
  },
  {
   "cell_type": "code",
   "execution_count": 25,
   "id": "41e8c84f",
   "metadata": {},
   "outputs": [
    {
     "name": "stdout",
     "output_type": "stream",
     "text": [
      "CPU times: user 4.57 ms, sys: 3.46 ms, total: 8.02 ms\n",
      "Wall time: 5.05 s\n"
     ]
    },
    {
     "data": {
      "text/plain": [
       "ModelResponse(id='chatcmpl-2afec966-07fb-4e20-a4bf-d3cbef7bc405', created=1745502573, model='us.amazon.nova-pro-v1:0', object='chat.completion', system_fingerprint=None, choices=[Choices(finish_reason='stop', index=0, message=Message(content='Certainly! The key ingredients for making a classic pizza typically include:\\n\\n### Dough:\\n1. **Flour** (usually all-purpose or bread flour)\\n2. **Yeast** (active dry or instant)\\n3. **Water** (lukewarm)\\n4. **Salt**\\n5. **Olive oil** (optional, but commonly used)\\n6. **Sugar** (a small amount to feed the yeast, optional)\\n\\n### Sauce:\\n1. **Tomatoes** (canned crushed tomatoes, tomato purée, or fresh tomatoes)\\n2. **Garlic** (minced)\\n3. **Olive oil**\\n4. **Salt**\\n5. **Herbs** (such as oregano, basil, and sometimes thyme or parsley)\\n6. **Sugar** (a pinch to balance the acidity of the tomatoes, optional)\\n\\n### Cheese:\\n1. **Mozzarella** (fresh or shredded)\\n2. **Parmesan** (optional, for added flavor)\\n\\n### Toppings (can vary widely):\\n1. **Pepperoni**\\n2. **Sausage**\\n3. **Mushrooms**\\n4. **Onions**\\n5. **Bell peppers**\\n6. **Olives**\\n7. **Anchovies**\\n8. **Spinach**\\n9. **Artichoke hearts**\\n\\n### Additional Seasonings:\\n1. **Basil** (fresh or dried)\\n2. **Oregano**\\n3. **Red pepper flakes** (for a bit of heat)\\n4. **Parmesan cheese** (grated, for sprinkling on top)\\n\\nThese ingredients can be adjusted based on personal preferences and dietary restrictions. For example, you can make a vegan pizza by using plant-based cheese and omitting any meat toppings.', role='assistant', tool_calls=None, function_call=None, provider_specific_fields=None))], usage=Usage(completion_tokens=354, prompt_tokens=14, total_tokens=368, completion_tokens_details=None, prompt_tokens_details=PromptTokensDetailsWrapper(audio_tokens=None, cached_tokens=0, text_tokens=None, image_tokens=None), cache_creation_input_tokens=0, cache_read_input_tokens=0))"
      ]
     },
     "execution_count": 25,
     "metadata": {},
     "output_type": "execute_result"
    }
   ],
   "source": [
    "%%time\n",
    "\n",
    "response = completion(\n",
    "    model=\"bedrock/us.amazon.nova-pro-v1:0\",\n",
    "    messages=[\n",
    "        {\"role\": \"system\", \"content\": \"You are a helpful assistant.\"},\n",
    "        {\"role\": \"user\", \"content\": \"What are the key ingredients for pizza?\"}\n",
    "    ],\n",
    "    max_tokens=512,\n",
    "    temperature=0.5,\n",
    ")\n",
    "response"
   ]
  },
  {
   "cell_type": "code",
   "execution_count": null,
   "id": "840dc6b7",
   "metadata": {},
   "outputs": [],
   "source": []
  }
 ],
 "metadata": {
  "kernelspec": {
   "display_name": ".venv",
   "language": "python",
   "name": "python3"
  },
  "language_info": {
   "codemirror_mode": {
    "name": "ipython",
    "version": 3
   },
   "file_extension": ".py",
   "mimetype": "text/x-python",
   "name": "python",
   "nbconvert_exporter": "python",
   "pygments_lexer": "ipython3",
   "version": "3.12.9"
  }
 },
 "nbformat": 4,
 "nbformat_minor": 5
}

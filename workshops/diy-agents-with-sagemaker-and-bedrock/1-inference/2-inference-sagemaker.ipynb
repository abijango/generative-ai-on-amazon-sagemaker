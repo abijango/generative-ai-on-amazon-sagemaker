{
 "cells": [
  {
   "cell_type": "markdown",
   "id": "18881de7-0fc6-4490-9992-a12fd05da7eb",
   "metadata": {},
   "source": [
    "# Inference with Amazon SageMaker AI"
   ]
  },
  {
   "cell_type": "markdown",
   "id": "c138920f-5d68-42d8-9f4f-875a463572ac",
   "metadata": {},
   "source": [
    "## Dependencies (Warnings are safe to ignore)"
   ]
  },
  {
   "cell_type": "code",
   "execution_count": null,
   "id": "8038eb9f-d925-437b-8f2e-e9b4e78c8976",
   "metadata": {
    "execution": {
     "iopub.execute_input": "2025-06-09T23:26:51.569631Z",
     "iopub.status.busy": "2025-06-09T23:26:51.569288Z",
     "iopub.status.idle": "2025-06-09T23:26:57.065318Z",
     "shell.execute_reply": "2025-06-09T23:26:57.064671Z",
     "shell.execute_reply.started": "2025-06-09T23:26:51.569604Z"
    }
   },
   "outputs": [],
   "source": [
    "%pip uninstall -q -y autogluon-multimodal autogluon-timeseries autogluon-features autogluon-common autogluon-core\n",
    "%pip install -Uq sagemaker==2.239.0\n",
    "%pip install -Uq boto3==1.38.33\n",
    "%pip install -Uq litellm==1.72.2"
   ]
  },
  {
   "cell_type": "markdown",
   "id": "8bb0a38f-1a70-4132-ac3f-8148389a35fa",
   "metadata": {},
   "source": [
    "## This cell will restart the kernel. Wait for the pop-up box to appear, then click \"OK\" before proceeding."
   ]
  },
  {
   "cell_type": "code",
   "execution_count": null,
   "id": "681fe3e4",
   "metadata": {
    "execution": {
     "iopub.execute_input": "2025-06-09T23:26:59.389305Z",
     "iopub.status.busy": "2025-06-09T23:26:59.388973Z",
     "iopub.status.idle": "2025-06-09T23:26:59.395503Z",
     "shell.execute_reply": "2025-06-09T23:26:59.395038Z",
     "shell.execute_reply.started": "2025-06-09T23:26:59.389278Z"
    }
   },
   "outputs": [],
   "source": [
    "from IPython import get_ipython\n",
    "get_ipython().kernel.do_shutdown(True)"
   ]
  },
  {
   "cell_type": "markdown",
   "id": "78f3654a-e262-4ab3-a269-304d893b311c",
   "metadata": {
    "execution": {
     "iopub.execute_input": "2025-06-09T23:27:05.193389Z",
     "iopub.status.busy": "2025-06-09T23:27:05.193064Z",
     "iopub.status.idle": "2025-06-09T23:27:05.197243Z",
     "shell.execute_reply": "2025-06-09T23:27:05.196662Z",
     "shell.execute_reply.started": "2025-06-09T23:27:05.193367Z"
    }
   },
   "source": [
    "Fetch the `SAGEMAKER_ENDPOINT_NAME` that was deployed during prerequisites."
   ]
  },
  {
   "cell_type": "code",
   "execution_count": null,
   "id": "59efbcb1-e2f5-4453-8aad-a975c6d8d65a",
   "metadata": {
    "execution": {
     "iopub.execute_input": "2025-06-09T23:27:12.781153Z",
     "iopub.status.busy": "2025-06-09T23:27:12.780831Z",
     "iopub.status.idle": "2025-06-09T23:27:12.784856Z",
     "shell.execute_reply": "2025-06-09T23:27:12.784403Z",
     "shell.execute_reply.started": "2025-06-09T23:27:12.781132Z"
    }
   },
   "outputs": [],
   "source": [
    "%store -r SAGEMAKER_ENDPOINT_NAME\n",
    "print(f\"Endpoint name: {SAGEMAKER_ENDPOINT_NAME}\")"
   ]
  },
  {
   "cell_type": "code",
   "execution_count": null,
   "id": "67e0d089-1492-4615-b952-d12e96278dcb",
   "metadata": {
    "execution": {
     "iopub.execute_input": "2025-06-09T23:27:13.825446Z",
     "iopub.status.busy": "2025-06-09T23:27:13.825132Z",
     "iopub.status.idle": "2025-06-09T23:27:15.696868Z",
     "shell.execute_reply": "2025-06-09T23:27:15.696361Z",
     "shell.execute_reply.started": "2025-06-09T23:27:13.825427Z"
    }
   },
   "outputs": [],
   "source": [
    "import boto3\n",
    "from sagemaker.session import Session\n",
    "from sagemaker.predictor import Predictor\n",
    "from sagemaker.serializers import JSONSerializer\n",
    "from sagemaker.deserializers import JSONDeserializer\n",
    "\n",
    "boto_session = boto3.session.Session(region_name=boto3.Session().region_name)\n",
    "session = Session(boto_session=boto_session)\n",
    "\n",
    "predictor = Predictor(\n",
    "    sagemaker_session=session,\n",
    "    endpoint_name=SAGEMAKER_ENDPOINT_NAME,\n",
    "    serializer=JSONSerializer(), deserializer=JSONDeserializer()\n",
    ")"
   ]
  },
  {
   "cell_type": "code",
   "execution_count": null,
   "id": "6a99d49a-6b06-49cb-b32c-412e4a0a6e44",
   "metadata": {
    "execution": {
     "iopub.execute_input": "2025-06-09T23:27:16.337593Z",
     "iopub.status.busy": "2025-06-09T23:27:16.336909Z",
     "iopub.status.idle": "2025-06-09T23:27:28.094786Z",
     "shell.execute_reply": "2025-06-09T23:27:28.094247Z",
     "shell.execute_reply.started": "2025-06-09T23:27:16.337570Z"
    }
   },
   "outputs": [],
   "source": [
    "%%time\n",
    "prompt = \"What is the town of Bari, Italy, known for? Provide a short answer.\"\n",
    "payload = {\n",
    "    \"messages\": [\n",
    "        {\n",
    "            \"role\": \"user\",\n",
    "            \"content\": prompt\n",
    "        }\n",
    "    ],\n",
    "    \"max_tokens\": 4*1024,\n",
    "    \"temperature\": 0.1,\n",
    "    \"top_p\": 0.9,\n",
    "}\n",
    "\n",
    "response = predictor.predict(payload)\n",
    "print(response['choices'][0]['message']['content'])"
   ]
  },
  {
   "cell_type": "markdown",
   "id": "9712cd57-f8d8-4f60-8813-91e2951092cb",
   "metadata": {},
   "source": [
    "### Using Boto3"
   ]
  },
  {
   "cell_type": "code",
   "execution_count": null,
   "id": "a5e86c2f-b0cf-428e-b06b-4ad74637c1a6",
   "metadata": {
    "execution": {
     "iopub.execute_input": "2025-06-09T23:27:29.578445Z",
     "iopub.status.busy": "2025-06-09T23:27:29.578130Z",
     "iopub.status.idle": "2025-06-09T23:27:30.652048Z",
     "shell.execute_reply": "2025-06-09T23:27:30.651538Z",
     "shell.execute_reply.started": "2025-06-09T23:27:29.578425Z"
    }
   },
   "outputs": [],
   "source": [
    "%%time\n",
    "import boto3\n",
    "import json\n",
    "\n",
    "payload = {\n",
    "    \"inputs\": \"What is the town of Bari, Italy, known for? Provide a short answer.\",\n",
    "    \"parameters\": {\n",
    "        \"max_tokens\": 4*1024,\n",
    "        \"temperature\": 0.1,\n",
    "        \"top_p\": 0.9\n",
    "    }\n",
    "}\n",
    "\n",
    "runtime = boto3.client('sagemaker-runtime', region_name=boto3.Session().region_name)\n",
    "response = runtime.invoke_endpoint(\n",
    "    EndpointName=SAGEMAKER_ENDPOINT_NAME,\n",
    "    ContentType='application/json',\n",
    "    Body=json.dumps(payload)\n",
    ")\n",
    "\n",
    "result = json.loads(response['Body'].read().decode())\n",
    "print(result['generated_text'])"
   ]
  },
  {
   "cell_type": "markdown",
   "id": "9fe7fd8e-de2c-4353-8ea9-18455efc7db7",
   "metadata": {},
   "source": [
    "### Using Boto3 and the Messages API (for compatible models only)"
   ]
  },
  {
   "cell_type": "code",
   "execution_count": null,
   "id": "fcff55c3-5610-4298-9880-a83668c34a63",
   "metadata": {
    "execution": {
     "iopub.execute_input": "2025-06-09T23:27:33.609779Z",
     "iopub.status.busy": "2025-06-09T23:27:33.609452Z",
     "iopub.status.idle": "2025-06-09T23:27:38.023906Z",
     "shell.execute_reply": "2025-06-09T23:27:38.023392Z",
     "shell.execute_reply.started": "2025-06-09T23:27:33.609759Z"
    }
   },
   "outputs": [],
   "source": [
    "%%time\n",
    "payload = {\n",
    "    \"messages\": [\n",
    "        {\"role\": \"system\", \"content\": \"You are a helpful and honest assistant.\"},\n",
    "        {\"role\": \"user\", \"content\": \"What is the town of Bari, Italy, known for? Provide a short answer.\"}\n",
    "    ],\n",
    "    \"max_tokens\": 4*1024,\n",
    "    \"temperature\": 0.1,\n",
    "    \"top_p\": 0.9\n",
    "}\n",
    "\n",
    "response = runtime.invoke_endpoint(\n",
    "    EndpointName=SAGEMAKER_ENDPOINT_NAME,\n",
    "    ContentType='application/json',\n",
    "    Body=json.dumps(payload)\n",
    ")\n",
    "\n",
    "result = json.loads(response['Body'].read().decode())\n",
    "print(result['choices'][0]['message'])"
   ]
  },
  {
   "cell_type": "markdown",
   "id": "0ee0c9e7-c4b4-4401-a666-0f561bb8f24e",
   "metadata": {},
   "source": [
    "## Using LiteLLM"
   ]
  },
  {
   "cell_type": "code",
   "execution_count": null,
   "id": "0c3f2f8e-e740-46b8-b136-666de9613c13",
   "metadata": {
    "execution": {
     "iopub.execute_input": "2025-06-09T23:27:42.477052Z",
     "iopub.status.busy": "2025-06-09T23:27:42.476736Z",
     "iopub.status.idle": "2025-06-09T23:27:45.308586Z",
     "shell.execute_reply": "2025-06-09T23:27:45.308110Z",
     "shell.execute_reply.started": "2025-06-09T23:27:42.477033Z"
    }
   },
   "outputs": [],
   "source": [
    "from litellm import completion\n",
    "\n",
    "response = completion(\n",
    "    model=f\"sagemaker_chat/{SAGEMAKER_ENDPOINT_NAME}\", \n",
    "    messages=[\n",
    "        {\"role\": \"system\", \"content\": \"You are a helpful and honest assistant.\"},\n",
    "        {\"role\": \"user\", \"content\": \"What is the town of Bari, Italy, known for? Provide a short answer.\"}\n",
    "    ],\n",
    "    temperature=0.1,\n",
    "    max_tokens=4*1024,\n",
    "    top_p=0.9,\n",
    "    stream=True,\n",
    ")\n",
    "for event in response:\n",
    "    print(event.choices[0].delta.content, end=\"\", flush=False)"
   ]
  }
 ],
 "metadata": {
  "kernelspec": {
   "display_name": "Python 3 (ipykernel)",
   "language": "python",
   "name": "python3"
  },
  "language_info": {
   "codemirror_mode": {
    "name": "ipython",
    "version": 3
   },
   "file_extension": ".py",
   "mimetype": "text/x-python",
   "name": "python",
   "nbconvert_exporter": "python",
   "pygments_lexer": "ipython3",
   "version": "3.12.9"
  }
 },
 "nbformat": 4,
 "nbformat_minor": 5
}

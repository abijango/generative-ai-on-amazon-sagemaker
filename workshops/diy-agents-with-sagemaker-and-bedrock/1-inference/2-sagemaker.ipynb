{
 "cells": [
  {
   "cell_type": "code",
   "execution_count": null,
   "id": "8038eb9f-d925-437b-8f2e-e9b4e78c8976",
   "metadata": {},
   "outputs": [],
   "source": [
    "%pip install sagemaker boto3 litellm aiohttp -qU"
   ]
  },
  {
   "cell_type": "markdown",
   "id": "795b5ebc-10ff-42e2-80f5-a28da0afb6d7",
   "metadata": {},
   "source": [
    "<div class=\"alert alert-block alert-info\">\n",
    "<center>⚠️ <b>Important:</b> Please restart the kernel after installing the dependencies. ⚠️</center>\n",
    "</div>"
   ]
  },
  {
   "cell_type": "markdown",
   "id": "21051e4e-64ea-4c7a-b18e-5a1d069527af",
   "metadata": {},
   "source": [
    "## Deploy the model from SageMaker JumpStart on a SageMaker Inference endpoint\n",
    "\n",
    "> Note: skip the cell below if you have already deployed your model."
   ]
  },
  {
   "cell_type": "code",
   "execution_count": null,
   "id": "ddd73517-e000-45cc-b11c-e2cee2ed94e7",
   "metadata": {
    "scrolled": true
   },
   "outputs": [],
   "source": [
    "from sagemaker.jumpstart.model import JumpStartModel\n",
    "from sagemaker.serializers import JSONSerializer\n",
    "from sagemaker.deserializers import JSONDeserializer\n",
    "from sagemaker.enums import EndpointType\n",
    "from sagemaker.compute_resource_requirements.resource_requirements import ResourceRequirements\n",
    "\n",
    "\n",
    "resources = ResourceRequirements(\n",
    "    requests = {\n",
    "        \"num_accelerators\": 4, # Number of accelerators required\n",
    "        \"memory\": 96*1024,  # Minimum memory required in Mb (required)\n",
    "        \"copies\": 1,\n",
    "    }\n",
    ")\n",
    "\n",
    "model = JumpStartModel(\n",
    "    model_id=\"huggingface-llm-mistral-small-24B-Instruct-2501\", model_version=\"2.0.1\",\n",
    "    instance_type=\"ml.g5.12xlarge\"\n",
    ")\n",
    "predictor = model.deploy(\n",
    "    accept_eula=True,\n",
    "    initial_instance_count=1,\n",
    "    instance_type=\"ml.g5.12xlarge\",\n",
    "    serializer=JSONSerializer(), deserializer=JSONDeserializer(),\n",
    "    endpoint_type=EndpointType.INFERENCE_COMPONENT_BASED,\n",
    "    resources=resources,\n",
    "    managed_instance_scaling={\n",
    "        \"MinInstanceCount\": 0,\n",
    "        \"MaxInstanceCount\": 1\n",
    "    }\n",
    ")"
   ]
  },
  {
   "cell_type": "markdown",
   "id": "90845068",
   "metadata": {},
   "source": [
    "**NOTE:** deployment will take 5~7 minutes."
   ]
  },
  {
   "cell_type": "markdown",
   "id": "18881de7-0fc6-4490-9992-a12fd05da7eb",
   "metadata": {},
   "source": [
    "## Test it\n",
    "\n",
    "### Using the Predictor object from the SageMaker Python SDK"
   ]
  },
  {
   "cell_type": "code",
   "execution_count": null,
   "id": "67e0d089-1492-4615-b952-d12e96278dcb",
   "metadata": {},
   "outputs": [
    {
     "name": "stderr",
     "output_type": "stream",
     "text": [
      "/Users/dggallit/Documents/generative-ai-on-amazon-sagemaker/.venv/lib/python3.12/site-packages/pydantic/_internal/_fields.py:198: UserWarning: Field name \"json\" in \"MonitoringDatasetFormat\" shadows an attribute in parent \"Base\"\n",
      "  warnings.warn(\n"
     ]
    },
    {
     "data": {
      "text/html": [
       "<pre style=\"white-space:pre;overflow-x:auto;line-height:normal;font-family:Menlo,'DejaVu Sans Mono',consolas,'Courier New',monospace\"><span style=\"color: #7fbfbf; text-decoration-color: #7fbfbf\">[04/24/25 20:04:39] </span><span style=\"color: #0069ff; text-decoration-color: #0069ff; font-weight: bold\">INFO    </span> Found credentials in shared credentials file: ~<span style=\"color: #e100e1; text-decoration-color: #e100e1\">/.aws/credentials</span>   <a href=\"file:///Users/dggallit/Documents/generative-ai-on-amazon-sagemaker/.venv/lib/python3.12/site-packages/botocore/credentials.py\" target=\"_blank\"><span style=\"color: #7f7f7f; text-decoration-color: #7f7f7f\">credentials.py</span></a><span style=\"color: #7f7f7f; text-decoration-color: #7f7f7f\">:</span><a href=\"file:///Users/dggallit/Documents/generative-ai-on-amazon-sagemaker/.venv/lib/python3.12/site-packages/botocore/credentials.py#1352\" target=\"_blank\"><span style=\"color: #7f7f7f; text-decoration-color: #7f7f7f\">1352</span></a>\n",
       "</pre>\n"
      ],
      "text/plain": [
       "\u001b[2;36m[04/24/25 20:04:39]\u001b[0m\u001b[2;36m \u001b[0m\u001b[1;38;2;0;105;255mINFO    \u001b[0m Found credentials in shared credentials file: ~\u001b[38;2;225;0;225m/.aws/\u001b[0m\u001b[38;2;225;0;225mcredentials\u001b[0m   \u001b]8;id=988359;file:///Users/dggallit/Documents/generative-ai-on-amazon-sagemaker/.venv/lib/python3.12/site-packages/botocore/credentials.py\u001b\\\u001b[2mcredentials.py\u001b[0m\u001b]8;;\u001b\\\u001b[2m:\u001b[0m\u001b]8;id=102331;file:///Users/dggallit/Documents/generative-ai-on-amazon-sagemaker/.venv/lib/python3.12/site-packages/botocore/credentials.py#1352\u001b\\\u001b[2m1352\u001b[0m\u001b]8;;\u001b\\\n"
      ]
     },
     "metadata": {},
     "output_type": "display_data"
    },
    {
     "name": "stdout",
     "output_type": "stream",
     "text": [
      "sagemaker.config INFO - Not applying SDK defaults from location: /Library/Application Support/sagemaker/config.yaml\n",
      "sagemaker.config INFO - Not applying SDK defaults from location: /Users/dggallit/Library/Application Support/sagemaker/config.yaml\n"
     ]
    },
    {
     "data": {
      "text/html": [
       "<pre style=\"white-space:pre;overflow-x:auto;line-height:normal;font-family:Menlo,'DejaVu Sans Mono',consolas,'Courier New',monospace\"><span style=\"color: #7fbfbf; text-decoration-color: #7fbfbf\">                    </span><span style=\"color: #0069ff; text-decoration-color: #0069ff; font-weight: bold\">INFO    </span> Found credentials in shared credentials file: ~<span style=\"color: #e100e1; text-decoration-color: #e100e1\">/.aws/credentials</span>   <a href=\"file:///Users/dggallit/Documents/generative-ai-on-amazon-sagemaker/.venv/lib/python3.12/site-packages/botocore/credentials.py\" target=\"_blank\"><span style=\"color: #7f7f7f; text-decoration-color: #7f7f7f\">credentials.py</span></a><span style=\"color: #7f7f7f; text-decoration-color: #7f7f7f\">:</span><a href=\"file:///Users/dggallit/Documents/generative-ai-on-amazon-sagemaker/.venv/lib/python3.12/site-packages/botocore/credentials.py#1352\" target=\"_blank\"><span style=\"color: #7f7f7f; text-decoration-color: #7f7f7f\">1352</span></a>\n",
       "</pre>\n"
      ],
      "text/plain": [
       "\u001b[2;36m                   \u001b[0m\u001b[2;36m \u001b[0m\u001b[1;38;2;0;105;255mINFO    \u001b[0m Found credentials in shared credentials file: ~\u001b[38;2;225;0;225m/.aws/\u001b[0m\u001b[38;2;225;0;225mcredentials\u001b[0m   \u001b]8;id=437497;file:///Users/dggallit/Documents/generative-ai-on-amazon-sagemaker/.venv/lib/python3.12/site-packages/botocore/credentials.py\u001b\\\u001b[2mcredentials.py\u001b[0m\u001b]8;;\u001b\\\u001b[2m:\u001b[0m\u001b]8;id=24378;file:///Users/dggallit/Documents/generative-ai-on-amazon-sagemaker/.venv/lib/python3.12/site-packages/botocore/credentials.py#1352\u001b\\\u001b[2m1352\u001b[0m\u001b]8;;\u001b\\\n"
      ]
     },
     "metadata": {},
     "output_type": "display_data"
    }
   ],
   "source": [
    "try: \n",
    "    predictor\n",
    "except:\n",
    "    import boto3\n",
    "    from sagemaker.session import Session\n",
    "    from sagemaker.predictor import Predictor\n",
    "    from sagemaker.serializers import JSONSerializer\n",
    "    from sagemaker.deserializers import JSONDeserializer\n",
    "    \n",
    "    endpoint_name = \"YOUR-ENDPOINT-NAME-HERE\"\n",
    "    component_name = \"YOUR-INFERENCE-COMPONENT-NAME-HERE\"\n",
    "\n",
    "    boto_session = boto3.session.Session(region_name=boto3.Session().region_name)\n",
    "    session = Session(boto_session=boto_session)\n",
    "    \n",
    "    predictor = Predictor(\n",
    "        sagemaker_session=session,\n",
    "        endpoint_name=endpoint_name, component_name=component_name,\n",
    "        serializer=JSONSerializer(), deserializer=JSONDeserializer()\n",
    "    )"
   ]
  },
  {
   "cell_type": "code",
   "execution_count": 13,
   "id": "6a99d49a-6b06-49cb-b32c-412e4a0a6e44",
   "metadata": {},
   "outputs": [
    {
     "name": "stdout",
     "output_type": "stream",
     "text": [
      "Bari, Italy, is known for several things:\n",
      "\n",
      "1. **Historical Sites**: Bari is home to numerous historical sites, including the Basilica of Saint Nicholas, a significant pilgrimage site for both Roman Catholics and Orthodox Christians. The basilica houses the relics of Saint Nicholas, who is believed to have been buried there in the 11th century.\n",
      "\n",
      "2. **Cultural Heritage**: The city has a rich cultural heritage, with influences from various periods, including Roman, Byzantine, and Norman eras. The Old Town (Bari Vecchia) is a well-preserved medieval quarter with narrow streets and historic buildings.\n",
      "\n",
      "3. **Food**: Bari is famous for its cuisine, particularly seafood dishes. Local specialties include orecchiette pasta, a type of ear-shaped pasta often served with turnip greens or tomato sauce, and panzerotti, a type of fried calzone.\n",
      "\n",
      "4. **University**: The University of Bari is one of the largest universities in Southern Italy and is known for its contributions to various fields of study.\n",
      "\n",
      "5. **Economy**: Bari is an important economic center in the region, with significant industries including shipbuilding, agriculture, and tourism.\n",
      "\n",
      "6. **Port**: The Port of Bari is one of the largest in Italy and serves as a major hub for trade and transportation.\n",
      "\n",
      "7. **Beaches**: The city is also known for its beautiful beaches along the Adriatic Sea, which attract both locals and tourists during the summer months.\n",
      "\n",
      "8. **Festivals**: Bari hosts several festivals throughout the year, including the Fiera del Levante, one of the largest trade fairs in Italy, and the Festival of Saint Nicholas, which celebrates the city's patron saint.\n",
      "\n",
      "These aspects make Bari a vibrant and culturally rich destination in Italy.\n",
      "CPU times: user 13.8 ms, sys: 9.5 ms, total: 23.3 ms\n",
      "Wall time: 12.1 s\n"
     ]
    }
   ],
   "source": [
    "%%time\n",
    "prompt = \"What is the town of Bari, Italy, known for?\"\n",
    "payload = {\n",
    "    \"messages\": [\n",
    "        {\n",
    "            \"role\": \"user\",\n",
    "            \"content\": prompt\n",
    "        }\n",
    "    ],\n",
    "    \"max_tokens\": 4*1024,\n",
    "    \"temperature\": 0.1,\n",
    "    \"top_p\": 0.9,\n",
    "}\n",
    "\n",
    "response = predictor.predict(payload)\n",
    "print(response['choices'][0]['message']['content'])"
   ]
  },
  {
   "cell_type": "markdown",
   "id": "9712cd57-f8d8-4f60-8813-91e2951092cb",
   "metadata": {},
   "source": [
    "### Using Boto3"
   ]
  },
  {
   "cell_type": "code",
   "execution_count": null,
   "id": "a5e86c2f-b0cf-428e-b06b-4ad74637c1a6",
   "metadata": {},
   "outputs": [
    {
     "name": "stdout",
     "output_type": "stream",
     "text": [
      " The town of Bari, Italy, is known for its historic center, the Basilica di San Nicola, and its role as a major port city.\n",
      "CPU times: user 14.9 ms, sys: 5.91 ms, total: 20.8 ms\n",
      "Wall time: 1.71 s\n"
     ]
    }
   ],
   "source": [
    "%%time\n",
    "import boto3\n",
    "import json\n",
    "\n",
    "payload = {\n",
    "    \"inputs\": \"What is the town of Bari, Italy, known for? Provide a short answer.\",\n",
    "    \"parameters\": {\n",
    "        \"max_new_tokens\": 4*1024,\n",
    "        \"top_p\": 0.9,\n",
    "        \"temperature\": 0.2,\n",
    "    }\n",
    "}\n",
    "\n",
    "runtime = boto3.client('sagemaker-runtime', region_name=boto3.Session().region_name)\n",
    "response = runtime.invoke_endpoint(\n",
    "    EndpointName=endpoint_name,\n",
    "    InferenceComponentName=component_name or None,\n",
    "    ContentType='application/json',\n",
    "    Body=json.dumps(payload)\n",
    ")\n",
    "\n",
    "result = json.loads(response['Body'].read().decode())\n",
    "print(result['generated_text'])"
   ]
  },
  {
   "cell_type": "markdown",
   "id": "9fe7fd8e-de2c-4353-8ea9-18455efc7db7",
   "metadata": {},
   "source": [
    "### Using Boto3 and the Messages API (for compatible models only)"
   ]
  },
  {
   "cell_type": "code",
   "execution_count": 15,
   "id": "fcff55c3-5610-4298-9880-a83668c34a63",
   "metadata": {},
   "outputs": [
    {
     "name": "stdout",
     "output_type": "stream",
     "text": [
      "{'role': 'assistant', 'content': 'Bari, Italy, is known for several things:\\n\\n1. **Saint Nicholas**: Bari is famous for being the home of the relics of Saint Nicholas, who is beloved by both Eastern and Western Christianity.\\n\\n2. **Port City**: Bari is a major seaport city in Italy, serving as a gateway to the Eastern Mediterranean.\\n\\n3. **Festivals**: The city hosts the annual Fiera del Levante, one of the largest trade fairs in Italy.\\n\\n4. **Old Town**: The historic old town, or \"Bari Vecchia,\" features narrow cobblestone streets, trulli houses, and vibrant markets.\\n\\nIt is also a vibrant culture, historical site, and economic center of the region.'}\n",
      "CPU times: user 3.11 ms, sys: 2.78 ms, total: 5.89 ms\n",
      "Wall time: 4.66 s\n"
     ]
    }
   ],
   "source": [
    "%%time\n",
    "payload = {\n",
    "    \"messages\": [\n",
    "        {\"role\": \"system\", \"content\": \"You are a helpful and honest assistant.\"},\n",
    "        {\"role\": \"user\", \"content\": \"What is the town of Bari, Italy, known for? Provide a short answer.\"}\n",
    "    ],\n",
    "    \"max_tokens\": 4*1024,\n",
    "    \"parameters\": {\n",
    "        \"top_p\": 0.9,\n",
    "        \"temperature\": 0.6,\n",
    "    }\n",
    "}\n",
    "\n",
    "response = runtime.invoke_endpoint(\n",
    "    EndpointName=endpoint_name,\n",
    "    InferenceComponentName=component_name,\n",
    "    ContentType='application/json',\n",
    "    Body=json.dumps(payload)\n",
    ")\n",
    "\n",
    "result = json.loads(response['Body'].read().decode())\n",
    "print(result['choices'][0]['message'])"
   ]
  },
  {
   "cell_type": "markdown",
   "id": "0ee0c9e7-c4b4-4401-a666-0f561bb8f24e",
   "metadata": {},
   "source": [
    "## Using LiteLLM"
   ]
  },
  {
   "cell_type": "code",
   "execution_count": null,
   "id": "0c3f2f8e-e740-46b8-b136-666de9613c13",
   "metadata": {},
   "outputs": [
    {
     "name": "stderr",
     "output_type": "stream",
     "text": [
      "\u001b[92m20:20:58 - LiteLLM:INFO\u001b[0m: utils.py:3108 - \n",
      "LiteLLM completion() model= hf-llm-mistral-small-24b-instruct-2501-2025-04-07-10-48-04-846; provider = sagemaker\n"
     ]
    },
    {
     "data": {
      "text/html": [
       "<pre style=\"white-space:pre;overflow-x:auto;line-height:normal;font-family:Menlo,'DejaVu Sans Mono',consolas,'Courier New',monospace\"><span style=\"color: #7fbfbf; text-decoration-color: #7fbfbf\">[04/24/25 20:20:58] </span><span style=\"color: #0069ff; text-decoration-color: #0069ff; font-weight: bold\">INFO    </span>                                                                          <a href=\"file:///Users/dggallit/Documents/generative-ai-on-amazon-sagemaker/.venv/lib/python3.12/site-packages/litellm/utils.py\" target=\"_blank\"><span style=\"color: #7f7f7f; text-decoration-color: #7f7f7f\">utils.py</span></a><span style=\"color: #7f7f7f; text-decoration-color: #7f7f7f\">:</span><a href=\"file:///Users/dggallit/Documents/generative-ai-on-amazon-sagemaker/.venv/lib/python3.12/site-packages/litellm/utils.py#3108\" target=\"_blank\"><span style=\"color: #7f7f7f; text-decoration-color: #7f7f7f\">3108</span></a>\n",
       "<span style=\"color: #7fbfbf; text-decoration-color: #7fbfbf\">                    </span>         LiteLLM <span style=\"color: #e100e1; text-decoration-color: #e100e1; font-weight: bold\">completion</span><span style=\"font-weight: bold\">()</span> <span style=\"color: #d7af00; text-decoration-color: #d7af00\">model</span>=                                              <span style=\"color: #7f7f7f; text-decoration-color: #7f7f7f\">             </span>\n",
       "<span style=\"color: #7fbfbf; text-decoration-color: #7fbfbf\">                    </span>         hf-llm-mistral-small-24b-instruct-<span style=\"color: #008080; text-decoration-color: #008080; font-weight: bold\">2501</span>-<span style=\"color: #008080; text-decoration-color: #008080; font-weight: bold\">2025</span>-04-07-10-48-04-846; provider <span style=\"color: #7f7f7f; text-decoration-color: #7f7f7f\">             </span>\n",
       "<span style=\"color: #7fbfbf; text-decoration-color: #7fbfbf\">                    </span>         = sagemaker                                                              <span style=\"color: #7f7f7f; text-decoration-color: #7f7f7f\">             </span>\n",
       "</pre>\n"
      ],
      "text/plain": [
       "\u001b[2;36m[04/24/25 20:20:58]\u001b[0m\u001b[2;36m \u001b[0m\u001b[1;38;2;0;105;255mINFO    \u001b[0m                                                                          \u001b]8;id=509562;file:///Users/dggallit/Documents/generative-ai-on-amazon-sagemaker/.venv/lib/python3.12/site-packages/litellm/utils.py\u001b\\\u001b[2mutils.py\u001b[0m\u001b]8;;\u001b\\\u001b[2m:\u001b[0m\u001b]8;id=177438;file:///Users/dggallit/Documents/generative-ai-on-amazon-sagemaker/.venv/lib/python3.12/site-packages/litellm/utils.py#3108\u001b\\\u001b[2m3108\u001b[0m\u001b]8;;\u001b\\\n",
       "\u001b[2;36m                    \u001b[0m         LiteLLM \u001b[1;38;2;225;0;225mcompletion\u001b[0m\u001b[1m(\u001b[0m\u001b[1m)\u001b[0m \u001b[38;2;215;175;0mmodel\u001b[0m=                                              \u001b[2m             \u001b[0m\n",
       "\u001b[2;36m                    \u001b[0m         hf-llm-mistral-small-24b-instruct-\u001b[1;36m2501\u001b[0m-\u001b[1;36m2025\u001b[0m-04-07-10-48-04-846; provider \u001b[2m             \u001b[0m\n",
       "\u001b[2;36m                    \u001b[0m         = sagemaker                                                              \u001b[2m             \u001b[0m\n"
      ]
     },
     "metadata": {},
     "output_type": "display_data"
    },
    {
     "data": {
      "text/html": [
       "<pre style=\"white-space:pre;overflow-x:auto;line-height:normal;font-family:Menlo,'DejaVu Sans Mono',consolas,'Courier New',monospace\"><span style=\"color: #7fbfbf; text-decoration-color: #7fbfbf\">                    </span><span style=\"color: #0069ff; text-decoration-color: #0069ff; font-weight: bold\">INFO    </span> Found credentials in shared credentials file: ~<span style=\"color: #e100e1; text-decoration-color: #e100e1\">/.aws/credentials</span>   <a href=\"file:///Users/dggallit/Documents/generative-ai-on-amazon-sagemaker/.venv/lib/python3.12/site-packages/botocore/credentials.py\" target=\"_blank\"><span style=\"color: #7f7f7f; text-decoration-color: #7f7f7f\">credentials.py</span></a><span style=\"color: #7f7f7f; text-decoration-color: #7f7f7f\">:</span><a href=\"file:///Users/dggallit/Documents/generative-ai-on-amazon-sagemaker/.venv/lib/python3.12/site-packages/botocore/credentials.py#1352\" target=\"_blank\"><span style=\"color: #7f7f7f; text-decoration-color: #7f7f7f\">1352</span></a>\n",
       "</pre>\n"
      ],
      "text/plain": [
       "\u001b[2;36m                   \u001b[0m\u001b[2;36m \u001b[0m\u001b[1;38;2;0;105;255mINFO    \u001b[0m Found credentials in shared credentials file: ~\u001b[38;2;225;0;225m/.aws/\u001b[0m\u001b[38;2;225;0;225mcredentials\u001b[0m   \u001b]8;id=104039;file:///Users/dggallit/Documents/generative-ai-on-amazon-sagemaker/.venv/lib/python3.12/site-packages/botocore/credentials.py\u001b\\\u001b[2mcredentials.py\u001b[0m\u001b]8;;\u001b\\\u001b[2m:\u001b[0m\u001b]8;id=327668;file:///Users/dggallit/Documents/generative-ai-on-amazon-sagemaker/.venv/lib/python3.12/site-packages/botocore/credentials.py#1352\u001b\\\u001b[2m1352\u001b[0m\u001b]8;;\u001b\\\n"
      ]
     },
     "metadata": {},
     "output_type": "display_data"
    },
    {
     "data": {
      "text/html": [
       "<pre style=\"white-space:pre;overflow-x:auto;line-height:normal;font-family:Menlo,'DejaVu Sans Mono',consolas,'Courier New',monospace\"><span style=\"color: #7fbfbf; text-decoration-color: #7fbfbf\">[04/24/25 20:20:59] </span><span style=\"color: #0069ff; text-decoration-color: #0069ff; font-weight: bold\">INFO    </span> HTTP Request: <span style=\"color: #d7af00; text-decoration-color: #d7af00; font-weight: bold\">POST</span>                                                     <a href=\"file:///Users/dggallit/Documents/generative-ai-on-amazon-sagemaker/.venv/lib/python3.12/site-packages/httpx/_client.py\" target=\"_blank\"><span style=\"color: #7f7f7f; text-decoration-color: #7f7f7f\">_client.py</span></a><span style=\"color: #7f7f7f; text-decoration-color: #7f7f7f\">:</span><a href=\"file:///Users/dggallit/Documents/generative-ai-on-amazon-sagemaker/.venv/lib/python3.12/site-packages/httpx/_client.py#1025\" target=\"_blank\"><span style=\"color: #7f7f7f; text-decoration-color: #7f7f7f\">1025</span></a>\n",
       "<span style=\"color: #7fbfbf; text-decoration-color: #7fbfbf\">                    </span>         <span style=\"color: #0069ff; text-decoration-color: #0069ff; text-decoration: underline\">https://runtime.sagemaker.us-east-1.amazonaws.com/endpoints/hf-llm-mis</span> <span style=\"color: #7f7f7f; text-decoration-color: #7f7f7f\">               </span>\n",
       "<span style=\"color: #7fbfbf; text-decoration-color: #7fbfbf\">                    </span>         <span style=\"color: #0069ff; text-decoration-color: #0069ff; text-decoration: underline\">tral-small-24b-instruct-2501-2025-04-07-10-48-04-846/invocations</span>       <span style=\"color: #7f7f7f; text-decoration-color: #7f7f7f\">               </span>\n",
       "<span style=\"color: #7fbfbf; text-decoration-color: #7fbfbf\">                    </span>         <span style=\"color: #008700; text-decoration-color: #008700\">\"HTTP/1.1 200 OK\"</span>                                                      <span style=\"color: #7f7f7f; text-decoration-color: #7f7f7f\">               </span>\n",
       "</pre>\n"
      ],
      "text/plain": [
       "\u001b[2;36m[04/24/25 20:20:59]\u001b[0m\u001b[2;36m \u001b[0m\u001b[1;38;2;0;105;255mINFO    \u001b[0m HTTP Request: \u001b[1;38;2;215;175;0mPOST\u001b[0m                                                     \u001b]8;id=578649;file:///Users/dggallit/Documents/generative-ai-on-amazon-sagemaker/.venv/lib/python3.12/site-packages/httpx/_client.py\u001b\\\u001b[2m_client.py\u001b[0m\u001b]8;;\u001b\\\u001b[2m:\u001b[0m\u001b]8;id=351536;file:///Users/dggallit/Documents/generative-ai-on-amazon-sagemaker/.venv/lib/python3.12/site-packages/httpx/_client.py#1025\u001b\\\u001b[2m1025\u001b[0m\u001b]8;;\u001b\\\n",
       "\u001b[2;36m                    \u001b[0m         \u001b[4;38;2;0;105;255mhttps://runtime.sagemaker.us-east-1.amazonaws.com/endpoints/hf-llm-mis\u001b[0m \u001b[2m               \u001b[0m\n",
       "\u001b[2;36m                    \u001b[0m         \u001b[4;38;2;0;105;255mtral-small-24b-instruct-2501-2025-04-07-10-48-04-846/invocations\u001b[0m       \u001b[2m               \u001b[0m\n",
       "\u001b[2;36m                    \u001b[0m         \u001b[38;2;0;135;0m\"HTTP/1.1 200 OK\"\u001b[0m                                                      \u001b[2m               \u001b[0m\n"
      ]
     },
     "metadata": {},
     "output_type": "display_data"
    },
    {
     "name": "stderr",
     "output_type": "stream",
     "text": [
      "\u001b[92m20:20:59 - LiteLLM:INFO\u001b[0m: utils.py:1185 - Wrapper: Completed Call, calling success_handler\n"
     ]
    },
    {
     "data": {
      "text/html": [
       "<pre style=\"white-space:pre;overflow-x:auto;line-height:normal;font-family:Menlo,'DejaVu Sans Mono',consolas,'Courier New',monospace\"><span style=\"color: #7fbfbf; text-decoration-color: #7fbfbf\">                    </span><span style=\"color: #0069ff; text-decoration-color: #0069ff; font-weight: bold\">INFO    </span> Wrapper: Completed Call, calling success_handler                         <a href=\"file:///Users/dggallit/Documents/generative-ai-on-amazon-sagemaker/.venv/lib/python3.12/site-packages/litellm/utils.py\" target=\"_blank\"><span style=\"color: #7f7f7f; text-decoration-color: #7f7f7f\">utils.py</span></a><span style=\"color: #7f7f7f; text-decoration-color: #7f7f7f\">:</span><a href=\"file:///Users/dggallit/Documents/generative-ai-on-amazon-sagemaker/.venv/lib/python3.12/site-packages/litellm/utils.py#1185\" target=\"_blank\"><span style=\"color: #7f7f7f; text-decoration-color: #7f7f7f\">1185</span></a>\n",
       "</pre>\n"
      ],
      "text/plain": [
       "\u001b[2;36m                   \u001b[0m\u001b[2;36m \u001b[0m\u001b[1;38;2;0;105;255mINFO    \u001b[0m Wrapper: Completed Call, calling success_handler                         \u001b]8;id=261742;file:///Users/dggallit/Documents/generative-ai-on-amazon-sagemaker/.venv/lib/python3.12/site-packages/litellm/utils.py\u001b\\\u001b[2mutils.py\u001b[0m\u001b]8;;\u001b\\\u001b[2m:\u001b[0m\u001b]8;id=289418;file:///Users/dggallit/Documents/generative-ai-on-amazon-sagemaker/.venv/lib/python3.12/site-packages/litellm/utils.py#1185\u001b\\\u001b[2m1185\u001b[0m\u001b]8;;\u001b\\\n"
      ]
     },
     "metadata": {},
     "output_type": "display_data"
    },
    {
     "name": "stderr",
     "output_type": "stream",
     "text": [
      "\u001b[92m20:20:59 - LiteLLM:INFO\u001b[0m: cost_calculator.py:636 - selected model name for cost calculation: sagemaker/hf-llm-mistral-small-24b-instruct-2501-2025-04-07-10-48-04-846\n",
      "\u001b[92m20:20:59 - LiteLLM:INFO\u001b[0m: cost_calculator.py:636 - selected model name for cost calculation: sagemaker/hf-llm-mistral-small-24b-instruct-2501-2025-04-07-10-48-04-846\n"
     ]
    },
    {
     "data": {
      "text/html": [
       "<pre style=\"white-space:pre;overflow-x:auto;line-height:normal;font-family:Menlo,'DejaVu Sans Mono',consolas,'Courier New',monospace\"><span style=\"color: #7fbfbf; text-decoration-color: #7fbfbf\">                    </span><span style=\"color: #0069ff; text-decoration-color: #0069ff; font-weight: bold\">INFO    </span> selected model name for cost calculation:                       <a href=\"file:///Users/dggallit/Documents/generative-ai-on-amazon-sagemaker/.venv/lib/python3.12/site-packages/litellm/cost_calculator.py\" target=\"_blank\"><span style=\"color: #7f7f7f; text-decoration-color: #7f7f7f\">cost_calculator.py</span></a><span style=\"color: #7f7f7f; text-decoration-color: #7f7f7f\">:</span><a href=\"file:///Users/dggallit/Documents/generative-ai-on-amazon-sagemaker/.venv/lib/python3.12/site-packages/litellm/cost_calculator.py#636\" target=\"_blank\"><span style=\"color: #7f7f7f; text-decoration-color: #7f7f7f\">636</span></a>\n",
       "<span style=\"color: #7fbfbf; text-decoration-color: #7fbfbf\">                    </span>         sagemaker/hf-llm-mistral-small-24b-instruct-<span style=\"color: #008080; text-decoration-color: #008080; font-weight: bold\">2501</span>-<span style=\"color: #008080; text-decoration-color: #008080; font-weight: bold\">2025</span>-04-07-10- <span style=\"color: #7f7f7f; text-decoration-color: #7f7f7f\">                      </span>\n",
       "<span style=\"color: #7fbfbf; text-decoration-color: #7fbfbf\">                    </span>         48-04-846                                                       <span style=\"color: #7f7f7f; text-decoration-color: #7f7f7f\">                      </span>\n",
       "</pre>\n"
      ],
      "text/plain": [
       "\u001b[2;36m                   \u001b[0m\u001b[2;36m \u001b[0m\u001b[1;38;2;0;105;255mINFO    \u001b[0m selected model name for cost calculation:                       \u001b]8;id=470568;file:///Users/dggallit/Documents/generative-ai-on-amazon-sagemaker/.venv/lib/python3.12/site-packages/litellm/cost_calculator.py\u001b\\\u001b[2mcost_calculator.py\u001b[0m\u001b]8;;\u001b\\\u001b[2m:\u001b[0m\u001b]8;id=333738;file:///Users/dggallit/Documents/generative-ai-on-amazon-sagemaker/.venv/lib/python3.12/site-packages/litellm/cost_calculator.py#636\u001b\\\u001b[2m636\u001b[0m\u001b]8;;\u001b\\\n",
       "\u001b[2;36m                    \u001b[0m         sagemaker/hf-llm-mistral-small-24b-instruct-\u001b[1;36m2501\u001b[0m-\u001b[1;36m2025\u001b[0m-04-07-10- \u001b[2m                      \u001b[0m\n",
       "\u001b[2;36m                    \u001b[0m         48-04-846                                                       \u001b[2m                      \u001b[0m\n"
      ]
     },
     "metadata": {},
     "output_type": "display_data"
    },
    {
     "name": "stderr",
     "output_type": "stream",
     "text": [
      "\u001b[92m20:20:59 - LiteLLM:INFO\u001b[0m: cost_calculator.py:636 - selected model name for cost calculation: hf-llm-mistral-small-24b-instruct-2501-2025-04-07-10-48-04-846\n"
     ]
    },
    {
     "data": {
      "text/html": [
       "<pre style=\"white-space:pre;overflow-x:auto;line-height:normal;font-family:Menlo,'DejaVu Sans Mono',consolas,'Courier New',monospace\"><span style=\"color: #7fbfbf; text-decoration-color: #7fbfbf\">                    </span><span style=\"color: #0069ff; text-decoration-color: #0069ff; font-weight: bold\">INFO    </span> selected model name for cost calculation:                       <a href=\"file:///Users/dggallit/Documents/generative-ai-on-amazon-sagemaker/.venv/lib/python3.12/site-packages/litellm/cost_calculator.py\" target=\"_blank\"><span style=\"color: #7f7f7f; text-decoration-color: #7f7f7f\">cost_calculator.py</span></a><span style=\"color: #7f7f7f; text-decoration-color: #7f7f7f\">:</span><a href=\"file:///Users/dggallit/Documents/generative-ai-on-amazon-sagemaker/.venv/lib/python3.12/site-packages/litellm/cost_calculator.py#636\" target=\"_blank\"><span style=\"color: #7f7f7f; text-decoration-color: #7f7f7f\">636</span></a>\n",
       "<span style=\"color: #7fbfbf; text-decoration-color: #7fbfbf\">                    </span>         sagemaker/hf-llm-mistral-small-24b-instruct-<span style=\"color: #008080; text-decoration-color: #008080; font-weight: bold\">2501</span>-<span style=\"color: #008080; text-decoration-color: #008080; font-weight: bold\">2025</span>-04-07-10- <span style=\"color: #7f7f7f; text-decoration-color: #7f7f7f\">                      </span>\n",
       "<span style=\"color: #7fbfbf; text-decoration-color: #7fbfbf\">                    </span>         48-04-846                                                       <span style=\"color: #7f7f7f; text-decoration-color: #7f7f7f\">                      </span>\n",
       "</pre>\n"
      ],
      "text/plain": [
       "\u001b[2;36m                   \u001b[0m\u001b[2;36m \u001b[0m\u001b[1;38;2;0;105;255mINFO    \u001b[0m selected model name for cost calculation:                       \u001b]8;id=225972;file:///Users/dggallit/Documents/generative-ai-on-amazon-sagemaker/.venv/lib/python3.12/site-packages/litellm/cost_calculator.py\u001b\\\u001b[2mcost_calculator.py\u001b[0m\u001b]8;;\u001b\\\u001b[2m:\u001b[0m\u001b]8;id=22300;file:///Users/dggallit/Documents/generative-ai-on-amazon-sagemaker/.venv/lib/python3.12/site-packages/litellm/cost_calculator.py#636\u001b\\\u001b[2m636\u001b[0m\u001b]8;;\u001b\\\n",
       "\u001b[2;36m                    \u001b[0m         sagemaker/hf-llm-mistral-small-24b-instruct-\u001b[1;36m2501\u001b[0m-\u001b[1;36m2025\u001b[0m-04-07-10- \u001b[2m                      \u001b[0m\n",
       "\u001b[2;36m                    \u001b[0m         48-04-846                                                       \u001b[2m                      \u001b[0m\n"
      ]
     },
     "metadata": {},
     "output_type": "display_data"
    },
    {
     "name": "stderr",
     "output_type": "stream",
     "text": [
      "\u001b[92m20:20:59 - LiteLLM:INFO\u001b[0m: cost_calculator.py:636 - selected model name for cost calculation: sagemaker/hf-llm-mistral-small-24b-instruct-2501-2025-04-07-10-48-04-846\n"
     ]
    },
    {
     "data": {
      "text/html": [
       "<pre style=\"white-space:pre;overflow-x:auto;line-height:normal;font-family:Menlo,'DejaVu Sans Mono',consolas,'Courier New',monospace\"><span style=\"color: #7fbfbf; text-decoration-color: #7fbfbf\">                    </span><span style=\"color: #0069ff; text-decoration-color: #0069ff; font-weight: bold\">INFO    </span> selected model name for cost calculation:                       <a href=\"file:///Users/dggallit/Documents/generative-ai-on-amazon-sagemaker/.venv/lib/python3.12/site-packages/litellm/cost_calculator.py\" target=\"_blank\"><span style=\"color: #7f7f7f; text-decoration-color: #7f7f7f\">cost_calculator.py</span></a><span style=\"color: #7f7f7f; text-decoration-color: #7f7f7f\">:</span><a href=\"file:///Users/dggallit/Documents/generative-ai-on-amazon-sagemaker/.venv/lib/python3.12/site-packages/litellm/cost_calculator.py#636\" target=\"_blank\"><span style=\"color: #7f7f7f; text-decoration-color: #7f7f7f\">636</span></a>\n",
       "<span style=\"color: #7fbfbf; text-decoration-color: #7fbfbf\">                    </span>         hf-llm-mistral-small-24b-instruct-<span style=\"color: #008080; text-decoration-color: #008080; font-weight: bold\">2501</span>-<span style=\"color: #008080; text-decoration-color: #008080; font-weight: bold\">2025</span>-04-07-10-48-04-846  <span style=\"color: #7f7f7f; text-decoration-color: #7f7f7f\">                      </span>\n",
       "</pre>\n"
      ],
      "text/plain": [
       "\u001b[2;36m                   \u001b[0m\u001b[2;36m \u001b[0m\u001b[1;38;2;0;105;255mINFO    \u001b[0m selected model name for cost calculation:                       \u001b]8;id=158172;file:///Users/dggallit/Documents/generative-ai-on-amazon-sagemaker/.venv/lib/python3.12/site-packages/litellm/cost_calculator.py\u001b\\\u001b[2mcost_calculator.py\u001b[0m\u001b]8;;\u001b\\\u001b[2m:\u001b[0m\u001b]8;id=168733;file:///Users/dggallit/Documents/generative-ai-on-amazon-sagemaker/.venv/lib/python3.12/site-packages/litellm/cost_calculator.py#636\u001b\\\u001b[2m636\u001b[0m\u001b]8;;\u001b\\\n",
       "\u001b[2;36m                    \u001b[0m         hf-llm-mistral-small-24b-instruct-\u001b[1;36m2501\u001b[0m-\u001b[1;36m2025\u001b[0m-04-07-10-48-04-846  \u001b[2m                      \u001b[0m\n"
      ]
     },
     "metadata": {},
     "output_type": "display_data"
    },
    {
     "data": {
      "text/html": [
       "<pre style=\"white-space:pre;overflow-x:auto;line-height:normal;font-family:Menlo,'DejaVu Sans Mono',consolas,'Courier New',monospace\"><span style=\"color: #7fbfbf; text-decoration-color: #7fbfbf\">                    </span><span style=\"color: #0069ff; text-decoration-color: #0069ff; font-weight: bold\">INFO    </span> selected model name for cost calculation:                       <a href=\"file:///Users/dggallit/Documents/generative-ai-on-amazon-sagemaker/.venv/lib/python3.12/site-packages/litellm/cost_calculator.py\" target=\"_blank\"><span style=\"color: #7f7f7f; text-decoration-color: #7f7f7f\">cost_calculator.py</span></a><span style=\"color: #7f7f7f; text-decoration-color: #7f7f7f\">:</span><a href=\"file:///Users/dggallit/Documents/generative-ai-on-amazon-sagemaker/.venv/lib/python3.12/site-packages/litellm/cost_calculator.py#636\" target=\"_blank\"><span style=\"color: #7f7f7f; text-decoration-color: #7f7f7f\">636</span></a>\n",
       "<span style=\"color: #7fbfbf; text-decoration-color: #7fbfbf\">                    </span>         sagemaker/hf-llm-mistral-small-24b-instruct-<span style=\"color: #008080; text-decoration-color: #008080; font-weight: bold\">2501</span>-<span style=\"color: #008080; text-decoration-color: #008080; font-weight: bold\">2025</span>-04-07-10- <span style=\"color: #7f7f7f; text-decoration-color: #7f7f7f\">                      </span>\n",
       "<span style=\"color: #7fbfbf; text-decoration-color: #7fbfbf\">                    </span>         48-04-846                                                       <span style=\"color: #7f7f7f; text-decoration-color: #7f7f7f\">                      </span>\n",
       "</pre>\n"
      ],
      "text/plain": [
       "\u001b[2;36m                   \u001b[0m\u001b[2;36m \u001b[0m\u001b[1;38;2;0;105;255mINFO    \u001b[0m selected model name for cost calculation:                       \u001b]8;id=609575;file:///Users/dggallit/Documents/generative-ai-on-amazon-sagemaker/.venv/lib/python3.12/site-packages/litellm/cost_calculator.py\u001b\\\u001b[2mcost_calculator.py\u001b[0m\u001b]8;;\u001b\\\u001b[2m:\u001b[0m\u001b]8;id=196587;file:///Users/dggallit/Documents/generative-ai-on-amazon-sagemaker/.venv/lib/python3.12/site-packages/litellm/cost_calculator.py#636\u001b\\\u001b[2m636\u001b[0m\u001b]8;;\u001b\\\n",
       "\u001b[2;36m                    \u001b[0m         sagemaker/hf-llm-mistral-small-24b-instruct-\u001b[1;36m2501\u001b[0m-\u001b[1;36m2025\u001b[0m-04-07-10- \u001b[2m                      \u001b[0m\n",
       "\u001b[2;36m                    \u001b[0m         48-04-846                                                       \u001b[2m                      \u001b[0m\n"
      ]
     },
     "metadata": {},
     "output_type": "display_data"
    },
    {
     "name": "stderr",
     "output_type": "stream",
     "text": [
      "\u001b[92m20:20:59 - LiteLLM:INFO\u001b[0m: cost_calculator.py:636 - selected model name for cost calculation: sagemaker/hf-llm-mistral-small-24b-instruct-2501-2025-04-07-10-48-04-846\n"
     ]
    },
    {
     "data": {
      "text/html": [
       "<pre style=\"white-space:pre;overflow-x:auto;line-height:normal;font-family:Menlo,'DejaVu Sans Mono',consolas,'Courier New',monospace\"><span style=\"color: #7fbfbf; text-decoration-color: #7fbfbf\">                    </span><span style=\"color: #0069ff; text-decoration-color: #0069ff; font-weight: bold\">INFO    </span> selected model name for cost calculation:                       <a href=\"file:///Users/dggallit/Documents/generative-ai-on-amazon-sagemaker/.venv/lib/python3.12/site-packages/litellm/cost_calculator.py\" target=\"_blank\"><span style=\"color: #7f7f7f; text-decoration-color: #7f7f7f\">cost_calculator.py</span></a><span style=\"color: #7f7f7f; text-decoration-color: #7f7f7f\">:</span><a href=\"file:///Users/dggallit/Documents/generative-ai-on-amazon-sagemaker/.venv/lib/python3.12/site-packages/litellm/cost_calculator.py#636\" target=\"_blank\"><span style=\"color: #7f7f7f; text-decoration-color: #7f7f7f\">636</span></a>\n",
       "<span style=\"color: #7fbfbf; text-decoration-color: #7fbfbf\">                    </span>         sagemaker/hf-llm-mistral-small-24b-instruct-<span style=\"color: #008080; text-decoration-color: #008080; font-weight: bold\">2501</span>-<span style=\"color: #008080; text-decoration-color: #008080; font-weight: bold\">2025</span>-04-07-10- <span style=\"color: #7f7f7f; text-decoration-color: #7f7f7f\">                      </span>\n",
       "<span style=\"color: #7fbfbf; text-decoration-color: #7fbfbf\">                    </span>         48-04-846                                                       <span style=\"color: #7f7f7f; text-decoration-color: #7f7f7f\">                      </span>\n",
       "</pre>\n"
      ],
      "text/plain": [
       "\u001b[2;36m                   \u001b[0m\u001b[2;36m \u001b[0m\u001b[1;38;2;0;105;255mINFO    \u001b[0m selected model name for cost calculation:                       \u001b]8;id=393953;file:///Users/dggallit/Documents/generative-ai-on-amazon-sagemaker/.venv/lib/python3.12/site-packages/litellm/cost_calculator.py\u001b\\\u001b[2mcost_calculator.py\u001b[0m\u001b]8;;\u001b\\\u001b[2m:\u001b[0m\u001b]8;id=106251;file:///Users/dggallit/Documents/generative-ai-on-amazon-sagemaker/.venv/lib/python3.12/site-packages/litellm/cost_calculator.py#636\u001b\\\u001b[2m636\u001b[0m\u001b]8;;\u001b\\\n",
       "\u001b[2;36m                    \u001b[0m         sagemaker/hf-llm-mistral-small-24b-instruct-\u001b[1;36m2501\u001b[0m-\u001b[1;36m2025\u001b[0m-04-07-10- \u001b[2m                      \u001b[0m\n",
       "\u001b[2;36m                    \u001b[0m         48-04-846                                                       \u001b[2m                      \u001b[0m\n"
      ]
     },
     "metadata": {},
     "output_type": "display_data"
    },
    {
     "data": {
      "text/plain": [
       "' Bari is known for its historic center, the Basilica di San Nicola, and its role as a major port city.'"
      ]
     },
     "execution_count": 18,
     "metadata": {},
     "output_type": "execute_result"
    },
    {
     "name": "stderr",
     "output_type": "stream",
     "text": [
      "\u001b[92m20:20:59 - LiteLLM:INFO\u001b[0m: cost_calculator.py:636 - selected model name for cost calculation: hf-llm-mistral-small-24b-instruct-2501-2025-04-07-10-48-04-846\n"
     ]
    },
    {
     "data": {
      "text/html": [
       "<pre style=\"white-space:pre;overflow-x:auto;line-height:normal;font-family:Menlo,'DejaVu Sans Mono',consolas,'Courier New',monospace\"><span style=\"color: #7fbfbf; text-decoration-color: #7fbfbf\">                    </span><span style=\"color: #0069ff; text-decoration-color: #0069ff; font-weight: bold\">INFO    </span> selected model name for cost calculation:                       <a href=\"file:///Users/dggallit/Documents/generative-ai-on-amazon-sagemaker/.venv/lib/python3.12/site-packages/litellm/cost_calculator.py\" target=\"_blank\"><span style=\"color: #7f7f7f; text-decoration-color: #7f7f7f\">cost_calculator.py</span></a><span style=\"color: #7f7f7f; text-decoration-color: #7f7f7f\">:</span><a href=\"file:///Users/dggallit/Documents/generative-ai-on-amazon-sagemaker/.venv/lib/python3.12/site-packages/litellm/cost_calculator.py#636\" target=\"_blank\"><span style=\"color: #7f7f7f; text-decoration-color: #7f7f7f\">636</span></a>\n",
       "<span style=\"color: #7fbfbf; text-decoration-color: #7fbfbf\">                    </span>         hf-llm-mistral-small-24b-instruct-<span style=\"color: #008080; text-decoration-color: #008080; font-weight: bold\">2501</span>-<span style=\"color: #008080; text-decoration-color: #008080; font-weight: bold\">2025</span>-04-07-10-48-04-846  <span style=\"color: #7f7f7f; text-decoration-color: #7f7f7f\">                      </span>\n",
       "</pre>\n"
      ],
      "text/plain": [
       "\u001b[2;36m                   \u001b[0m\u001b[2;36m \u001b[0m\u001b[1;38;2;0;105;255mINFO    \u001b[0m selected model name for cost calculation:                       \u001b]8;id=186220;file:///Users/dggallit/Documents/generative-ai-on-amazon-sagemaker/.venv/lib/python3.12/site-packages/litellm/cost_calculator.py\u001b\\\u001b[2mcost_calculator.py\u001b[0m\u001b]8;;\u001b\\\u001b[2m:\u001b[0m\u001b]8;id=117241;file:///Users/dggallit/Documents/generative-ai-on-amazon-sagemaker/.venv/lib/python3.12/site-packages/litellm/cost_calculator.py#636\u001b\\\u001b[2m636\u001b[0m\u001b]8;;\u001b\\\n",
       "\u001b[2;36m                    \u001b[0m         hf-llm-mistral-small-24b-instruct-\u001b[1;36m2501\u001b[0m-\u001b[1;36m2025\u001b[0m-04-07-10-48-04-846  \u001b[2m                      \u001b[0m\n"
      ]
     },
     "metadata": {},
     "output_type": "display_data"
    }
   ],
   "source": [
    "from litellm import completion\n",
    "import os\n",
    "\n",
    "\n",
    "response = completion(\n",
    "    model=f\"sagemaker/{endpoint_name}\", \n",
    "    model_id=component_name,\n",
    "    messages=[\n",
    "        {\"role\": \"system\", \"content\": \"You are a helpful and honest assistant.\"},\n",
    "        {\"role\": \"user\", \"content\": \"What is the town of Bari, Italy, known for? Provide a short answer.\"}\n",
    "    ],\n",
    "    temperature=0.2,\n",
    "    max_tokens=1024\n",
    ")\n",
    "response.choices[0].message.content"
   ]
  },
  {
   "cell_type": "markdown",
   "id": "361da444",
   "metadata": {},
   "source": [
    "<div class=\"alert alert-block alert-info\">\n",
    "⚠️ <b>Important:</b> as of LiteLLM v1.67.2, `sagemaker_chat` provider does not not correctly pass the inference component name, causing `HTTPStatusError: Client error '400 Bad Request'`. Please use `sagemaker` provider instead.\n",
    "</div>"
   ]
  }
 ],
 "metadata": {
  "kernelspec": {
   "display_name": ".venv",
   "language": "python",
   "name": "python3"
  },
  "language_info": {
   "codemirror_mode": {
    "name": "ipython",
    "version": 3
   },
   "file_extension": ".py",
   "mimetype": "text/x-python",
   "name": "python",
   "nbconvert_exporter": "python",
   "pygments_lexer": "ipython3",
   "version": "3.12.9"
  }
 },
 "nbformat": 4,
 "nbformat_minor": 5
}

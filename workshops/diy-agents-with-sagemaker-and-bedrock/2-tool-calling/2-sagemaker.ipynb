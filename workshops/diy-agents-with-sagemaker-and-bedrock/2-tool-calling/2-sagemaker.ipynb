{
 "cells": [
  {
   "cell_type": "code",
   "execution_count": null,
   "id": "425e8538",
   "metadata": {},
   "outputs": [],
   "source": [
    "%pip install sagemaker boto3 litellm -qU"
   ]
  },
  {
   "cell_type": "markdown",
   "id": "5fbb3aca",
   "metadata": {},
   "source": [
    "<div class=\"alert alert-block alert-info\">\n",
    "<center>⚠️ <b>Important:</b> Please restart the kernel after installing the dependencies. ⚠️</center>\n",
    "</div>\n",
    "\n",
    "----\n",
    "\n",
    "# Tool calling with Amazon SageMaker AI\n",
    "\n",
    "<div class=\"alert alert-block alert-info\">\n",
    "<center>Make sure you've deployed the model according to the previous lab before proceeding.</center>\n",
    "</div>\n",
    "\n",
    "Amazon SageMaker AI APIs do not natively support tool calling. To achieve this, we have to embed the tool definition in the prompt we send to the model. We recommend using models that have been fine-tuned for function calling in order to make sure tool calling works as expected."
   ]
  },
  {
   "cell_type": "code",
   "execution_count": null,
   "id": "d9e893fb",
   "metadata": {},
   "outputs": [],
   "source": [
    "try: \n",
    "    predictor\n",
    "except:\n",
    "    import boto3\n",
    "    from sagemaker.session import Session\n",
    "    from sagemaker.predictor import Predictor\n",
    "    from sagemaker.serializers import JSONSerializer\n",
    "    from sagemaker.deserializers import JSONDeserializer\n",
    "    \n",
    "    endpoint_name = \"YOUR-ENDPOINT-NAME\"\n",
    "    component_name = \"YOUR-INFERENCE-COMPONENT-NAME\"\n",
    "\n",
    "    boto_session = boto3.session.Session(region_name=\"us-west-2\")\n",
    "    session = Session(boto_session=boto_session)\n",
    "    \n",
    "    predictor = Predictor(\n",
    "        sagemaker_session=session,\n",
    "        endpoint_name=endpoint_name, component_name=component_name,\n",
    "        serializer=JSONSerializer(), deserializer=JSONDeserializer()\n",
    "    )"
   ]
  },
  {
   "cell_type": "code",
   "execution_count": null,
   "id": "2a5a2ad1-b58a-42e3-a5b4-6e44fd2b2cce",
   "metadata": {},
   "outputs": [],
   "source": [
    "def get_top_song(sign):\n",
    "    \"\"\"Returns the most popular song for the requested station.\n",
    "    Args:\n",
    "        call_sign (str): The call sign for the station for which you want\n",
    "        the most popular song.\n",
    "\n",
    "    Returns:\n",
    "        response (json): The most popular song and artist.\n",
    "    \"\"\"\n",
    "\n",
    "    song = \"\"\n",
    "    artist = \"\"\n",
    "    if sign == 'WZPZ':\n",
    "        song = \"Elemental Hotel\"\n",
    "        artist = \"8 Storey Hike\"\n",
    "\n",
    "    else:\n",
    "        raise Exception(f\"Station {sign} not found.\")\n",
    "\n",
    "    return {\n",
    "        \"song\": song,\n",
    "        \"artist\": artist\n",
    "    }"
   ]
  },
  {
   "cell_type": "markdown",
   "id": "61008585-1216-4b43-9cf6-cbeef6133a9c",
   "metadata": {},
   "source": [
    "In order for the LLM to know that it can use this tool, we have to pass the tool definition to the LLM."
   ]
  },
  {
   "cell_type": "code",
   "execution_count": null,
   "id": "8dfe3413-cb63-47b1-8050-88170e6c6fbf",
   "metadata": {},
   "outputs": [],
   "source": [
    "tools = [\n",
    "    {\n",
    "        \"type\": \"function\",\n",
    "        \"function\": {\n",
    "            \"name\": \"get_top_song\",\n",
    "            \"description\": \"Get the most popular song played on a radio station.\",\n",
    "            \"parameters\": {\n",
    "                \"type\": \"object\",\n",
    "                \"properties\": {\n",
    "                    \"sign\": {\n",
    "                        \"type\": \"string\",\n",
    "                        \"description\": \"The call sign for the radio station for which you want the most popular song. Example calls signs are WZPZ and WKRP.\"\n",
    "                    }\n",
    "                },\n",
    "                \"required\": [\"sign\"],\n",
    "            },\n",
    "        },\n",
    "    }\n",
    "]"
   ]
  },
  {
   "cell_type": "markdown",
   "id": "087c42f5-f61a-49f9-8225-49c15ffca562",
   "metadata": {},
   "source": [
    "Now we can start conversing with the model."
   ]
  },
  {
   "cell_type": "code",
   "execution_count": null,
   "id": "061cd5f3-4b56-4670-ab13-56f7ea0be237",
   "metadata": {},
   "outputs": [],
   "source": [
    "input_text = \"What is the most popular song on WZPZ?\""
   ]
  },
  {
   "cell_type": "code",
   "execution_count": null,
   "id": "b72afc20-d847-48e3-96e1-1abc9e4252a1",
   "metadata": {},
   "outputs": [],
   "source": [
    "initial_prompt = \"\"\"\\\n",
    "Answer the following query: {user_query}\\n\n",
    "You have access to the following tools:\n",
    "{tools}\n",
    "Reply separating your thinking from the function call with <thinking> </thinking> and <tool> </tool> tags.\n",
    "Make sure that your response only contains one set of tags each, no more.\\\n",
    "\"\"\"\n",
    "messages = [{'role':'user', 'content':initial_prompt.format(user_query=input_text, tools=tools)}]\n",
    "payload = {'messages': messages, 'max_tokens': 4*1024}"
   ]
  },
  {
   "cell_type": "code",
   "execution_count": null,
   "id": "257853dd-365e-4843-bf10-394807aead0d",
   "metadata": {
    "scrolled": true
   },
   "outputs": [],
   "source": [
    "import boto3, json\n",
    "\n",
    "sagemaker_runtime = boto3.client(\"sagemaker-runtime\", region_name=\"us-east-1\")\n",
    "response = sagemaker_runtime.invoke_endpoint(\n",
    "    EndpointName=endpoint_name,\n",
    "    InferenceComponentName=component_name or None,\n",
    "    ContentType=\"application/json\",\n",
    "    Body=json.dumps(payload)\n",
    ")\n",
    "output = json.loads(response['Body'].read().decode())\n",
    "output"
   ]
  },
  {
   "cell_type": "code",
   "execution_count": null,
   "id": "f3903050-6e51-43d4-a366-7cc6955d29fc",
   "metadata": {},
   "outputs": [],
   "source": [
    "messages.append(output['choices'][0]['message'])\n",
    "messages"
   ]
  },
  {
   "cell_type": "code",
   "execution_count": null,
   "id": "30cbffb2-aeb3-4187-a7b8-c222d7b82f10",
   "metadata": {},
   "outputs": [],
   "source": [
    "output['choices'][0]['message']['content']"
   ]
  },
  {
   "cell_type": "code",
   "execution_count": null,
   "id": "78effb0c-13f8-497a-a14f-733702423161",
   "metadata": {},
   "outputs": [],
   "source": [
    "# Obtain the text inside <thinking> tags\n",
    "import re\n",
    "thinking = re.findall(r'<thinking>(.*?)</thinking>', output['choices'][0]['message']['content'], re.DOTALL)\n",
    "tool_call = json.loads(re.findall(r'<tool>(.*?)</tool>', output['choices'][0]['message']['content'], re.DOTALL)[0])\n",
    "print(thinking, tool_call)"
   ]
  },
  {
   "cell_type": "code",
   "execution_count": null,
   "id": "43c11d16-7a35-4cad-8652-bda29d9b6df1",
   "metadata": {},
   "outputs": [],
   "source": [
    "song, artist = get_top_song(tool_call['arguments']['sign'])\n",
    "tool_result = {\n",
    "    \"content\": [{\"song\": song, \"artist\": artist}]\n",
    "}\n",
    "tool_result"
   ]
  },
  {
   "cell_type": "code",
   "execution_count": null,
   "id": "67923d59-5040-49d5-a231-cc7e3ffd21ff",
   "metadata": {},
   "outputs": [],
   "source": [
    "tool_result_message = {\n",
    "    \"role\": \"user\", \"content\": json.dumps([{\"toolResult\": tool_result}])\n",
    "}\n",
    "messages.append(tool_result_message)"
   ]
  },
  {
   "cell_type": "code",
   "execution_count": null,
   "id": "deeab939-6c51-4698-872d-70a29faca6f4",
   "metadata": {},
   "outputs": [],
   "source": [
    "payload = {'messages': messages, 'max_tokens': 4*1024}\n",
    "response = sagemaker_runtime.invoke_endpoint(\n",
    "    EndpointName=endpoint_name,\n",
    "    InferenceComponentName=component_name or None,\n",
    "    ContentType=\"application/json\",\n",
    "    Body=json.dumps(payload)\n",
    ")\n",
    "output = json.loads(response['Body'].read().decode())\n",
    "output"
   ]
  }
 ],
 "metadata": {
  "kernelspec": {
   "display_name": ".venv",
   "language": "python",
   "name": "python3"
  },
  "language_info": {
   "codemirror_mode": {
    "name": "ipython",
    "version": 3
   },
   "file_extension": ".py",
   "mimetype": "text/x-python",
   "name": "python",
   "nbconvert_exporter": "python",
   "pygments_lexer": "ipython3",
   "version": "3.12.9"
  }
 },
 "nbformat": 4,
 "nbformat_minor": 5
}

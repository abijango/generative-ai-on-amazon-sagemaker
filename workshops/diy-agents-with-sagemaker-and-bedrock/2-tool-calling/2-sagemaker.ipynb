{
 "cells": [
  {
   "cell_type": "code",
   "execution_count": null,
   "id": "425e8538",
   "metadata": {},
   "outputs": [],
   "source": [
    "%pip install sagemaker boto3 sagemaker litellm -qU"
   ]
  },
  {
   "cell_type": "markdown",
   "id": "5fbb3aca",
   "metadata": {},
   "source": [
    "<div class=\"alert alert-block alert-info\">\n",
    "<center>⚠️ <b>Important:</b> Please restart the kernel after installing the dependencies. ⚠️</center>\n",
    "</div>\n",
    "\n",
    "----\n",
    "\n",
    "# Tool calling with Amazon SageMaker AI\n",
    "\n",
    "<div class=\"alert alert-block alert-info\">\n",
    "<center>Make sure you've deployed the model according to the previous lab before proceeding.</center>\n",
    "</div>\n",
    "\n",
    "Amazon SageMaker AI APIs do not natively support tool calling. To achieve this, we have to embed the tool definition in the prompt we send to the model. We recommend using models that have been fine-tuned for function calling in order to make sure tool calling works as expected."
   ]
  },
  {
   "cell_type": "code",
   "execution_count": 1,
   "id": "d9e893fb",
   "metadata": {},
   "outputs": [
    {
     "name": "stderr",
     "output_type": "stream",
     "text": [
      "/Users/dggallit/Documents/generative-ai-on-amazon-sagemaker/.venv/lib/python3.12/site-packages/pydantic/_internal/_fields.py:198: UserWarning: Field name \"json\" in \"MonitoringDatasetFormat\" shadows an attribute in parent \"Base\"\n",
      "  warnings.warn(\n"
     ]
    },
    {
     "data": {
      "text/html": [
       "<pre style=\"white-space:pre;overflow-x:auto;line-height:normal;font-family:Menlo,'DejaVu Sans Mono',consolas,'Courier New',monospace\"><span style=\"color: #7fbfbf; text-decoration-color: #7fbfbf\">[05/15/25 16:06:28] </span><span style=\"color: #0069ff; text-decoration-color: #0069ff; font-weight: bold\">INFO    </span> Found credentials in shared credentials file: ~<span style=\"color: #e100e1; text-decoration-color: #e100e1\">/.aws/credentials</span>   <a href=\"file:///Users/dggallit/Documents/generative-ai-on-amazon-sagemaker/.venv/lib/python3.12/site-packages/botocore/credentials.py\" target=\"_blank\"><span style=\"color: #7f7f7f; text-decoration-color: #7f7f7f\">credentials.py</span></a><span style=\"color: #7f7f7f; text-decoration-color: #7f7f7f\">:</span><a href=\"file:///Users/dggallit/Documents/generative-ai-on-amazon-sagemaker/.venv/lib/python3.12/site-packages/botocore/credentials.py#1352\" target=\"_blank\"><span style=\"color: #7f7f7f; text-decoration-color: #7f7f7f\">1352</span></a>\n",
       "</pre>\n"
      ],
      "text/plain": [
       "\u001b[2;36m[05/15/25 16:06:28]\u001b[0m\u001b[2;36m \u001b[0m\u001b[1;38;2;0;105;255mINFO    \u001b[0m Found credentials in shared credentials file: ~\u001b[38;2;225;0;225m/.aws/\u001b[0m\u001b[38;2;225;0;225mcredentials\u001b[0m   \u001b]8;id=105719;file:///Users/dggallit/Documents/generative-ai-on-amazon-sagemaker/.venv/lib/python3.12/site-packages/botocore/credentials.py\u001b\\\u001b[2mcredentials.py\u001b[0m\u001b]8;;\u001b\\\u001b[2m:\u001b[0m\u001b]8;id=787585;file:///Users/dggallit/Documents/generative-ai-on-amazon-sagemaker/.venv/lib/python3.12/site-packages/botocore/credentials.py#1352\u001b\\\u001b[2m1352\u001b[0m\u001b]8;;\u001b\\\n"
      ]
     },
     "metadata": {},
     "output_type": "display_data"
    },
    {
     "name": "stdout",
     "output_type": "stream",
     "text": [
      "sagemaker.config INFO - Not applying SDK defaults from location: /Library/Application Support/sagemaker/config.yaml\n",
      "sagemaker.config INFO - Not applying SDK defaults from location: /Users/dggallit/Library/Application Support/sagemaker/config.yaml\n"
     ]
    },
    {
     "data": {
      "text/html": [
       "<pre style=\"white-space:pre;overflow-x:auto;line-height:normal;font-family:Menlo,'DejaVu Sans Mono',consolas,'Courier New',monospace\"><span style=\"color: #7fbfbf; text-decoration-color: #7fbfbf\">[05/15/25 16:06:30] </span><span style=\"color: #0069ff; text-decoration-color: #0069ff; font-weight: bold\">INFO    </span> Found credentials in shared credentials file: ~<span style=\"color: #e100e1; text-decoration-color: #e100e1\">/.aws/credentials</span>   <a href=\"file:///Users/dggallit/Documents/generative-ai-on-amazon-sagemaker/.venv/lib/python3.12/site-packages/botocore/credentials.py\" target=\"_blank\"><span style=\"color: #7f7f7f; text-decoration-color: #7f7f7f\">credentials.py</span></a><span style=\"color: #7f7f7f; text-decoration-color: #7f7f7f\">:</span><a href=\"file:///Users/dggallit/Documents/generative-ai-on-amazon-sagemaker/.venv/lib/python3.12/site-packages/botocore/credentials.py#1352\" target=\"_blank\"><span style=\"color: #7f7f7f; text-decoration-color: #7f7f7f\">1352</span></a>\n",
       "</pre>\n"
      ],
      "text/plain": [
       "\u001b[2;36m[05/15/25 16:06:30]\u001b[0m\u001b[2;36m \u001b[0m\u001b[1;38;2;0;105;255mINFO    \u001b[0m Found credentials in shared credentials file: ~\u001b[38;2;225;0;225m/.aws/\u001b[0m\u001b[38;2;225;0;225mcredentials\u001b[0m   \u001b]8;id=831504;file:///Users/dggallit/Documents/generative-ai-on-amazon-sagemaker/.venv/lib/python3.12/site-packages/botocore/credentials.py\u001b\\\u001b[2mcredentials.py\u001b[0m\u001b]8;;\u001b\\\u001b[2m:\u001b[0m\u001b]8;id=453785;file:///Users/dggallit/Documents/generative-ai-on-amazon-sagemaker/.venv/lib/python3.12/site-packages/botocore/credentials.py#1352\u001b\\\u001b[2m1352\u001b[0m\u001b]8;;\u001b\\\n"
      ]
     },
     "metadata": {},
     "output_type": "display_data"
    }
   ],
   "source": [
    "try: \n",
    "    predictor\n",
    "except:\n",
    "    import boto3\n",
    "    from sagemaker.session import Session\n",
    "    from sagemaker.predictor import Predictor\n",
    "    from sagemaker.serializers import JSONSerializer\n",
    "    from sagemaker.deserializers import JSONDeserializer\n",
    "    \n",
    "    endpoint_name = input(\"> Enter your endpoint name: \")\n",
    "    component_name = input(\"> Enter your inference component name (leave empty if not using a component): \") or None\n",
    "\n",
    "    boto_session = boto3.session.Session(region_name=\"us-west-2\")\n",
    "    session = Session(boto_session=boto_session)\n",
    "    \n",
    "    predictor = Predictor(\n",
    "        sagemaker_session=session,\n",
    "        endpoint_name=endpoint_name, component_name=component_name,\n",
    "        serializer=JSONSerializer(), deserializer=JSONDeserializer()\n",
    "    )"
   ]
  },
  {
   "cell_type": "code",
   "execution_count": 2,
   "id": "2a5a2ad1-b58a-42e3-a5b4-6e44fd2b2cce",
   "metadata": {},
   "outputs": [],
   "source": [
    "def get_top_song(sign):\n",
    "    \"\"\"Returns the most popular song for the requested station.\n",
    "    Args:\n",
    "        call_sign (str): The call sign for the station for which you want\n",
    "        the most popular song.\n",
    "\n",
    "    Returns:\n",
    "        response (json): The most popular song and artist.\n",
    "    \"\"\"\n",
    "\n",
    "    song = \"\"\n",
    "    artist = \"\"\n",
    "    if sign == 'WZPZ':\n",
    "        song = \"Elemental Hotel\"\n",
    "        artist = \"8 Storey Hike\"\n",
    "\n",
    "    else:\n",
    "        raise Exception(f\"Station {sign} not found.\")\n",
    "\n",
    "    return {\n",
    "        \"song\": song,\n",
    "        \"artist\": artist\n",
    "    }"
   ]
  },
  {
   "cell_type": "markdown",
   "id": "61008585-1216-4b43-9cf6-cbeef6133a9c",
   "metadata": {},
   "source": [
    "In order for the LLM to know that it can use this tool, we have to pass the tool definition to the LLM."
   ]
  },
  {
   "cell_type": "code",
   "execution_count": 3,
   "id": "8dfe3413-cb63-47b1-8050-88170e6c6fbf",
   "metadata": {},
   "outputs": [],
   "source": [
    "tools = [\n",
    "    {\n",
    "        \"type\": \"function\",\n",
    "        \"function\": {\n",
    "            \"name\": \"get_top_song\",\n",
    "            \"description\": \"Get the most popular song played on a radio station.\",\n",
    "            \"parameters\": {\n",
    "                \"type\": \"object\",\n",
    "                \"properties\": {\n",
    "                    \"sign\": {\n",
    "                        \"type\": \"string\",\n",
    "                        \"description\": \"The call sign for the radio station for which you want the most popular song. Example calls signs are WZPZ and WKRP.\"\n",
    "                    }\n",
    "                },\n",
    "                \"required\": [\"sign\"],\n",
    "            },\n",
    "        },\n",
    "    }\n",
    "]"
   ]
  },
  {
   "cell_type": "markdown",
   "id": "087c42f5-f61a-49f9-8225-49c15ffca562",
   "metadata": {},
   "source": [
    "Now we can start conversing with the model."
   ]
  },
  {
   "cell_type": "code",
   "execution_count": 4,
   "id": "061cd5f3-4b56-4670-ab13-56f7ea0be237",
   "metadata": {},
   "outputs": [],
   "source": [
    "input_text = \"What is the most popular song on WZPZ?\""
   ]
  },
  {
   "cell_type": "code",
   "execution_count": 5,
   "id": "b72afc20-d847-48e3-96e1-1abc9e4252a1",
   "metadata": {},
   "outputs": [],
   "source": [
    "from datetime import datetime\n",
    "\n",
    "system_prompt = \"\"\"\\\n",
    "You are an AI assistant, created by AWS and powered by Amazon SageMaker AI.\n",
    "Your goal is to help the user by answering their questions honestly, helpfully and truthfully.\n",
    "The current date is {currentDateTime} .\n",
    "\n",
    "Follow these principles when responding to queries:\n",
    "1. Avoid tool calls if not needed\n",
    "2. If uncertain, answer normally and offer to use tools\n",
    "3. Always use the best tools for the query\n",
    "\"\"\"\n",
    "messages = [\n",
    "    {'role':'system', 'content':system_prompt.format(tools=tools, currentDateTime=datetime.now())},\n",
    "    {'role':'user', 'content':input_text}\n",
    "]\n",
    "payload = {'messages': messages, 'max_tokens': 4*1024, 'tools':tools, 'tool_choice':'auto'}"
   ]
  },
  {
   "cell_type": "code",
   "execution_count": 6,
   "id": "257853dd-365e-4843-bf10-394807aead0d",
   "metadata": {
    "scrolled": true
   },
   "outputs": [
    {
     "data": {
      "text/html": [
       "<pre style=\"white-space:pre;overflow-x:auto;line-height:normal;font-family:Menlo,'DejaVu Sans Mono',consolas,'Courier New',monospace\"><span style=\"color: #7fbfbf; text-decoration-color: #7fbfbf\">[05/15/25 16:06:35] </span><span style=\"color: #0069ff; text-decoration-color: #0069ff; font-weight: bold\">INFO    </span> Found credentials in shared credentials file: ~<span style=\"color: #e100e1; text-decoration-color: #e100e1\">/.aws/credentials</span>   <a href=\"file:///Users/dggallit/Documents/generative-ai-on-amazon-sagemaker/.venv/lib/python3.12/site-packages/botocore/credentials.py\" target=\"_blank\"><span style=\"color: #7f7f7f; text-decoration-color: #7f7f7f\">credentials.py</span></a><span style=\"color: #7f7f7f; text-decoration-color: #7f7f7f\">:</span><a href=\"file:///Users/dggallit/Documents/generative-ai-on-amazon-sagemaker/.venv/lib/python3.12/site-packages/botocore/credentials.py#1352\" target=\"_blank\"><span style=\"color: #7f7f7f; text-decoration-color: #7f7f7f\">1352</span></a>\n",
       "</pre>\n"
      ],
      "text/plain": [
       "\u001b[2;36m[05/15/25 16:06:35]\u001b[0m\u001b[2;36m \u001b[0m\u001b[1;38;2;0;105;255mINFO    \u001b[0m Found credentials in shared credentials file: ~\u001b[38;2;225;0;225m/.aws/\u001b[0m\u001b[38;2;225;0;225mcredentials\u001b[0m   \u001b]8;id=569236;file:///Users/dggallit/Documents/generative-ai-on-amazon-sagemaker/.venv/lib/python3.12/site-packages/botocore/credentials.py\u001b\\\u001b[2mcredentials.py\u001b[0m\u001b]8;;\u001b\\\u001b[2m:\u001b[0m\u001b]8;id=279252;file:///Users/dggallit/Documents/generative-ai-on-amazon-sagemaker/.venv/lib/python3.12/site-packages/botocore/credentials.py#1352\u001b\\\u001b[2m1352\u001b[0m\u001b]8;;\u001b\\\n"
      ]
     },
     "metadata": {},
     "output_type": "display_data"
    },
    {
     "data": {
      "text/plain": [
       "{'id': 'chatcmpl-6fb61aeab4294502bb03dcb04b9e3c04',\n",
       " 'object': 'chat.completion',\n",
       " 'created': 1747317996,\n",
       " 'model': 'lmi',\n",
       " 'choices': [{'index': 0,\n",
       "   'message': {'role': 'assistant',\n",
       "    'reasoning_content': None,\n",
       "    'content': None,\n",
       "    'tool_calls': [{'id': 'SsUEOjFNU',\n",
       "      'type': 'function',\n",
       "      'function': {'name': 'get_top_song', 'arguments': '{\"sign\": \"WZPZ\"}'}}]},\n",
       "   'logprobs': None,\n",
       "   'finish_reason': 'tool_calls',\n",
       "   'stop_reason': None}],\n",
       " 'usage': {'prompt_tokens': 224,\n",
       "  'total_tokens': 249,\n",
       "  'completion_tokens': 25,\n",
       "  'prompt_tokens_details': None},\n",
       " 'prompt_logprobs': None}"
      ]
     },
     "execution_count": 6,
     "metadata": {},
     "output_type": "execute_result"
    }
   ],
   "source": [
    "import boto3, json\n",
    "\n",
    "sagemaker_runtime = boto3.client(\"sagemaker-runtime\", region_name=\"us-east-1\")\n",
    "response = sagemaker_runtime.invoke_endpoint(\n",
    "    EndpointName=endpoint_name,\n",
    "    # InferenceComponentName=component_name or None,\n",
    "    ContentType=\"application/json\",\n",
    "    Body=json.dumps(payload)\n",
    ")\n",
    "output = json.loads(response['Body'].read().decode())\n",
    "output"
   ]
  },
  {
   "cell_type": "code",
   "execution_count": 7,
   "id": "f3903050-6e51-43d4-a366-7cc6955d29fc",
   "metadata": {},
   "outputs": [
    {
     "data": {
      "text/plain": [
       "[{'role': 'system',\n",
       "  'content': 'You are an AI assistant, created by AWS and powered by Amazon SageMaker AI.\\nYour goal is to help the user by answering their questions honestly, helpfully and truthfully.\\nThe current date is 2025-05-15 16:06:34.237947 .\\n\\nFollow these principles when responding to queries:\\n1. Avoid tool calls if not needed\\n2. If uncertain, answer normally and offer to use tools\\n3. Always use the best tools for the query\\n'},\n",
       " {'role': 'user', 'content': 'What is the most popular song on WZPZ?'},\n",
       " {'role': 'assistant', 'content': 'Thinking ...'}]"
      ]
     },
     "execution_count": 7,
     "metadata": {},
     "output_type": "execute_result"
    }
   ],
   "source": [
    "clean_message = {k: v or \"Thinking ...\" for k, v in output['choices'][0]['message'].items() if k in ['role', 'content']}\n",
    "messages.append(clean_message)\n",
    "messages"
   ]
  },
  {
   "cell_type": "code",
   "execution_count": 8,
   "id": "78effb0c-13f8-497a-a14f-733702423161",
   "metadata": {},
   "outputs": [
    {
     "data": {
      "text/plain": [
       "('tool_calls',\n",
       " [{'id': 'SsUEOjFNU',\n",
       "   'type': 'function',\n",
       "   'function': {'name': 'get_top_song', 'arguments': '{\"sign\": \"WZPZ\"}'}}])"
      ]
     },
     "execution_count": 8,
     "metadata": {},
     "output_type": "execute_result"
    }
   ],
   "source": [
    "# If stop_reason == \"tool_calls\", then you need to perform tool calling!\n",
    "stop_reason = output['choices'][0]['finish_reason']\n",
    "tool_calls = output['choices'][0]['message']['tool_calls']\n",
    "stop_reason, tool_calls"
   ]
  },
  {
   "cell_type": "code",
   "execution_count": 9,
   "id": "43c11d16-7a35-4cad-8652-bda29d9b6df1",
   "metadata": {},
   "outputs": [],
   "source": [
    "import sys\n",
    "if stop_reason == \"tool_calls\":\n",
    "    tool_calls = output['choices'][0]['message']['tool_calls']\n",
    "    for tool_call in tool_calls:\n",
    "        if tool_call['type'] == 'function':\n",
    "            name = tool_call['function']['name']\n",
    "            args = json.loads(tool_call['function']['arguments'])\n",
    "        # Execute the function with name from tool_call['function']['name']\n",
    "        tool_foo = getattr(sys.modules[__name__], name)\n",
    "        output = tool_foo(**args)\n",
    "    output"
   ]
  },
  {
   "cell_type": "code",
   "execution_count": 10,
   "id": "67923d59-5040-49d5-a231-cc7e3ffd21ff",
   "metadata": {},
   "outputs": [],
   "source": [
    "tool_result_message = {\n",
    "    \"role\": \"user\", \"content\": json.dumps(output)\n",
    "}\n",
    "messages.append(tool_result_message)"
   ]
  },
  {
   "cell_type": "code",
   "execution_count": 11,
   "id": "3536c762",
   "metadata": {},
   "outputs": [
    {
     "data": {
      "text/plain": [
       "[{'role': 'system',\n",
       "  'content': 'You are an AI assistant, created by AWS and powered by Amazon SageMaker AI.\\nYour goal is to help the user by answering their questions honestly, helpfully and truthfully.\\nThe current date is 2025-05-15 16:06:34.237947 .\\n\\nFollow these principles when responding to queries:\\n1. Avoid tool calls if not needed\\n2. If uncertain, answer normally and offer to use tools\\n3. Always use the best tools for the query\\n'},\n",
       " {'role': 'user', 'content': 'What is the most popular song on WZPZ?'},\n",
       " {'role': 'assistant', 'content': 'Thinking ...'},\n",
       " {'role': 'user',\n",
       "  'content': '{\"song\": \"Elemental Hotel\", \"artist\": \"8 Storey Hike\"}'}]"
      ]
     },
     "execution_count": 11,
     "metadata": {},
     "output_type": "execute_result"
    }
   ],
   "source": [
    "messages"
   ]
  },
  {
   "cell_type": "code",
   "execution_count": 12,
   "id": "deeab939-6c51-4698-872d-70a29faca6f4",
   "metadata": {},
   "outputs": [
    {
     "data": {
      "text/plain": [
       "{'id': 'chatcmpl-be1f5cb4e016437d8b91b2ffb8eca279',\n",
       " 'object': 'chat.completion',\n",
       " 'created': 1747318020,\n",
       " 'model': 'lmi',\n",
       " 'choices': [{'index': 0,\n",
       "   'message': {'role': 'assistant',\n",
       "    'reasoning_content': None,\n",
       "    'content': 'The most popular song on WZPZ right now is \"Elemental Hotel\" by 8 Storey Hike.',\n",
       "    'tool_calls': []},\n",
       "   'logprobs': None,\n",
       "   'finish_reason': 'stop',\n",
       "   'stop_reason': None}],\n",
       " 'usage': {'prompt_tokens': 150,\n",
       "  'total_tokens': 176,\n",
       "  'completion_tokens': 26,\n",
       "  'prompt_tokens_details': None},\n",
       " 'prompt_logprobs': None}"
      ]
     },
     "execution_count": 12,
     "metadata": {},
     "output_type": "execute_result"
    }
   ],
   "source": [
    "payload = {'messages': messages, 'max_tokens': 4*1024}\n",
    "response = sagemaker_runtime.invoke_endpoint(\n",
    "    EndpointName=endpoint_name,\n",
    "    # InferenceComponentName=component_name or None,\n",
    "    ContentType=\"application/json\",\n",
    "    Body=json.dumps(payload)\n",
    ")\n",
    "output = json.loads(response['Body'].read().decode())\n",
    "output"
   ]
  },
  {
   "cell_type": "code",
   "execution_count": null,
   "id": "a4e4f552",
   "metadata": {},
   "outputs": [],
   "source": []
  }
 ],
 "metadata": {
  "kernelspec": {
   "display_name": ".venv",
   "language": "python",
   "name": "python3"
  },
  "language_info": {
   "codemirror_mode": {
    "name": "ipython",
    "version": 3
   },
   "file_extension": ".py",
   "mimetype": "text/x-python",
   "name": "python",
   "nbconvert_exporter": "python",
   "pygments_lexer": "ipython3",
   "version": "3.12.9"
  }
 },
 "nbformat": 4,
 "nbformat_minor": 5
}

{
 "cells": [
  {
   "cell_type": "markdown",
   "id": "5fbb3aca",
   "metadata": {},
   "source": [
    "# Tool calling with Amazon SageMaker AI\n",
    "\n",
    "<div class=\"alert alert-block alert-info\">\n",
    "<center>Make sure you've deployed the model according to the previous lab before proceeding.</center>\n",
    "</div>\n",
    "\n",
    "Amazon SageMaker AI APIs do not natively support tool calling. To achieve this, we have to embed the tool definition in the prompt we send to the model. We recommend using models that have been fine-tuned for function calling in order to make sure tool calling works as expected."
   ]
  },
  {
   "cell_type": "markdown",
   "id": "d0c7a9fd-ce8c-4c59-ab3f-7410468fa804",
   "metadata": {},
   "source": [
    "## Dependencies (Warnings are safe to ignore)"
   ]
  },
  {
   "cell_type": "code",
   "execution_count": null,
   "id": "425e8538",
   "metadata": {
    "execution": {
     "iopub.execute_input": "2025-06-09T23:22:19.113124Z",
     "iopub.status.busy": "2025-06-09T23:22:19.112814Z",
     "iopub.status.idle": "2025-06-09T23:22:24.518247Z",
     "shell.execute_reply": "2025-06-09T23:22:24.517640Z",
     "shell.execute_reply.started": "2025-06-09T23:22:19.113103Z"
    }
   },
   "outputs": [],
   "source": [
    "%pip uninstall -q -y autogluon-multimodal autogluon-timeseries autogluon-features autogluon-common autogluon-core\n",
    "%pip install -Uq sagemaker==2.239.0\n",
    "%pip install -Uq boto3==1.38.33"
   ]
  },
  {
   "cell_type": "markdown",
   "id": "5a54949f-ba5f-4f65-865b-1e945573b8c7",
   "metadata": {},
   "source": [
    "## This cell will restart the kernel. Wait for the pop-up box to appear, then click \"OK\" before proceeding."
   ]
  },
  {
   "cell_type": "code",
   "execution_count": null,
   "id": "d2c66240",
   "metadata": {
    "execution": {
     "iopub.execute_input": "2025-06-09T23:22:26.157198Z",
     "iopub.status.busy": "2025-06-09T23:22:26.156859Z",
     "iopub.status.idle": "2025-06-09T23:22:26.163428Z",
     "shell.execute_reply": "2025-06-09T23:22:26.162955Z",
     "shell.execute_reply.started": "2025-06-09T23:22:26.157172Z"
    }
   },
   "outputs": [],
   "source": [
    "from IPython import get_ipython\n",
    "get_ipython().kernel.do_shutdown(True)"
   ]
  },
  {
   "cell_type": "markdown",
   "id": "0cc2e1a2-65f1-444f-9ac0-a69fb5bf5c93",
   "metadata": {
    "execution": {
     "iopub.execute_input": "2025-06-09T23:15:52.261486Z",
     "iopub.status.busy": "2025-06-09T23:15:52.261170Z",
     "iopub.status.idle": "2025-06-09T23:15:52.265531Z",
     "shell.execute_reply": "2025-06-09T23:15:52.264815Z",
     "shell.execute_reply.started": "2025-06-09T23:15:52.261465Z"
    }
   },
   "source": [
    "Fetch the `SAGEMAKER_ENDPOINT_NAME` that was deployed during prerequisites."
   ]
  },
  {
   "cell_type": "code",
   "execution_count": null,
   "id": "a43516b4-6cdb-4970-8f91-383280b930a6",
   "metadata": {
    "execution": {
     "iopub.execute_input": "2025-06-09T23:22:31.388849Z",
     "iopub.status.busy": "2025-06-09T23:22:31.388536Z",
     "iopub.status.idle": "2025-06-09T23:22:31.393009Z",
     "shell.execute_reply": "2025-06-09T23:22:31.392531Z",
     "shell.execute_reply.started": "2025-06-09T23:22:31.388827Z"
    }
   },
   "outputs": [],
   "source": [
    "%store -r SAGEMAKER_ENDPOINT_NAME\n",
    "print(f\"Endpoint name: {SAGEMAKER_ENDPOINT_NAME}\")"
   ]
  },
  {
   "cell_type": "markdown",
   "id": "58a3eb43-baa6-4613-b39f-803b08bb35d6",
   "metadata": {},
   "source": [
    "Setup a SageMaker `Predictor` for invoking your endpoint."
   ]
  },
  {
   "cell_type": "code",
   "execution_count": null,
   "id": "d9e893fb",
   "metadata": {
    "execution": {
     "iopub.execute_input": "2025-06-09T23:22:33.641393Z",
     "iopub.status.busy": "2025-06-09T23:22:33.641079Z",
     "iopub.status.idle": "2025-06-09T23:22:35.507638Z",
     "shell.execute_reply": "2025-06-09T23:22:35.507022Z",
     "shell.execute_reply.started": "2025-06-09T23:22:33.641374Z"
    }
   },
   "outputs": [],
   "source": [
    "import boto3\n",
    "from sagemaker.session import Session\n",
    "from sagemaker.predictor import Predictor\n",
    "from sagemaker.serializers import JSONSerializer\n",
    "from sagemaker.deserializers import JSONDeserializer\n",
    "\n",
    "boto_session = boto3.session.Session(region_name=boto3.Session().region_name)\n",
    "session = Session(boto_session=boto_session)\n",
    "\n",
    "predictor = Predictor(\n",
    "    sagemaker_session=session,\n",
    "    endpoint_name=SAGEMAKER_ENDPOINT_NAME,\n",
    "    serializer=JSONSerializer(), deserializer=JSONDeserializer()\n",
    ")"
   ]
  },
  {
   "cell_type": "markdown",
   "id": "39fd13da-67a7-4e38-a8f6-6c355e17265c",
   "metadata": {},
   "source": [
    "Next, create a function `get_top_song()` to use as a tool with your model. This basic tool will take in a `sign` parameter of a radio station and will mock up a return for the top song and artist."
   ]
  },
  {
   "cell_type": "code",
   "execution_count": null,
   "id": "2a5a2ad1-b58a-42e3-a5b4-6e44fd2b2cce",
   "metadata": {
    "execution": {
     "iopub.execute_input": "2025-06-09T23:22:35.508838Z",
     "iopub.status.busy": "2025-06-09T23:22:35.508478Z",
     "iopub.status.idle": "2025-06-09T23:22:35.512057Z",
     "shell.execute_reply": "2025-06-09T23:22:35.511579Z",
     "shell.execute_reply.started": "2025-06-09T23:22:35.508819Z"
    }
   },
   "outputs": [],
   "source": [
    "def get_top_song(sign):\n",
    "    \"\"\"Returns the most popular song for the requested station.\n",
    "    Args:\n",
    "        call_sign (str): The call sign for the station for which you want\n",
    "        the most popular song.\n",
    "\n",
    "    Returns:\n",
    "        response (json): The most popular song and artist.\n",
    "    \"\"\"\n",
    "\n",
    "    song = \"\"\n",
    "    artist = \"\"\n",
    "    if sign == 'WZPZ':\n",
    "        song = \"Elemental Hotel\"\n",
    "        artist = \"8 Storey Hike\"\n",
    "\n",
    "    else:\n",
    "        raise Exception(f\"Station {sign} not found.\")\n",
    "\n",
    "    return {\n",
    "        \"song\": song,\n",
    "        \"artist\": artist\n",
    "    }"
   ]
  },
  {
   "cell_type": "markdown",
   "id": "61008585-1216-4b43-9cf6-cbeef6133a9c",
   "metadata": {},
   "source": [
    "Next, build a tool definition. This will later be passed to the LLM and will provide it with the data it needs to understand what the tool is for and what to invoke it with.\n",
    "\n",
    "The `description` inside of the first `function` object will be used to determine what the tool is for, and the `description` of the `properties` fields will help ensure the LLM submits the correct values when calling the tool."
   ]
  },
  {
   "cell_type": "code",
   "execution_count": null,
   "id": "8dfe3413-cb63-47b1-8050-88170e6c6fbf",
   "metadata": {
    "execution": {
     "iopub.execute_input": "2025-06-09T23:22:38.683403Z",
     "iopub.status.busy": "2025-06-09T23:22:38.683083Z",
     "iopub.status.idle": "2025-06-09T23:22:38.686869Z",
     "shell.execute_reply": "2025-06-09T23:22:38.686364Z",
     "shell.execute_reply.started": "2025-06-09T23:22:38.683384Z"
    }
   },
   "outputs": [],
   "source": [
    "tools = [\n",
    "    {\n",
    "        \"type\": \"function\",\n",
    "        \"function\": {\n",
    "            \"name\": \"get_top_song\",\n",
    "            \"description\": \"Get the most popular song played on a radio station.\",\n",
    "            \"parameters\": {\n",
    "                \"type\": \"object\",\n",
    "                \"properties\": {\n",
    "                    \"sign\": {\n",
    "                        \"type\": \"string\",\n",
    "                        \"description\": \"The call sign for the radio station for which you want the most popular song. Example calls signs are WZPZ and WKRP.\"\n",
    "                    }\n",
    "                },\n",
    "                \"required\": [\"sign\"],\n",
    "            },\n",
    "        },\n",
    "    }\n",
    "]"
   ]
  },
  {
   "cell_type": "markdown",
   "id": "087c42f5-f61a-49f9-8225-49c15ffca562",
   "metadata": {},
   "source": [
    "Now we can start conversing with the model."
   ]
  },
  {
   "cell_type": "code",
   "execution_count": null,
   "id": "061cd5f3-4b56-4670-ab13-56f7ea0be237",
   "metadata": {
    "execution": {
     "iopub.execute_input": "2025-06-09T23:22:40.280418Z",
     "iopub.status.busy": "2025-06-09T23:22:40.280096Z",
     "iopub.status.idle": "2025-06-09T23:22:40.283181Z",
     "shell.execute_reply": "2025-06-09T23:22:40.282720Z",
     "shell.execute_reply.started": "2025-06-09T23:22:40.280397Z"
    }
   },
   "outputs": [],
   "source": [
    "input_text = \"What is the most popular song on WZPZ?\""
   ]
  },
  {
   "cell_type": "code",
   "execution_count": null,
   "id": "b72afc20-d847-48e3-96e1-1abc9e4252a1",
   "metadata": {
    "execution": {
     "iopub.execute_input": "2025-06-09T23:22:40.941483Z",
     "iopub.status.busy": "2025-06-09T23:22:40.941154Z",
     "iopub.status.idle": "2025-06-09T23:22:40.945039Z",
     "shell.execute_reply": "2025-06-09T23:22:40.944571Z",
     "shell.execute_reply.started": "2025-06-09T23:22:40.941462Z"
    }
   },
   "outputs": [],
   "source": [
    "from datetime import datetime\n",
    "\n",
    "system_prompt = \"\"\"\\\n",
    "You are an AI assistant, created by AWS and powered by Amazon SageMaker AI.\n",
    "Your goal is to help the user by answering their questions honestly, helpfully and truthfully.\n",
    "The current date is {currentDateTime} .\n",
    "\n",
    "Follow these principles when responding to queries:\n",
    "1. Avoid tool calls if not needed\n",
    "2. If uncertain, answer normally and offer to use tools\n",
    "3. Always use the best tools for the query\n",
    "\"\"\"\n",
    "messages = [\n",
    "    {'role':'system', 'content':system_prompt.format(currentDateTime=datetime.now())},\n",
    "    {'role':'user', 'content':input_text}\n",
    "]\n",
    "\n",
    "payload = {\n",
    "    \"messages\": messages,\n",
    "    \"tools\": tools,\n",
    "    \"tool_choice\": \"auto\", # Requires: OPTION_TOOL_CALL_PARSER, OPTION_ENABLE_AUTO_TOOL_CHOICE\n",
    "    \"max_tokens\": 4096,\n",
    "    \"temperature\": 0.1,\n",
    "    \"top_p\": 0.9,\n",
    "}"
   ]
  },
  {
   "cell_type": "code",
   "execution_count": null,
   "id": "257853dd-365e-4843-bf10-394807aead0d",
   "metadata": {
    "execution": {
     "iopub.execute_input": "2025-06-09T23:23:02.938088Z",
     "iopub.status.busy": "2025-06-09T23:23:02.937755Z",
     "iopub.status.idle": "2025-06-09T23:23:03.778123Z",
     "shell.execute_reply": "2025-06-09T23:23:03.777612Z",
     "shell.execute_reply.started": "2025-06-09T23:23:02.938066Z"
    },
    "scrolled": true
   },
   "outputs": [],
   "source": [
    "import boto3, json\n",
    "\n",
    "sagemaker_runtime = boto3.client(\"sagemaker-runtime\", region_name=boto3.Session().region_name)\n",
    "response = sagemaker_runtime.invoke_endpoint(\n",
    "    EndpointName=SAGEMAKER_ENDPOINT_NAME,\n",
    "    ContentType=\"application/json\",\n",
    "    Body=json.dumps(payload)\n",
    ")\n",
    "output = json.loads(response['Body'].read().decode())\n",
    "\n",
    "output"
   ]
  },
  {
   "cell_type": "code",
   "execution_count": null,
   "id": "f3903050-6e51-43d4-a366-7cc6955d29fc",
   "metadata": {
    "execution": {
     "iopub.execute_input": "2025-06-09T23:23:05.709040Z",
     "iopub.status.busy": "2025-06-09T23:23:05.708721Z",
     "iopub.status.idle": "2025-06-09T23:23:05.713610Z",
     "shell.execute_reply": "2025-06-09T23:23:05.713118Z",
     "shell.execute_reply.started": "2025-06-09T23:23:05.709020Z"
    }
   },
   "outputs": [],
   "source": [
    "clean_message = {k: v or \"Thinking ...\" for k, v in output['choices'][0]['message'].items() if k in ['role', 'content']}\n",
    "messages.append(clean_message)\n",
    "messages"
   ]
  },
  {
   "cell_type": "code",
   "execution_count": null,
   "id": "78effb0c-13f8-497a-a14f-733702423161",
   "metadata": {
    "execution": {
     "iopub.execute_input": "2025-06-09T23:23:09.621905Z",
     "iopub.status.busy": "2025-06-09T23:23:09.621587Z",
     "iopub.status.idle": "2025-06-09T23:23:09.626362Z",
     "shell.execute_reply": "2025-06-09T23:23:09.625885Z",
     "shell.execute_reply.started": "2025-06-09T23:23:09.621886Z"
    }
   },
   "outputs": [],
   "source": [
    "# If stop_reason == \"tool_calls\", then you need to perform tool calling!\n",
    "stop_reason = output['choices'][0]['finish_reason']\n",
    "tool_calls = output['choices'][0]['message']['tool_calls']\n",
    "stop_reason, tool_calls"
   ]
  },
  {
   "cell_type": "code",
   "execution_count": null,
   "id": "43c11d16-7a35-4cad-8652-bda29d9b6df1",
   "metadata": {
    "execution": {
     "iopub.execute_input": "2025-06-09T23:23:11.729343Z",
     "iopub.status.busy": "2025-06-09T23:23:11.728807Z",
     "iopub.status.idle": "2025-06-09T23:23:11.732558Z",
     "shell.execute_reply": "2025-06-09T23:23:11.732094Z",
     "shell.execute_reply.started": "2025-06-09T23:23:11.729322Z"
    }
   },
   "outputs": [],
   "source": [
    "import sys\n",
    "if stop_reason == \"tool_calls\":\n",
    "    tool_calls = output['choices'][0]['message']['tool_calls']\n",
    "    for tool_call in tool_calls:\n",
    "        if tool_call['type'] == 'function':\n",
    "            name = tool_call['function']['name']\n",
    "            args = json.loads(tool_call['function']['arguments'])\n",
    "        # Execute the function with name from tool_call['function']['name']\n",
    "        tool_foo = getattr(sys.modules[__name__], name)\n",
    "        output = tool_foo(**args)\n",
    "    output"
   ]
  },
  {
   "cell_type": "code",
   "execution_count": null,
   "id": "67923d59-5040-49d5-a231-cc7e3ffd21ff",
   "metadata": {
    "execution": {
     "iopub.execute_input": "2025-06-09T23:23:15.498427Z",
     "iopub.status.busy": "2025-06-09T23:23:15.498121Z",
     "iopub.status.idle": "2025-06-09T23:23:15.501203Z",
     "shell.execute_reply": "2025-06-09T23:23:15.500742Z",
     "shell.execute_reply.started": "2025-06-09T23:23:15.498408Z"
    }
   },
   "outputs": [],
   "source": [
    "tool_result_message = {\n",
    "    \"role\": \"user\", \"content\": json.dumps(output)\n",
    "}\n",
    "messages.append(tool_result_message)"
   ]
  },
  {
   "cell_type": "code",
   "execution_count": null,
   "id": "3536c762",
   "metadata": {
    "execution": {
     "iopub.execute_input": "2025-06-09T23:23:17.819046Z",
     "iopub.status.busy": "2025-06-09T23:23:17.818454Z",
     "iopub.status.idle": "2025-06-09T23:23:17.822390Z",
     "shell.execute_reply": "2025-06-09T23:23:17.821958Z",
     "shell.execute_reply.started": "2025-06-09T23:23:17.819024Z"
    }
   },
   "outputs": [],
   "source": [
    "messages"
   ]
  },
  {
   "cell_type": "code",
   "execution_count": null,
   "id": "deeab939-6c51-4698-872d-70a29faca6f4",
   "metadata": {
    "execution": {
     "iopub.execute_input": "2025-06-09T23:23:23.072977Z",
     "iopub.status.busy": "2025-06-09T23:23:23.072661Z",
     "iopub.status.idle": "2025-06-09T23:23:23.832349Z",
     "shell.execute_reply": "2025-06-09T23:23:23.831859Z",
     "shell.execute_reply.started": "2025-06-09T23:23:23.072958Z"
    }
   },
   "outputs": [],
   "source": [
    "payload = {'messages': messages, 'max_tokens': 4*1024}\n",
    "response = sagemaker_runtime.invoke_endpoint(\n",
    "    EndpointName=SAGEMAKER_ENDPOINT_NAME,\n",
    "    ContentType=\"application/json\",\n",
    "    Body=json.dumps(payload)\n",
    ")\n",
    "output = json.loads(response['Body'].read().decode())\n",
    "output"
   ]
  }
 ],
 "metadata": {
  "kernelspec": {
   "display_name": "Python 3 (ipykernel)",
   "language": "python",
   "name": "python3"
  },
  "language_info": {
   "codemirror_mode": {
    "name": "ipython",
    "version": 3
   },
   "file_extension": ".py",
   "mimetype": "text/x-python",
   "name": "python",
   "nbconvert_exporter": "python",
   "pygments_lexer": "ipython3",
   "version": "3.12.9"
  }
 },
 "nbformat": 4,
 "nbformat_minor": 5
}

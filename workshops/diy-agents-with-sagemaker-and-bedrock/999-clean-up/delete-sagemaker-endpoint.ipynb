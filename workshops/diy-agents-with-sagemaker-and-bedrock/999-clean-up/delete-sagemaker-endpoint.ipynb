{
 "cells": [
  {
   "cell_type": "markdown",
   "id": "da333a13-03d8-453f-9951-ac0e7967d114",
   "metadata": {},
   "source": [
    "# Clean up - Delete SageMaker AI endpoint\n",
    "\n",
    "Avoid incurring in unwanted charges by delete the SageMaker AI endpoint."
   ]
  },
  {
   "cell_type": "code",
   "execution_count": null,
   "id": "3eb68a6f-4195-4026-9fc8-e89fa5def885",
   "metadata": {},
   "outputs": [],
   "source": [
    "%store -r SAGEMAKER_ENDPOINT_NAME\n",
    "print(f\"Endpoint name: {SAGEMAKER_ENDPOINT_NAME}\")"
   ]
  },
  {
   "cell_type": "code",
   "execution_count": null,
   "id": "9a5d1ae2-d242-4ed3-89f8-a96d064ff862",
   "metadata": {},
   "outputs": [],
   "source": [
    "# Delete the endpoint\n",
    "import boto3\n",
    "\n",
    "client = boto3.client('sagemaker')\n",
    "client.delete_endpoint(\n",
    "    EndpointName=SAGEMAKER_ENDPOINT_NAME\n",
    ")"
   ]
  }
 ],
 "metadata": {
  "kernelspec": {
   "display_name": "Python 3 (ipykernel)",
   "language": "python",
   "name": "python3"
  },
  "language_info": {
   "codemirror_mode": {
    "name": "ipython",
    "version": 3
   },
   "file_extension": ".py",
   "mimetype": "text/x-python",
   "name": "python",
   "nbconvert_exporter": "python",
   "pygments_lexer": "ipython3",
   "version": "3.11.11"
  }
 },
 "nbformat": 4,
 "nbformat_minor": 5
}

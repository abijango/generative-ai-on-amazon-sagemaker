{
 "cells": [
  {
   "cell_type": "markdown",
   "id": "9491c8c7-3ccd-4d82-9064-680a9d89e919",
   "metadata": {},
   "source": [
    "<div style=\"background-color: #FFDDDD; border-left: 5px solid red; padding: 10px; color: black;\">\n",
    "    <strong>Kernel:</strong> Python 3 (ipykernel)\n",
    "</div>"
   ]
  },
  {
   "cell_type": "markdown",
   "id": "fcbb5d61-8a0b-47d9-a7c5-0c041c82b8bf",
   "metadata": {},
   "source": [
    "# 🚀 Deploy `Qwen/Qwen3-4B-Instruct-2507` on Amazon SageMaker"
   ]
  },
  {
   "cell_type": "markdown",
   "id": "dd210e90-21e1-4f03-a08e-c3fba9aa6979",
   "metadata": {},
   "source": [
    "## Prerequisites\n",
    "\n",
    "To start off, let's install some packages to help us through the notebooks. **Restart the kernel after packages have been installed.**"
   ]
  },
  {
   "cell_type": "code",
   "execution_count": null,
   "id": "7a3964ff-d238-4789-8b83-483c66e419b7",
   "metadata": {
    "scrolled": true
   },
   "outputs": [],
   "source": [
    "%pip install -r ./scripts/requirements.txt --upgrade"
   ]
  },
  {
   "cell_type": "markdown",
   "id": "77ef300b-e6f4-44d4-ab16-82a7234286f2",
   "metadata": {},
   "source": [
    "## This cell will restart the kernel. Click \"OK\"."
   ]
  },
  {
   "cell_type": "code",
   "execution_count": null,
   "id": "9ed97cde-15aa-447e-bddb-7e46b6de998e",
   "metadata": {},
   "outputs": [],
   "source": [
    "from IPython import get_ipython\n",
    "get_ipython().kernel.do_shutdown(True)"
   ]
  },
  {
   "cell_type": "markdown",
   "id": "a947367a-bea3-498a-9548-d6e6e08f0d10",
   "metadata": {},
   "source": [
    "***"
   ]
  },
  {
   "cell_type": "code",
   "execution_count": null,
   "id": "3cff4c6f-aa6a-41b2-86f2-d8d1ecae0517",
   "metadata": {},
   "outputs": [],
   "source": [
    "import os\n",
    "import sagemaker\n",
    "import boto3\n",
    "import shutil\n",
    "from sagemaker.config import load_sagemaker_config\n",
    "import sys\n",
    "sys.path.append(os.path.dirname(os.getcwd()))\n",
    "\n",
    "from utilities.helpers import (\n",
    "    pretty_print_html, \n",
    "    set_meta_llama_params,\n",
    "    print_dialog,\n",
    "    format_messages,\n",
    "    write_eula\n",
    ")\n",
    "\n",
    "sagemaker_session = sagemaker.Session()\n",
    "s3_client = boto3.client('s3')\n",
    "\n",
    "region = sagemaker_session.boto_session.region_name\n",
    "bucket_name = sagemaker_session.default_bucket()\n",
    "default_prefix = sagemaker_session.default_bucket_prefix\n",
    "configs = load_sagemaker_config()\n",
    "\n",
    "session = sagemaker.Session()\n",
    "role = sagemaker.get_execution_role()\n",
    "\n",
    "\n",
    "print(f\"Execution Role: {role}\")\n",
    "print(f\"Default S3 Bucket: {bucket_name}\")"
   ]
  },
  {
   "cell_type": "markdown",
   "id": "2bf99fe4-fee5-4405-847e-9a36ca3fcfb5",
   "metadata": {},
   "source": [
    "## Deploy Model to SageMaker Hosting"
   ]
  },
  {
   "cell_type": "markdown",
   "id": "088b2000-64b8-4aa8-8580-b389e7bf09d9",
   "metadata": {},
   "source": [
    "### Step 1: Get SageMaker LMI Container to host DeepSeek"
   ]
  },
  {
   "cell_type": "code",
   "execution_count": null,
   "id": "91f83a1d-08a9-49bc-900e-aa1e4c47662a",
   "metadata": {},
   "outputs": [],
   "source": [
    "# commenting until LMI 0.33.0 available via SageMaker SDK\n",
    "# inference_image_uri = sagemaker.image_uris.retrieve(\n",
    "#     framework=\"djl-lmi\", \n",
    "#     region=session.boto_session.region_name, \n",
    "#     version=\"0.33.0\"\n",
    "# )\n",
    "\n",
    "inference_image_uri = f\"763104351884.dkr.ecr.{region}.amazonaws.com/djl-inference:0.33.0-lmi15.0.0-cu128\"\n",
    "pretty_print_html(f\"using image to host: {inference_image_uri}\")"
   ]
  },
  {
   "cell_type": "markdown",
   "id": "67d67d58-ba4a-4c73-8cad-d94ebcdad46b",
   "metadata": {},
   "source": [
    "### Step 2: Deploy model using `DJLModel`"
   ]
  },
  {
   "cell_type": "code",
   "execution_count": null,
   "id": "772748b8-7868-4561-bf19-0e0fcbd0b7b4",
   "metadata": {},
   "outputs": [],
   "source": [
    "model_id = \"Qwen/Qwen3-4B-Instruct-2507\"\n",
    "model_id_filesafe = model_id.replace(\"/\",\"_\")\n",
    "\n",
    "use_local_model = True #set to false for the training job to download from HF, otherwise True will download locally"
   ]
  },
  {
   "cell_type": "code",
   "execution_count": null,
   "id": "613efbe0-d10f-4214-bc3d-167380aa0c14",
   "metadata": {},
   "outputs": [],
   "source": [
    "from huggingface_hub import snapshot_download\n",
    "from sagemaker.s3 import S3Uploader\n",
    "import os\n",
    "import subprocess\n",
    "\n",
    "if use_local_model:\n",
    "\n",
    "    model_local_location = f\"../models/{model_id_filesafe}\"\n",
    "    print(\"Downloading model \", model_id)\n",
    "    os.makedirs(model_local_location, exist_ok=True)\n",
    "    snapshot_download(repo_id=model_id, local_dir=model_local_location)\n",
    "    print(f\"Model {model_id} downloaded under {model_local_location}\")\n",
    "\n",
    "    if default_prefix:\n",
    "        model_s3_destination = f\"s3://{bucket_name}/{default_prefix}/models/{model_id_filesafe}\"\n",
    "    else:\n",
    "        model_s3_destination = f\"s3://{bucket_name}/models/{model_id_filesafe}\"\n",
    "    \n",
    "    print(f\"Beginning Model Upload...\")\n",
    "\n",
    "    subprocess.run(['aws', 's3', 'cp', model_local_location, model_s3_destination, '--recursive', '--exclude', '.cache/*', '--exclude', '.gitattributes'])\n",
    "    \n",
    "    print(f\"Model Uploaded to: \\n {model_s3_destination}\")\n",
    "\n",
    "    os.environ[\"model_location\"] = model_s3_destination\n",
    "else:\n",
    "    os.environ[\"model_location\"] = model_id"
   ]
  },
  {
   "cell_type": "code",
   "execution_count": null,
   "id": "20acad6c-1d59-4495-980a-5c457ee74aef",
   "metadata": {},
   "outputs": [],
   "source": [
    "inference_llm_config = {\n",
    "    \"HF_MODEL_ID\": os.environ[\"model_location\"],\n",
    "    \"OPTION_MAX_MODEL_LEN\": \"4096\",\n",
    "    \"OPTION_GPU_MEMORY_UTILIZATION\": \"0.8\",\n",
    "    \"OPTION_ENABLE_STREAMING\": \"false\",\n",
    "    \"OPTION_ROLLING_BATCH\": \"vllm\",\n",
    "    \"OPTION_MODEL_LOADING_TIMEOUT\": \"3600\",\n",
    "    \"OPTION_PAGED_ATTENTION\": \"false\",\n",
    "    'OPTION_TRUST_REMOTE_CODE': 'true',\n",
    "    'OPTION_DTYPE': 'bf16',\n",
    "    'OPTION_QUANTIZE': 'fp8',\n",
    "    'OPTION_TENSOR_PARALLEL_DEGREE': 'max',\n",
    "    'OPTION_MAX_ROLLING_BATCH_SIZE': '32',\n",
    "}"
   ]
  },
  {
   "cell_type": "code",
   "execution_count": null,
   "id": "6ccc3068-056f-4149-9908-fd60f07eb4dd",
   "metadata": {},
   "outputs": [],
   "source": [
    "model_name = \"Qwen3-4B-Instruct-2507\"\n",
    "\n",
    "lmi_model = sagemaker.Model(\n",
    "    image_uri=inference_image_uri,\n",
    "    env=inference_llm_config,\n",
    "    role=role,\n",
    "    name=model_name\n",
    ")"
   ]
  },
  {
   "cell_type": "code",
   "execution_count": null,
   "id": "2d70a738-578b-4d6d-a4a3-c38b641b46cf",
   "metadata": {},
   "outputs": [],
   "source": [
    "from sagemaker.utils import name_from_base\n",
    "\n",
    "endpoint_name = f\"{model_name}-endpoint\"\n",
    "BASE_ENDPOINT_NAME = name_from_base(endpoint_name)\n",
    "\n",
    "predictor = lmi_model.deploy(\n",
    "    initial_instance_count=1, \n",
    "    instance_type=\"ml.g5.2xlarge\",\n",
    "    endpoint_name=BASE_ENDPOINT_NAME\n",
    ")"
   ]
  },
  {
   "cell_type": "code",
   "execution_count": null,
   "id": "114ef32c-4b48-4973-8c83-60d61edff279",
   "metadata": {},
   "outputs": [],
   "source": [
    "SYSTEM_PROMPT = f\"\"\"You are a medical expert with advanced knowledge in clinical reasoning, diagnostics, and treatment planning. \n",
    "Below is an instruction that describes a task, paired with an input that provides further context. \n",
    "Write a response that appropriately completes the request.\n",
    "Before answering, think carefully about the question and create a step-by-step chain of thoughts to ensure a logical and accurate response.\"\"\"\n",
    "\n",
    "USER_PROMPT = \"A 3-week-old child has been diagnosed with late onset perinatal meningitis, and the CSF culture shows gram-positive bacilli. What characteristic of this bacterium can specifically differentiate it from other bacterial agents?\"\n",
    "\n",
    "messages = [\n",
    "    {\"role\": \"system\", \"content\": SYSTEM_PROMPT},\n",
    "    {\"role\": \"user\", \"content\": USER_PROMPT},\n",
    "]\n",
    "\n",
    "messages"
   ]
  },
  {
   "cell_type": "code",
   "execution_count": null,
   "id": "92d9492b-e3f0-448d-8672-4c8ecf76e1c1",
   "metadata": {},
   "outputs": [],
   "source": [
    "predictor = sagemaker.Predictor(\n",
    "    endpoint_name=BASE_ENDPOINT_NAME,\n",
    "    sagemaker_session=sagemaker_session,\n",
    "    serializer=sagemaker.serializers.JSONSerializer(),\n",
    "    deserializer=sagemaker.deserializers.JSONDeserializer(),\n",
    ")\n",
    "\n",
    "response = predictor.predict({\n",
    "\t\"messages\": messages,\n",
    "    \"parameters\": {\n",
    "        \"temperature\": 0.2,\n",
    "        \"top_p\": 0.9,\n",
    "        \"return_full_text\": False,\n",
    "        \"max_new_tokens\": 1024\n",
    "    }\n",
    "})\n",
    "\n",
    "response[\"choices\"][0][\"message\"][\"content\"]"
   ]
  },
  {
   "cell_type": "markdown",
   "id": "165c8660-ee18-411f-9d8a-8032c6171d77",
   "metadata": {},
   "source": [
    "### Store variables\n",
    "\n",
    "Save the endpoint name for use later"
   ]
  },
  {
   "cell_type": "code",
   "execution_count": null,
   "id": "0ed6ca9e-705c-4d01-9118-110b86caaef6",
   "metadata": {},
   "outputs": [],
   "source": [
    "%store BASE_ENDPOINT_NAME"
   ]
  }
 ],
 "metadata": {
  "kernelspec": {
   "display_name": "Python 3 (ipykernel)",
   "language": "python",
   "name": "python3"
  },
  "language_info": {
   "codemirror_mode": {
    "name": "ipython",
    "version": 3
   },
   "file_extension": ".py",
   "mimetype": "text/x-python",
   "name": "python",
   "nbconvert_exporter": "python",
   "pygments_lexer": "ipython3",
   "version": "3.12.9"
  }
 },
 "nbformat": 4,
 "nbformat_minor": 5
}

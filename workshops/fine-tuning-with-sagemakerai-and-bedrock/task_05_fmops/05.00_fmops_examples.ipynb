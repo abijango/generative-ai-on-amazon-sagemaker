{
 "cells": [
  {
   "cell_type": "markdown",
   "metadata": {},
   "source": [
    "## Example Operations of FMOps\n",
    "\n",
    "The purpose of this notebook is to illustrate the capabilities SageMaker AI and Managed MLflow on SageMaker AI for FMOps tasks. In this notebook, we cover the foundational capabilities needed to develop an automated LLM fine-tuning and evaluation pipeline. We cover these components individually, without an orchestration service, to showcase the capabilities atomically. This notebook lays the groundwork for the next notebook, which stiches together these disparate components into a fully orchestrated fine-tuning and model evaluation pipeline powered by SageMaker AI Pipelines and Managed MLflow on SageMaker AI."
   ]
  },
  {
   "cell_type": "markdown",
   "metadata": {},
   "source": [
    "## Prerequisites \n",
    "Before you begin, make sure you have the following prerequisites in place:\n",
    "\n",
    "- MLflow tracking server: If you're running this lab in a workshop environment, a MLflow tracking server has already been created for you. If you need to create a MLflow tracking server, follow the [documentation](https://docs.aws.amazon.com/sagemaker/latest/dg/mlflow-create-tracking-server.html)"
   ]
  },
  {
   "cell_type": "markdown",
   "metadata": {},
   "source": [
    "### 1. Setup and Dependencies\n",
    "Install dependencies and configure kernel.\n",
    "\n",
    "Restart the kernel after executing below cells."
   ]
  },
  {
   "cell_type": "code",
   "execution_count": 1,
   "metadata": {},
   "outputs": [
    {
     "name": "stdout",
     "output_type": "stream",
     "text": [
      "\u001b[33m  DEPRECATION: Building 'xtarfile' using the legacy setup.py bdist_wheel mechanism, which will be removed in a future version. pip 25.3 will enforce this behaviour change. A possible replacement is to use the standardized build interface by setting the `--use-pep517` option, (possibly combined with `--no-build-isolation`), or adding a `pyproject.toml` file to the source tree of 'xtarfile'. Discussion can be found at https://github.com/pypa/pip/issues/6334\u001b[0m\u001b[33m\n",
      "\u001b[0m\u001b[33m  DEPRECATION: Building 'rouge-score' using the legacy setup.py bdist_wheel mechanism, which will be removed in a future version. pip 25.3 will enforce this behaviour change. A possible replacement is to use the standardized build interface by setting the `--use-pep517` option, (possibly combined with `--no-build-isolation`), or adding a `pyproject.toml` file to the source tree of 'rouge-score'. Discussion can be found at https://github.com/pypa/pip/issues/6334\u001b[0m\u001b[33m\n",
      "\u001b[0m\u001b[31mERROR: pip's dependency resolver does not currently take into account all the packages that are installed. This behaviour is the source of the following dependency conflicts.\n",
      "autogluon-multimodal 1.4.0 requires nvidia-ml-py3<8.0,>=7.352.0, which is not installed.\n",
      "jupyter-ai 2.31.6 requires faiss-cpu!=1.8.0.post0,<2.0.0,>=1.8.0, which is not installed.\n",
      "aiobotocore 2.21.1 requires botocore<1.37.2,>=1.37.0, but you have botocore 1.40.49 which is incompatible.\n",
      "autogluon-common 1.4.0 requires psutil<7.1.0,>=5.7.3, but you have psutil 7.1.0 which is incompatible.\n",
      "autogluon-multimodal 1.4.0 requires transformers[sentencepiece]<4.50,>=4.38.0, but you have transformers 4.52.2 which is incompatible.\n",
      "autogluon-timeseries 1.4.0 requires transformers[sentencepiece]<4.50,>=4.38.0, but you have transformers 4.52.2 which is incompatible.\n",
      "jupyter-scheduler 2.11.0 requires psutil~=5.9, but you have psutil 7.1.0 which is incompatible.\n",
      "s3fs 2024.12.0 requires fsspec==2024.12.0.*, but you have fsspec 2024.9.0 which is incompatible.\n",
      "sagemaker-studio-analytics-extension 0.2.0 requires sparkmagic==0.22.0, but you have sparkmagic 0.21.0 which is incompatible.\n",
      "sparkmagic 0.21.0 requires pandas<2.0.0,>=0.17.1, but you have pandas 2.3.1 which is incompatible.\u001b[0m\u001b[31m\n",
      "\u001b[0mNote: you may need to restart the kernel to use updated packages.\n"
     ]
    }
   ],
   "source": [
    "%pip install -r ./scripts/requirements.txt --upgrade --quiet"
   ]
  },
  {
   "cell_type": "code",
   "execution_count": 2,
   "metadata": {
    "execution": {
     "iopub.execute_input": "2025-10-10T19:55:10.173073Z",
     "iopub.status.busy": "2025-10-10T19:55:10.172747Z",
     "iopub.status.idle": "2025-10-10T19:55:10.184825Z",
     "shell.execute_reply": "2025-10-10T19:55:10.183969Z",
     "shell.execute_reply.started": "2025-10-10T19:55:10.173039Z"
    }
   },
   "outputs": [
    {
     "data": {
      "text/plain": [
       "{'status': 'ok', 'restart': True}"
      ]
     },
     "execution_count": 2,
     "metadata": {},
     "output_type": "execute_result"
    }
   ],
   "source": [
    "from IPython import get_ipython\n",
    "get_ipython().kernel.do_shutdown(True)"
   ]
  },
  {
   "cell_type": "markdown",
   "metadata": {},
   "source": [
    "**Importing Libraries and Setting Up Environment**\n",
    "\n",
    "This part imports all necessary Python modules. It includes SageMaker-specific imports for pipeline creation and execution, which will be used to define the pipeline steps."
   ]
  },
  {
   "cell_type": "code",
   "execution_count": 1,
   "metadata": {
    "execution": {
     "iopub.execute_input": "2025-10-10T20:53:24.647808Z",
     "iopub.status.busy": "2025-10-10T20:53:24.647536Z",
     "iopub.status.idle": "2025-10-10T20:53:29.861097Z",
     "shell.execute_reply": "2025-10-10T20:53:29.860290Z",
     "shell.execute_reply.started": "2025-10-10T20:53:24.647786Z"
    }
   },
   "outputs": [
    {
     "name": "stdout",
     "output_type": "stream",
     "text": [
      "sagemaker.config INFO - Not applying SDK defaults from location: /etc/xdg/sagemaker/config.yaml\n",
      "sagemaker.config INFO - Not applying SDK defaults from location: /home/sagemaker-user/.config/sagemaker/config.yaml\n"
     ]
    }
   ],
   "source": [
    "import os\n",
    "import json\n",
    "import time\n",
    "import uuid\n",
    "import boto3\n",
    "import mlflow\n",
    "import tarfile\n",
    "import botocore\n",
    "import sagemaker\n",
    "import traceback\n",
    "\n",
    "from tqdm import tqdm\n",
    "from datetime import datetime\n",
    "from sagemaker.huggingface import HuggingFaceModel"
   ]
  },
  {
   "cell_type": "markdown",
   "metadata": {},
   "source": [
    "### 2. SageMaker Session and IAM Role"
   ]
  },
  {
   "cell_type": "markdown",
   "metadata": {},
   "source": [
    "`get_execution_role()`: Retrieves the IAM role that SageMaker will use to access AWS resources. This role needs appropriate permissions for tasks like accessing S3 buckets and creating SageMaker resources.\n",
    "\n",
    "If you are running this lab in a workshop environment, the execution role will have the appropriate permissions necessary to execute the following tasks. If not, you may need to check the permissions attached to your sagemaker execution role."
   ]
  },
  {
   "cell_type": "code",
   "execution_count": 2,
   "metadata": {
    "execution": {
     "iopub.execute_input": "2025-10-10T20:53:29.862899Z",
     "iopub.status.busy": "2025-10-10T20:53:29.862544Z",
     "iopub.status.idle": "2025-10-10T20:53:30.296894Z",
     "shell.execute_reply": "2025-10-10T20:53:30.296057Z",
     "shell.execute_reply.started": "2025-10-10T20:53:29.862867Z"
    }
   },
   "outputs": [],
   "source": [
    "sagemaker_session = sagemaker.session.Session()\n",
    "role = sagemaker.get_execution_role()\n",
    "region = sagemaker_session.boto_session.region_name"
   ]
  },
  {
   "cell_type": "markdown",
   "metadata": {},
   "source": [
    "### 3. Configuration\n",
    "Here we setup our example execution environment.\n",
    "\n",
    "We define appropriate paths in S3 to store model files, define the model we will be working with, and define the model endpoint name.\n",
    "\n",
    "In this lab, we are working with [Qwen3-4B-Instruct-2507](https://huggingface.co/Qwen/Qwen3-4B-Instruct-2507). It is easy to fine-tune as we will see in the next lab, and is small enough to fit on a reasonably sized GPU-accelerated hosting endpoint."
   ]
  },
  {
   "cell_type": "code",
   "execution_count": 3,
   "metadata": {
    "execution": {
     "iopub.execute_input": "2025-10-10T20:53:30.298295Z",
     "iopub.status.busy": "2025-10-10T20:53:30.297785Z",
     "iopub.status.idle": "2025-10-10T20:53:30.632749Z",
     "shell.execute_reply": "2025-10-10T20:53:30.631987Z",
     "shell.execute_reply.started": "2025-10-10T20:53:30.298262Z"
    }
   },
   "outputs": [
    {
     "name": "stdout",
     "output_type": "stream",
     "text": [
      "sagemaker-us-east-1-730335479664\n"
     ]
    }
   ],
   "source": [
    "bucket_name = sagemaker_session.default_bucket()\n",
    "print(bucket_name)\n",
    "default_prefix = sagemaker_session.default_bucket_prefix\n",
    "if default_prefix:\n",
    "    input_path = f'{default_prefix}/datasets/llm-fine-tuning-modeltrainer-sft'\n",
    "else:\n",
    "    input_path = f'datasets/llm-fine-tuning-modeltrainer-sft'"
   ]
  },
  {
   "cell_type": "code",
   "execution_count": 4,
   "metadata": {
    "execution": {
     "iopub.execute_input": "2025-10-10T20:53:30.634704Z",
     "iopub.status.busy": "2025-10-10T20:53:30.634298Z",
     "iopub.status.idle": "2025-10-10T20:53:30.638769Z",
     "shell.execute_reply": "2025-10-10T20:53:30.637893Z",
     "shell.execute_reply.started": "2025-10-10T20:53:30.634656Z"
    }
   },
   "outputs": [],
   "source": [
    "model_id = \"Qwen/Qwen3-4B-Instruct-2507\"\n",
    "model_id_filesafe = model_id.replace(\"/\",\"_\").replace(\".\", \"_\")\n",
    "model_name_safe = model_id.split('/')[-1].replace('.', '-').replace('_', '-')\n",
    "endpoint_name = f\"Example-{model_name_safe}\"\n",
    "instance_count = 1\n",
    "instance_type = \"ml.g5.2xlarge\"\n",
    "health_check_timeout = 1800\n",
    "data_download_timeout = 3600"
   ]
  },
  {
   "cell_type": "markdown",
   "metadata": {},
   "source": [
    "MLflow integration is crucial for experiment tracking and management. \n",
    "\n",
    "**Update the ARN for the MLflow tracking server.**"
   ]
  },
  {
   "cell_type": "markdown",
   "metadata": {},
   "source": [
    "This example requires a SageMaker with MLflow tracking server to track experiments and manage model artifacts. To create your own tracking server please refer to the [SageMaker documentation](https://docs.aws.amazon.com/sagemaker/latest/dg/mlflow-create-tracking-server.html). Once you have created your tracking server, please copy the tracking server ARN to the `mlflow_tracking server_arn` variable in the cell below."
   ]
  },
  {
   "cell_type": "code",
   "execution_count": 5,
   "metadata": {
    "execution": {
     "iopub.execute_input": "2025-10-10T20:53:30.640263Z",
     "iopub.status.busy": "2025-10-10T20:53:30.639877Z",
     "iopub.status.idle": "2025-10-10T20:53:30.910695Z",
     "shell.execute_reply": "2025-10-10T20:53:30.909901Z",
     "shell.execute_reply.started": "2025-10-10T20:53:30.640232Z"
    }
   },
   "outputs": [
    {
     "name": "stdout",
     "output_type": "stream",
     "text": [
      "MLflow Tracking Server ARN: arn:aws:sagemaker:us-east-1:730335479664:mlflow-tracking-server/genai-mlflow-tracker\n"
     ]
    }
   ],
   "source": [
    "mlflow_tracking_server_arn = \"<REPLACE WITH YOUR ARN>\"\n",
    "\n",
    "try:\n",
    "    response = boto3.client('sagemaker').describe_mlflow_tracking_server(\n",
    "        TrackingServerName='genai-mlflow-tracker'\n",
    "    )\n",
    "    mlflow_tracking_server_arn = response['TrackingServerArn']\n",
    "    print(f\"MLflow Tracking Server ARN: {mlflow_tracking_server_arn}\")\n",
    "except botocore.exceptions.ClientError:\n",
    "    print(\"No MLflow Tracking Server Found, please input a value for mlflow_tracking_server_arn\")\n",
    "\n",
    "os.environ[\"mlflow_tracking_server_arn\"] = mlflow_tracking_server_arn"
   ]
  },
  {
   "cell_type": "markdown",
   "metadata": {},
   "source": [
    "### 4. Model Deployment\n",
    "There are several approaches to deploying a model to a SageMaker AI managed endpoint. In this section, we explore the most direct option which downloads a model directly from HuggingFace to the managed endpoint via SageMaker JumpStart. We are still using Qwen3-4B-Instruct-2507, but we have not fine-tuned it. The purpose of this section is to illustrate the components required to customize a model deployment on SageMaker before fine-tuning it."
   ]
  },
  {
   "cell_type": "markdown",
   "metadata": {},
   "source": [
    "#### Image URI\n",
    "By default, images downloaded from HuggingFace use the [Text Generation Inference](https://huggingface.co/docs/text-generation-inference/en/index) model serving toolkit. \n",
    "\n",
    "For this lab, we want to change the underlying model server to [Deep Java Library's Large Model Inference](https://docs.djl.ai/master/docs/serving/serving/docs/lmi/index.html) container, or DJL-LMI. This serving container offers [several performance benefits](https://aws.amazon.com/blogs/machine-learning/supercharge-your-llm-performance-with-amazon-sagemaker-large-model-inference-container-v15/) that we want to leverage for the production deployment."
   ]
  },
  {
   "cell_type": "code",
   "execution_count": 6,
   "metadata": {
    "execution": {
     "iopub.execute_input": "2025-10-10T20:53:32.689130Z",
     "iopub.status.busy": "2025-10-10T20:53:32.688853Z",
     "iopub.status.idle": "2025-10-10T20:53:32.692724Z",
     "shell.execute_reply": "2025-10-10T20:53:32.692073Z",
     "shell.execute_reply.started": "2025-10-10T20:53:32.689109Z"
    }
   },
   "outputs": [
    {
     "name": "stdout",
     "output_type": "stream",
     "text": [
      "using image to host: 763104351884.dkr.ecr.us-east-1.amazonaws.com/djl-inference:0.33.0-lmi15.0.0-cu128\n"
     ]
    }
   ],
   "source": [
    "inference_image_uri = f\"763104351884.dkr.ecr.{region}.amazonaws.com/djl-inference:0.33.0-lmi15.0.0-cu128\"\n",
    "print(f\"using image to host: {inference_image_uri}\")"
   ]
  },
  {
   "cell_type": "markdown",
   "metadata": {},
   "source": [
    "#### HuggingFace + SageMaker JumpStart\n",
    "Here we download the model from SageMaker Jumpstart and create a `HuggingFaceModel` object. Notice how we define the `model_id` in the configuration, and specify the `image_uri` defined above in the instantiation of the model object."
   ]
  },
  {
   "cell_type": "code",
   "execution_count": 7,
   "metadata": {
    "execution": {
     "iopub.execute_input": "2025-10-10T20:53:34.539275Z",
     "iopub.status.busy": "2025-10-10T20:53:34.538973Z",
     "iopub.status.idle": "2025-10-10T20:53:34.874576Z",
     "shell.execute_reply": "2025-10-10T20:53:34.873886Z",
     "shell.execute_reply.started": "2025-10-10T20:53:34.539253Z"
    }
   },
   "outputs": [],
   "source": [
    "model_config = {\n",
    "    'HF_MODEL_ID': model_id,\n",
    "    'SM_NUM_GPUS': json.dumps(1),\n",
    "    'OPTION_TRUST_REMOTE_CODE': 'true',\n",
    "    'OPTION_ROLLING_BATCH': \"vllm\",\n",
    "    'OPTION_DTYPE': 'bf16',\n",
    "    'OPTION_QUANTIZE': 'fp8',\n",
    "    'OPTION_TENSOR_PARALLEL_DEGREE': 'max',\n",
    "    'OPTION_MAX_ROLLING_BATCH_SIZE': '32',\n",
    "    'OPTION_MODEL_LOADING_TIMEOUT': '3600',\n",
    "    'OPTION_MAX_MODEL_LEN': '4096'\n",
    "}\n",
    "model = HuggingFaceModel(\n",
    "    image_uri=inference_image_uri,\n",
    "    env=model_config,\n",
    "    role=role\n",
    ")"
   ]
  },
  {
   "cell_type": "markdown",
   "metadata": {},
   "source": [
    "#### Model Deploy w/Managed MLFlow 3.0 on SageMaker AI\n",
    "Now we stitch the pieces together and use MLFlow to orchestrate the deployment of our model to a SageMaker AI managed endpoint."
   ]
  },
  {
   "cell_type": "code",
   "execution_count": 8,
   "metadata": {
    "execution": {
     "iopub.execute_input": "2025-10-10T20:53:36.205780Z",
     "iopub.status.busy": "2025-10-10T20:53:36.205399Z",
     "iopub.status.idle": "2025-10-10T20:53:36.438676Z",
     "shell.execute_reply": "2025-10-10T20:53:36.437957Z",
     "shell.execute_reply.started": "2025-10-10T20:53:36.205757Z"
    }
   },
   "outputs": [
    {
     "data": {
      "text/plain": [
       "<Experiment: artifact_location='s3://mlflow-us-east-1-730335479664/genai-mlflow-tracker/0', creation_time=1760062809755, experiment_id='0', last_update_time=1760062809755, lifecycle_stage='active', name='Default', tags={}>"
      ]
     },
     "execution_count": 8,
     "metadata": {},
     "output_type": "execute_result"
    }
   ],
   "source": [
    "# Initialize MLFlow tracking data...\n",
    "mlflow.set_tracking_uri(mlflow_tracking_server_arn)\n",
    "mlflow.set_experiment(\"Default\")"
   ]
  },
  {
   "cell_type": "code",
   "execution_count": 9,
   "metadata": {
    "execution": {
     "iopub.execute_input": "2025-10-10T19:55:38.964058Z",
     "iopub.status.busy": "2025-10-10T19:55:38.963706Z",
     "iopub.status.idle": "2025-10-10T20:06:15.512283Z",
     "shell.execute_reply": "2025-10-10T20:06:15.511475Z",
     "shell.execute_reply.started": "2025-10-10T19:55:38.964038Z"
    }
   },
   "outputs": [
    {
     "name": "stdout",
     "output_type": "stream",
     "text": [
      "--------------------!🏃 View run example_model_deployment at: https://us-east-1.experiments.sagemaker.aws/#/experiments/0/runs/c313d8d8fed44b2baf09077a261e08f8\n",
      "🧪 View experiment at: https://us-east-1.experiments.sagemaker.aws/#/experiments/0\n"
     ]
    }
   ],
   "source": [
    "with mlflow.start_run(run_name=\"example_model_deployment\"):\n",
    "    deployment_start_time = time.time()\n",
    "\n",
    "\n",
    "    # Log deployment parameters\n",
    "    mlflow.log_params({\n",
    "        \"model_id\": model_id,\n",
    "        \"instance_type\": instance_type,\n",
    "        \"instance_count\": instance_count,\n",
    "        \"endpoint_name\": endpoint_name,\n",
    "        \"health_check_timeout\": health_check_timeout,\n",
    "        \"data_download_timeout\": data_download_timeout\n",
    "    })\n",
    "    mlflow.log_params({\"model_config_\" + k: v for k, v in model_config.items()})\n",
    "\n",
    "    try:\n",
    "        # deploy model to SageMaker Inference\n",
    "        predictor = model.deploy(\n",
    "            initial_instance_count=instance_count,\n",
    "            instance_type=instance_type,\n",
    "            container_startup_health_check_timeout=health_check_timeout,\n",
    "            model_data_download_timeout=data_download_timeout,\n",
    "            endpoint_name=f\"{endpoint_name}\"\n",
    "        )\n",
    "\n",
    "        # Log deployment metrics\n",
    "        deployment_time = time.time() - deployment_start_time\n",
    "        mlflow.log_metric(\"deployment_time_seconds\", deployment_time)\n",
    "        mlflow.log_metric(\"deployment_success\", 1)\n",
    "\n",
    "        # Log tags\n",
    "        mlflow.set_tags({\n",
    "            \"endpoint_status\": \"deployed\",\n",
    "            \"deployment_type\": \"sagemaker\",\n",
    "            \"framework\": \"djl-lmi\"\n",
    "        })\n",
    "\n",
    "    except Exception as e:\n",
    "        # Log deployment failure\n",
    "        mlflow.log_metric(\"deployment_success\", 0)\n",
    "        mlflow.log_param(\"error_message\", str(e))\n",
    "        mlflow.set_tag(\"endpoint_status\", \"failed\")\n",
    "        raise e"
   ]
  },
  {
   "cell_type": "markdown",
   "metadata": {},
   "source": [
    "#### Test Model Prediction\n",
    "Now we stitch the pieces together and use MLFlow to orchestrate the deployment of our model to a SageMaker AI managed endpoint."
   ]
  },
  {
   "cell_type": "code",
   "execution_count": 11,
   "metadata": {
    "execution": {
     "iopub.execute_input": "2025-10-10T20:55:05.237003Z",
     "iopub.status.busy": "2025-10-10T20:55:05.236735Z",
     "iopub.status.idle": "2025-10-10T20:55:06.573888Z",
     "shell.execute_reply": "2025-10-10T20:55:06.572904Z",
     "shell.execute_reply.started": "2025-10-10T20:55:05.236983Z"
    }
   },
   "outputs": [
    {
     "data": {
      "text/plain": [
       "{'id': 'chatcmpl-140240167846544',\n",
       " 'object': 'chat.completion',\n",
       " 'created': 1760129706,\n",
       " 'choices': [{'index': 0,\n",
       "   'message': {'role': 'assistant',\n",
       "    'content': \"Hi! I'm here to help with all sorts of things — whether it's answering questions, solving problems, writing content, coding, brainstorming ideas, or just having a chat. What would you like to work on today? 😊\"},\n",
       "   'logprobs': None,\n",
       "   'finish_reason': 'eos_token'}],\n",
       " 'usage': {'prompt_tokens': 17, 'completion_tokens': 49, 'total_tokens': 66}}"
      ]
     },
     "execution_count": 11,
     "metadata": {},
     "output_type": "execute_result"
    }
   ],
   "source": [
    "from sagemaker.predictor import Predictor\n",
    "from sagemaker.serializers import JSONSerializer\n",
    "from sagemaker.deserializers import JSONDeserializer\n",
    "\n",
    "predictor = Predictor(\n",
    "    endpoint_name=f\"{endpoint_name}\",\n",
    "    serializer=JSONSerializer(),\n",
    "    deserializer=JSONDeserializer()\n",
    ")\n",
    "\n",
    "predictor.predict({\n",
    "    \"messages\": [\n",
    "        {\"role\": \"user\", \"content\": \"Hi, what can you help me with?\"}\n",
    "    ],\n",
    "    \"parameters\": {\n",
    "        \"max_new_tokens\": 512,\n",
    "        \"top_p\": 0.9,\n",
    "        \"temperature\": 0.6,\n",
    "        \"return_full_text\": False\n",
    "    }\n",
    "})"
   ]
  },
  {
   "cell_type": "code",
   "execution_count": 12,
   "metadata": {
    "execution": {
     "iopub.execute_input": "2025-10-10T20:55:31.568803Z",
     "iopub.status.busy": "2025-10-10T20:55:31.568486Z",
     "iopub.status.idle": "2025-10-10T20:55:31.574660Z",
     "shell.execute_reply": "2025-10-10T20:55:31.573767Z",
     "shell.execute_reply.started": "2025-10-10T20:55:31.568780Z"
    }
   },
   "outputs": [],
   "source": [
    "def create_guardrail():\n",
    "    # Guardrail doesn't exist, create it\n",
    "    try:\n",
    "        guardrail = guardrail_client.create_guardrail(\n",
    "            name=\"ExampleMedicalGuardrail\",\n",
    "            description='Example of a Guardrail for Medical Use Cases',\n",
    "            topicPolicyConfig={\n",
    "                'topicsConfig': [{\n",
    "                    'name': 'Block Pharmaceuticals',\n",
    "                    'definition': 'This model cannot recommend one pharmaceutical over another. Generic prescriptions consistent with medical expertise and clinical diagnoses only.',\n",
    "                    'type': 'DENY',\n",
    "                    'inputAction': 'BLOCK',\n",
    "                    'outputAction': 'BLOCK',\n",
    "                }]        \n",
    "            },\n",
    "            sensitiveInformationPolicyConfig={\n",
    "                'piiEntitiesConfig': [\n",
    "                    {\n",
    "                        'type': 'UK_NATIONAL_HEALTH_SERVICE_NUMBER',\n",
    "                        'action': 'BLOCK',\n",
    "                        'inputAction': 'BLOCK',\n",
    "                        'outputAction': 'BLOCK'\n",
    "                    },\n",
    "                ]\n",
    "            },\n",
    "            contextualGroundingPolicyConfig={\n",
    "                'filtersConfig': [\n",
    "                    {\n",
    "                        'type': 'RELEVANCE',\n",
    "                        'threshold': 0.9,\n",
    "                        'action': 'BLOCK',\n",
    "                        'enabled': True\n",
    "                    },\n",
    "                ]\n",
    "            },\n",
    "            blockedInputMessaging=\"ExampleMedicalGuardrail has blocked this input.\",\n",
    "            blockedOutputsMessaging=\"ExampleMedicalGuardrail has blocked this output.\"\n",
    "        )\n",
    "        guardrail_id = guardrail['guardrailId']\n",
    "        guardrail_version = guardrail['version']\n",
    "        \n",
    "        print(f\"Created new guardrail '{guardrail_id}:{guardrail_version}'\")\n",
    "        return guardrail_id, guardrail_version\n",
    "    except botocore.exceptions.ClientError as create_error:\n",
    "        print(f\"Error creating guardrail: {create_error}\")"
   ]
  },
  {
   "cell_type": "code",
   "execution_count": 13,
   "metadata": {
    "execution": {
     "iopub.execute_input": "2025-10-10T20:55:32.607222Z",
     "iopub.status.busy": "2025-10-10T20:55:32.606957Z",
     "iopub.status.idle": "2025-10-10T20:55:32.982484Z",
     "shell.execute_reply": "2025-10-10T20:55:32.981632Z",
     "shell.execute_reply.started": "2025-10-10T20:55:32.607202Z"
    }
   },
   "outputs": [
    {
     "name": "stdout",
     "output_type": "stream",
     "text": [
      "Found Guardrail j6odpern68o8:DRAFT\n"
     ]
    }
   ],
   "source": [
    "guardrail_client = boto3.client('bedrock')\n",
    "guardrail_name = \"ExampleMedicalGuardrail\"\n",
    "try:\n",
    "    # Try to get the guardrail\n",
    "    response = guardrail_client.list_guardrails()\n",
    "    guardrail_id = \"\"\n",
    "    for guardrail in response.get('guardrails', []):\n",
    "        if guardrail['name'] == guardrail_name:\n",
    "            guardrail_id = guardrail['id']\n",
    "    if guardrail_id != \"\":\n",
    "        response = guardrail_client.get_guardrail(\n",
    "            guardrailIdentifier=guardrail_id\n",
    "        )\n",
    "        guardrail_version = response[\"version\"]\n",
    "        print(f\"Found Guardrail {guardrail_id}:{guardrail_version}\")\n",
    "    else:\n",
    "        guardrail_id, guardrail_version = create_guardrail()\n",
    "except botocore.exceptions.ClientError as e:\n",
    "    print(f\"Error checking guardrail: {e}\")"
   ]
  },
  {
   "cell_type": "code",
   "execution_count": 14,
   "metadata": {
    "execution": {
     "iopub.execute_input": "2025-10-10T20:55:33.873857Z",
     "iopub.status.busy": "2025-10-10T20:55:33.873553Z",
     "iopub.status.idle": "2025-10-10T20:55:33.886372Z",
     "shell.execute_reply": "2025-10-10T20:55:33.885629Z",
     "shell.execute_reply.started": "2025-10-10T20:55:33.873835Z"
    }
   },
   "outputs": [],
   "source": [
    "bedrock_runtime = boto3.client('bedrock-runtime')"
   ]
  },
  {
   "cell_type": "markdown",
   "metadata": {},
   "source": [
    "### 5. Qualitative Model Evaluation\n",
    "Let's test the default Qwen3-4B-Instruct-2507 using MLFlow's LLM-as-a-Judge capability. We'll use [Anthropic's Claude 3 Haiku](https://www.anthropic.com/news/claude-3-haiku) model on [Amazon Bedrock](https://aws.amazon.com/bedrock/) as the judge. We'll also wrap our model endpoint invocation in a method making it easier to call in the evaluation. \n",
    "\n",
    "This particular endpoint is the [cross-region inference endpoint](https://docs.aws.amazon.com/bedrock/latest/userguide/cross-region-inference.html) name for Claude 3 Haiku.\n",
    "\n",
    "Wrapping our invocation in a separate method allows us to trace evaluation calls to the model using the `@mlflow.trace` annotation. These traces will appear in our MLFlow experiment under the \"Traces\" tab."
   ]
  },
  {
   "cell_type": "code",
   "execution_count": 46,
   "metadata": {
    "execution": {
     "iopub.execute_input": "2025-10-10T21:43:09.389634Z",
     "iopub.status.busy": "2025-10-10T21:43:09.389179Z",
     "iopub.status.idle": "2025-10-10T21:43:09.394028Z",
     "shell.execute_reply": "2025-10-10T21:43:09.393028Z",
     "shell.execute_reply.started": "2025-10-10T21:43:09.389605Z"
    }
   },
   "outputs": [],
   "source": [
    "# judge_llm = \"bedrock:/us.anthropic.claude-3-haiku-20240307-v1:0\"\n",
    "judge_llm = \"bedrock:/anthropic.claude-3-haiku-20240307-v1:0\""
   ]
  },
  {
   "cell_type": "code",
   "execution_count": 47,
   "metadata": {
    "execution": {
     "iopub.execute_input": "2025-10-10T21:43:10.053568Z",
     "iopub.status.busy": "2025-10-10T21:43:10.051173Z",
     "iopub.status.idle": "2025-10-10T21:43:10.071707Z",
     "shell.execute_reply": "2025-10-10T21:43:10.065583Z",
     "shell.execute_reply.started": "2025-10-10T21:43:10.053515Z"
    }
   },
   "outputs": [],
   "source": [
    "from mlflow.entities import SpanType\n",
    "\n",
    "@mlflow.trace(\n",
    "    name=\"call-local-llm\", span_type=SpanType.LLM, attributes={\n",
    "        \"model\": model_id,\n",
    "        \"guardrail_id\": guardrail_id,\n",
    "        \"guardrail_version\": guardrail_version\n",
    "    }\n",
    ")\n",
    "def invoke_sagemaker_endpoint(payload):\n",
    "\n",
    "    print(payload)\n",
    "\n",
    "    guardrail_response_input = bedrock_runtime.apply_guardrail(\n",
    "        guardrailIdentifier=guardrail_id,\n",
    "        guardrailVersion=guardrail_version,\n",
    "        source='INPUT',\n",
    "        content=[{'text': {'text': payload[\"messages\"][0][\"content\"]}}]\n",
    "    )\n",
    "    guardrailResult = guardrail_response_input[\"action\"]\n",
    "\n",
    "    if guardrailResult == \"GUARDRAIL_INTERVENED\":\n",
    "        reason = guardrail_response_input[\"assessments\"]\n",
    "        logger.warning(f\"Guardrail intervention: {reason}\")\n",
    "        return guardrail_response_input[\"outputs\"][0][\"text\"], -1\n",
    "    \n",
    "    try:\n",
    "        start_time = time.time()\n",
    "        response = predictor.predict(payload)\n",
    "        inference_time = time.time() - start_time\n",
    "        return response, inference_time\n",
    "    except Exception as e:\n",
    "        print(f\"Error invoking endpoint {endpoint_name}: {str(e)}\")\n",
    "        return None, -1"
   ]
  },
  {
   "cell_type": "markdown",
   "metadata": {},
   "source": [
    "Now use Managed MLFlow 3.0 on Amazon SageMaker AI's `EvaluationExample` object to provide examples of good and bad model responses. This synthetic data will be used to evaluate our Example Qwen3-4B-Instruct-2507 along with several qualitative metrics. We create these qualitative metrics using `make_genai_metric`."
   ]
  },
  {
   "cell_type": "code",
   "execution_count": 48,
   "metadata": {
    "execution": {
     "iopub.execute_input": "2025-10-10T21:43:10.860579Z",
     "iopub.status.busy": "2025-10-10T21:43:10.860181Z",
     "iopub.status.idle": "2025-10-10T21:43:10.872746Z",
     "shell.execute_reply": "2025-10-10T21:43:10.871910Z",
     "shell.execute_reply.started": "2025-10-10T21:43:10.860548Z"
    }
   },
   "outputs": [],
   "source": [
    "from mlflow.metrics.genai import EvaluationExample, make_genai_metric\n",
    "\n",
    "medical_accuracy_examples = [\n",
    "    EvaluationExample(\n",
    "        input=\"What is the first-line treatment for hypertension?\",\n",
    "        output=\"ACE inhibitors or thiazide diuretics are typically first-line treatments for hypertension.\",\n",
    "        score=4,\n",
    "        justification=\"The response correctly identifies evidence-based first-line treatments for hypertension.\"\n",
    "    ),\n",
    "    EvaluationExample(\n",
    "        input=\"What causes Type 1 diabetes?\",\n",
    "        output=\"Type 1 diabetes is caused by autoimmune destruction of pancreatic beta cells.\",\n",
    "        score=5,\n",
    "        justification=\"Accurate and concise explanation of Type 1 diabetes pathophysiology.\"\n",
    "    ),\n",
    "    EvaluationExample(\n",
    "        input=\"How do you treat a heart attack?\",\n",
    "        output=\"You should take aspirin and call emergency services immediately.\",\n",
    "        score=2,\n",
    "        justification=\"While partially correct, this oversimplifies emergency treatment and misses critical interventions.\"\n",
    "    )\n",
    "]\n",
    "\n",
    "medical_accuracy = make_genai_metric(\n",
    "    name=\"medical_accuracy\",\n",
    "    definition=(\n",
    "        \"Medical accuracy measures how factually correct and evidence-based the medical information is. \"\n",
    "        \"Consider current medical guidelines, evidence-based practice, and clinical accuracy. \"\n",
    "        \"Score 1-5 where 5 is completely accurate and evidence-based.\"\n",
    "    ),\n",
    "    grading_prompt=(\n",
    "        \"Evaluate the medical accuracy of the response on a scale of 1-5:\\n\"\n",
    "        \"5: Completely accurate, evidence-based, follows current medical guidelines\\n\"\n",
    "        \"4: Mostly accurate with minor gaps or generalizations\\n\"\n",
    "        \"3: Generally accurate but missing important details or context\\n\"\n",
    "        \"2: Partially accurate but contains some medical inaccuracies\\n\"\n",
    "        \"1: Contains significant medical errors or misinformation\\n\\n\"\n",
    "        \"Question: {input}\\n\"\n",
    "        \"Response: {output}\\n\\n\"\n",
    "        \"Consider: Is the medical information factually correct? Does it align with current evidence-based practice? \"\n",
    "        \"Are there any dangerous inaccuracies or omissions?\\n\\n\"\n",
    "        \"Provide your score as a single integer from 1-5.\"\n",
    "    ),\n",
    "    examples=medical_accuracy_examples,\n",
    "    version=\"v1\",\n",
    "    model=judge_llm,\n",
    "    parameters={\n",
    "        \"anthropic_version\": \"bedrock-2023-05-31\",\n",
    "        \"temperature\": 0.0,\n",
    "        \"max_tokens\": 1000\n",
    "    },\n",
    "    aggregations=[\"mean\", \"variance\", \"p90\"],\n",
    "    greater_is_better=True\n",
    ")\n",
    "\n",
    "# Clinical Reasoning Metric\n",
    "clinical_reasoning_examples = [\n",
    "    EvaluationExample(\n",
    "        input=\"A 65-year-old man presents with chest pain. What should be considered?\",\n",
    "        output=\"Given the patient's age and presentation, we should immediately consider cardiac causes like myocardial infarction, unstable angina, and aortic dissection. The approach should include ECG, cardiac enzymes, chest X-ray, and careful history taking about pain characteristics, onset, and associated symptoms.\",\n",
    "        score=5,\n",
    "        justification=\"Excellent clinical reasoning with systematic approach, appropriate differential diagnosis, and logical diagnostic workup.\"\n",
    "    ),\n",
    "    EvaluationExample(\n",
    "        input=\"Patient has fever and cough. What's the diagnosis?\",\n",
    "        output=\"The patient has pneumonia and needs antibiotics.\",\n",
    "        score=2,\n",
    "        justification=\"Poor reasoning - jumps to conclusion without proper assessment, history, or consideration of differential diagnosis.\"\n",
    "    )\n",
    "]\n",
    "\n",
    "clinical_reasoning = make_genai_metric(\n",
    "    name=\"clinical_reasoning\",\n",
    "    definition=(\n",
    "        \"Clinical reasoning evaluates the logical thought process, differential diagnosis consideration, \"\n",
    "        \"and systematic approach to medical problems. Assesses whether the response demonstrates \"\n",
    "        \"appropriate medical decision-making skills.\"\n",
    "    ),\n",
    "    grading_prompt=(\n",
    "        \"Evaluate the clinical reasoning quality on a scale of 1-5:\\n\"\n",
    "        \"5: Excellent reasoning with systematic approach, appropriate differential diagnosis, logical steps\\n\"\n",
    "        \"4: Good reasoning with mostly sound logic and appropriate considerations\\n\"\n",
    "        \"3: Adequate reasoning but may miss some important considerations\\n\"\n",
    "        \"2: Poor reasoning with significant logical gaps or inappropriate approach\\n\"\n",
    "        \"1: No clear reasoning or completely inappropriate approach\\n\\n\"\n",
    "        \"Question: {input}\\n\"\n",
    "        \"Response: {output}\\n\\n\"\n",
    "        \"Consider: Does the response show logical thinking? Are differential diagnoses considered? \"\n",
    "        \"Is the approach systematic and appropriate for the clinical scenario?\\n\\n\"\n",
    "        \"Provide your score as a single integer from 1-5.\"\n",
    "    ),\n",
    "    examples=clinical_reasoning_examples,\n",
    "    version=\"v1\",\n",
    "    model=judge_llm,\n",
    "    parameters={\n",
    "        \"anthropic_version\": \"bedrock-2023-05-31\",\n",
    "        \"temperature\": 0.0,\n",
    "        \"max_tokens\": 1000\n",
    "    },\n",
    "    aggregations=[\"mean\", \"variance\", \"p90\"],\n",
    "    greater_is_better=True\n",
    ")\n",
    "\n",
    "# Patient Safety Metric\n",
    "patient_safety_examples = [\n",
    "    EvaluationExample(\n",
    "        input=\"Patient allergic to penicillin needs antibiotic. What do you recommend?\",\n",
    "        output=\"Since the patient is allergic to penicillin, I would recommend alternative antibiotics such as macrolides (azithromycin), cephalosporins (if no cross-reactivity), or fluoroquinolones, depending on the specific infection and patient factors.\",\n",
    "        score=5,\n",
    "        justification=\"Excellent safety awareness - acknowledges allergy and provides appropriate alternatives.\"\n",
    "    ),\n",
    "    EvaluationExample(\n",
    "        input=\"Patient with chest pain asks if they can drive home.\",\n",
    "        output=\"Sure, if you're feeling better you can drive home.\",\n",
    "        score=1,\n",
    "        justification=\"Dangerous advice - patient with chest pain should not drive and needs immediate medical evaluation.\"\n",
    "    )\n",
    "]\n",
    "\n",
    "patient_safety = make_genai_metric(\n",
    "    name=\"patient_safety\",\n",
    "    definition=(\n",
    "        \"Patient safety measures whether the response prioritizes patient wellbeing, avoids harmful advice, \"\n",
    "        \"considers contraindications, and promotes safe medical practices.\"\n",
    "    ),\n",
    "    grading_prompt=(\n",
    "        \"Evaluate patient safety considerations on a scale of 1-5:\\n\"\n",
    "        \"5: Prioritizes safety, considers contraindications, promotes safe practices\\n\"\n",
    "        \"4: Generally safe with minor safety considerations\\n\"\n",
    "        \"3: Mostly safe but may miss some safety considerations\\n\"\n",
    "        \"2: Some safety concerns or inappropriate advice\\n\"\n",
    "        \"1: Potentially dangerous advice or significant safety issues\\n\\n\"\n",
    "        \"Question: {input}\\n\"\n",
    "        \"Response: {output}\\n\\n\"\n",
    "        \"Consider: Is the advice safe? Are contraindications considered? Could following this advice harm the patient?\\n\\n\"\n",
    "        \"Provide your score as a single integer from 1-5.\"\n",
    "    ),\n",
    "    examples=patient_safety_examples,\n",
    "    version=\"v1\",\n",
    "    model=judge_llm,\n",
    "    parameters={\n",
    "        \"anthropic_version\": \"bedrock-2023-05-31\",\n",
    "        \"temperature\": 0.0,\n",
    "        \"max_tokens\": 1000\n",
    "    },\n",
    "    aggregations=[\"mean\", \"variance\", \"p90\"],\n",
    "    greater_is_better=True\n",
    ")\n",
    "\n",
    "bedrock_judge_metrics = [medical_accuracy, clinical_reasoning, patient_safety]"
   ]
  },
  {
   "cell_type": "markdown",
   "metadata": {},
   "source": [
    "This method performs the qualitative evaluation using `mlflow.evaluate`. We pass the prompts we sent to our model, the model's responses, and the expected responses. The prompts and expected responses come from the [FreedomIntelligence/medical-o1-reasoning-SFT](https://huggingface.co/datasets/FreedomIntelligence/medical-o1-reasoning-SFT) dataset, available on HuggingFace. \n",
    "\n",
    "Our model's responses are compared to the expected responses and evaluated using the `EvaluationExample` objects and the grading prompt to determine the qualitative performance of this model."
   ]
  },
  {
   "cell_type": "code",
   "execution_count": 49,
   "metadata": {
    "execution": {
     "iopub.execute_input": "2025-10-10T21:43:12.247386Z",
     "iopub.status.busy": "2025-10-10T21:43:12.246916Z",
     "iopub.status.idle": "2025-10-10T21:43:12.263324Z",
     "shell.execute_reply": "2025-10-10T21:43:12.262374Z",
     "shell.execute_reply.started": "2025-10-10T21:43:12.247358Z"
    }
   },
   "outputs": [],
   "source": [
    "def evaluate_model_qualitatively(model_config, dataset):\n",
    "    import time\n",
    "    import numpy as np\n",
    "    import pandas as pd\n",
    "    import matplotlib.pyplot as plt\n",
    "    \"\"\"\n",
    "    Evaluate a fine-tuned model using LLM-as-a-judge metrics with fallback.\n",
    "    \"\"\"\n",
    "    model_name = model_config[\"name\"]\n",
    "    endpoint_name = model_config[\"endpoint\"]\n",
    "    \n",
    "    print(f\"\\nPerforming qualitative evaluation for model: {model_name} on endpoint: {endpoint_name}\")\n",
    "    \n",
    "    predictions = []\n",
    "    questions = []\n",
    "    references = []\n",
    "    inference_times = []\n",
    "    failed_generations = 0\n",
    "    metric_results = {}\n",
    "    \n",
    "    for example in tqdm(dataset, desc=\"Generating responses for evaluation\"):\n",
    "        question = example[\"Question\"]\n",
    "        reference = \"\\n\".join([example[\"Complex_CoT\"], example[\"Response\"]])\n",
    "        \n",
    "        \n",
    "        payload = {\n",
    "            \"messages\": [\n",
    "                {\"role\": \"user\", \"content\": question}\n",
    "            ],\n",
    "            \"parameters\": {\n",
    "                \"max_new_tokens\": 512,\n",
    "                \"top_p\": 0.9,\n",
    "                \"temperature\": 0.6,\n",
    "                \"return_full_text\": False\n",
    "            }\n",
    "        }\n",
    "        \n",
    "        # Call the model endpoint\n",
    "        try:\n",
    "            response, inference_time = invoke_sagemaker_endpoint(payload)\n",
    "            \n",
    "            if response is None:\n",
    "                prediction = \"Error generating response.\"\n",
    "                failed_generations += 1\n",
    "            elif isinstance(response, list):\n",
    "                prediction = response[0].get('generated_text', '').strip()\n",
    "            elif isinstance(response, dict):\n",
    "                prediction = response.get('generated_text', '').strip()\n",
    "            else:\n",
    "                prediction = str(response).strip()\n",
    "            \n",
    "            prediction = prediction.split(\"<|eot_id|>\")[0] if \"<|eot_id|>\" in prediction else prediction\n",
    "            inference_times.append(inference_time)\n",
    "            \n",
    "        except Exception as e:\n",
    "            print(f\"Error invoking SageMaker endpoint {endpoint_name}: {e}\")\n",
    "            prediction = \"Error generating response.\"\n",
    "            failed_generations += 1\n",
    "            inference_times.append(-1)\n",
    "        \n",
    "        predictions.append(prediction)\n",
    "        questions.append(question)\n",
    "        references.append(reference)\n",
    "    \n",
    "    # Log basic generation metrics\n",
    "    mlflow.log_metric(\"qualitative_failed_generations\", failed_generations)\n",
    "    mlflow.log_metric(\"qualitative_failure_rate\", failed_generations / len(dataset) if len(dataset) > 0 else 0)\n",
    "    \n",
    "    # LLM-as-a-judge evaluation\n",
    "    try:\n",
    "        print(\"Attempting LLM-as-a-judge evaluation using AWS Bedrock...\")\n",
    "        \n",
    "        # Prepare data for MLflow evaluation\n",
    "        eval_data = pd.DataFrame({\n",
    "            \"inputs\": questions,\n",
    "            \"outputs\": predictions,\n",
    "            \"targets\": references\n",
    "        })\n",
    "        \n",
    "        # Run MLflow evaluation\n",
    "        eval_results = mlflow.evaluate(\n",
    "            data=eval_data,\n",
    "            targets=\"targets\",\n",
    "            predictions=\"outputs\",\n",
    "            extra_metrics=bedrock_judge_metrics,\n",
    "        )\n",
    "        print(f\"Raw evaluation results: {eval_results.metrics}\")\n",
    "        \n",
    "        # Extract metric results\n",
    "        for metric_name in [\"medical_accuracy/v1/mean\", \"clinical_reasoning/v1/mean\", \"patient_safety/v1/mean\"]:\n",
    "            if metric_name in eval_results.metrics:\n",
    "                base_name = metric_name.split('/')[0]\n",
    "                metric_results[base_name] = eval_results.metrics[metric_name]\n",
    "                if not np.isnan(metric_results[base_name]):\n",
    "                    mlflow.log_metric(f\"qualitative_{base_name}\", metric_results[base_name])\n",
    "                else: \n",
    "                    mlflow.log_metric(f\"qualitative_{base_name}\", 0.0)\n",
    "        \n",
    "        print(\"LLM-as-a-judge evaluation completed successfully!\")\n",
    "        # time.sleep(10)\n",
    "        \n",
    "    except Exception as e:\n",
    "        print(f\"LLM-as-a-judge evaluation failed: {str(e)}\")\n",
    "       \n",
    "    # Create evaluation summary\n",
    "    evaluation_details = []\n",
    "    for i, (pred, question, ref) in enumerate(zip(predictions[:5], questions[:5], references[:5])):\n",
    "        evaluation_details.append({\n",
    "            \"question\": question,\n",
    "            \"prediction\": pred[:500] + (\"...\" if len(pred) > 500 else \"\"),\n",
    "            \"reference\": ref[:500] + (\"...\" if len(ref) > 500 else \"\"),\n",
    "        })\n",
    "    \n",
    "    # Save detailed results\n",
    "    detailed_df = pd.DataFrame(evaluation_details)\n",
    "    temp_csv = f\"/tmp/qualitative_eval_detailed_{uuid.uuid4().hex[:8]}.csv\"\n",
    "    detailed_df.to_csv(temp_csv, index=False)\n",
    "    mlflow.log_artifact(temp_csv, \"qualitative_evaluation\")\n",
    "    \n",
    "    # Create simple visualization\n",
    "    plt.figure(figsize=(10, 6))\n",
    "    metric_names = list(metric_results.keys())\n",
    "    metric_values = list(metric_results.values())\n",
    "    plt.bar(metric_names, metric_values, color=['blue', 'green', 'red', 'orange'])\n",
    "    plt.title('Qualitative Evaluation Scores')\n",
    "    plt.ylabel('Score (1-5)')\n",
    "    plt.ylim(1, 5)\n",
    "    plt.xticks(rotation=45)\n",
    "    plt.tight_layout()\n",
    "    plt.savefig('/tmp/qualitative_metrics.png', dpi=300, bbox_inches='tight')\n",
    "    mlflow.log_artifact('/tmp/qualitative_metrics.png', \"qualitative_evaluation\")\n",
    "    \n",
    "    avg_medical_accuracy = metric_results.get(\"medical_accuracy\", metric_results.get(\"overall_quality\", 3.0))\n",
    "    \n",
    "    return {\n",
    "        \"model_name\": model_name,\n",
    "        \"endpoint_name\": endpoint_name, \n",
    "        \"num_samples\": len(dataset),\n",
    "        \"metrics\": metric_results,\n",
    "        \"evaluation_details\": evaluation_details,\n",
    "        \"avg_medical_accuracy\": avg_medical_accuracy\n",
    "    }"
   ]
  },
  {
   "cell_type": "markdown",
   "metadata": {},
   "source": [
    "Here we initialize the MLFlow run. We pass our session credentials to operating system, giving MLFlow the ability to make calls to Amazon Bedrock. This is required because we cannot configure MLFlow's connection to Amazon Bedrock."
   ]
  },
  {
   "cell_type": "code",
   "execution_count": 50,
   "metadata": {
    "execution": {
     "iopub.execute_input": "2025-10-10T21:43:13.082392Z",
     "iopub.status.busy": "2025-10-10T21:43:13.081667Z",
     "iopub.status.idle": "2025-10-10T21:44:59.036247Z",
     "shell.execute_reply": "2025-10-10T21:44:59.035451Z",
     "shell.execute_reply.started": "2025-10-10T21:43:13.082348Z"
    },
    "scrolled": true
   },
   "outputs": [
    {
     "name": "stdout",
     "output_type": "stream",
     "text": [
      "Loaded medical-o1-reasoning dataset with 10 samples for qualitative evaluation\n",
      "\n",
      "Performing qualitative evaluation for model: Example-Qwen3-4B-Instruct-2507-sft-djl on endpoint: Example-Qwen3-4B-Instruct-2507-sft-djl\n"
     ]
    },
    {
     "name": "stderr",
     "output_type": "stream",
     "text": [
      "Generating responses for evaluation:   0%|          | 0/10 [00:00<?, ?it/s]"
     ]
    },
    {
     "name": "stdout",
     "output_type": "stream",
     "text": [
      "{'messages': [{'role': 'user', 'content': 'A 12-year-old boy presents with progressive swellings at the upper end of the tibia that are irregular, have a raised local temperature, invariable consistency, and ill-defined margins. What is the most probable diagnosis?'}], 'parameters': {'max_new_tokens': 512, 'top_p': 0.9, 'temperature': 0.6, 'return_full_text': False}}\n"
     ]
    },
    {
     "name": "stderr",
     "output_type": "stream",
     "text": [
      "Generating responses for evaluation:  10%|█         | 1/10 [00:06<00:59,  6.56s/it]"
     ]
    },
    {
     "name": "stdout",
     "output_type": "stream",
     "text": [
      "{'messages': [{'role': 'user', 'content': 'A 35-year-old male is brought into the emergency department for a trauma emergency. The emergency medical services states that the patient was wounded with a knife on his upper left thigh near the inguinal ligament. Upon examination in the trauma bay, the patient is awake and alert. His physical exam and FAST exam is normal other than the knife wound. Large bore intravenous lines are inserted into the patient for access and fluids are being administered. Pressure on the knife wound is being held by one of the physicians with adequate control of the bleeding, but the physician notices the blood was previously extravasating in a pulsatile manner. His vitals are BP 100/50, HR 110, T 97.8, RR 22. What is the next best step for this patient?\\nA. CT lower extremities\\nB. Radiograph lower extremities\\nC. Coagulation studies and blood typing/crossmatch\\nD. Tourniquet of proximal lower extremity\\nE. Emergent surgery'}], 'parameters': {'max_new_tokens': 512, 'top_p': 0.9, 'temperature': 0.6, 'return_full_text': False}}\n"
     ]
    },
    {
     "name": "stderr",
     "output_type": "stream",
     "text": [
      "Generating responses for evaluation:  20%|██        | 2/10 [00:16<01:06,  8.28s/it]"
     ]
    },
    {
     "name": "stdout",
     "output_type": "stream",
     "text": [
      "{'messages': [{'role': 'user', 'content': 'A new drug does not prevents a disease from occurring but reduce death due to that disease. Which of the following is true: March 2005, March 2013 (b)\\nA. It will increase the incidence and prevalence\\nB. It will decrease the incidence and prevalence\\nC. Prevalence is increased\\nD. Incidence is increased'}], 'parameters': {'max_new_tokens': 512, 'top_p': 0.9, 'temperature': 0.6, 'return_full_text': False}}\n"
     ]
    },
    {
     "name": "stderr",
     "output_type": "stream",
     "text": [
      "Generating responses for evaluation:  30%|███       | 3/10 [00:19<00:42,  6.02s/it]"
     ]
    },
    {
     "name": "stdout",
     "output_type": "stream",
     "text": [
      "{'messages': [{'role': 'user', 'content': 'In patients undergoing systemic chemotherapy after resection of a cecal adenocarcinoma with positive lymph nodes, which operable complication is commonly observed?'}], 'parameters': {'max_new_tokens': 512, 'top_p': 0.9, 'temperature': 0.6, 'return_full_text': False}}\n"
     ]
    },
    {
     "name": "stderr",
     "output_type": "stream",
     "text": [
      "Generating responses for evaluation:  40%|████      | 4/10 [00:23<00:31,  5.25s/it]"
     ]
    },
    {
     "name": "stdout",
     "output_type": "stream",
     "text": [
      "{'messages': [{'role': 'user', 'content': \"A 72-year-old woman presents with stiffness and pain in her neck and shoulders that worsen in the morning and improve throughout the day. The pain does not localize to specific joints, and there is no headache, jaw claudication, synovitis, muscle tenderness, skin rash, or weakness. Examination of muscles and joints is normal. Laboratory tests show an elevated ESR of 92 mm/h and mild normocytic anemia. What is the most appropriate next step in managing this patient's condition?\"}], 'parameters': {'max_new_tokens': 512, 'top_p': 0.9, 'temperature': 0.6, 'return_full_text': False}}\n"
     ]
    },
    {
     "name": "stderr",
     "output_type": "stream",
     "text": [
      "Generating responses for evaluation:  50%|█████     | 5/10 [00:31<00:31,  6.21s/it]"
     ]
    },
    {
     "name": "stdout",
     "output_type": "stream",
     "text": [
      "{'messages': [{'role': 'user', 'content': 'In a 73-year-old man with angina pectoris on exertion and noncritical stenosis of the coronary arteries observed on angiogram, which valvular heart disease is most commonly associated with this clinical presentation?'}], 'parameters': {'max_new_tokens': 512, 'top_p': 0.9, 'temperature': 0.6, 'return_full_text': False}}\n"
     ]
    },
    {
     "name": "stderr",
     "output_type": "stream",
     "text": [
      "Generating responses for evaluation:  60%|██████    | 6/10 [00:35<00:21,  5.47s/it]"
     ]
    },
    {
     "name": "stdout",
     "output_type": "stream",
     "text": [
      "{'messages': [{'role': 'user', 'content': \"A patient presents with hemoptysis and hematuria few weeks after a respiratory tract infection. ANCA antibodies are present. Likely diagnosis is:\\nA. Goodpasture's syndrome\\nB. IgA Nephropathy\\nC. Nephrotic syndrome\\nD. PSGN\"}], 'parameters': {'max_new_tokens': 512, 'top_p': 0.9, 'temperature': 0.6, 'return_full_text': False}}\n"
     ]
    },
    {
     "name": "stderr",
     "output_type": "stream",
     "text": [
      "Generating responses for evaluation:  70%|███████   | 7/10 [00:58<00:33, 11.31s/it]"
     ]
    },
    {
     "name": "stdout",
     "output_type": "stream",
     "text": [
      "{'messages': [{'role': 'user', 'content': 'A 70-year-old woman, hospitalized after orthopedic surgery, develops severe thrombocytopenia with a platelet count of 40,000/mm3 during her 7th day of hospitalization. She presents no additional symptoms, and her medical history is unremarkable. All post-surgery prophylactic measures were appropriately followed. Her blood tests show significantly prolonged partial thromboplastin time and prothrombin time, but no deviation in thrombin time. Given these circumstances and lab findings, what is the most likely cause of her thrombocytopenia?'}], 'parameters': {'max_new_tokens': 512, 'top_p': 0.9, 'temperature': 0.6, 'return_full_text': False}}\n"
     ]
    },
    {
     "name": "stderr",
     "output_type": "stream",
     "text": [
      "Generating responses for evaluation:  80%|████████  | 8/10 [01:10<00:22, 11.47s/it]"
     ]
    },
    {
     "name": "stdout",
     "output_type": "stream",
     "text": [
      "{'messages': [{'role': 'user', 'content': 'A 37-year-old small business manager suffers a gunshot wound in the pelvic cavity that results in a lesion of the sacral splanchnic nerves. Which type of nerve fibers are primarily affected by this injury?'}], 'parameters': {'max_new_tokens': 512, 'top_p': 0.9, 'temperature': 0.6, 'return_full_text': False}}\n"
     ]
    },
    {
     "name": "stderr",
     "output_type": "stream",
     "text": [
      "Generating responses for evaluation:  90%|█████████ | 9/10 [01:14<00:09,  9.28s/it]"
     ]
    },
    {
     "name": "stdout",
     "output_type": "stream",
     "text": [
      "{'messages': [{'role': 'user', 'content': 'When a 15-year-old boy, who has experienced physical abuse, copes with his traumatic past by imagining himself as a superhero fighting crime, which ego defense mechanism is he primarily using?'}], 'parameters': {'max_new_tokens': 512, 'top_p': 0.9, 'temperature': 0.6, 'return_full_text': False}}\n"
     ]
    },
    {
     "name": "stderr",
     "output_type": "stream",
     "text": [
      "Generating responses for evaluation: 100%|██████████| 10/10 [01:19<00:00,  7.92s/it]\n"
     ]
    },
    {
     "name": "stdout",
     "output_type": "stream",
     "text": [
      "Attempting LLM-as-a-judge evaluation using AWS Bedrock...\n"
     ]
    },
    {
     "name": "stderr",
     "output_type": "stream",
     "text": [
      "2025/10/10 21:44:33 INFO mlflow.models.evaluation.default_evaluator: Testing metrics on first row...\n"
     ]
    },
    {
     "data": {
      "application/vnd.jupyter.widget-view+json": {
       "model_id": "bf3b9d85ad4e4b9181b1f611542faec1",
       "version_major": 2,
       "version_minor": 0
      },
      "text/plain": [
       "  0%|          | 0/1 [00:00<?, ?it/s]"
      ]
     },
     "metadata": {},
     "output_type": "display_data"
    },
    {
     "data": {
      "application/vnd.jupyter.widget-view+json": {
       "model_id": "9f973628a10540fd94438d34a965a715",
       "version_major": 2,
       "version_minor": 0
      },
      "text/plain": [
       "  0%|          | 0/1 [00:00<?, ?it/s]"
      ]
     },
     "metadata": {},
     "output_type": "display_data"
    },
    {
     "data": {
      "application/vnd.jupyter.widget-view+json": {
       "model_id": "072e8fb3e7154fd4839bc4613bd636fc",
       "version_major": 2,
       "version_minor": 0
      },
      "text/plain": [
       "  0%|          | 0/1 [00:00<?, ?it/s]"
      ]
     },
     "metadata": {},
     "output_type": "display_data"
    },
    {
     "data": {
      "application/vnd.jupyter.widget-view+json": {
       "model_id": "f82ff04bb6fc4f1b8ef52fc887736bc8",
       "version_major": 2,
       "version_minor": 0
      },
      "text/plain": [
       "  0%|          | 0/10 [00:00<?, ?it/s]"
      ]
     },
     "metadata": {},
     "output_type": "display_data"
    },
    {
     "data": {
      "application/vnd.jupyter.widget-view+json": {
       "model_id": "413ae5ae3c5b4d10b443a3856703f037",
       "version_major": 2,
       "version_minor": 0
      },
      "text/plain": [
       "  0%|          | 0/10 [00:00<?, ?it/s]"
      ]
     },
     "metadata": {},
     "output_type": "display_data"
    },
    {
     "data": {
      "application/vnd.jupyter.widget-view+json": {
       "model_id": "a03bb203d7834f0192a0ff292e2fd499",
       "version_major": 2,
       "version_minor": 0
      },
      "text/plain": [
       "  0%|          | 0/10 [00:00<?, ?it/s]"
      ]
     },
     "metadata": {},
     "output_type": "display_data"
    },
    {
     "name": "stdout",
     "output_type": "stream",
     "text": [
      "Raw evaluation results: {'medical_accuracy/v1/mean': 3.7777777777777777, 'medical_accuracy/v1/variance': 0.3950617283950617, 'medical_accuracy/v1/p90': 4.2, 'clinical_reasoning/v1/mean': 4.0, 'clinical_reasoning/v1/variance': 0.2222222222222222, 'clinical_reasoning/v1/p90': 4.2, 'patient_safety/v1/mean': 4.25, 'patient_safety/v1/variance': 0.1875, 'patient_safety/v1/p90': 4.7}\n",
      "LLM-as-a-judge evaluation completed successfully!\n",
      "\n",
      "Qualitative evaluation completed!\n",
      "Average Medical Accuracy: 3.778\n",
      "avg_medical_accuracy: 3.7777777777777777\n",
      "🏃 View run example_model_evaluation at: https://us-east-1.experiments.sagemaker.aws/#/experiments/0/runs/a2b193e2733b4dc09ef6f26b96c1136b\n",
      "🧪 View experiment at: https://us-east-1.experiments.sagemaker.aws/#/experiments/0\n"
     ]
    },
    {
     "data": {
      "image/png": "[encoded data removed]",
      "text/plain": [
       "<Figure size 1000x600 with 1 Axes>"
      ]
     },
     "metadata": {},
     "output_type": "display_data"
    }
   ],
   "source": [
    "from datasets import load_dataset\n",
    "from botocore.config import Config\n",
    "\n",
    "with mlflow.start_run(run_name=\"example_model_evaluation\"):\n",
    "    # Get AWS credentials from the SageMaker execution environment\n",
    "    retry_config = Config(\n",
    "        retries={\n",
    "            'max_attempts': 10,\n",
    "            'mode': 'adaptive'  # or 'legacy', 'adaptive'\n",
    "        }\n",
    "    )\n",
    "    session = boto3.Session()\n",
    "    credentials = session.get_credentials()\n",
    "    \n",
    "    # Set as environment variables\n",
    "    os.environ['AWS_ACCESS_KEY_ID'] = credentials.access_key\n",
    "    os.environ['AWS_SECRET_ACCESS_KEY'] = credentials.secret_key\n",
    "    if credentials.token:\n",
    "        os.environ['AWS_SESSION_TOKEN'] = credentials.token\n",
    "    \n",
    "    # Set region - important for Bedrock\n",
    "    region = boto3.session.Session().region_name\n",
    "    os.environ['AWS_REGION'] = region\n",
    "\n",
    "    mlflow.set_tag(\"component\", \"qualitative_model_evaluation\")\n",
    "    \n",
    "    # Initialize the SageMaker client\n",
    "    sm_client = boto3.client('sagemaker-runtime', config=retry_config)\n",
    "    \n",
    "    # Define the model to evaluate\n",
    "    model_to_evaluate = {\n",
    "        \"name\": f\"Example-{model_name_safe}-sft-djl\", \n",
    "        \"endpoint\": f\"Example-{model_name_safe}-sft-djl\"\n",
    "        # \"endpoint\": endpoint_name\n",
    "    }\n",
    "    \n",
    "    # Limit samples for faster execution\n",
    "    num_samples = 10\n",
    "    \n",
    "    # Log evaluation parameters\n",
    "    mlflow.log_param(\"qualitative_evaluation_endpoint\", endpoint_name)\n",
    "    mlflow.log_param(\"qualitative_evaluation_num_samples\", num_samples)\n",
    "    mlflow.log_param(\"qualitative_evaluation_timestamp\", datetime.now().isoformat())\n",
    "    mlflow.log_param(\"llm_judge_model\", judge_llm)\n",
    "    \n",
    "    # Load the test dataset\n",
    "    try:\n",
    "        dataset = load_dataset(\"FreedomIntelligence/medical-o1-reasoning-SFT\", \"en\", split=\"train\")\n",
    "        max_samples = len(dataset)\n",
    "        dataset = dataset.shuffle().select(range(min(num_samples, max_samples)))\n",
    "        print(f\"Loaded medical-o1-reasoning dataset with {len(dataset)} samples for qualitative evaluation\")\n",
    "        \n",
    "        mlflow.log_param(\"qualitative_dataset_name\", \"FreedomIntelligence/medical-o1-reasoning-SFT\") \n",
    "        mlflow.log_param(\"qualitative_dataset_actual_samples\", len(dataset))\n",
    "    except Exception as e:\n",
    "        error_msg = f\"Error loading dataset for qualitative evaluation: {str(e)}\"\n",
    "        print(error_msg)\n",
    "        raise\n",
    "    \n",
    "    try:\n",
    "        # Perform qualitative evaluation\n",
    "        qualitative_results = evaluate_model_qualitatively(model_to_evaluate, dataset)\n",
    "        \n",
    "        avg_medical_accuracy = qualitative_results[\"avg_medical_accuracy\"]\n",
    "        \n",
    "        print(f\"\\nQualitative evaluation completed!\")\n",
    "        print(f\"Average Medical Accuracy: {avg_medical_accuracy:.3f}\")\n",
    "        \n",
    "        print(f\"avg_medical_accuracy: {avg_medical_accuracy}\")\n",
    "        \n",
    "    except Exception as e:\n",
    "        error_msg = f\"Error in qualitative model evaluation: {str(e)}\\n{traceback.format_exc()}\"\n",
    "        print(error_msg)"
   ]
  },
  {
   "cell_type": "markdown",
   "metadata": {},
   "source": [
    "### 6. Templating a Prompt"
   ]
  },
  {
   "cell_type": "markdown",
   "metadata": {},
   "source": [
    "In the next workshop we fine-tune Qwen3-4B-Instruct-2507 to become a medical expert. To accomplish this, we execute a fine-tuning job using Managed MLflow on SageMaker AI. We get our data from the [FreedomIntelligence/medical-o1-reasoning-SFT](https://huggingface.co/datasets/FreedomIntelligence/medical-o1-reasoning-SFT) dataset, available on HuggingFace.\n",
    "\n",
    "In this lab, we show a small example of what fine-tuning looks like for a single record of the dataset."
   ]
  },
  {
   "cell_type": "code",
   "execution_count": 27,
   "metadata": {
    "execution": {
     "iopub.execute_input": "2025-10-10T20:13:45.085755Z",
     "iopub.status.busy": "2025-10-10T20:13:45.085308Z",
     "iopub.status.idle": "2025-10-10T20:13:45.092345Z",
     "shell.execute_reply": "2025-10-10T20:13:45.091517Z",
     "shell.execute_reply.started": "2025-10-10T20:13:45.085729Z"
    }
   },
   "outputs": [
    {
     "name": "stdout",
     "output_type": "stream",
     "text": [
      "{'Question': 'A 61-year-old woman with a long history of involuntary urine loss during activities like coughing or sneezing but no leakage at night undergoes a gynecological exam and Q-tip test. Based on these findings, what would cystometry most likely reveal about her residual volume and detrusor contractions?', 'Complex_CoT': \"Okay, let's think about this step by step. There's a 61-year-old woman here who's been dealing with involuntary urine leakages whenever she's doing something that ups her abdominal pressure like coughing or sneezing. This sounds a lot like stress urinary incontinence to me. Now, it's interesting that she doesn't have any issues at night; she isn't experiencing leakage while sleeping. This likely means her bladder's ability to hold urine is fine when she isn't under physical stress. Hmm, that's a clue that we're dealing with something related to pressure rather than a bladder muscle problem.\\n\\nThe fact that she underwent a Q-tip test is intriguing too. This test is usually done to assess urethral mobility. In stress incontinence, a Q-tip might move significantly, showing urethral hypermobility. This kind of movement often means there's a weakness in the support structures that should help keep the urethra closed during increases in abdominal pressure. So, that's aligning well with stress incontinence.\\n\\nNow, let's think about what would happen during cystometry. Since stress incontinence isn't usually about sudden bladder contractions, I wouldn't expect to see involuntary detrusor contractions during this test. Her bladder isn't spasming or anything; it's more about the support structure failing under stress. Plus, she likely empties her bladder completely because stress incontinence doesn't typically involve incomplete emptying. So, her residual volume should be pretty normal.\\n\\nAll in all, it seems like if they do a cystometry on her, it will likely show a normal residual volume and no involuntary contractions. Yup, I think that makes sense given her symptoms and the typical presentations of stress urinary incontinence.\", 'Response': 'Cystometry in this case of stress urinary incontinence would most likely reveal a normal post-void residual volume, as stress incontinence typically does not involve issues with bladder emptying. Additionally, since stress urinary incontinence is primarily related to physical exertion and not an overactive bladder, you would not expect to see any involuntary detrusor contractions during the test.', 'messages': [{'role': 'system', 'content': 'You are a medical expert with advanced knowledge in clinical reasoning, diagnostics, and treatment planning. \\nBelow is an instruction that describes a task, paired with an input that provides further context. \\nWrite a response that appropriately completes the request.\\nBefore answering, think carefully about the question and create a step-by-step chain of thoughts to ensure a logical and accurate response.'}, {'role': 'user', 'content': 'A 61-year-old woman with a long history of involuntary urine loss during activities like coughing or sneezing but no leakage at night undergoes a gynecological exam and Q-tip test. Based on these findings, what would cystometry most likely reveal about her residual volume and detrusor contractions?'}, {'role': 'assistant', 'content': \"Okay, let's think about this step by step. There's a 61-year-old woman here who's been dealing with involuntary urine leakages whenever she's doing something that ups her abdominal pressure like coughing or sneezing. This sounds a lot like stress urinary incontinence to me. Now, it's interesting that she doesn't have any issues at night; she isn't experiencing leakage while sleeping. This likely means her bladder's ability to hold urine is fine when she isn't under physical stress. Hmm, that's a clue that we're dealing with something related to pressure rather than a bladder muscle problem.\\n\\nThe fact that she underwent a Q-tip test is intriguing too. This test is usually done to assess urethral mobility. In stress incontinence, a Q-tip might move significantly, showing urethral hypermobility. This kind of movement often means there's a weakness in the support structures that should help keep the urethra closed during increases in abdominal pressure. So, that's aligning well with stress incontinence.\\n\\nNow, let's think about what would happen during cystometry. Since stress incontinence isn't usually about sudden bladder contractions, I wouldn't expect to see involuntary detrusor contractions during this test. Her bladder isn't spasming or anything; it's more about the support structure failing under stress. Plus, she likely empties her bladder completely because stress incontinence doesn't typically involve incomplete emptying. So, her residual volume should be pretty normal.\\n\\nAll in all, it seems like if they do a cystometry on her, it will likely show a normal residual volume and no involuntary contractions. Yup, I think that makes sense given her symptoms and the typical presentations of stress urinary incontinence.\\n\\nCystometry in this case of stress urinary incontinence would most likely reveal a normal post-void residual volume, as stress incontinence typically does not involve issues with bladder emptying. Additionally, since stress urinary incontinence is primarily related to physical exertion and not an overactive bladder, you would not expect to see any involuntary detrusor contractions during the test.\"}]}\n"
     ]
    }
   ],
   "source": [
    "FINE_TUNING_DATA_SAMPLE = {\n",
    "    \"Question\": \"A 61-year-old woman with a long history of involuntary urine loss during activities like coughing or sneezing but no leakage at night undergoes a gynecological exam and Q-tip test. Based on these findings, what would cystometry most likely reveal about her residual volume and detrusor contractions?\", \n",
    "    \"Complex_CoT\": \"Okay, let's think about this step by step. There's a 61-year-old woman here who's been dealing with involuntary urine leakages whenever she's doing something that ups her abdominal pressure like coughing or sneezing. This sounds a lot like stress urinary incontinence to me. Now, it's interesting that she doesn't have any issues at night; she isn't experiencing leakage while sleeping. This likely means her bladder's ability to hold urine is fine when she isn't under physical stress. Hmm, that's a clue that we're dealing with something related to pressure rather than a bladder muscle problem.\\n\\nThe fact that she underwent a Q-tip test is intriguing too. This test is usually done to assess urethral mobility. In stress incontinence, a Q-tip might move significantly, showing urethral hypermobility. This kind of movement often means there's a weakness in the support structures that should help keep the urethra closed during increases in abdominal pressure. So, that's aligning well with stress incontinence.\\n\\nNow, let's think about what would happen during cystometry. Since stress incontinence isn't usually about sudden bladder contractions, I wouldn't expect to see involuntary detrusor contractions during this test. Her bladder isn't spasming or anything; it's more about the support structure failing under stress. Plus, she likely empties her bladder completely because stress incontinence doesn't typically involve incomplete emptying. So, her residual volume should be pretty normal.\\n\\nAll in all, it seems like if they do a cystometry on her, it will likely show a normal residual volume and no involuntary contractions. Yup, I think that makes sense given her symptoms and the typical presentations of stress urinary incontinence.\",\n",
    "    \"Response\": \"Cystometry in this case of stress urinary incontinence would most likely reveal a normal post-void residual volume, as stress incontinence typically does not involve issues with bladder emptying. Additionally, since stress urinary incontinence is primarily related to physical exertion and not an overactive bladder, you would not expect to see any involuntary detrusor contractions during the test.\"\n",
    "}\n",
    "\n",
    "SYSTEM_PROMPT = \"\"\"You are a medical expert with advanced knowledge in clinical reasoning, diagnostics, and treatment planning. \n",
    "Below is an instruction that describes a task, paired with an input that provides further context. \n",
    "Write a response that appropriately completes the request.\n",
    "Before answering, think carefully about the question and create a step-by-step chain of thoughts to ensure a logical and accurate response.\"\"\"\n",
    "\n",
    "def convert_to_messages(sample, system_prompt=\"\"):\n",
    "    \n",
    "    messages = [\n",
    "        {\"role\": \"system\", \"content\": SYSTEM_PROMPT},\n",
    "        {\"role\": \"user\", \"content\": sample[\"Question\"]},\n",
    "        {\"role\": \"assistant\", \"content\": f\"{sample[\"Complex_CoT\"]}\\n\\n{sample[\"Response\"]}\"}\n",
    "    ]\n",
    "\n",
    "    sample[\"messages\"] = messages\n",
    "    \n",
    "    return sample\n",
    "\n",
    "\n",
    "PROCESSED_SAMPLE = convert_to_messages(FINE_TUNING_DATA_SAMPLE)\n",
    "print(PROCESSED_SAMPLE)"
   ]
  },
  {
   "cell_type": "markdown",
   "metadata": {},
   "source": [
    "##### Fine-Tuning Output\n",
    "The above output shows the templated prompt output to be used for fine-tuning. This pre-processing happens for every record in the fine-tuning dataset before fine-tuning actually takes place. This can be time-consuming for large fine-tuning datasets. We will show in the next lab how to orchestrate this with MLflow."
   ]
  },
  {
   "cell_type": "markdown",
   "metadata": {},
   "source": [
    "### Clean-up Endpoint"
   ]
  },
  {
   "cell_type": "code",
   "execution_count": null,
   "metadata": {
    "execution": {
     "iopub.status.busy": "2025-10-10T20:06:22.809542Z",
     "iopub.status.idle": "2025-10-10T20:06:22.809946Z",
     "shell.execute_reply": "2025-10-10T20:06:22.809727Z",
     "shell.execute_reply.started": "2025-10-10T20:06:22.809712Z"
    }
   },
   "outputs": [],
   "source": [
    "def delete_endpoint_with_retry(endpoint_name, max_retries=3, wait_seconds=10):\n",
    "    \"\"\"\n",
    "    Delete a SageMaker endpoint with retry logic\n",
    "    \n",
    "    Args:\n",
    "        endpoint_name (str): Name of the SageMaker endpoint to delete\n",
    "        max_retries (int): Maximum number of retry attempts\n",
    "        wait_seconds (int): Time to wait between retries in seconds\n",
    "    \n",
    "    Returns:\n",
    "        bool: True if deletion was successful, False otherwise\n",
    "    \"\"\"\n",
    "    sm_client = boto3.client('sagemaker')\n",
    "    \n",
    "    # First check if the endpoint exists\n",
    "    try:\n",
    "        sm_client.describe_endpoint(EndpointName=endpoint_name)\n",
    "        endpoint_exists = True\n",
    "    except botocore.exceptions.ClientError as e:\n",
    "        if \"Could not find endpoint\" in str(e):\n",
    "            print(f\"Endpoint {endpoint_name} does not exist, no cleanup needed.\")\n",
    "            return True\n",
    "        else:\n",
    "            print(f\"Error checking endpoint existence: {e}\")\n",
    "            return False\n",
    "    \n",
    "    # If we get here, the endpoint exists and we should delete it\n",
    "    for attempt in range(max_retries):\n",
    "        try:\n",
    "            print(f\"Attempting to delete endpoint {endpoint_name} (attempt {attempt + 1}/{max_retries})\")\n",
    "            sm_client.delete_endpoint(EndpointName=endpoint_name)\n",
    "            sm_client.delete_endpoint_config(EndpointConfigName=endpoint_name)\n",
    "            print(f\"Endpoint {endpoint_name} deletion initiated successfully\")\n",
    "            \n",
    "            # Wait for endpoint to be fully deleted\n",
    "            print(\"Waiting for endpoint to be fully deleted...\")\n",
    "            \n",
    "            # Poll until endpoint is deleted or max wait time is reached\n",
    "            total_wait_time = 0\n",
    "            max_wait_time = 300  # 5 minutes maximum wait\n",
    "            while total_wait_time < max_wait_time:\n",
    "                try:\n",
    "                    sm_client.describe_endpoint(EndpointName=endpoint_name)\n",
    "                    print(f\"Endpoint still exists, waiting {wait_seconds} seconds...\")\n",
    "                    time.sleep(wait_seconds)\n",
    "                    total_wait_time += wait_seconds\n",
    "                except botocore.exceptions.ClientError:\n",
    "                    print(f\"Endpoint {endpoint_name} successfully deleted\")\n",
    "                    return True\n",
    "            \n",
    "            # If we get here, the endpoint still exists after max_wait_time\n",
    "            print(f\"Warning: Endpoint deletion initiated but still exists after {max_wait_time} seconds\")\n",
    "            return False\n",
    "            \n",
    "        except botocore.exceptions.ClientError as e:\n",
    "            if \"ResourceInUse\" in str(e) or \"ResourceNotFound\" in str(e):\n",
    "                print(f\"Error deleting endpoint: {e}\")\n",
    "                print(f\"Retrying in {wait_seconds} seconds...\")\n",
    "                time.sleep(wait_seconds)\n",
    "            else:\n",
    "                print(f\"Unexpected error deleting endpoint: {e}\")\n",
    "                return False\n",
    "    \n",
    "    print(f\"Failed to delete endpoint {endpoint_name} after {max_retries} attempts\")\n",
    "    return False\n",
    "\n",
    "# Clean up endpoint\n",
    "try:\n",
    "    print(f\"Cleaning up endpoint: {endpoint_name}\")\n",
    "    if delete_endpoint_with_retry(endpoint_name):\n",
    "        print(\"Cleanup completed successfully\")\n",
    "    else:\n",
    "        print(\"Warning: Endpoint cleanup may have failed, please check the SageMaker console\")\n",
    "        \n",
    "except Exception as e:\n",
    "    print(f\"Error during endpoint cleanup: {str(e)}\")\n",
    "    print(\"You may need to manually delete the endpoint from the SageMaker console\")"
   ]
  },
  {
   "cell_type": "markdown",
   "metadata": {},
   "source": [
    "### Next Steps\n",
    "In this notebook, we illustrated the building blocks for a fine-tuned LLM-deployment pipeline. We showed:\n",
    "\n",
    "1. How to prepare data for a fine-tuning job\n",
    "2. How to deploy a model to a SageMaker AI Managed Endpoint\n",
    "3. How to evaluate a model's performance\n",
    "4. Creating and applying Guardrails to our model\n",
    "5. Tracing model calls using MLFlow tracing\n",
    "\n",
    "Next, we show how to actually perform fine-tuning on this Qwen3 model to improve the model's performance in this domain. Moreover, we'll orchestrate all of these steps into a fine-tuning pipeline powered by Managed MLFlow and SageMaker AI Pipelines."
   ]
  },
  {
   "cell_type": "code",
   "execution_count": null,
   "metadata": {},
   "outputs": [],
   "source": []
  }
 ],
 "metadata": {
  "kernelspec": {
   "display_name": "Python 3 (ipykernel)",
   "language": "python",
   "name": "python3"
  },
  "language_info": {
   "codemirror_mode": {
    "name": "ipython",
    "version": 3
   },
   "file_extension": ".py",
   "mimetype": "text/x-python",
   "name": "python",
   "nbconvert_exporter": "python",
   "pygments_lexer": "ipython3",
   "version": "3.12.9"
  }
 },
 "nbformat": 4,
 "nbformat_minor": 4
}
